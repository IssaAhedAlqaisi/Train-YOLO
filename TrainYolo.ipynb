{
  "cells": [
    {
      "cell_type": "code",
      "execution_count": null,
      "metadata": {
        "colab": {
          "base_uri": "https://localhost:8080/"
        },
        "id": "pn_5H8R0JFdm",
        "outputId": "543ca5ea-e3d4-4636-f58f-2fd79c0aeedb"
      },
      "outputs": [
        {
          "output_type": "stream",
          "name": "stdout",
          "text": [
            "Ultralytics 8.3.134 🚀 Python-3.11.12 torch-2.6.0+cu124 CUDA:0 (NVIDIA A100-SXM4-40GB, 40507MiB)\n",
            "Setup complete ✅ (12 CPUs, 83.5 GB RAM, 41.7/235.7 GB disk)\n"
          ]
        }
      ],
      "source": [
        "!pip install ultralytics\n",
        "import ultralytics\n",
        "ultralytics.checks()"
      ]
    },
    {
      "cell_type": "code",
      "execution_count": null,
      "metadata": {
        "colab": {
          "base_uri": "https://localhost:8080/",
          "height": 1000
        },
        "id": "7zZayQlCfJxw",
        "outputId": "3908c52f-bd83-4282-b262-232386be2c52"
      },
      "outputs": [
        {
          "output_type": "stream",
          "name": "stdout",
          "text": [
            "Collecting roboflow\n",
            "  Downloading roboflow-1.1.64-py3-none-any.whl.metadata (9.7 kB)\n",
            "Requirement already satisfied: certifi in /usr/local/lib/python3.11/dist-packages (from roboflow) (2025.4.26)\n",
            "Collecting idna==3.7 (from roboflow)\n",
            "  Downloading idna-3.7-py3-none-any.whl.metadata (9.9 kB)\n",
            "Requirement already satisfied: cycler in /usr/local/lib/python3.11/dist-packages (from roboflow) (0.12.1)\n",
            "Requirement already satisfied: kiwisolver>=1.3.1 in /usr/local/lib/python3.11/dist-packages (from roboflow) (1.4.8)\n",
            "Requirement already satisfied: matplotlib in /usr/local/lib/python3.11/dist-packages (from roboflow) (3.10.0)\n",
            "Requirement already satisfied: numpy>=1.18.5 in /usr/local/lib/python3.11/dist-packages (from roboflow) (2.0.2)\n",
            "Collecting opencv-python-headless==4.10.0.84 (from roboflow)\n",
            "  Downloading opencv_python_headless-4.10.0.84-cp37-abi3-manylinux_2_17_x86_64.manylinux2014_x86_64.whl.metadata (20 kB)\n",
            "Requirement already satisfied: Pillow>=7.1.2 in /usr/local/lib/python3.11/dist-packages (from roboflow) (11.2.1)\n",
            "Collecting pillow-heif>=0.18.0 (from roboflow)\n",
            "  Downloading pillow_heif-0.22.0-cp311-cp311-manylinux_2_17_x86_64.manylinux2014_x86_64.whl.metadata (9.6 kB)\n",
            "Requirement already satisfied: python-dateutil in /usr/local/lib/python3.11/dist-packages (from roboflow) (2.9.0.post0)\n",
            "Collecting python-dotenv (from roboflow)\n",
            "  Downloading python_dotenv-1.1.0-py3-none-any.whl.metadata (24 kB)\n",
            "Requirement already satisfied: requests in /usr/local/lib/python3.11/dist-packages (from roboflow) (2.32.3)\n",
            "Requirement already satisfied: six in /usr/local/lib/python3.11/dist-packages (from roboflow) (1.17.0)\n",
            "Requirement already satisfied: urllib3>=1.26.6 in /usr/local/lib/python3.11/dist-packages (from roboflow) (2.4.0)\n",
            "Requirement already satisfied: tqdm>=4.41.0 in /usr/local/lib/python3.11/dist-packages (from roboflow) (4.67.1)\n",
            "Requirement already satisfied: PyYAML>=5.3.1 in /usr/local/lib/python3.11/dist-packages (from roboflow) (6.0.2)\n",
            "Requirement already satisfied: requests-toolbelt in /usr/local/lib/python3.11/dist-packages (from roboflow) (1.0.0)\n",
            "Collecting filetype (from roboflow)\n",
            "  Downloading filetype-1.2.0-py2.py3-none-any.whl.metadata (6.5 kB)\n",
            "Requirement already satisfied: contourpy>=1.0.1 in /usr/local/lib/python3.11/dist-packages (from matplotlib->roboflow) (1.3.2)\n",
            "Requirement already satisfied: fonttools>=4.22.0 in /usr/local/lib/python3.11/dist-packages (from matplotlib->roboflow) (4.57.0)\n",
            "Requirement already satisfied: packaging>=20.0 in /usr/local/lib/python3.11/dist-packages (from matplotlib->roboflow) (24.2)\n",
            "Requirement already satisfied: pyparsing>=2.3.1 in /usr/local/lib/python3.11/dist-packages (from matplotlib->roboflow) (3.2.3)\n",
            "Requirement already satisfied: charset-normalizer<4,>=2 in /usr/local/lib/python3.11/dist-packages (from requests->roboflow) (3.4.2)\n",
            "Downloading roboflow-1.1.64-py3-none-any.whl (85 kB)\n",
            "\u001b[2K   \u001b[90m━━━━━━━━━━━━━━━━━━━━━━━━━━━━━━━━━━━━━━━━\u001b[0m \u001b[32m85.4/85.4 kB\u001b[0m \u001b[31m3.8 MB/s\u001b[0m eta \u001b[36m0:00:00\u001b[0m\n",
            "\u001b[?25hDownloading idna-3.7-py3-none-any.whl (66 kB)\n",
            "\u001b[2K   \u001b[90m━━━━━━━━━━━━━━━━━━━━━━━━━━━━━━━━━━━━━━━━\u001b[0m \u001b[32m66.8/66.8 kB\u001b[0m \u001b[31m5.8 MB/s\u001b[0m eta \u001b[36m0:00:00\u001b[0m\n",
            "\u001b[?25hDownloading opencv_python_headless-4.10.0.84-cp37-abi3-manylinux_2_17_x86_64.manylinux2014_x86_64.whl (49.9 MB)\n",
            "\u001b[2K   \u001b[90m━━━━━━━━━━━━━━━━━━━━━━━━━━━━━━━━━━━━━━━━\u001b[0m \u001b[32m49.9/49.9 MB\u001b[0m \u001b[31m49.9 MB/s\u001b[0m eta \u001b[36m0:00:00\u001b[0m\n",
            "\u001b[?25hDownloading pillow_heif-0.22.0-cp311-cp311-manylinux_2_17_x86_64.manylinux2014_x86_64.whl (7.8 MB)\n",
            "\u001b[2K   \u001b[90m━━━━━━━━━━━━━━━━━━━━━━━━━━━━━━━━━━━━━━━━\u001b[0m \u001b[32m7.8/7.8 MB\u001b[0m \u001b[31m130.6 MB/s\u001b[0m eta \u001b[36m0:00:00\u001b[0m\n",
            "\u001b[?25hDownloading filetype-1.2.0-py2.py3-none-any.whl (19 kB)\n",
            "Downloading python_dotenv-1.1.0-py3-none-any.whl (20 kB)\n",
            "Installing collected packages: filetype, python-dotenv, pillow-heif, opencv-python-headless, idna, roboflow\n",
            "  Attempting uninstall: opencv-python-headless\n",
            "    Found existing installation: opencv-python-headless 4.11.0.86\n",
            "    Uninstalling opencv-python-headless-4.11.0.86:\n",
            "      Successfully uninstalled opencv-python-headless-4.11.0.86\n",
            "  Attempting uninstall: idna\n",
            "    Found existing installation: idna 3.10\n",
            "    Uninstalling idna-3.10:\n",
            "      Successfully uninstalled idna-3.10\n",
            "Successfully installed filetype-1.2.0 idna-3.7 opencv-python-headless-4.10.0.84 pillow-heif-0.22.0 python-dotenv-1.1.0 roboflow-1.1.64\n"
          ]
        },
        {
          "output_type": "display_data",
          "data": {
            "application/vnd.colab-display-data+json": {
              "pip_warning": {
                "packages": [
                  "cv2"
                ]
              },
              "id": "6f57931f287246ee90d28ff75d4307c7"
            }
          },
          "metadata": {}
        },
        {
          "output_type": "stream",
          "name": "stdout",
          "text": [
            "\u001b[1;30;43mStreaming output truncated to the last 5000 lines.\u001b[0m\n",
            "  inflating: train/labels/FB_IMG_1671892525571_jpg.rf.6e3156c083aa0112bc05d45240846997.txt  \n",
            "  inflating: train/labels/FB_IMG_1671892525571_jpg.rf.80057e541b34ff5a3179b6e3ed091324.txt  \n",
            "  inflating: train/labels/FB_IMG_1671892525571_jpg.rf.b428175de1f73f8468f984c25298d32c.txt  \n",
            "  inflating: train/labels/FB_IMG_1671892548355_jpg.rf.41b1e53e3cd98d4804fbd9e2ae33d344.txt  \n",
            "  inflating: train/labels/FB_IMG_1671892548355_jpg.rf.605b72bb12a2d7c2ca4f8e0875b87b57.txt  \n",
            "  inflating: train/labels/FB_IMG_1671892548355_jpg.rf.fd49e3d5a08f132166d28bfeb4a5b3ae.txt  \n",
            "  inflating: train/labels/FB_IMG_1671892560351_jpg.rf.1df2f0b1ccad4601219bfc5f5cdd6009.txt  \n",
            "  inflating: train/labels/FB_IMG_1671892560351_jpg.rf.90d4a251a5b1bcb780f97288002a3e5b.txt  \n",
            "  inflating: train/labels/FB_IMG_1671892560351_jpg.rf.b6cac92975061b8e52054421ec61b5ff.txt  \n",
            "  inflating: train/labels/FB_IMG_1671892562758_jpg.rf.2cf5567a0c445055ebe6520c6b833fad.txt  \n",
            "  inflating: train/labels/FB_IMG_1671892562758_jpg.rf.328bbbfe2747e9f71716b30cdcbd4c95.txt  \n",
            "  inflating: train/labels/FB_IMG_1671892562758_jpg.rf.50778628e3a322e4c3ebda66a694cbaa.txt  \n",
            "  inflating: train/labels/Numbers-0-10_jpg.rf.34a5525bc96ca8b461de0841a482f48e.txt  \n",
            "  inflating: train/labels/Numbers-0-10_jpg.rf.3a61ee9eb2e09ac0064ec5826ac270a0.txt  \n",
            "  inflating: train/labels/Numbers-0-10_jpg.rf.7474da973ada32b234069d13d82d56ad.txt  \n",
            "  inflating: train/labels/a006c545-9ab1-4c2e-9643-574fc001ff41_jpg.rf.19b0383eed611272be7f0dac4b1e60b5.txt  \n",
            "  inflating: train/labels/a006c545-9ab1-4c2e-9643-574fc001ff41_jpg.rf.2b125d95ce504f587cbffa126f527a46.txt  \n",
            "  inflating: train/labels/a006c545-9ab1-4c2e-9643-574fc001ff41_jpg.rf.7c7a8d38a46f7206dd1a4ffaf44b0d45.txt  \n",
            "  inflating: train/labels/a0570403-ce36-475e-a44c-683a7ec4ff42_jpg.rf.4ec052f36381b83136f9fe8b07a95cf8.txt  \n",
            "  inflating: train/labels/a0570403-ce36-475e-a44c-683a7ec4ff42_jpg.rf.711467da777165717e19ad72ad82756c.txt  \n",
            "  inflating: train/labels/a0570403-ce36-475e-a44c-683a7ec4ff42_jpg.rf.7f5dad1d2424e75cd672263ec74a3ad5.txt  \n",
            "  inflating: train/labels/a407b6e8-e3d2-459f-ad68-6fbdfcb6255a_jpg.rf.3c643942a0ba7ef5cf41022842bf5fc6.txt  \n",
            "  inflating: train/labels/a407b6e8-e3d2-459f-ad68-6fbdfcb6255a_jpg.rf.aa5b8818dc5226aa54805dfed762befb.txt  \n",
            "  inflating: train/labels/a407b6e8-e3d2-459f-ad68-6fbdfcb6255a_jpg.rf.bb771889ec42dcde28a203b630ba25cb.txt  \n",
            "  inflating: train/labels/a4f6a530-8fbd-4c5b-8793-827fb3ab9e12_jpg.rf.a2876ab8940d857898d84158efc887ec.txt  \n",
            "  inflating: train/labels/a4f6a530-8fbd-4c5b-8793-827fb3ab9e12_jpg.rf.be75c1a57a8ddd94b4e276bbb64e67b8.txt  \n",
            "  inflating: train/labels/a4f6a530-8fbd-4c5b-8793-827fb3ab9e12_jpg.rf.cb1bccef061625ca55df9b576de8a44d.txt  \n",
            "  inflating: train/labels/a70abce8-2727-429b-b2a2-48e8378d809a_jpg.rf.1a74643640d7fdac8e4efd17b3dbad06.txt  \n",
            "  inflating: train/labels/a70abce8-2727-429b-b2a2-48e8378d809a_jpg.rf.8ed73a5f8fc2ddeb62cefc35ad6b2874.txt  \n",
            "  inflating: train/labels/a70abce8-2727-429b-b2a2-48e8378d809a_jpg.rf.d391ef850db3996353cfa8d476e0f8c1.txt  \n",
            "  inflating: train/labels/a9429f399c853589fa6bbc2c9fcafaef1e3410c7d28fb4c749ba734ca9fa8886-jpg_plate_1_png.rf.36781f435bd70c251c9412cb09e44f21.txt  \n",
            "  inflating: train/labels/a9429f399c853589fa6bbc2c9fcafaef1e3410c7d28fb4c749ba734ca9fa8886-jpg_plate_1_png.rf.6a0062ec9805a04891d7a5d1117146ab.txt  \n",
            "  inflating: train/labels/a9429f399c853589fa6bbc2c9fcafaef1e3410c7d28fb4c749ba734ca9fa8886-jpg_plate_1_png.rf.fff351fa0f593f69f8f80a1525f120bc.txt  \n",
            "  inflating: train/labels/a_jpg.rf.3acdfee3f6eb659f7f927c815e9179f8.txt  \n",
            "  inflating: train/labels/a_jpg.rf.7e956c50ab12c0014485d60fc09ca559.txt  \n",
            "  inflating: train/labels/a_jpg.rf.8f85909a633aa8659f85e57dedc6ac65.txt  \n",
            "  inflating: train/labels/aa15efd9-75ca-4aea-9c15-b906e21c1e17_jpg.rf.731a1b806e6101e468dadd9e10dfd2a9.txt  \n",
            "  inflating: train/labels/aa15efd9-75ca-4aea-9c15-b906e21c1e17_jpg.rf.80d2d811263cc80ff97897ea7d5f9e14.txt  \n",
            "  inflating: train/labels/aa15efd9-75ca-4aea-9c15-b906e21c1e17_jpg.rf.aa1067f3906607743e383c67d85473aa.txt  \n",
            "  inflating: train/labels/ab97ee01-9a6d-4d44-bc0d-72cec9f73a0d_jpg.rf.4730098d04b7b319bdf1790e18b9bc61.txt  \n",
            "  inflating: train/labels/ab97ee01-9a6d-4d44-bc0d-72cec9f73a0d_jpg.rf.7d8f2fbfb6ae86fb965da5f38e1ae104.txt  \n",
            "  inflating: train/labels/ab97ee01-9a6d-4d44-bc0d-72cec9f73a0d_jpg.rf.86699ccf1b6293b019c6a73fc4fd75e4.txt  \n",
            "  inflating: train/labels/ad1389321062a5a343dd8e1f9e88de0d_jpg.rf.a96ebdf568ed308717618e0a58523968.txt  \n",
            "  inflating: train/labels/ad1389321062a5a343dd8e1f9e88de0d_jpg.rf.e2ce44cc80839da152b8d2ddb0ba9009.txt  \n",
            "  inflating: train/labels/ad1389321062a5a343dd8e1f9e88de0d_jpg.rf.eb6d7bc71ead06f43e71b46408f725c7.txt  \n",
            "  inflating: train/labels/adbf29bf99fc808cf2bfd76f3073fe62c9fce0a24eff40c2a13a6fbf510b760d-jpg_plate_1_png.rf.2ad3d6044fbc5883c47541728635c14a.txt  \n",
            "  inflating: train/labels/adbf29bf99fc808cf2bfd76f3073fe62c9fce0a24eff40c2a13a6fbf510b760d-jpg_plate_1_png.rf.4902d0d4424a30787e1a0f7b6888ae02.txt  \n",
            "  inflating: train/labels/adbf29bf99fc808cf2bfd76f3073fe62c9fce0a24eff40c2a13a6fbf510b760d-jpg_plate_1_png.rf.e58f82fdb2580a771aa42dc2f503ac1c.txt  \n",
            "  inflating: train/labels/adc283e1-879d-407b-a2f4-f2677b55164b_jpg.rf.1cee946a720a4f75c4ba09da45271f33.txt  \n",
            "  inflating: train/labels/adc283e1-879d-407b-a2f4-f2677b55164b_jpg.rf.209c184519b2cb2301688ed99e58c81d.txt  \n",
            "  inflating: train/labels/adc283e1-879d-407b-a2f4-f2677b55164b_jpg.rf.436189b643d65d1693b06de188fc9367.txt  \n",
            "  inflating: train/labels/ae105b26f9c16a9f26aedd1b629ab5af85fd93ea7d1995c0f602dc3332ce4e98-jpg_plate_1_png.rf.36a7c020bbe30cf9cf4f77d804fa5617.txt  \n",
            "  inflating: train/labels/ae105b26f9c16a9f26aedd1b629ab5af85fd93ea7d1995c0f602dc3332ce4e98-jpg_plate_1_png.rf.3c7e88fbe7542a44ecdb62b05cd308e3.txt  \n",
            "  inflating: train/labels/ae105b26f9c16a9f26aedd1b629ab5af85fd93ea7d1995c0f602dc3332ce4e98-jpg_plate_1_png.rf.66d31edb663318303c25f1407c611675.txt  \n",
            "  inflating: train/labels/ae502f7a-1baa-4a58-b72a-595216ec9431_jpg.rf.53f321133067c0cd5f2c14a495207372.txt  \n",
            "  inflating: train/labels/ae502f7a-1baa-4a58-b72a-595216ec9431_jpg.rf.76603683c272d845e53a78d49b27f5a8.txt  \n",
            "  inflating: train/labels/ae502f7a-1baa-4a58-b72a-595216ec9431_jpg.rf.caef8d4af10b83c8cc8b9ac20354c4eb.txt  \n",
            "  inflating: train/labels/afe1ed875373af3d3609b333ef899d6c8f6679d65a844c563860b8bf9676ed67-jpg_plate_1_png.rf.5e5e0f73a84bd6343ba9eb9217e3235d.txt  \n",
            "  inflating: train/labels/afe1ed875373af3d3609b333ef899d6c8f6679d65a844c563860b8bf9676ed67-jpg_plate_1_png.rf.7c7e6a145ca90750a85ca8c4c00bbaeb.txt  \n",
            "  inflating: train/labels/afe1ed875373af3d3609b333ef899d6c8f6679d65a844c563860b8bf9676ed67-jpg_plate_1_png.rf.e73f4123d3a6829367fdcd78f8ac2144.txt  \n",
            "  inflating: train/labels/b093c7e68cd3ed1530c197da41aa7f8f083f724fe2c3257da405cde74d582bae-jpg_plate_1_png.rf.0d35deb6216467757777e40eba7376eb.txt  \n",
            "  inflating: train/labels/b093c7e68cd3ed1530c197da41aa7f8f083f724fe2c3257da405cde74d582bae-jpg_plate_1_png.rf.2aef87588cca7df501d369a6a5d9f232.txt  \n",
            "  inflating: train/labels/b093c7e68cd3ed1530c197da41aa7f8f083f724fe2c3257da405cde74d582bae-jpg_plate_1_png.rf.cb1658cc07b4e16e878f8fe228f336b7.txt  \n",
            "  inflating: train/labels/b1f2d306-7d96-48b1-ad1e-6a775a8efd1a_jpg.rf.6fe9a7bd386cfa4800ea3e9750ae75a8.txt  \n",
            "  inflating: train/labels/b1f2d306-7d96-48b1-ad1e-6a775a8efd1a_jpg.rf.a2c9f04a30597e720a45b47c4e03fcb0.txt  \n",
            "  inflating: train/labels/b1f2d306-7d96-48b1-ad1e-6a775a8efd1a_jpg.rf.e6a6cabfcffa99a6555023fcfba7b113.txt  \n",
            "  inflating: train/labels/b2015127cbca0e9f449ed973a9192e8a7c40062b2b61ec4bfd2a201ddfc38872-jpg_plate_1_png.rf.37a0245cb0c5a92ed2643d7f1b2e2348.txt  \n",
            "  inflating: train/labels/b2015127cbca0e9f449ed973a9192e8a7c40062b2b61ec4bfd2a201ddfc38872-jpg_plate_1_png.rf.3ffc963c57e7bb5719020bf43df51629.txt  \n",
            "  inflating: train/labels/b2015127cbca0e9f449ed973a9192e8a7c40062b2b61ec4bfd2a201ddfc38872-jpg_plate_1_png.rf.5ea568e573c84d2bdd15d6e68c3ed04a.txt  \n",
            "  inflating: train/labels/b229c82e98c4f32264a6ad4662680b499a99cf47be8ada05aa079b6c8f1351ba-jpg_plate_1_png.rf.af09bdeb188107b44765389510c6c093.txt  \n",
            "  inflating: train/labels/b229c82e98c4f32264a6ad4662680b499a99cf47be8ada05aa079b6c8f1351ba-jpg_plate_1_png.rf.bbb52721724fcb1daa2dc05fd852dc66.txt  \n",
            "  inflating: train/labels/b229c82e98c4f32264a6ad4662680b499a99cf47be8ada05aa079b6c8f1351ba-jpg_plate_1_png.rf.bded49d51a6eb8dcf1eb20ce0ff013de.txt  \n",
            "  inflating: train/labels/b27f7893-c571-4cdc-9f3e-cf760a84fd37_jpg.rf.30f93fa89469b923a7d6ce93577f36d0.txt  \n",
            "  inflating: train/labels/b27f7893-c571-4cdc-9f3e-cf760a84fd37_jpg.rf.a8b02d2aa27cfa1c5382b590617bc35a.txt  \n",
            "  inflating: train/labels/b27f7893-c571-4cdc-9f3e-cf760a84fd37_jpg.rf.cf9d4fe9dec9f12a2190597c2542e5d6.txt  \n",
            "  inflating: train/labels/b4e46494-6372-4932-9ad8-1d325f9634c2_jpg.rf.2f4fa131a6946278ac589bc061180e7c.txt  \n",
            "  inflating: train/labels/b4e46494-6372-4932-9ad8-1d325f9634c2_jpg.rf.52fae351545836230730b78a1e7e82a0.txt  \n",
            "  inflating: train/labels/b4e46494-6372-4932-9ad8-1d325f9634c2_jpg.rf.ad0134addb3ee8c5b6ac8afcf3568d7c.txt  \n",
            "  inflating: train/labels/b5c558d6-93e6-4bde-b1c7-956eeaeee467_jpg.rf.198040da0d81f049ad36175f3ff478f0.txt  \n",
            "  inflating: train/labels/b5c558d6-93e6-4bde-b1c7-956eeaeee467_jpg.rf.46c878681f20b3e7bb3a163efc027107.txt  \n",
            "  inflating: train/labels/b5c558d6-93e6-4bde-b1c7-956eeaeee467_jpg.rf.710f4e4041720cccb88f8566baccf9a1.txt  \n",
            "  inflating: train/labels/b659c725-f0fe-4088-9e59-5263ff8eaca4_jpg.rf.123125c555409cad65e262f2ee7cabb5.txt  \n",
            "  inflating: train/labels/b659c725-f0fe-4088-9e59-5263ff8eaca4_jpg.rf.5b3be9d0cb70594d656211b894b917cf.txt  \n",
            "  inflating: train/labels/b659c725-f0fe-4088-9e59-5263ff8eaca4_jpg.rf.694a35354809d7f02024020c7ee82c10.txt  \n",
            "  inflating: train/labels/b86a271b2019e83a08f5626dba61957b5ea2cc9c444c4bb7912676180e5e0c9a-jpg_plate_1_png.rf.1144348c540a3bb48815f5ee974ac94f.txt  \n",
            "  inflating: train/labels/b86a271b2019e83a08f5626dba61957b5ea2cc9c444c4bb7912676180e5e0c9a-jpg_plate_1_png.rf.5224fe015a2ef2353f76353fb755a2a7.txt  \n",
            "  inflating: train/labels/b86a271b2019e83a08f5626dba61957b5ea2cc9c444c4bb7912676180e5e0c9a-jpg_plate_1_png.rf.87695f57b5a6c84ca3e447cdf46b96d7.txt  \n",
            "  inflating: train/labels/b8a606d7-20bc-4366-bbc0-078fb937bafe_jpg.rf.157648b819bc3b8e84dffa5bde4418f0.txt  \n",
            "  inflating: train/labels/b8a606d7-20bc-4366-bbc0-078fb937bafe_jpg.rf.a51c9a13ed7cf3f58cfffa9a71936b24.txt  \n",
            "  inflating: train/labels/b8a606d7-20bc-4366-bbc0-078fb937bafe_jpg.rf.c41ca17dc632d0fcd12df8397e1967c8.txt  \n",
            "  inflating: train/labels/b8febfa3efa19460b31b0b2b3337934db973900f9e5382e6fd258a966225574c-jpg_plate_1_png.rf.2218c8e53062e6977cf0ab357d1f24f5.txt  \n",
            "  inflating: train/labels/b8febfa3efa19460b31b0b2b3337934db973900f9e5382e6fd258a966225574c-jpg_plate_1_png.rf.5f4f794a3168df1cfd8c7a902714e228.txt  \n",
            "  inflating: train/labels/b8febfa3efa19460b31b0b2b3337934db973900f9e5382e6fd258a966225574c-jpg_plate_1_png.rf.a0518aa653e27d4ee935cb0ed039e409.txt  \n",
            "  inflating: train/labels/b94920fa-f167-42c4-9cd2-05f161e7b391_jpg.rf.06681a36d99a2bff7337b9aac20bb0b5.txt  \n",
            "  inflating: train/labels/b94920fa-f167-42c4-9cd2-05f161e7b391_jpg.rf.09479d0e5e385c7ed2c5824f690d55f1.txt  \n",
            "  inflating: train/labels/b94920fa-f167-42c4-9cd2-05f161e7b391_jpg.rf.41148b3ed60b79d8fc2e0a643082b1c0.txt  \n",
            "  inflating: train/labels/ba573d0dcff532ec2f650a91c64885288692d39c84fa4887f74139106b953ae7-jpg_plate_1_png.rf.0130e8acdd1e6bbee6c0ee0823cc7536.txt  \n",
            "  inflating: train/labels/ba573d0dcff532ec2f650a91c64885288692d39c84fa4887f74139106b953ae7-jpg_plate_1_png.rf.21acef9f7017008ba40d8080922ccba4.txt  \n",
            "  inflating: train/labels/ba573d0dcff532ec2f650a91c64885288692d39c84fa4887f74139106b953ae7-jpg_plate_1_png.rf.268ac2730b080d808dc7263cc4dda7e0.txt  \n",
            "  inflating: train/labels/baabb9d0285e8df2be112a1a39d8f447f22972ff7aee93b976cc70937f9c5153-jpg_plate_1_png.rf.5521fed56ba5ff2841113ad75e5e2d88.txt  \n",
            "  inflating: train/labels/baabb9d0285e8df2be112a1a39d8f447f22972ff7aee93b976cc70937f9c5153-jpg_plate_1_png.rf.584573049674affae5edb3d61898158c.txt  \n",
            "  inflating: train/labels/baabb9d0285e8df2be112a1a39d8f447f22972ff7aee93b976cc70937f9c5153-jpg_plate_1_png.rf.e07116e78146e032dc88ea66fb5c9aa2.txt  \n",
            "  inflating: train/labels/bb633f8f-ff5f-45bf-a11e-23a8b22417f4_jpg.rf.30d251bb8b0e95d2a522c10138878593.txt  \n",
            "  inflating: train/labels/bb633f8f-ff5f-45bf-a11e-23a8b22417f4_jpg.rf.9580e471a38eae53ddc622d0fa4fe2f0.txt  \n",
            "  inflating: train/labels/bb633f8f-ff5f-45bf-a11e-23a8b22417f4_jpg.rf.f76440e68a366c51300762d6a0e45c65.txt  \n",
            "  inflating: train/labels/bbc7a60f11dfa62bd153a05b9b806de948e508663d9ccd6012bd782348b38a9a-jpg_plate_1_png.rf.10b610fe94b4174f334e9d530e78ad58.txt  \n",
            "  inflating: train/labels/bbc7a60f11dfa62bd153a05b9b806de948e508663d9ccd6012bd782348b38a9a-jpg_plate_1_png.rf.591e79df3c7539ce92358f4f0c5a747e.txt  \n",
            "  inflating: train/labels/bbc7a60f11dfa62bd153a05b9b806de948e508663d9ccd6012bd782348b38a9a-jpg_plate_1_png.rf.637ae080af560ec923f179e8be67e210.txt  \n",
            "  inflating: train/labels/bbfdc49ba739f4329531e5bec18be28ad276de3c2555fb520432a8392b112572-jpg_plate_1_png.rf.6dcaeac8baddfd1a619c420d94d79693.txt  \n",
            "  inflating: train/labels/bbfdc49ba739f4329531e5bec18be28ad276de3c2555fb520432a8392b112572-jpg_plate_1_png.rf.7e90dd32be72ac4c767b5e98a76b1894.txt  \n",
            "  inflating: train/labels/bbfdc49ba739f4329531e5bec18be28ad276de3c2555fb520432a8392b112572-jpg_plate_1_png.rf.cdc4a2f149e4cfd38b7f02c851651c59.txt  \n",
            "  inflating: train/labels/bcbbdc58-20e3-4682-8be6-0e9e02cdb303_jpg.rf.1198756dba3602b99ce28bc347808172.txt  \n",
            "  inflating: train/labels/bcbbdc58-20e3-4682-8be6-0e9e02cdb303_jpg.rf.1fbb83898c58c7750f38ed1d0168dec1.txt  \n",
            "  inflating: train/labels/bcbbdc58-20e3-4682-8be6-0e9e02cdb303_jpg.rf.851f5a0885e31443c4465a3b441f690f.txt  \n",
            "  inflating: train/labels/bdfd48a6862da86a0977d3d33fa69cec21bcc1011ca84c4c8116636c6f57fc3a-jpg_plate_1_png.rf.2ea27ac5002866cdd9b263eb74973eb8.txt  \n",
            "  inflating: train/labels/bdfd48a6862da86a0977d3d33fa69cec21bcc1011ca84c4c8116636c6f57fc3a-jpg_plate_1_png.rf.30b5f0a1d153d8bf66b74a4e9659d331.txt  \n",
            "  inflating: train/labels/bdfd48a6862da86a0977d3d33fa69cec21bcc1011ca84c4c8116636c6f57fc3a-jpg_plate_1_png.rf.9722f82fe33902f972d0bd83eba458b8.txt  \n",
            "  inflating: train/labels/bf51c21a2669972648bb150ddffa923e30499161ccfec04c319f4ac7f949d0ee-jpg_plate_1_png.rf.1724b8471ea596467628af6e12021167.txt  \n",
            "  inflating: train/labels/bf51c21a2669972648bb150ddffa923e30499161ccfec04c319f4ac7f949d0ee-jpg_plate_1_png.rf.2241f6682613256d12c338a957f12c70.txt  \n",
            "  inflating: train/labels/bf51c21a2669972648bb150ddffa923e30499161ccfec04c319f4ac7f949d0ee-jpg_plate_1_png.rf.bd07360e6374ef6d9cc5fcc9e3702918.txt  \n",
            "  inflating: train/labels/c0b6b522-29c1-4b99-831b-185f363ecefa_jpg.rf.88897f205f0b177afbb3cb1f82e74feb.txt  \n",
            "  inflating: train/labels/c0b6b522-29c1-4b99-831b-185f363ecefa_jpg.rf.aa8a28051b35e30418bbb44125b0a225.txt  \n",
            "  inflating: train/labels/c0b6b522-29c1-4b99-831b-185f363ecefa_jpg.rf.d52f4e0645ab2aeecc6c4529e7bdb4d6.txt  \n",
            "  inflating: train/labels/c3b922828d0bd423419b0d6cf771e4eeb5686d12b3f0340ef2aa3cf755ea5a2b-jpg_plate_1_png.rf.079829a361c1bd24c85f0925b9f46408.txt  \n",
            "  inflating: train/labels/c3b922828d0bd423419b0d6cf771e4eeb5686d12b3f0340ef2aa3cf755ea5a2b-jpg_plate_1_png.rf.0aeab479744d86eed494032f9bd73634.txt  \n",
            "  inflating: train/labels/c3b922828d0bd423419b0d6cf771e4eeb5686d12b3f0340ef2aa3cf755ea5a2b-jpg_plate_1_png.rf.76d7a9f3cc56478a6efc85244cae23c0.txt  \n",
            "  inflating: train/labels/c5fb0d9a9e4715e5b8286a6a6b85fa0368aaf1585194a644f5a2bd985f566631-jpg_plate_1_png.rf.1d070dd8464a517952345c5c96d62a6f.txt  \n",
            "  inflating: train/labels/c5fb0d9a9e4715e5b8286a6a6b85fa0368aaf1585194a644f5a2bd985f566631-jpg_plate_1_png.rf.2905e0490672f218b354cc713a3be2ec.txt  \n",
            "  inflating: train/labels/c5fb0d9a9e4715e5b8286a6a6b85fa0368aaf1585194a644f5a2bd985f566631-jpg_plate_1_png.rf.817293b790dc47f79ba446a71ce84fa6.txt  \n",
            "  inflating: train/labels/ca0a96b8b6b04444889e4e39d0413552a3365a418fe4001c017e2bc2fa2736a6-jpg_plate_1_png.rf.20a2a93ef30845db922d0f9df53a82bc.txt  \n",
            "  inflating: train/labels/ca0a96b8b6b04444889e4e39d0413552a3365a418fe4001c017e2bc2fa2736a6-jpg_plate_1_png.rf.7e9ae97dc06d16e5999a09188c4f869b.txt  \n",
            "  inflating: train/labels/ca0a96b8b6b04444889e4e39d0413552a3365a418fe4001c017e2bc2fa2736a6-jpg_plate_1_png.rf.caca924f3f085df456359cf7ea05ab86.txt  \n",
            "  inflating: train/labels/cae41caec77c0ddab8f7e20fecd87a9f2e5dd39b8d47746109ebe36c3245fc39-jpg_plate_1_png.rf.3033632e2784382d81808c01cfaa3843.txt  \n",
            "  inflating: train/labels/cae41caec77c0ddab8f7e20fecd87a9f2e5dd39b8d47746109ebe36c3245fc39-jpg_plate_1_png.rf.4bc200c01021209d0f268fd1e6a86bf7.txt  \n",
            "  inflating: train/labels/cae41caec77c0ddab8f7e20fecd87a9f2e5dd39b8d47746109ebe36c3245fc39-jpg_plate_1_png.rf.b8994cfa9b920960751e3e391036fe71.txt  \n",
            "  inflating: train/labels/ccbf1aafdce7c27349716b6fb3b2930bf80a3aa9a2d5e4b7cf565fc0e57b71a3-jpg_plate_1_png.rf.1df79f1f5e806f355649174fae2a8d8b.txt  \n",
            "  inflating: train/labels/ccbf1aafdce7c27349716b6fb3b2930bf80a3aa9a2d5e4b7cf565fc0e57b71a3-jpg_plate_1_png.rf.1ed0ad950df3b74725a5a4a0949d9fe7.txt  \n",
            "  inflating: train/labels/ccbf1aafdce7c27349716b6fb3b2930bf80a3aa9a2d5e4b7cf565fc0e57b71a3-jpg_plate_1_png.rf.4ec8b3a3975977e7766b989a63ac4e16.txt  \n",
            "  inflating: train/labels/cd0dcf0f-9982-41ac-a4ed-58efcffc6c8b_jpg.rf.23eb05cf45f122f9407ee00826d24064.txt  \n",
            "  inflating: train/labels/cd0dcf0f-9982-41ac-a4ed-58efcffc6c8b_jpg.rf.9568838f2ae10112f93d442cdd9623f3.txt  \n",
            "  inflating: train/labels/cd0dcf0f-9982-41ac-a4ed-58efcffc6c8b_jpg.rf.9affadab9d17b4f454b53ea41a4f9ff6.txt  \n",
            "  inflating: train/labels/crystal-pixel-font-retro-video-game-design-vector-22846195_jpg.rf.4891be910a86306c3d0ba56839babcde.txt  \n",
            "  inflating: train/labels/crystal-pixel-font-retro-video-game-design-vector-22846195_jpg.rf.582f1e9f1326f112901c61fe44bc5b6a.txt  \n",
            "  inflating: train/labels/crystal-pixel-font-retro-video-game-design-vector-22846195_jpg.rf.66bb6b6ac3ec4d02cc03a81e79da51a3.txt  \n",
            "  inflating: train/labels/d0d0ddb6-49f7-44e7-9037-c1cd3e162bd1_jpg.rf.b92ca610e7e34be8149b0cf821cc1f3e.txt  \n",
            "  inflating: train/labels/d0d0ddb6-49f7-44e7-9037-c1cd3e162bd1_jpg.rf.c7fa48bfa510629d8ba185e5d3202efe.txt  \n",
            "  inflating: train/labels/d0d0ddb6-49f7-44e7-9037-c1cd3e162bd1_jpg.rf.e032341d6d443c09450dee83dd8ebf04.txt  \n",
            "  inflating: train/labels/d1765d55-aa79-4048-a517-0a0601b4de50_jpg.rf.4e9beed06360089011cf907c4753a4db.txt  \n",
            "  inflating: train/labels/d1765d55-aa79-4048-a517-0a0601b4de50_jpg.rf.57ccfcda79b3206f7a327e9b48d5310f.txt  \n",
            "  inflating: train/labels/d1765d55-aa79-4048-a517-0a0601b4de50_jpg.rf.e2c6d51af5bdb61ce90fe25d6e43bd73.txt  \n",
            "  inflating: train/labels/d431918ff411b6a9f58fb8da494ae1a2602773701bf2410b47abb2b87c2f8fa4-jpg_plate_1_png.rf.306ced6f0d00dd027cec12b66c64b56a.txt  \n",
            "  inflating: train/labels/d431918ff411b6a9f58fb8da494ae1a2602773701bf2410b47abb2b87c2f8fa4-jpg_plate_1_png.rf.3264f3cf464e16aeb043c3f195b96bb0.txt  \n",
            "  inflating: train/labels/d431918ff411b6a9f58fb8da494ae1a2602773701bf2410b47abb2b87c2f8fa4-jpg_plate_1_png.rf.f4f91a01be58eef83ad5936f282d939b.txt  \n",
            "  inflating: train/labels/d4e38358-35d8-43bd-b39a-2a38f1f4176a_jpg.rf.4da6055e160673dcb17175fd3619cb9b.txt  \n",
            "  inflating: train/labels/d4e38358-35d8-43bd-b39a-2a38f1f4176a_jpg.rf.d304e149db3ea1502e584f58b63d3efe.txt  \n",
            "  inflating: train/labels/d4e38358-35d8-43bd-b39a-2a38f1f4176a_jpg.rf.e920926626e672ec5e069f015dd5afd4.txt  \n",
            "  inflating: train/labels/d51498d0fd38fcf3ab2181ed3b696644aa2933778a2aafe2def8220ec673a4df-jpg_plate_1_png.rf.04f11f6db0d98a3faf1529835f431fdd.txt  \n",
            "  inflating: train/labels/d51498d0fd38fcf3ab2181ed3b696644aa2933778a2aafe2def8220ec673a4df-jpg_plate_1_png.rf.aab9cc99d88649a69e7c11fd2ebff3ac.txt  \n",
            "  inflating: train/labels/d51498d0fd38fcf3ab2181ed3b696644aa2933778a2aafe2def8220ec673a4df-jpg_plate_1_png.rf.fae59acad5481a9338d54cd0797f3740.txt  \n",
            "  inflating: train/labels/d5668749e9d373822e949548a2a233721d9ac10527c9f7e5a940a38c0e8de415-jpg_plate_1_png.rf.a40c21a474ae6f44e265d5fc0cadc09d.txt  \n",
            "  inflating: train/labels/d5668749e9d373822e949548a2a233721d9ac10527c9f7e5a940a38c0e8de415-jpg_plate_1_png.rf.aa21d8e400dc77172a6eb595ec475845.txt  \n",
            "  inflating: train/labels/d5668749e9d373822e949548a2a233721d9ac10527c9f7e5a940a38c0e8de415-jpg_plate_1_png.rf.b439d7a581eec50218d691ae237da942.txt  \n",
            "  inflating: train/labels/d5a5051c43f1d397cdd3b1f4ef888971a506da3ea9a770fbbc4efdda1b183f0e-jpg_plate_1_png.rf.5bfc90e8fde1e4b4aaee7511600394a6.txt  \n",
            "  inflating: train/labels/d5a5051c43f1d397cdd3b1f4ef888971a506da3ea9a770fbbc4efdda1b183f0e-jpg_plate_1_png.rf.881e56243bc3d7d2196e75a81036516b.txt  \n",
            "  inflating: train/labels/d5a5051c43f1d397cdd3b1f4ef888971a506da3ea9a770fbbc4efdda1b183f0e-jpg_plate_1_png.rf.e406847c822516061de6b0cd771f714a.txt  \n",
            "  inflating: train/labels/d6df2e11-8ef4-4bbe-8135-6096f39198f1_jpg.rf.2fdb6b2e361b5ac106f5d93077676f8c.txt  \n",
            "  inflating: train/labels/d6df2e11-8ef4-4bbe-8135-6096f39198f1_jpg.rf.ad71352e27a02a56388b48ff8327a71a.txt  \n",
            "  inflating: train/labels/d6df2e11-8ef4-4bbe-8135-6096f39198f1_jpg.rf.c0fcc75e51045a6a9b9c38734205ef1d.txt  \n",
            "  inflating: train/labels/d8d54c7177597823c8c0e6a2112c3a4903ecf2d5c8844a2f36efe9d634b5ec4b-jpg_plate_1_png.rf.6a74119bf32f985793065c9f2da83c7a.txt  \n",
            "  inflating: train/labels/d8d54c7177597823c8c0e6a2112c3a4903ecf2d5c8844a2f36efe9d634b5ec4b-jpg_plate_1_png.rf.a86eae17f1f40a18923404713fd4b1ea.txt  \n",
            "  inflating: train/labels/d8d54c7177597823c8c0e6a2112c3a4903ecf2d5c8844a2f36efe9d634b5ec4b-jpg_plate_1_png.rf.e69e2ecece58148c8ebcb3a793e2524e.txt  \n",
            "  inflating: train/labels/dadc148e-eda8-4ff2-9ba8-6a5f1d254596_jpg.rf.3dd51b410f7cdc7026e687ace04daf3d.txt  \n",
            "  inflating: train/labels/dadc148e-eda8-4ff2-9ba8-6a5f1d254596_jpg.rf.97a31225a7b19cf7cd53f0b32a92e99d.txt  \n",
            "  inflating: train/labels/dadc148e-eda8-4ff2-9ba8-6a5f1d254596_jpg.rf.aa871710f77ab0db0c0d9020ac6b0ac5.txt  \n",
            "  inflating: train/labels/dbd3764f-81f2-4dc0-9ae0-58cc8ba22f2b_jpg.rf.018abcaf50b86fb1154225c7e496596f.txt  \n",
            "  inflating: train/labels/dbd3764f-81f2-4dc0-9ae0-58cc8ba22f2b_jpg.rf.6d9b04ee99dbf18964bc0369ca076dee.txt  \n",
            "  inflating: train/labels/dbd3764f-81f2-4dc0-9ae0-58cc8ba22f2b_jpg.rf.d97a3cedce78de7f3e9012c1267ef2f8.txt  \n",
            "  inflating: train/labels/ddbf6082-7a48-4f85-88eb-1b60675b1598_jpg.rf.1a739c26572026e3fc2f908223b8da58.txt  \n",
            "  inflating: train/labels/ddbf6082-7a48-4f85-88eb-1b60675b1598_jpg.rf.bc09c977602ec9ed467560e850a202d0.txt  \n",
            "  inflating: train/labels/ddbf6082-7a48-4f85-88eb-1b60675b1598_jpg.rf.ebd0999b07bff9b668f7f2479919408a.txt  \n",
            "  inflating: train/labels/dde57706f63e85a61f75dae8b6ab877bd17e201f7630a43cf7088b49e42667c5-jpg_plate_1_png.rf.6f11e40940069547c096c440d53f2bc9.txt  \n",
            "  inflating: train/labels/dde57706f63e85a61f75dae8b6ab877bd17e201f7630a43cf7088b49e42667c5-jpg_plate_1_png.rf.97f984805546ada8ccbfd7650416054d.txt  \n",
            "  inflating: train/labels/dde57706f63e85a61f75dae8b6ab877bd17e201f7630a43cf7088b49e42667c5-jpg_plate_1_png.rf.e4a94492acc077301d5f29367ecd909a.txt  \n",
            "  inflating: train/labels/df49718381f059a560c7f0456b6340c86c8bc4db08cc65b0b3965a48bc95aa64-jpg_plate_1_png.rf.73b08ebe5a35187a385a39ba601c2a1b.txt  \n",
            "  inflating: train/labels/df49718381f059a560c7f0456b6340c86c8bc4db08cc65b0b3965a48bc95aa64-jpg_plate_1_png.rf.bf818881bc35aac95b06da49b9576e42.txt  \n",
            "  inflating: train/labels/df49718381f059a560c7f0456b6340c86c8bc4db08cc65b0b3965a48bc95aa64-jpg_plate_1_png.rf.d1ff9bde57be1380680ef3abd07f0ee1.txt  \n",
            "  inflating: train/labels/digital-clock-calculator-numbers-alarm-vector-20953867_jpg.rf.a3e74de2c1f49d93254cc6e9612b10e6.txt  \n",
            "  inflating: train/labels/digital-clock-calculator-numbers-alarm-vector-20953867_jpg.rf.ba7723fae795473eac6035a7976c5946.txt  \n",
            "  inflating: train/labels/digital-clock-calculator-numbers-alarm-vector-20953867_jpg.rf.c9d91ad5d4c40ced0f17a28867d0c08e.txt  \n",
            "  inflating: train/labels/download_jpg.rf.84fe69144b54e514c1ce412976c786ec.txt  \n",
            "  inflating: train/labels/download_jpg.rf.cddf4d66ae0f77b0384e3f351db8d6f4.txt  \n",
            "  inflating: train/labels/download_jpg.rf.d0d38997d76cd1dd4475ef4c21165e5e.txt  \n",
            "  inflating: train/labels/download_png.rf.49d33a5fac2071f928fff81d020d2684.txt  \n",
            "  inflating: train/labels/download_png.rf.661bc22707cbf7b33e022f583c701248.txt  \n",
            "  inflating: train/labels/download_png.rf.ff6f8fd7a772aa6c45f590672250dea5.txt  \n",
            "  inflating: train/labels/e62e7c84931e83baf24c19f8476ae9cd422ca6eb54f335459559aed1abfe4708-jpg_plate_1_png.rf.1cb4415bf3bc3bf43959add5d0afa7ae.txt  \n",
            "  inflating: train/labels/e62e7c84931e83baf24c19f8476ae9cd422ca6eb54f335459559aed1abfe4708-jpg_plate_1_png.rf.69f5a81c87ed83509ce4804dc7517b46.txt  \n",
            "  inflating: train/labels/e62e7c84931e83baf24c19f8476ae9cd422ca6eb54f335459559aed1abfe4708-jpg_plate_1_png.rf.a393cf471ff81808f8f840b1848bd239.txt  \n",
            "  inflating: train/labels/e7ec8163-b075-4c26-a16f-ab81ede6e9f7_jpg.rf.a3c4fa06da46a040ef094ce1acd3331e.txt  \n",
            "  inflating: train/labels/e7ec8163-b075-4c26-a16f-ab81ede6e9f7_jpg.rf.bbab7bcfd60545835eeda3d189972aed.txt  \n",
            "  inflating: train/labels/e7ec8163-b075-4c26-a16f-ab81ede6e9f7_jpg.rf.f6e864f9389226082d3574030bbdf91c.txt  \n",
            "  inflating: train/labels/e9a67076-fe8f-4cb2-9f92-3e91b1aad30d_jpg.rf.3256362953dc7bde46460ce58ac26a3b.txt  \n",
            "  inflating: train/labels/e9a67076-fe8f-4cb2-9f92-3e91b1aad30d_jpg.rf.a55a4cca7a5464e34c30759a8610f7e7.txt  \n",
            "  inflating: train/labels/e9a67076-fe8f-4cb2-9f92-3e91b1aad30d_jpg.rf.ce11731dc32d4b07ce8ee77bcc688bc4.txt  \n",
            "  inflating: train/labels/ea2bf637ae6661202f4b956095d86ec4c315410d197aa9add8dc66c2f0c93d9f-jpg_plate_1_png.rf.2a9fbef63127547c985f86dfdfaa0ce8.txt  \n",
            "  inflating: train/labels/ea2bf637ae6661202f4b956095d86ec4c315410d197aa9add8dc66c2f0c93d9f-jpg_plate_1_png.rf.2e14cfced1eead18fd1407fd43d43450.txt  \n",
            "  inflating: train/labels/ea2bf637ae6661202f4b956095d86ec4c315410d197aa9add8dc66c2f0c93d9f-jpg_plate_1_png.rf.58ca2b620397778e555596cb77894074.txt  \n",
            "  inflating: train/labels/eb18eb72ffc0c3d33ab59c897d1d73d70afacb93b8d076eed8efa5fb8c3d5f39-jpg_plate_1_png.rf.634544ee8e54150add51ba5a9b8c8f29.txt  \n",
            "  inflating: train/labels/eb18eb72ffc0c3d33ab59c897d1d73d70afacb93b8d076eed8efa5fb8c3d5f39-jpg_plate_1_png.rf.656e5a48632b6e24d60c28611ec40b49.txt  \n",
            "  inflating: train/labels/eb18eb72ffc0c3d33ab59c897d1d73d70afacb93b8d076eed8efa5fb8c3d5f39-jpg_plate_1_png.rf.e7a87ddee708bd8693b3cb5e57c0146a.txt  \n",
            "  inflating: train/labels/ec705ecff05b73d123f04d85ff75ddd48c57c97da632911eb329367f79d3162d-jpg_plate_1_png.rf.9d995ac5a7f038f577b7b1189e632113.txt  \n",
            "  inflating: train/labels/ec705ecff05b73d123f04d85ff75ddd48c57c97da632911eb329367f79d3162d-jpg_plate_1_png.rf.d2291cab88cd644a685afffa78396b47.txt  \n",
            "  inflating: train/labels/ec705ecff05b73d123f04d85ff75ddd48c57c97da632911eb329367f79d3162d-jpg_plate_1_png.rf.dbe63b10835f52036dbfb4bd8fd48d3d.txt  \n",
            "  inflating: train/labels/f0bf4042-0077-43e3-b079-2f54ea59eefb_jpg.rf.578fbd6ba700dcdd73526589cd687512.txt  \n",
            "  inflating: train/labels/f0bf4042-0077-43e3-b079-2f54ea59eefb_jpg.rf.8158ed9c853393212a191d72ef08f8b2.txt  \n",
            "  inflating: train/labels/f0bf4042-0077-43e3-b079-2f54ea59eefb_jpg.rf.a0a8efae6a87b0a239d9f1a3232c2302.txt  \n",
            "  inflating: train/labels/f216f8505bad61dfec42829b7fe2602a2efa3f641cc1ec61e3d6c3aa3bee1546-jpg_plate_1_png.rf.6e2f9d15da8be4dda1fc6f81d3cb4998.txt  \n",
            "  inflating: train/labels/f216f8505bad61dfec42829b7fe2602a2efa3f641cc1ec61e3d6c3aa3bee1546-jpg_plate_1_png.rf.e82735a9c3dd13c5a9355f0d85c71108.txt  \n",
            "  inflating: train/labels/f216f8505bad61dfec42829b7fe2602a2efa3f641cc1ec61e3d6c3aa3bee1546-jpg_plate_1_png.rf.fd538420c8d6981ae256cacb5470ccd0.txt  \n",
            "  inflating: train/labels/f5f55ea67b05fc0b1929d3d052f96e07d0cd5da52f60ec1c4c5207a59162baf7-jpg_plate_1_png.rf.285374a3de5bd35d7489f73cf10ceb41.txt  \n",
            "  inflating: train/labels/f5f55ea67b05fc0b1929d3d052f96e07d0cd5da52f60ec1c4c5207a59162baf7-jpg_plate_1_png.rf.b11d1408d52d976f623c3edbe92ea029.txt  \n",
            "  inflating: train/labels/f5f55ea67b05fc0b1929d3d052f96e07d0cd5da52f60ec1c4c5207a59162baf7-jpg_plate_1_png.rf.d3f65911aaa3dd346788eaa07e7df7fc.txt  \n",
            "  inflating: train/labels/f6036cdeedebbc103853c76e99bf6d01bab891ba78d22e465b54b8e16b720602-jpg_plate_1_png.rf.642f4fd2937f3100624cafb970ab1e56.txt  \n",
            "  inflating: train/labels/f6036cdeedebbc103853c76e99bf6d01bab891ba78d22e465b54b8e16b720602-jpg_plate_1_png.rf.932a44b4e672307412f87dd23f91fe2e.txt  \n",
            "  inflating: train/labels/f6036cdeedebbc103853c76e99bf6d01bab891ba78d22e465b54b8e16b720602-jpg_plate_1_png.rf.96fb684664a69a961faa4788896f221d.txt  \n",
            "  inflating: train/labels/f62f031f-6a43-4e79-97d2-36eb3e058cc5_jpg.rf.3e56fb44db5a1a90ee5ba096693cc3fc.txt  \n",
            "  inflating: train/labels/f62f031f-6a43-4e79-97d2-36eb3e058cc5_jpg.rf.79e15fee1f83193d0affbedd05d7e926.txt  \n",
            "  inflating: train/labels/f62f031f-6a43-4e79-97d2-36eb3e058cc5_jpg.rf.f3a643c882c3f91d5c5176d852f10c14.txt  \n",
            "  inflating: train/labels/f729ec58-afa7-4a39-8ce9-99134000dd3c_jpg.rf.35be42fcb2c5f979fc8ce85bd8d1e609.txt  \n",
            "  inflating: train/labels/f729ec58-afa7-4a39-8ce9-99134000dd3c_jpg.rf.94e41915b7ebfd8a0fc29f894bb3e0ca.txt  \n",
            "  inflating: train/labels/f729ec58-afa7-4a39-8ce9-99134000dd3c_jpg.rf.963a001e8099ce7f549216b75131e71b.txt  \n",
            "  inflating: train/labels/f73e2065-db0d-4ea9-b899-af5e97b543f7_jpg.rf.68063683bb45c6256988f5de5c19f173.txt  \n",
            "  inflating: train/labels/f73e2065-db0d-4ea9-b899-af5e97b543f7_jpg.rf.e5522814e99e43e3a7a994d9ba15f79f.txt  \n",
            "  inflating: train/labels/f73e2065-db0d-4ea9-b899-af5e97b543f7_jpg.rf.f5a71cb884f3236e4862afd78fb3e880.txt  \n",
            "  inflating: train/labels/fa675d6afcf01208a69b6fbaeb819426e127e3a1886d604c97141dbbec6688e0-jpg_plate_1_png.rf.07232720497ce6fa9cd765452408fe70.txt  \n",
            "  inflating: train/labels/fa675d6afcf01208a69b6fbaeb819426e127e3a1886d604c97141dbbec6688e0-jpg_plate_1_png.rf.5aabf26e62f55910b8965d4255a04120.txt  \n",
            "  inflating: train/labels/fa675d6afcf01208a69b6fbaeb819426e127e3a1886d604c97141dbbec6688e0-jpg_plate_1_png.rf.60a42053da680d6b9160b1ab6192a6e8.txt  \n",
            "  inflating: train/labels/fa7b2dbcd4f0e5b58d22b7dd0a0fb19380b300e604d36f9b25a04c00c4951251-jpg_plate_1_png.rf.02393fd4cde5b0f4b846392cacbb1bed.txt  \n",
            "  inflating: train/labels/fa7b2dbcd4f0e5b58d22b7dd0a0fb19380b300e604d36f9b25a04c00c4951251-jpg_plate_1_png.rf.9fb15c7a684fc6d35f3d37aab08ecc8d.txt  \n",
            "  inflating: train/labels/fa7b2dbcd4f0e5b58d22b7dd0a0fb19380b300e604d36f9b25a04c00c4951251-jpg_plate_1_png.rf.fefe5fdbf1d6f1607fcb23092f8a2a42.txt  \n",
            "  inflating: train/labels/fae85b67-525d-4295-aeba-9d2a448b1e4b_jpg.rf.6d05a38340171be833ef90e940c959b4.txt  \n",
            "  inflating: train/labels/fae85b67-525d-4295-aeba-9d2a448b1e4b_jpg.rf.787c04720bc5689165d4e98cfea27f86.txt  \n",
            "  inflating: train/labels/fae85b67-525d-4295-aeba-9d2a448b1e4b_jpg.rf.a30570a16453b991c50c30c377d67eb3.txt  \n",
            "  inflating: train/labels/fc563df5e18298c0bfdac3687dca8b63b0c6534dfe45ff450b2b7b8799938319-jpg_plate_1_png.rf.973884326cf683e634176d13782e20a3.txt  \n",
            "  inflating: train/labels/fc563df5e18298c0bfdac3687dca8b63b0c6534dfe45ff450b2b7b8799938319-jpg_plate_1_png.rf.ade0ad183f004f97a1a98dec10d20d95.txt  \n",
            "  inflating: train/labels/fc563df5e18298c0bfdac3687dca8b63b0c6534dfe45ff450b2b7b8799938319-jpg_plate_1_png.rf.ea2a43ca9c313e1d7ba71414b6df1752.txt  \n",
            "  inflating: train/labels/fd8dbcd055134e336782793a2c87191b66a657501da913c5d11e6287e2a77380-jpg_plate_1_png.rf.0804c944d98e04930c6f539cef91b213.txt  \n",
            "  inflating: train/labels/fd8dbcd055134e336782793a2c87191b66a657501da913c5d11e6287e2a77380-jpg_plate_1_png.rf.97d5758b2f3e8510ca3a3938a7f677fe.txt  \n",
            "  inflating: train/labels/fd8dbcd055134e336782793a2c87191b66a657501da913c5d11e6287e2a77380-jpg_plate_1_png.rf.b3bf89577da3d399fb99115a47a1fe99.txt  \n",
            "  inflating: train/labels/fe3acf75fafef98ef4d0c8464fd3ca20aa584278f367613b615a57bcea02a2f1-jpg_plate_1_png.rf.304c992e8d062ab07e0c8539a35b8470.txt  \n",
            "  inflating: train/labels/fe3acf75fafef98ef4d0c8464fd3ca20aa584278f367613b615a57bcea02a2f1-jpg_plate_1_png.rf.32b4f6cfeb4906121792145cc6e070a0.txt  \n",
            "  inflating: train/labels/fe3acf75fafef98ef4d0c8464fd3ca20aa584278f367613b615a57bcea02a2f1-jpg_plate_1_png.rf.98aac385cf8f1a8b7629bcb9abb4cd0c.txt  \n",
            "  inflating: train/labels/gen_111_jpg.rf.08c31cfd6a4dd3a48b15dc272c55a6b5.txt  \n",
            "  inflating: train/labels/gen_111_jpg.rf.0d8a9df9ab8ad09faaa4a8694b4918b2.txt  \n",
            "  inflating: train/labels/gen_111_jpg.rf.63c9e638ec7eddb3b24b220fa891e085.txt  \n",
            "  inflating: train/labels/gen_130_jpg.rf.48473b789eb6d73bf8a8f69077afd7a6.txt  \n",
            "  inflating: train/labels/gen_130_jpg.rf.9a366adb170a3b663fe0cbdf786c10af.txt  \n",
            "  inflating: train/labels/gen_130_jpg.rf.bfa41739e3aea4f6d0a432f6e738e203.txt  \n",
            "  inflating: train/labels/gen_145_jpg.rf.a3f6af5559b8ab2287408f552f34662e.txt  \n",
            "  inflating: train/labels/gen_145_jpg.rf.a7fa1d39e723cb46028048c7d951e983.txt  \n",
            "  inflating: train/labels/gen_145_jpg.rf.a9b5daaaf42849c81f58f64322f9715d.txt  \n",
            " extracting: train/labels/gen_166_jpg.rf.3bf7099b6d323ba575365d6443478fc4.txt  \n",
            " extracting: train/labels/gen_166_jpg.rf.a237bae41b6647d26346a81670e05686.txt  \n",
            " extracting: train/labels/gen_166_jpg.rf.ed5c6e3562dbc3d938755d6ed1570b3c.txt  \n",
            " extracting: train/labels/gen_173_jpg.rf.12d54d10f2f97386d1f89a6ed7f56b12.txt  \n",
            " extracting: train/labels/gen_173_jpg.rf.6cd5538d11da08c418dcb519715e3136.txt  \n",
            " extracting: train/labels/gen_173_jpg.rf.fc735df250a171b391c325fe4decf379.txt  \n",
            "  inflating: train/labels/gen_175_jpg.rf.0e16833fb82a55ec654ddf36811e8e78.txt  \n",
            "  inflating: train/labels/gen_175_jpg.rf.8483a8f65ffe9b09f5942732849c8438.txt  \n",
            "  inflating: train/labels/gen_175_jpg.rf.e8e832fb3e26291f3ffb82fac4f8fc99.txt  \n",
            "  inflating: train/labels/gen_180_jpg.rf.02b8e960244e1944b73f761f81123ccf.txt  \n",
            "  inflating: train/labels/gen_180_jpg.rf.6ac75cf1b92fa60e3f31b39539906643.txt  \n",
            "  inflating: train/labels/gen_180_jpg.rf.84e65a8bbdc2f67191b92daa32dfb06e.txt  \n",
            "  inflating: train/labels/gen_187_jpg.rf.0436dd4b2bd217d0d70469ed7ae83c81.txt  \n",
            "  inflating: train/labels/gen_187_jpg.rf.42fe56e7095325518277b82e052bab9e.txt  \n",
            "  inflating: train/labels/gen_187_jpg.rf.9be44e51fd0b8eb8a0071ad8ae96be5e.txt  \n",
            "  inflating: train/labels/gen_191_jpg.rf.10dd6e76de2647974aea51a9c3bc0d3d.txt  \n",
            "  inflating: train/labels/gen_191_jpg.rf.70faae9c45579733afa49be0d9fa3c59.txt  \n",
            "  inflating: train/labels/gen_191_jpg.rf.cf55fad5662a0226f4425111f298ed73.txt  \n",
            "  inflating: train/labels/gen_199_jpg.rf.1f145237dce0d235ba4ba9fb2e460dee.txt  \n",
            "  inflating: train/labels/gen_199_jpg.rf.54806748d382d333d905c461515bc52a.txt  \n",
            "  inflating: train/labels/gen_199_jpg.rf.deb020814ab755c706fe2282c2240076.txt  \n",
            "  inflating: train/labels/gen_19_jpg.rf.008204d8845a48c1ac0035e83a9b126b.txt  \n",
            "  inflating: train/labels/gen_19_jpg.rf.5e6c9c9df219da5712cf89ed459f89a0.txt  \n",
            "  inflating: train/labels/gen_19_jpg.rf.85408edafeeb5f011cee964db3656bce.txt  \n",
            "  inflating: train/labels/gen_206_jpg.rf.0fb0d6729f771855de54451c05987a5f.txt  \n",
            "  inflating: train/labels/gen_206_jpg.rf.c59276dd658ba0ee1a0522811de8a4d5.txt  \n",
            "  inflating: train/labels/gen_206_jpg.rf.e2892273af88ae4e0995219a88fbaf0e.txt  \n",
            "  inflating: train/labels/gen_208_jpg.rf.09caa8571cd52eb9f61bf9ab82543825.txt  \n",
            "  inflating: train/labels/gen_208_jpg.rf.1bbf0e01e13c58efd44bdd3292c4a67b.txt  \n",
            "  inflating: train/labels/gen_208_jpg.rf.d1e65aeb98efeb1d9dc724c4ec652cb9.txt  \n",
            " extracting: train/labels/gen_225_jpg.rf.1a60856244d1fae75edcfe35d9645699.txt  \n",
            " extracting: train/labels/gen_225_jpg.rf.2bf23f439f0817cde480281221f1c800.txt  \n",
            " extracting: train/labels/gen_225_jpg.rf.65e9864d6742d1165d3c909c9b94aec0.txt  \n",
            "  inflating: train/labels/gen_232_jpg.rf.840e99ee61b8e1cbecf3abee934cc5e9.txt  \n",
            "  inflating: train/labels/gen_232_jpg.rf.935cd43f6d71155441ae6f72e2503404.txt  \n",
            "  inflating: train/labels/gen_232_jpg.rf.e61d6eab5b56ad74d2af3b382ec3dbea.txt  \n",
            "  inflating: train/labels/gen_23_jpg.rf.230fe6b5a20aa750ce3a089ecbc58b9f.txt  \n",
            "  inflating: train/labels/gen_23_jpg.rf.631b2a95b8eaeb2cebecbcf8dd31a551.txt  \n",
            "  inflating: train/labels/gen_23_jpg.rf.d4fccf97af0361c1e7ac7c306276a0c6.txt  \n",
            "  inflating: train/labels/gen_249_jpg.rf.4123df1fc1ca5677288c8be39e1b8200.txt  \n",
            "  inflating: train/labels/gen_249_jpg.rf.bcf192c730847e35c9bd55479e7b5011.txt  \n",
            "  inflating: train/labels/gen_249_jpg.rf.edcaea03a2efa41ea9506ae1f2f04aca.txt  \n",
            " extracting: train/labels/gen_301_jpg.rf.77b11f840d8a6296e24d47fa211891f1.txt  \n",
            " extracting: train/labels/gen_301_jpg.rf.e8582ba30ba60bd87f8721fe0cf80bc7.txt  \n",
            " extracting: train/labels/gen_301_jpg.rf.ffd2090f5742fb8e8c7e301f339b5e1f.txt  \n",
            "  inflating: train/labels/gen_304_jpg.rf.1fb4b0971666009d6a35388a6d31beae.txt  \n",
            "  inflating: train/labels/gen_304_jpg.rf.2cbc18453a9eebe7c36c8101b948b411.txt  \n",
            "  inflating: train/labels/gen_304_jpg.rf.e2565cdb4d3988d6e9eb11c1884f07fe.txt  \n",
            "  inflating: train/labels/gen_315_jpg.rf.946b80c17e2b2ac94f71a184107686b9.txt  \n",
            "  inflating: train/labels/gen_315_jpg.rf.c67fe86f70c89804ecf67c7638651008.txt  \n",
            "  inflating: train/labels/gen_315_jpg.rf.f4cc9ec9d469b318aa43d48645e2ebf6.txt  \n",
            "  inflating: train/labels/gen_335_jpg.rf.22431c704715f4a10e5fc2eb5704bdc9.txt  \n",
            "  inflating: train/labels/gen_335_jpg.rf.2b0de372adcbbb5e2b2f1fabab0e562c.txt  \n",
            "  inflating: train/labels/gen_335_jpg.rf.7292449cebf5f6255c3bf43b783dba9b.txt  \n",
            " extracting: train/labels/gen_337_jpg.rf.0d282d64e04a5f8fa4b009f51bd8c389.txt  \n",
            " extracting: train/labels/gen_337_jpg.rf.29ac7a168b239d99d6a970c0274a46eb.txt  \n",
            " extracting: train/labels/gen_337_jpg.rf.8eba68860955e50634ea3f4942609e23.txt  \n",
            " extracting: train/labels/gen_342_jpg.rf.648ae3d9fa0026f4eea0c96aec0806e6.txt  \n",
            " extracting: train/labels/gen_342_jpg.rf.a14ea35d8f583180503f8f44592efca4.txt  \n",
            " extracting: train/labels/gen_342_jpg.rf.f2d2b5e36ab5d38551aa4bbe23ad2470.txt  \n",
            "  inflating: train/labels/gen_345_jpg.rf.cab82888b0044b724f7f02ca22cadee7.txt  \n",
            "  inflating: train/labels/gen_345_jpg.rf.ede369477d2a5bd47ce353377a079398.txt  \n",
            "  inflating: train/labels/gen_345_jpg.rf.ee654e1f6345ecc78747fb11bbd17db7.txt  \n",
            "  inflating: train/labels/gen_365_jpg.rf.1977b384149a192858e3c228116cfebc.txt  \n",
            "  inflating: train/labels/gen_365_jpg.rf.5c4331e2c13a992f5e434de1a05a7ebb.txt  \n",
            "  inflating: train/labels/gen_365_jpg.rf.bfdfee7ff6d4f70e18ab5eccc9fd78d6.txt  \n",
            " extracting: train/labels/gen_370_jpg.rf.0799fbfb36f29763404b6ec870a4a9c1.txt  \n",
            " extracting: train/labels/gen_370_jpg.rf.a2cc798111bcdc16c86eec2d52474043.txt  \n",
            " extracting: train/labels/gen_370_jpg.rf.dbd4ebc0e0b4d788e22f343b9fd8dbf7.txt  \n",
            "  inflating: train/labels/gen_38_jpg.rf.28baf536ec66fcee76c16c527d54276a.txt  \n",
            "  inflating: train/labels/gen_38_jpg.rf.e85eb608765fcdef4d5a43f17c03a703.txt  \n",
            "  inflating: train/labels/gen_38_jpg.rf.ed27c1d75d73f81b862acce8c6d1876a.txt  \n",
            "  inflating: train/labels/gen_403_jpg.rf.0cfc9d36d90b9f6bc9bf3fcc9b374de4.txt  \n",
            "  inflating: train/labels/gen_403_jpg.rf.4745ffc3a5e6ea8a74d8daab9a4ce970.txt  \n",
            "  inflating: train/labels/gen_403_jpg.rf.cec5043d4b2e87661642a9b715d9f235.txt  \n",
            "  inflating: train/labels/gen_420_jpg.rf.1d14b7ac97b16f69a72f0372bf278b35.txt  \n",
            "  inflating: train/labels/gen_420_jpg.rf.7dc376db021ce2a8a4b368ad7684a1c6.txt  \n",
            "  inflating: train/labels/gen_420_jpg.rf.f847a7a2823bb58b11edd5f7c3a4ceca.txt  \n",
            "  inflating: train/labels/gen_435_jpg.rf.094106d9ab27396e2bcb6134651f014a.txt  \n",
            "  inflating: train/labels/gen_435_jpg.rf.5eddf5325ba485ec0c90278bd1ab49aa.txt  \n",
            "  inflating: train/labels/gen_435_jpg.rf.e947ea459a63eb0ec979d6429aa3dd7e.txt  \n",
            "  inflating: train/labels/gen_469_jpg.rf.4e876439f121c769b07c1745ff23b47c.txt  \n",
            "  inflating: train/labels/gen_469_jpg.rf.b7c126934cfea85f92ee8863b074f3ad.txt  \n",
            "  inflating: train/labels/gen_469_jpg.rf.fa61d232228282cc80657ef503e52e4b.txt  \n",
            "  inflating: train/labels/gen_493_jpg.rf.0ec28118daf11d4ca4e6a8d64aa9cf99.txt  \n",
            "  inflating: train/labels/gen_493_jpg.rf.34192f5cc70a6bb4a0e9f19649113646.txt  \n",
            "  inflating: train/labels/gen_493_jpg.rf.6f6ba76f59b905e89f83de2977f23fbd.txt  \n",
            "  inflating: train/labels/gen_71_jpg.rf.1195f162a049656a6b3aa8132cd7a2db.txt  \n",
            "  inflating: train/labels/gen_71_jpg.rf.2e28725603ac94177bd7b61d1f9d3114.txt  \n",
            "  inflating: train/labels/gen_71_jpg.rf.7243c746e9b64c5b0f36b77a87803d42.txt  \n",
            "  inflating: train/labels/gen_77_jpg.rf.18691a0f21b6723df2036e89f732ddd1.txt  \n",
            "  inflating: train/labels/gen_77_jpg.rf.4410c00c64eef4e9d0a0a304349fa163.txt  \n",
            "  inflating: train/labels/gen_77_jpg.rf.ac7e0001bc411a96531f7bd4f1405dff.txt  \n",
            "  inflating: train/labels/image0003_jpg.rf.23e2c0ef8dce479063eea9b6b67bd88d.txt  \n",
            "  inflating: train/labels/image0003_jpg.rf.5a239a01022c1d6fa8a54884c78817b6.txt  \n",
            "  inflating: train/labels/image0003_jpg.rf.aba301fd03d263f4e6df2bcd8b58b832.txt  \n",
            "  inflating: train/labels/image0003_jpg.rf.c3919cb7c209229877515c717ebb7674.txt  \n",
            "  inflating: train/labels/image0003_jpg.rf.e49d41dbf755298b2590caad3b595a8a.txt  \n",
            "  inflating: train/labels/image0003_jpg.rf.e57dbd3e4d57115f55261cf97ef51106.txt  \n",
            "  inflating: train/labels/image0004_jpg.rf.4cb610e2fb27a8fa5e5b71a383c507fa.txt  \n",
            "  inflating: train/labels/image0004_jpg.rf.a5421df7d688a38cf5f11620cf09d0ff.txt  \n",
            "  inflating: train/labels/image0004_jpg.rf.fbe536e99e60fe97099f3e7e1780b984.txt  \n",
            "  inflating: train/labels/image0011_jpg.rf.6ff8ce533960161abe59d1019f912761.txt  \n",
            "  inflating: train/labels/image0011_jpg.rf.76ceed23e07ec91c689615d45afa72bc.txt  \n",
            "  inflating: train/labels/image0011_jpg.rf.ff0b4eab1bd18d02758e5cfbb4061234.txt  \n",
            "  inflating: train/labels/image0013_jpg.rf.0b0598d6deba7e421f3ff7ca82865bca.txt  \n",
            "  inflating: train/labels/image0013_jpg.rf.2e9d7c607273ab04c40812e6edeb8643.txt  \n",
            "  inflating: train/labels/image0013_jpg.rf.3279f762cadada37e30b2397e7836efb.txt  \n",
            "  inflating: train/labels/image0013_jpg.rf.4c26c4c686b995a302fbc3bbd7a160b8.txt  \n",
            "  inflating: train/labels/image0013_jpg.rf.6dc96b102bd5f98a9b5cf847abeccee6.txt  \n",
            "  inflating: train/labels/image0013_jpg.rf.7d4abf4db80b19089f383446dc326ac6.txt  \n",
            "  inflating: train/labels/image0015_jpg.rf.00db0c1229b1b93d3005c895d7674a8e.txt  \n",
            "  inflating: train/labels/image0015_jpg.rf.09f505740a6e1c0964d9a1bc542befff.txt  \n",
            "  inflating: train/labels/image0015_jpg.rf.3c67cbd387623caa0b83015fd3068e35.txt  \n",
            "  inflating: train/labels/image0015_jpg.rf.456b9a57b1a952cc98865eb12ab0ddaf.txt  \n",
            "  inflating: train/labels/image0015_jpg.rf.df3c00b821b018255422f7049f2868cf.txt  \n",
            "  inflating: train/labels/image0015_jpg.rf.fedd553aae54069025a48662c90f48cd.txt  \n",
            "  inflating: train/labels/image0018_jpg.rf.76db2092620a9b6adab4236e29aa2054.txt  \n",
            "  inflating: train/labels/image0018_jpg.rf.7947b8ccc479e7a864492eb9809523eb.txt  \n",
            "  inflating: train/labels/image0018_jpg.rf.f682ae8b9ef72df73a24d3a4b9c88fbe.txt  \n",
            "  inflating: train/labels/image0022_jpg.rf.3c8bd4a58a60f8a504f953361a06427f.txt  \n",
            "  inflating: train/labels/image0022_jpg.rf.a21e91b5f6e4382577189e753bd3dbe5.txt  \n",
            "  inflating: train/labels/image0022_jpg.rf.b2e30d90a04468182cd50a3a9db9edad.txt  \n",
            "  inflating: train/labels/image0022_jpg.rf.ba8d541b2492c3425a9a49d8aa883258.txt  \n",
            "  inflating: train/labels/image0022_jpg.rf.bd86ef4a1680b307e69662de37b2983f.txt  \n",
            "  inflating: train/labels/image0022_jpg.rf.f347b27bc7b6b2f5376d94551254831c.txt  \n",
            "  inflating: train/labels/image0023_jpg.rf.89b31beb8cc6facab34fbc4dcb8f375f.txt  \n",
            "  inflating: train/labels/image0023_jpg.rf.9983c9c0eb0e50fdd3c6c3e9caac5d3e.txt  \n",
            "  inflating: train/labels/image0023_jpg.rf.feca5b617d24849a9a89b3105329500e.txt  \n",
            "  inflating: train/labels/image0024_jpg.rf.9fb2e5b5d34f8242997783d980269c6f.txt  \n",
            "  inflating: train/labels/image0024_jpg.rf.b32865772b330397d765a5fd3ad146b8.txt  \n",
            "  inflating: train/labels/image0024_jpg.rf.bb28bb2b3e4d3cd553b208310d2031dc.txt  \n",
            "  inflating: train/labels/image0025_jpg.rf.097986efa30915868c6ed9a137826a82.txt  \n",
            "  inflating: train/labels/image0025_jpg.rf.1ddb0eb146949952c3700edcc8f94228.txt  \n",
            "  inflating: train/labels/image0025_jpg.rf.315219334c28b7703d9bda363003057f.txt  \n",
            "  inflating: train/labels/image0025_jpg.rf.a44625b5081a1f4c5987bfd96c0d00e9.txt  \n",
            "  inflating: train/labels/image0025_jpg.rf.aa1dfabbbbb538b49d47944037833276.txt  \n",
            "  inflating: train/labels/image0025_jpg.rf.d29669f579dd3b2ef7292d1669cc611d.txt  \n",
            "  inflating: train/labels/image0026_jpg.rf.4cd2d7b02135036325a27217ab2e1a02.txt  \n",
            "  inflating: train/labels/image0026_jpg.rf.a73e5d510807f23e714e25f5b0e3edb4.txt  \n",
            "  inflating: train/labels/image0026_jpg.rf.fae984ab217b4e512983e7779bd9894b.txt  \n",
            "  inflating: train/labels/image0027_jpg.rf.36e2feca5ffbf68710ca4015558c3056.txt  \n",
            "  inflating: train/labels/image0027_jpg.rf.d73788580bf39b9fe26f7400762b32c9.txt  \n",
            "  inflating: train/labels/image0027_jpg.rf.f0fc3101af02cbf3ee7102f187ee7a1b.txt  \n",
            "  inflating: train/labels/image0029_jpg.rf.13ab640096ea9fad5d95595d23dc9958.txt  \n",
            "  inflating: train/labels/image0029_jpg.rf.b3be6d4cada4d599dd2bcc8d8649416d.txt  \n",
            "  inflating: train/labels/image0029_jpg.rf.c317c21848eb0993d35d934ac06222f4.txt  \n",
            "  inflating: train/labels/image0030_jpg.rf.100cb5d3d77c3014d39fee5d5cee607d.txt  \n",
            "  inflating: train/labels/image0030_jpg.rf.2d768feb69a8466bd5524717079d54cd.txt  \n",
            "  inflating: train/labels/image0030_jpg.rf.83f8f04ea11b6555a4b0ae35eb64d99d.txt  \n",
            "  inflating: train/labels/image0030_jpg.rf.b13ab2e751e142b35ab0776336d67a8d.txt  \n",
            "  inflating: train/labels/image0030_jpg.rf.b8ef5fc508bb8fc29f236dfb53d54a66.txt  \n",
            "  inflating: train/labels/image0030_jpg.rf.f10d5d0bff8c2c697f1041192edee086.txt  \n",
            "  inflating: train/labels/image0035_jpg.rf.1c79bf29ee713b9d7c880adcf27c42ff.txt  \n",
            "  inflating: train/labels/image0035_jpg.rf.2b9c161e62ae8d8e0e7f67ffcbe249c4.txt  \n",
            "  inflating: train/labels/image0035_jpg.rf.40df4b9b3b222139630ac578079f118f.txt  \n",
            "  inflating: train/labels/image0036_jpg.rf.1d045f2fd6467ba4e10f3fe9d8c619b5.txt  \n",
            "  inflating: train/labels/image0036_jpg.rf.3ffb5a09eb308fca3ad707bf710a436a.txt  \n",
            "  inflating: train/labels/image0036_jpg.rf.85b58dc130928127e82cf679b4e882c9.txt  \n",
            "  inflating: train/labels/image0038_jpg.rf.c95551b94f9606812f97ef703dad141d.txt  \n",
            "  inflating: train/labels/image0038_jpg.rf.ce0f2c19e92449cbb5e6b88f81428db9.txt  \n",
            "  inflating: train/labels/image0038_jpg.rf.de5ff5f65b9be4f128f1a5f810aa5255.txt  \n",
            "  inflating: train/labels/image0039_jpg.rf.04971e14b6ca3ea594765dcaf293ef2a.txt  \n",
            "  inflating: train/labels/image0039_jpg.rf.765b82a4ffb9e794b4de0b9905bafdc4.txt  \n",
            "  inflating: train/labels/image0039_jpg.rf.c131bf03d3856fd41583da1423574603.txt  \n",
            "  inflating: train/labels/image0040_jpg.rf.0f58193080a814bfec49c7e7439f6a6e.txt  \n",
            "  inflating: train/labels/image0040_jpg.rf.193b906f5906af8feda18e165505c907.txt  \n",
            "  inflating: train/labels/image0040_jpg.rf.b4306d970f6909044f6c1071f35dd4b1.txt  \n",
            "  inflating: train/labels/image0043_jpg.rf.0590952d737097853f9d7f72168e2061.txt  \n",
            "  inflating: train/labels/image0043_jpg.rf.0720427424bf9f8e135122fced98510e.txt  \n",
            "  inflating: train/labels/image0043_jpg.rf.60a549e38df49a860d81a8896e6a8a46.txt  \n",
            "  inflating: train/labels/image0043_jpg.rf.a89b4b71b73dd2adb3865448db5ab0b5.txt  \n",
            "  inflating: train/labels/image0043_jpg.rf.e57a65f688c463c2eec26d975c8f8880.txt  \n",
            "  inflating: train/labels/image0043_jpg.rf.fa16b98f91df20119d8aacdbbab66f65.txt  \n",
            "  inflating: train/labels/image0044_jpg.rf.3965f33a077e78328c7fbe9911e5001e.txt  \n",
            "  inflating: train/labels/image0044_jpg.rf.7ac402e7706830597baee84bf093f370.txt  \n",
            "  inflating: train/labels/image0044_jpg.rf.d57e11410f30026e70ee2a06f004e281.txt  \n",
            "  inflating: train/labels/image0045_jpg.rf.37ffa5f9a6c5272db2a72935676fe3ef.txt  \n",
            "  inflating: train/labels/image0045_jpg.rf.9e8aebdc54179cd170d992c8a82eaf30.txt  \n",
            "  inflating: train/labels/image0045_jpg.rf.c1377e0eb72fdd75542c279119b19811.txt  \n",
            "  inflating: train/labels/image0048_jpg.rf.376a75fadaf011ffa53e4f5108b1d48f.txt  \n",
            "  inflating: train/labels/image0048_jpg.rf.d2ec52f0eb452689af80aa88a291f87d.txt  \n",
            "  inflating: train/labels/image0048_jpg.rf.eac8f18158bd19f248a826ca4615e4e9.txt  \n",
            "  inflating: train/labels/image0049_jpg.rf.177a6126688ba60421d592c4e0d28aff.txt  \n",
            "  inflating: train/labels/image0049_jpg.rf.2de0b8bbd5d0eca69493b13263e39a05.txt  \n",
            "  inflating: train/labels/image0049_jpg.rf.4c7f60ce246272d3ece59649d0d18a67.txt  \n",
            "  inflating: train/labels/image0051_jpg.rf.2ee2b7b8380a5ba02a09dded94a7cd8f.txt  \n",
            "  inflating: train/labels/image0051_jpg.rf.5db93f4c723f62e11f59411d55ee7d3a.txt  \n",
            "  inflating: train/labels/image0051_jpg.rf.c0366a25bad8a503f336225df39e13af.txt  \n",
            "  inflating: train/labels/image0053_jpg.rf.036502014b2d236c9fc00fdd0da99abb.txt  \n",
            "  inflating: train/labels/image0053_jpg.rf.29d8784dbbeda6baf12bbc5af934d002.txt  \n",
            "  inflating: train/labels/image0053_jpg.rf.2a791c1b268d6e2d785fd3ac31b6d4f1.txt  \n",
            "  inflating: train/labels/image0053_jpg.rf.4b29d9469d0e0f30578d3d97eba7b4d2.txt  \n",
            "  inflating: train/labels/image0053_jpg.rf.debfa15b6f2cebdab47bb5f837ff2131.txt  \n",
            "  inflating: train/labels/image0053_jpg.rf.fd772cdd28367738ea332f142f2b6a34.txt  \n",
            "  inflating: train/labels/image0055_jpg.rf.3f35e5f25a6274dd63c94891a3678f89.txt  \n",
            "  inflating: train/labels/image0055_jpg.rf.6718a467f8378c9e3ca2262cb5e744d5.txt  \n",
            "  inflating: train/labels/image0055_jpg.rf.bc0f6daf6c1dad6ad24ebc9586f936d8.txt  \n",
            "  inflating: train/labels/image0056_jpg.rf.00cdcb91e9a94c7a07418de3dfc39780.txt  \n",
            "  inflating: train/labels/image0056_jpg.rf.06390de4da82fd438674807029b5e431.txt  \n",
            "  inflating: train/labels/image0056_jpg.rf.aced3296329dd27de3f929d68ab937ff.txt  \n",
            "  inflating: train/labels/image0056_jpg.rf.b55eab4b1455995e37320a5a49a8a911.txt  \n",
            "  inflating: train/labels/image0056_jpg.rf.deb1faca2aa64e307f6df78caf772dad.txt  \n",
            "  inflating: train/labels/image0056_jpg.rf.fd0224694067015e5a119879def2274d.txt  \n",
            "  inflating: train/labels/image0058_jpg.rf.41b7dcab5ba8c089583455c0601e7a91.txt  \n",
            "  inflating: train/labels/image0058_jpg.rf.9b04049a524a49da6ffe48cf326453ae.txt  \n",
            "  inflating: train/labels/image0058_jpg.rf.f4e621dada5778dc1769cdfd4332511b.txt  \n",
            "  inflating: train/labels/image0060_jpg.rf.1b4b8d18737e645393e6482bb0b5a27c.txt  \n",
            "  inflating: train/labels/image0060_jpg.rf.1e0cd88b9e02f8ca0df436a0d322eaa4.txt  \n",
            "  inflating: train/labels/image0060_jpg.rf.454ea638c90283fdd795c9d01608e113.txt  \n",
            "  inflating: train/labels/image0061_jpg.rf.1edc25496a99ce8c4bcaa32a5b88e46e.txt  \n",
            "  inflating: train/labels/image0061_jpg.rf.2ca9dc677a9915edd1371b44a17f28ca.txt  \n",
            "  inflating: train/labels/image0061_jpg.rf.34d376a78f26685963044d565d3ad69a.txt  \n",
            "  inflating: train/labels/image0061_jpg.rf.7c49a6844356c45d2ebbd6435020ac88.txt  \n",
            "  inflating: train/labels/image0061_jpg.rf.8fde878d0d9625f190d84cb97a1b9544.txt  \n",
            "  inflating: train/labels/image0061_jpg.rf.e6d8dfb57c32548d0b53f87998e23183.txt  \n",
            "  inflating: train/labels/image0062_jpg.rf.4df1b42e1d64902f8ce7094de4e46193.txt  \n",
            "  inflating: train/labels/image0062_jpg.rf.edb511b56a42dcb9829472fe6eef1fd0.txt  \n",
            "  inflating: train/labels/image0062_jpg.rf.fb8d0f088f97270270be0f52bd7d7106.txt  \n",
            "  inflating: train/labels/image0063_jpg.rf.1240c2283a5ceb276d281181c5bb28e1.txt  \n",
            "  inflating: train/labels/image0063_jpg.rf.7681efb7770872493bb04102feaf3edb.txt  \n",
            "  inflating: train/labels/image0063_jpg.rf.88094f94eee6236d73e1230a3f04d9b5.txt  \n",
            "  inflating: train/labels/image0064_jpg.rf.26b1d3b9cdfbb7fd51ba92eae89b46a5.txt  \n",
            "  inflating: train/labels/image0064_jpg.rf.6b84719332214a2a413387490d8dfbe2.txt  \n",
            "  inflating: train/labels/image0064_jpg.rf.c79b8948720525294e2195eeeac75875.txt  \n",
            "  inflating: train/labels/image0069_jpg.rf.57c6aa2c9d440337c785ec0756616ee0.txt  \n",
            "  inflating: train/labels/image0069_jpg.rf.5c8fba97365e81789d7ce411653e1379.txt  \n",
            "  inflating: train/labels/image0069_jpg.rf.ca99fbb0ea48c8a4842ca242e89c1d70.txt  \n",
            "  inflating: train/labels/image0070_jpg.rf.654022108e6002c02f87c92886421a80.txt  \n",
            "  inflating: train/labels/image0070_jpg.rf.68f15f16a3b0fee7e3aa19f6f2f55072.txt  \n",
            "  inflating: train/labels/image0070_jpg.rf.a02154a1c3b666015ac9382ca91841f6.txt  \n",
            "  inflating: train/labels/image0075_jpg.rf.239913b9205c149951ce974898b475d7.txt  \n",
            "  inflating: train/labels/image0075_jpg.rf.6b8862cbbae91b69e7b672f5d51468fe.txt  \n",
            "  inflating: train/labels/image0075_jpg.rf.9940cd3b19a65f1ad10abc63f2e6858b.txt  \n",
            "  inflating: train/labels/image0077_jpg.rf.89db14d63d4bdbb6d8d870edae23bcc5.txt  \n",
            "  inflating: train/labels/image0077_jpg.rf.91849dd350670c491f14d0d1808c6a00.txt  \n",
            "  inflating: train/labels/image0077_jpg.rf.b3661aa832129951824bed398ba56da7.txt  \n",
            "  inflating: train/labels/image0078_jpg.rf.1c4866834b7f1a01b2caa0a1a4ecba0e.txt  \n",
            "  inflating: train/labels/image0078_jpg.rf.503fd1d2ad9c8a37f40e0989fe6cad80.txt  \n",
            "  inflating: train/labels/image0078_jpg.rf.7fb9b8271f88a1c942143ee6c1e5737b.txt  \n",
            "  inflating: train/labels/image0078_jpg.rf.ae9dc5986fd9d497688a42e0b545eec3.txt  \n",
            "  inflating: train/labels/image0078_jpg.rf.af9141e11151c4de673f67ceb1d29c2b.txt  \n",
            "  inflating: train/labels/image0078_jpg.rf.f48bda1d866916db71c1cdc3b3b19d83.txt  \n",
            "  inflating: train/labels/image0080_jpg.rf.9a989d7d7da15ccdb4b819a182c0fa7c.txt  \n",
            "  inflating: train/labels/image0080_jpg.rf.ca2ca2057f153bbdc503a57453cb4c97.txt  \n",
            "  inflating: train/labels/image0080_jpg.rf.e586193e3e313ca7d39d1eeb4ebb627d.txt  \n",
            "  inflating: train/labels/image0081_jpg.rf.2fc0b94a6dbe63321166d76c8cbaae26.txt  \n",
            "  inflating: train/labels/image0081_jpg.rf.ab04523bbfccfc84dcfadc34089d7b87.txt  \n",
            "  inflating: train/labels/image0081_jpg.rf.b3168cd5ccc4a60d4e3d3ebdcf7af3ca.txt  \n",
            "  inflating: train/labels/image0083_jpg.rf.060293d455679008a8b2cd283f53f2bc.txt  \n",
            "  inflating: train/labels/image0083_jpg.rf.281862ea02353ab764aab21e6664ae8a.txt  \n",
            "  inflating: train/labels/image0083_jpg.rf.f185e1a2e60355012ad99cd09ad38af0.txt  \n",
            "  inflating: train/labels/image0085_jpg.rf.0d5293a0e7c4a22f44c13b7136a0e00b.txt  \n",
            "  inflating: train/labels/image0085_jpg.rf.4dc065751a8f9b7e66542b2f36a5f3a1.txt  \n",
            "  inflating: train/labels/image0085_jpg.rf.4f157e91b71eacb68b4f9d350d362679.txt  \n",
            "  inflating: train/labels/image0086_jpg.rf.7aa9cd88a380aab31987b8d2d5b5016b.txt  \n",
            "  inflating: train/labels/image0086_jpg.rf.9fe84c77a961f9f8d247877078b841f8.txt  \n",
            "  inflating: train/labels/image0086_jpg.rf.a248f1cd02b66bba52202eeeb2109507.txt  \n",
            "  inflating: train/labels/image0090_jpg.rf.084326e42b9adc1264bf52586a829e17.txt  \n",
            "  inflating: train/labels/image0090_jpg.rf.23865e5b728294d2b7e1a1929cc9aee0.txt  \n",
            "  inflating: train/labels/image0090_jpg.rf.cb822dfbe0b49901241aa5dda7d3f7a7.txt  \n",
            "  inflating: train/labels/image0093_jpg.rf.35c8e8f479ab260718be39a1c1e9496f.txt  \n",
            "  inflating: train/labels/image0093_jpg.rf.64b1c1001e599846de28930247bb901f.txt  \n",
            "  inflating: train/labels/image0093_jpg.rf.f654aeebeecb07a8dbb6f5f0c2f89ca9.txt  \n",
            "  inflating: train/labels/image0094_jpg.rf.98ec7a4af3194957c02fed757ee2d55e.txt  \n",
            "  inflating: train/labels/image0094_jpg.rf.9a9aace1ca4ad1a52154f03a371a8873.txt  \n",
            "  inflating: train/labels/image0094_jpg.rf.f8c772c612d5265362e46e47a2388964.txt  \n",
            "  inflating: train/labels/image0095_jpg.rf.d1a2fec3a4a7c0178f3087861a2713bb.txt  \n",
            "  inflating: train/labels/image0095_jpg.rf.d2b03c9c0d0cdce18214b9fd30a065ea.txt  \n",
            "  inflating: train/labels/image0095_jpg.rf.f3fccf56b14e6d9764e67a4c67685130.txt  \n",
            "  inflating: train/labels/image0097_jpg.rf.29821f07e02bdbaa2735d1b0331b6c6a.txt  \n",
            "  inflating: train/labels/image0097_jpg.rf.3a377ba4c2e8bc28ef04bf4dd6a1feaa.txt  \n",
            "  inflating: train/labels/image0097_jpg.rf.97dac388567cea14c19b70ada1b4022d.txt  \n",
            "  inflating: train/labels/image0097_jpg.rf.c55f31b665cd5093ec64afbc5e4a6635.txt  \n",
            "  inflating: train/labels/image0097_jpg.rf.cf208e21a0760b876e6b3ef6c15ecb70.txt  \n",
            "  inflating: train/labels/image0097_jpg.rf.ecf585b738ff8f0b286bb5abba769413.txt  \n",
            "  inflating: train/labels/image0098_jpg.rf.1f4c4f096ae19ff63e855b3e64567e6a.txt  \n",
            "  inflating: train/labels/image0098_jpg.rf.607ef2ea8ff01d52eecfec7c1d8e6a67.txt  \n",
            "  inflating: train/labels/image0098_jpg.rf.efd0b3c47e5f0125a281a4bd0b047eb6.txt  \n",
            "  inflating: train/labels/image0100_jpg.rf.3d1c03ce077b89d2465b7b381afb035d.txt  \n",
            "  inflating: train/labels/image0100_jpg.rf.58cbde19e8985511c0c7b00f3857f498.txt  \n",
            "  inflating: train/labels/image0100_jpg.rf.62c4298d8cf9490b8578c8b80b423972.txt  \n",
            "  inflating: train/labels/image0102_jpg.rf.26386b70313cba643d037aea0e0701aa.txt  \n",
            "  inflating: train/labels/image0102_jpg.rf.5a94630af84dc544e1e064e582242b1b.txt  \n",
            "  inflating: train/labels/image0102_jpg.rf.7aa5faac7c277995a77d98d019a48b1d.txt  \n",
            "  inflating: train/labels/image0102_jpg.rf.8d52afb3e66286dd2dc5bb5b6bf9dc59.txt  \n",
            "  inflating: train/labels/image0102_jpg.rf.b9c1ed11dab88b982f060dd97068271c.txt  \n",
            "  inflating: train/labels/image0102_jpg.rf.fe20d01937b9dc618d78ece01fce7afd.txt  \n",
            "  inflating: train/labels/image0103_jpg.rf.2c184b84468366a997f548459a8761b5.txt  \n",
            "  inflating: train/labels/image0103_jpg.rf.524cdb8e139c2e3b52a7e2aeabff1629.txt  \n",
            "  inflating: train/labels/image0103_jpg.rf.75a64763449c71990aa00b70e061751b.txt  \n",
            "  inflating: train/labels/image0104_jpg.rf.06f5266c43e80f994d9318034c2c8e06.txt  \n",
            "  inflating: train/labels/image0104_jpg.rf.0f8438ebcda0b3a0b2c8b205d0c562c4.txt  \n",
            "  inflating: train/labels/image0104_jpg.rf.7242b7959b35f1c0c4cd3d9bf15fee98.txt  \n",
            "  inflating: train/labels/image0104_jpg.rf.e400ecc858a531584c1f9d524217386b.txt  \n",
            "  inflating: train/labels/image0104_jpg.rf.e7241188c0341999881ea8d056468b32.txt  \n",
            "  inflating: train/labels/image0104_jpg.rf.fd8a888786fd38ae9fabb2e401e29657.txt  \n",
            "  inflating: train/labels/image0106_jpg.rf.0d621f23f2e7a713a501d5a5b74320e7.txt  \n",
            "  inflating: train/labels/image0106_jpg.rf.7d6b677d4374f45ceb7cad375eafc896.txt  \n",
            "  inflating: train/labels/image0106_jpg.rf.c93b5f52f97499157d2a5c05c8caee5c.txt  \n",
            "  inflating: train/labels/image0107_jpg.rf.4aa3fe9375953c2b82a72889f0eef0d8.txt  \n",
            "  inflating: train/labels/image0107_jpg.rf.4f698d3d510171f0e8f0f4253c50de33.txt  \n",
            "  inflating: train/labels/image0107_jpg.rf.8094a98ee7524c781f089651c1ca8e4d.txt  \n",
            "  inflating: train/labels/image0107_jpg.rf.9c0e0938e2f59565738a704b6235f1f8.txt  \n",
            "  inflating: train/labels/image0107_jpg.rf.c06858f018e4e600e108705f65c231df.txt  \n",
            "  inflating: train/labels/image0107_jpg.rf.d40ad9b23922776448ca7c0252042ddc.txt  \n",
            "  inflating: train/labels/image0108_jpg.rf.2ecb8129e32ff509ed1bfd1aa37d3a94.txt  \n",
            "  inflating: train/labels/image0108_jpg.rf.86f0735f3e64163c0427f218daf7e116.txt  \n",
            "  inflating: train/labels/image0108_jpg.rf.91d99db6181a98e14a022158c2c275e1.txt  \n",
            "  inflating: train/labels/image0118_jpg.rf.46453f7c6e8c4bfea3bb05200737dae4.txt  \n",
            "  inflating: train/labels/image0118_jpg.rf.5fe6e032c8b8d226201b1e87db07fbe6.txt  \n",
            "  inflating: train/labels/image0118_jpg.rf.889e01502620bba54af29aa8029370b9.txt  \n",
            "  inflating: train/labels/image0125_jpg.rf.36be9015ea38c66a9d153f711cead156.txt  \n",
            "  inflating: train/labels/image0125_jpg.rf.58766570d7c3fff979bffef34f8a8ec3.txt  \n",
            "  inflating: train/labels/image0125_jpg.rf.af97b63164dd29d5e1ebafdcc82cbdb6.txt  \n",
            "  inflating: train/labels/image0126_jpg.rf.35365282f15f1cf73ad4aa0a5a24c624.txt  \n",
            "  inflating: train/labels/image0126_jpg.rf.4500e7d4d2199037034f8889671f7334.txt  \n",
            "  inflating: train/labels/image0126_jpg.rf.ce22b07e8eb1df745ecf4d653ed74a8f.txt  \n",
            "  inflating: train/labels/image0132_jpg.rf.87254bee8de631f81342b6d34877dbe6.txt  \n",
            "  inflating: train/labels/image0132_jpg.rf.ea830b7b4c45d8a64bde69d41d5a268e.txt  \n",
            "  inflating: train/labels/image0132_jpg.rf.f64299ef499a82fcc41d2230075aabf9.txt  \n",
            "  inflating: train/labels/image0134_jpg.rf.699ad1453de173b467ca119fc5ff02fe.txt  \n",
            "  inflating: train/labels/image0134_jpg.rf.b40cbb97c5c692c32a025ddb5cbcc45f.txt  \n",
            "  inflating: train/labels/image0134_jpg.rf.f73a2a8a11a060cb9ef76a6b6f506136.txt  \n",
            "  inflating: train/labels/image0135_jpg.rf.09052fc735ed77a821fcfd66742b762c.txt  \n",
            "  inflating: train/labels/image0135_jpg.rf.66be8f3334489c8df318335f4238b5ef.txt  \n",
            "  inflating: train/labels/image0135_jpg.rf.902b88653409fc6ce4ecfbbc0e60175a.txt  \n",
            "  inflating: train/labels/image0136_jpg.rf.1233d1d48b05865c455d1cadc6116822.txt  \n",
            "  inflating: train/labels/image0136_jpg.rf.ebf109985327b18860d3902127b492e2.txt  \n",
            "  inflating: train/labels/image0136_jpg.rf.ef1fa778ea707d33453da2a3f1965c50.txt  \n",
            "  inflating: train/labels/image0137_jpg.rf.07b8312d6dae7338f9c76f603889d267.txt  \n",
            "  inflating: train/labels/image0137_jpg.rf.2a02eef7268e8780891013278ce0fa8d.txt  \n",
            "  inflating: train/labels/image0137_jpg.rf.dc64dc9b624a17a86cb7858135585bcb.txt  \n",
            "  inflating: train/labels/image0139_jpg.rf.4df075bdd5ac8cc97dc4cd39b6f24efa.txt  \n",
            "  inflating: train/labels/image0139_jpg.rf.a76866afb5f36f0132dc10cd8bd7010f.txt  \n",
            "  inflating: train/labels/image0139_jpg.rf.ee068352109620e5f0993448f23bece4.txt  \n",
            "  inflating: train/labels/image0141_jpg.rf.5b458b93377bea23d3f2a3160c6b1a72.txt  \n",
            "  inflating: train/labels/image0141_jpg.rf.7482ffff3b2cbe498b94d19d33cf6736.txt  \n",
            "  inflating: train/labels/image0141_jpg.rf.ff29d85ebdcd5d483cd923e9e4ad4658.txt  \n",
            "  inflating: train/labels/image0142_jpg.rf.0d25ad4ba927a7aa817a99a44c3f4d1d.txt  \n",
            "  inflating: train/labels/image0142_jpg.rf.3e13ca021c43e8157e630813d95fecd0.txt  \n",
            "  inflating: train/labels/image0142_jpg.rf.6f14750488b6c5311a67a5d71c0ebaea.txt  \n",
            "  inflating: train/labels/image0145_jpg.rf.36564bbbaaa50c1619d933bd07ef7fec.txt  \n",
            "  inflating: train/labels/image0145_jpg.rf.3c8788a0e43cf9f564ef55cb8e2ea3d7.txt  \n",
            "  inflating: train/labels/image0145_jpg.rf.82a80dd28fde559790eb2d299b31794b.txt  \n",
            "  inflating: train/labels/image0146_jpg.rf.43456786cc2343087d4cbf9329127b7f.txt  \n",
            "  inflating: train/labels/image0146_jpg.rf.543a7c29ee1eefa1908ef5e04e6d9c9a.txt  \n",
            "  inflating: train/labels/image0146_jpg.rf.c78ff83a113b7214c87a536c866cf0fd.txt  \n",
            "  inflating: train/labels/image0147_jpg.rf.10e81e6e8c79b83134a48f2fe3e2794c.txt  \n",
            "  inflating: train/labels/image0147_jpg.rf.4fc027819e9ad37768854d955838a354.txt  \n",
            "  inflating: train/labels/image0147_jpg.rf.8a769fbb803cd8bfd98cd5cf52a66349.txt  \n",
            "  inflating: train/labels/image0147_jpg.rf.980b69d17692c89ca92939cc8b4dd054.txt  \n",
            "  inflating: train/labels/image0147_jpg.rf.ac741d83017cd1d37cf74e5b4bc3db4b.txt  \n",
            "  inflating: train/labels/image0147_jpg.rf.f2be4d8ef3888a4aea2456fd0738f217.txt  \n",
            "  inflating: train/labels/image0148_jpg.rf.c299db689b3be2f7f442dbe20389339a.txt  \n",
            "  inflating: train/labels/image0148_jpg.rf.c739cf9154f4168b408dd236fd645c36.txt  \n",
            "  inflating: train/labels/image0148_jpg.rf.c9450c63b5e5cacb8d36c887f87ca4db.txt  \n",
            "  inflating: train/labels/image0151_jpg.rf.2b191bc721fe4646d7bf97b5706ebbf6.txt  \n",
            "  inflating: train/labels/image0151_jpg.rf.717ac452a162d02b9c7f30774c60fbfa.txt  \n",
            "  inflating: train/labels/image0151_jpg.rf.c5f58e1e67e9b258c30c9d4489686b49.txt  \n",
            "  inflating: train/labels/image0152_jpg.rf.0736e3d8a6720de70b392d1e7fba8e49.txt  \n",
            "  inflating: train/labels/image0152_jpg.rf.bc31e0412d30eb3cc5d587c30c555a15.txt  \n",
            "  inflating: train/labels/image0152_jpg.rf.f005421da0726c573dc3ebfd1096af2b.txt  \n",
            "  inflating: train/labels/image0155_jpg.rf.24a4209c2a9d4fca85d8347bce28d052.txt  \n",
            "  inflating: train/labels/image0155_jpg.rf.6a5837b2988357bce185a45dc03fcfad.txt  \n",
            "  inflating: train/labels/image0155_jpg.rf.8647ec783dc11d487f38dabac776aefd.txt  \n",
            "  inflating: train/labels/image0156_jpg.rf.ad445f9ca93eb69271945b8bbb6b118b.txt  \n",
            "  inflating: train/labels/image0156_jpg.rf.cc3e303fd664154851ae65770b30fd4d.txt  \n",
            "  inflating: train/labels/image0156_jpg.rf.f22d1cc5994cd23cd071ce594c1baef3.txt  \n",
            "  inflating: train/labels/image0157_jpg.rf.5950f59304ecd5a957e8df02687f08aa.txt  \n",
            "  inflating: train/labels/image0157_jpg.rf.a03bf978d137b6674b73018170b1ffca.txt  \n",
            "  inflating: train/labels/image0157_jpg.rf.c6282a8a7f724fc4b194afdc53b577ce.txt  \n",
            "  inflating: train/labels/image0159_jpg.rf.06a7ae448e8640a9af948f6ded5cfff2.txt  \n",
            "  inflating: train/labels/image0159_jpg.rf.a33465fa9d78bb0a799d51218c59691c.txt  \n",
            "  inflating: train/labels/image0159_jpg.rf.a619adfa2c26f24a83e8fc1ac36562f6.txt  \n",
            "  inflating: train/labels/image0160_jpg.rf.3c41cf584244035ab549c2f7cbff550e.txt  \n",
            "  inflating: train/labels/image0160_jpg.rf.758c618ca996ab699c1c49e473b4e31a.txt  \n",
            "  inflating: train/labels/image0160_jpg.rf.d31a5d65437f0823f6ab529fcd2bb4a0.txt  \n",
            "  inflating: train/labels/image0162_jpg.rf.013a54d0f70cefc928239eeafab3927b.txt  \n",
            "  inflating: train/labels/image0162_jpg.rf.04ea6f10556295ff20fbafd8715613e1.txt  \n",
            "  inflating: train/labels/image0162_jpg.rf.165c01ab06783cc3e892f6e94659ce8e.txt  \n",
            "  inflating: train/labels/image0162_jpg.rf.1a96337e68d52d87ab8d66c160da167c.txt  \n",
            "  inflating: train/labels/image0162_jpg.rf.884c94f300aca73ac96274e189a99796.txt  \n",
            "  inflating: train/labels/image0162_jpg.rf.ff41c466f58f2b4c2d6e070a7086ff66.txt  \n",
            "  inflating: train/labels/image0163_jpg.rf.030a57350bca71873c3691c21f39d48e.txt  \n",
            "  inflating: train/labels/image0163_jpg.rf.2e4c3fe7b7363cd62ad3dd15003dbdbb.txt  \n",
            "  inflating: train/labels/image0163_jpg.rf.35afe1b6bc937193c250e7fe212a7e3b.txt  \n",
            "  inflating: train/labels/image0164_jpg.rf.6cb9fea1d7281defea1b73d3daeda1d5.txt  \n",
            "  inflating: train/labels/image0164_jpg.rf.8a9e66930fdb89593c55aae08b72761d.txt  \n",
            "  inflating: train/labels/image0164_jpg.rf.9cbcc98a044577ad3f7a9c0fc7ad7ca9.txt  \n",
            "  inflating: train/labels/image0169_jpg.rf.04b2ec29337480c8ad93b36ef0d0cdf2.txt  \n",
            "  inflating: train/labels/image0169_jpg.rf.7b800382c9b8006c78e44ce827806ed2.txt  \n",
            "  inflating: train/labels/image0169_jpg.rf.f6040ac7f65ad737af0107afec1708d9.txt  \n",
            "  inflating: train/labels/image0170_jpg.rf.1899f80754ac67c2b82e6c3e48da67d8.txt  \n",
            "  inflating: train/labels/image0170_jpg.rf.c12c9b7bf6013e73e2f4cb19709702d6.txt  \n",
            "  inflating: train/labels/image0170_jpg.rf.f7e3c4206d7dadf083b2277340f47cba.txt  \n",
            "  inflating: train/labels/image0172_jpg.rf.78a4ce7fd56897ec6c4843635f4ed87a.txt  \n",
            "  inflating: train/labels/image0172_jpg.rf.91d84ad91ce705045e471d7a957a25a1.txt  \n",
            "  inflating: train/labels/image0172_jpg.rf.be2162313811d9e1fbbe206b435079fa.txt  \n",
            "  inflating: train/labels/image0173_jpg.rf.10f865f306ae247a65e81799af620768.txt  \n",
            "  inflating: train/labels/image0173_jpg.rf.1ec52ddea704b8ca86eeb4c31e199711.txt  \n",
            "  inflating: train/labels/image0173_jpg.rf.62873b457ee3f3ca43e7ca9453ae9121.txt  \n",
            "  inflating: train/labels/image0174_jpg.rf.7624759a9360e96b783e5a3fd65b91d9.txt  \n",
            "  inflating: train/labels/image0174_jpg.rf.965e84c7ba664864ca5b7d1178f23bf1.txt  \n",
            "  inflating: train/labels/image0174_jpg.rf.9a899cdee74a245cd4ccd5d8f3101ca0.txt  \n",
            "  inflating: train/labels/image0181_jpg.rf.3ac417e93c3886bc3223a6e02649a058.txt  \n",
            "  inflating: train/labels/image0181_jpg.rf.8f589c530ebdd7703427666ce3351c81.txt  \n",
            "  inflating: train/labels/image0181_jpg.rf.e27103ee497466de5c588727ef010222.txt  \n",
            "  inflating: train/labels/image0182_jpg.rf.3dd72d78b74c3af6ab78cac4c4eef12d.txt  \n",
            "  inflating: train/labels/image0182_jpg.rf.466b43d87e03e530073f809d0a203674.txt  \n",
            "  inflating: train/labels/image0182_jpg.rf.5fd9cd39982339824ccef2a84acc7fb9.txt  \n",
            "  inflating: train/labels/image0182_jpg.rf.7baee23899067b7bd7616c9a070dad09.txt  \n",
            "  inflating: train/labels/image0182_jpg.rf.83045b281f5e793e420d177ca103f079.txt  \n",
            "  inflating: train/labels/image0182_jpg.rf.de475cf5597798c073c631d07a705761.txt  \n",
            "  inflating: train/labels/image0187_jpg.rf.7be874f856f01b4dd6fdffd34f8e9f25.txt  \n",
            "  inflating: train/labels/image0187_jpg.rf.8829f59457c9ad9e4da852402476c7d1.txt  \n",
            "  inflating: train/labels/image0187_jpg.rf.e00d6de8756596f6c3dd98539e254714.txt  \n",
            "  inflating: train/labels/image0191_jpg.rf.0b2d7309f4863d57437135e89800da5d.txt  \n",
            "  inflating: train/labels/image0191_jpg.rf.7e40a38745421056b36cd70e892b9eae.txt  \n",
            "  inflating: train/labels/image0191_jpg.rf.cadb69f830ef2f4b3a6a1a37ce3f227c.txt  \n",
            "  inflating: train/labels/image0193_jpg.rf.0bfa7654c8b9ce21dcc0801f768e7574.txt  \n",
            "  inflating: train/labels/image0193_jpg.rf.477e65d5de6fbb73385db5b89f36f6c0.txt  \n",
            "  inflating: train/labels/image0193_jpg.rf.a52137109a680f7efab81e7c3fc17ce5.txt  \n",
            "  inflating: train/labels/image0195_jpg.rf.148016dd31afac70320034850742631c.txt  \n",
            "  inflating: train/labels/image0195_jpg.rf.3ad0931c8f70d5de907c4c6bf3d289bf.txt  \n",
            "  inflating: train/labels/image0195_jpg.rf.4a4e817dff6aa6a4ae06c7d0afa1eb46.txt  \n",
            "  inflating: train/labels/image0196_jpg.rf.3c26b16d6fd713ab50f9656ac7d26c12.txt  \n",
            "  inflating: train/labels/image0196_jpg.rf.dae5a5c1c1432c4a555c7ddd997b426c.txt  \n",
            "  inflating: train/labels/image0196_jpg.rf.e4c4e08acbd11b54ad312c71f5f4c71d.txt  \n",
            "  inflating: train/labels/image0200_jpg.rf.28d49bd81c9859bfa613c79d121afb51.txt  \n",
            "  inflating: train/labels/image0200_jpg.rf.6766249fe9802976281324ae53342ad8.txt  \n",
            "  inflating: train/labels/image0200_jpg.rf.b0deaf6a096a61b895d099c3f5878ce1.txt  \n",
            "  inflating: train/labels/image0204_jpg.rf.117cf201ef83a11c32a9d9a55e4b7859.txt  \n",
            "  inflating: train/labels/image0204_jpg.rf.604429386ef407e22b0172cfc8716a14.txt  \n",
            "  inflating: train/labels/image0204_jpg.rf.96e76a85ac2ead1bf5d34b1340bc7f24.txt  \n",
            "  inflating: train/labels/image0206_jpg.rf.2ca2150da7fbf3fd595c9fe93c791568.txt  \n",
            "  inflating: train/labels/image0206_jpg.rf.3a25b75e7efac2bafd2f8888dd4c0d0f.txt  \n",
            "  inflating: train/labels/image0206_jpg.rf.6930a1814145cbe9648d2180ce6b9964.txt  \n",
            "  inflating: train/labels/image0208_jpg.rf.04d2b0a03bc14dc58e701d9fa1f2388e.txt  \n",
            "  inflating: train/labels/image0208_jpg.rf.55e35f02abaf78e1c1ee662afa010bbd.txt  \n",
            "  inflating: train/labels/image0208_jpg.rf.688712f85b4330e168ab101d44ec88fd.txt  \n",
            "  inflating: train/labels/image0210_jpg.rf.39b09b1033f51f7f000ea053ffb3c089.txt  \n",
            "  inflating: train/labels/image0210_jpg.rf.73e102fd671b59038099468adb9692a1.txt  \n",
            "  inflating: train/labels/image0210_jpg.rf.9475aaae77493e2dcb511273079dc981.txt  \n",
            "  inflating: train/labels/image0210_jpg.rf.aa2708a3edcdea1577da6dd03ba80e15.txt  \n",
            "  inflating: train/labels/image0210_jpg.rf.fc89a50275bdb240930d41f95e07398e.txt  \n",
            "  inflating: train/labels/image0210_jpg.rf.fd21fd3ec63d79db1f3541714429c81e.txt  \n",
            "  inflating: train/labels/image0211_jpg.rf.19e37fe1abc91f7a25c0df8e2bd07ed0.txt  \n",
            "  inflating: train/labels/image0211_jpg.rf.26f8d576c3911736f0b6e92b08d50b4e.txt  \n",
            "  inflating: train/labels/image0211_jpg.rf.34aa7f19aac23aa0673708441f3f66e9.txt  \n",
            "  inflating: train/labels/image0213_jpg.rf.87070dcd27a7778f9d1e8c650d990f0b.txt  \n",
            "  inflating: train/labels/image0213_jpg.rf.ad07ce31a15a80fd8f40d32cf52c2541.txt  \n",
            "  inflating: train/labels/image0213_jpg.rf.b60261acc9d0a412b0638075e63a1004.txt  \n",
            "  inflating: train/labels/image0218_jpg.rf.0e7eb83c5ff2fdbac577c44aa986fd7b.txt  \n",
            "  inflating: train/labels/image0218_jpg.rf.26c6fb85818d275dd6014fd0e6d58248.txt  \n",
            "  inflating: train/labels/image0218_jpg.rf.3242e7183db5f161fb558ca10ad29efe.txt  \n",
            "  inflating: train/labels/image0218_jpg.rf.3f1e563dd0bc4f1d72565d654bd53e41.txt  \n",
            "  inflating: train/labels/image0218_jpg.rf.6a896a7631f15c789b4547f0c1418d0a.txt  \n",
            "  inflating: train/labels/image0218_jpg.rf.c6e8b2cb288e738fc5eacb67cdf009ba.txt  \n",
            "  inflating: train/labels/image0220_jpg.rf.12eadbd03ed7e53f97bc725da3f11d46.txt  \n",
            "  inflating: train/labels/image0220_jpg.rf.71c19cba27e23469a4d0cb2382482891.txt  \n",
            "  inflating: train/labels/image0220_jpg.rf.c4a5f2de7a86b9a8333a649dacabffa2.txt  \n",
            "  inflating: train/labels/image0221_jpg.rf.2852e9018675e356adcd60400617de1a.txt  \n",
            "  inflating: train/labels/image0221_jpg.rf.3668a4be732c92c4b5a1ad0db72574bf.txt  \n",
            "  inflating: train/labels/image0221_jpg.rf.b5dd6e70b70b1a319a15a1644a54a652.txt  \n",
            "  inflating: train/labels/image0223_jpg.rf.4cd58e2d02729ebf375f37db739b8e65.txt  \n",
            "  inflating: train/labels/image0223_jpg.rf.7d6a15ceda92a8405739add6ca88e426.txt  \n",
            "  inflating: train/labels/image0223_jpg.rf.98fd85e23e32ece6d69b2e12077885dd.txt  \n",
            "  inflating: train/labels/image0225_jpg.rf.7beac6ae3e4485cb115101944067d706.txt  \n",
            "  inflating: train/labels/image0225_jpg.rf.8267a0fec404b312f6ce7bc8d2616f1f.txt  \n",
            "  inflating: train/labels/image0225_jpg.rf.835e293d1347c08c6e0bc22ba8e0b875.txt  \n",
            "  inflating: train/labels/image0227_jpg.rf.1ece09db958f89a7dfe434770a05dabd.txt  \n",
            "  inflating: train/labels/image0227_jpg.rf.48898d63597755a70e25ca2e1613bd5a.txt  \n",
            "  inflating: train/labels/image0227_jpg.rf.d3b551267da3b25ad901b0e8d57e674d.txt  \n",
            "  inflating: train/labels/image0232_jpg.rf.32492393eaa8ca80762c19fe0fcaab22.txt  \n",
            "  inflating: train/labels/image0232_jpg.rf.b696ffb868ed4f63d7f8bec188eabdea.txt  \n",
            "  inflating: train/labels/image0232_jpg.rf.ef51e199f1d9f15a65f91df8d3649bab.txt  \n",
            "  inflating: train/labels/image0236_jpg.rf.2898ec8d704b875230701886ef128395.txt  \n",
            "  inflating: train/labels/image0236_jpg.rf.8fb89c82db6e52cd6d84ad57645e996c.txt  \n",
            "  inflating: train/labels/image0236_jpg.rf.ed587bfcba896ab468540545e2cc9127.txt  \n",
            "  inflating: train/labels/image0242_jpg.rf.36bd336e710a376c9f8c68dde546ee4e.txt  \n",
            "  inflating: train/labels/image0242_jpg.rf.4a2bbd4ee5bb9f8cf80e2b83e1be3c10.txt  \n",
            "  inflating: train/labels/image0242_jpg.rf.6248636a9d31c2a3630886478f11e826.txt  \n",
            "  inflating: train/labels/image0242_jpg.rf.818664e187560af565d5ab82cca16e14.txt  \n",
            "  inflating: train/labels/image0242_jpg.rf.c6afd46bd72ea3d341887aa155f7ad59.txt  \n",
            "  inflating: train/labels/image0242_jpg.rf.dd0d22b563b824ff23a7c86b766cb1fa.txt  \n",
            "  inflating: train/labels/image0245_jpg.rf.0b430c6525a2a3770fe2eac8ab8d42c8.txt  \n",
            "  inflating: train/labels/image0245_jpg.rf.46ad5293bec55c93b9a5ce79eed1e218.txt  \n",
            "  inflating: train/labels/image0245_jpg.rf.fbb1c8aaee583d3eeca5027fc0d114da.txt  \n",
            "  inflating: train/labels/image0246_jpg.rf.167ac6c83e16ea4a4dd027c89044e7e9.txt  \n",
            "  inflating: train/labels/image0246_jpg.rf.2d55ae44667c6df5ba64e018d034720e.txt  \n",
            "  inflating: train/labels/image0246_jpg.rf.3b11d2ef260b04acc0ec1af422441e2f.txt  \n",
            "  inflating: train/labels/image0246_jpg.rf.414414135ac5e87d26a8525388b27ef6.txt  \n",
            "  inflating: train/labels/image0246_jpg.rf.877dc2e3fc5b4fed36fd616087f60636.txt  \n",
            "  inflating: train/labels/image0246_jpg.rf.a6752733134034459cfd207b8f51f225.txt  \n",
            "  inflating: train/labels/image0248_jpg.rf.02663ed43637e227318a154cc685dfa4.txt  \n",
            "  inflating: train/labels/image0248_jpg.rf.0c89d6477573da509c78c5e3d8814cae.txt  \n",
            "  inflating: train/labels/image0248_jpg.rf.c6bb78a7d49ca0b8b6b94633d4576db7.txt  \n",
            "  inflating: train/labels/image0250_jpg.rf.064be7d1c5499fab7e42168a334cf7d2.txt  \n",
            "  inflating: train/labels/image0250_jpg.rf.15bf742c94acca39ec1cb41a008fe62c.txt  \n",
            "  inflating: train/labels/image0250_jpg.rf.deac1d8bc7fec103ebd5b659e24e5dc6.txt  \n",
            "  inflating: train/labels/image0251_jpg.rf.106dbc617d760f73dfba030bf1a9e3d6.txt  \n",
            "  inflating: train/labels/image0251_jpg.rf.3ffc9566ab68263f52e07de4bc610976.txt  \n",
            "  inflating: train/labels/image0251_jpg.rf.cc4ee1a75a85036b16a850072fcd3f6f.txt  \n",
            "  inflating: train/labels/image0252_jpg.rf.3411ad5f7e6471227276b952611459db.txt  \n",
            "  inflating: train/labels/image0252_jpg.rf.c4cc1171f70b85842e1ee08fbe6c746d.txt  \n",
            "  inflating: train/labels/image0252_jpg.rf.f84fbf7f927b1631db59299c9b4b2528.txt  \n",
            "  inflating: train/labels/image0253_jpg.rf.55f73b28f89f66a2ddfd833008c67803.txt  \n",
            "  inflating: train/labels/image0253_jpg.rf.93ddb630b452f1fab7361ad336a50fdd.txt  \n",
            "  inflating: train/labels/image0253_jpg.rf.e0616c4fb2d6589096cd31a21e200eb4.txt  \n",
            "  inflating: train/labels/image0255_jpg.rf.631b3040c359b9ec9e25e2951f72b814.txt  \n",
            "  inflating: train/labels/image0255_jpg.rf.69475f3fe99e0616b951864db0a9342d.txt  \n",
            "  inflating: train/labels/image0255_jpg.rf.b6832bba7bf66c278fefd76925df57d8.txt  \n",
            "  inflating: train/labels/image0260_jpg.rf.48ad596052772b89c836cffe24c9bd6b.txt  \n",
            "  inflating: train/labels/image0260_jpg.rf.556bd6e9979ca5259a742ba4be17e952.txt  \n",
            "  inflating: train/labels/image0260_jpg.rf.be2b1fd4ede41638cc40297bd531d29b.txt  \n",
            "  inflating: train/labels/image0263_jpg.rf.0511480bf5ecf4e9ca121c4a64399e3d.txt  \n",
            "  inflating: train/labels/image0263_jpg.rf.7c98974ecd7c008a0634311f43c4c744.txt  \n",
            "  inflating: train/labels/image0263_jpg.rf.b1e1c043fe58cfa16254b5acc9fa4693.txt  \n",
            "  inflating: train/labels/image0271_jpg.rf.a85ca4408aae6804a3fb401d403d099b.txt  \n",
            "  inflating: train/labels/image0271_jpg.rf.b5a7882524c76199d70cf4f935e053d0.txt  \n",
            "  inflating: train/labels/image0271_jpg.rf.dfc4776abb62e1b8a026ca93c7d0290f.txt  \n",
            "  inflating: train/labels/image0274_jpg.rf.4d1333a3aaf687dc64508abca8a8827e.txt  \n",
            "  inflating: train/labels/image0274_jpg.rf.ab4d55dabbba90decb21159bd878ab1f.txt  \n",
            "  inflating: train/labels/image0274_jpg.rf.b49af632605e275cf4860331d0065146.txt  \n",
            "  inflating: train/labels/image0276_jpg.rf.63392575ae1d26abac8530a47f2d8e23.txt  \n",
            "  inflating: train/labels/image0276_jpg.rf.7ea3747ffcb303cf9bee658231379186.txt  \n",
            "  inflating: train/labels/image0276_jpg.rf.90d03224017a717d1f612014a239464a.txt  \n",
            "  inflating: train/labels/image0281_jpg.rf.43a8a6a6c78f95b9892c8e7ced924e9d.txt  \n",
            "  inflating: train/labels/image0281_jpg.rf.86189f80dd2810bb9721a6447400316a.txt  \n",
            "  inflating: train/labels/image0281_jpg.rf.c699b662295cffdcc2acf43d92019b26.txt  \n",
            "  inflating: train/labels/image0282_jpg.rf.3e18f3dc1e277677410e518ad9b2d5a6.txt  \n",
            "  inflating: train/labels/image0282_jpg.rf.8346b5315e5e858d83d1cd163e9f7efd.txt  \n",
            "  inflating: train/labels/image0282_jpg.rf.dfb534f66d4d535ccd729436d77ae903.txt  \n",
            "  inflating: train/labels/image0284_jpg.rf.1358889447a363233cb4ba0e029e3353.txt  \n",
            "  inflating: train/labels/image0284_jpg.rf.2a2b7b8add514d0e0bd07fae6e18b4a0.txt  \n",
            "  inflating: train/labels/image0284_jpg.rf.d76fb309f59b65415c50edb421337171.txt  \n",
            "  inflating: train/labels/image0285_jpg.rf.0c2fb3d05284e4ada4f135bd879e8c22.txt  \n",
            "  inflating: train/labels/image0285_jpg.rf.3043b54eab89ffc7ab03bbc0bc7be375.txt  \n",
            "  inflating: train/labels/image0285_jpg.rf.9924ca519b95865add7ab5a90a0ac839.txt  \n",
            "  inflating: train/labels/image0288_jpg.rf.74b5e55c840221d3df056bdbe0b61e4a.txt  \n",
            "  inflating: train/labels/image0288_jpg.rf.8cda72082b29dfb35f548bc29f54c6b9.txt  \n",
            "  inflating: train/labels/image0288_jpg.rf.9d362a54a39ec43b4c5a2af02dcc9272.txt  \n",
            "  inflating: train/labels/image0290_jpg.rf.02ca5a185f945ab2a5cf1ee165c02186.txt  \n",
            "  inflating: train/labels/image0290_jpg.rf.05c0bc7566c2b08dd0eacdee843b2296.txt  \n",
            "  inflating: train/labels/image0290_jpg.rf.51d8d30a8b9b84cafccaaffee9d62130.txt  \n",
            "  inflating: train/labels/image0292_jpg.rf.392a6c55bccf4b59d8c048462cd16022.txt  \n",
            "  inflating: train/labels/image0292_jpg.rf.78a9d8c35fed2183a204132610cd7e13.txt  \n",
            "  inflating: train/labels/image0292_jpg.rf.a32af977cbe058d9827c04a0ace01448.txt  \n",
            "  inflating: train/labels/image0294_jpg.rf.26e834b3215a2feb4abecad2ba03630a.txt  \n",
            "  inflating: train/labels/image0294_jpg.rf.49707a17d651736d986e93eb078d53b7.txt  \n",
            "  inflating: train/labels/image0294_jpg.rf.77f71733616848b6bf4dc07efa9014e0.txt  \n",
            "  inflating: train/labels/image0296_jpg.rf.e3597653272e084906f1a36c5d8fb6fc.txt  \n",
            "  inflating: train/labels/image0296_jpg.rf.e9ace082dd8b0fe11393d42efe9de251.txt  \n",
            "  inflating: train/labels/image0296_jpg.rf.eea61a8398712023e371306a3518f988.txt  \n",
            "  inflating: train/labels/image0299_jpg.rf.72f7d9ce481fca54efc6126d75b55b79.txt  \n",
            "  inflating: train/labels/image0299_jpg.rf.ba07aeadac6cfcbd3d021ec6a5e37a21.txt  \n",
            "  inflating: train/labels/image0299_jpg.rf.df8b4ed2486573a23becc9db8c1d0921.txt  \n",
            "  inflating: train/labels/image0310_jpg.rf.766801479ae4d7850a25c0621d96740c.txt  \n",
            "  inflating: train/labels/image0310_jpg.rf.81d8b4093c65bd21f2834ace8ccf8991.txt  \n",
            "  inflating: train/labels/image0310_jpg.rf.bbd2e0c05196a2aa0bb6d29f1de7a621.txt  \n",
            "  inflating: train/labels/image0312_jpg.rf.7fb464ebd8eae730d44bd01e8d9b0df9.txt  \n",
            "  inflating: train/labels/image0312_jpg.rf.89aed416e9bf26f347e486e58d2c5ffa.txt  \n",
            "  inflating: train/labels/image0312_jpg.rf.b7c3f360da9af4633dbf4b3d6fd5e57b.txt  \n",
            "  inflating: train/labels/image0313_jpg.rf.2ba48e519b7ec45869a3dc2c46e476ec.txt  \n",
            "  inflating: train/labels/image0313_jpg.rf.96d2ad2e6a0b0493e5ef8951a5147604.txt  \n",
            "  inflating: train/labels/image0313_jpg.rf.d5d4e25077cd26085f4f94ac9ab8d043.txt  \n",
            "  inflating: train/labels/image0315_jpg.rf.33f1875c3510155750540b5a88f560d3.txt  \n",
            "  inflating: train/labels/image0315_jpg.rf.40b8af06528257c35eaa53b50fbb9261.txt  \n",
            "  inflating: train/labels/image0315_jpg.rf.4db15a9521a3d55aace444711c4d4654.txt  \n",
            "  inflating: train/labels/image0318_jpg.rf.d0d2b9234e39d9ee18f7f9bbee53aca3.txt  \n",
            "  inflating: train/labels/image0318_jpg.rf.d78ed131850a8617aeef09fb4b918806.txt  \n",
            "  inflating: train/labels/image0318_jpg.rf.fe431fb43a112a78e0cf3fb59b9a8c76.txt  \n",
            "  inflating: train/labels/image0320_jpg.rf.6c8c09e0dc2a949b24366ac42ae90225.txt  \n",
            "  inflating: train/labels/image0320_jpg.rf.d094a385aa7a778426f7aabd7307daf9.txt  \n",
            "  inflating: train/labels/image0320_jpg.rf.eea7a8a91f22d1d1850ac1d3e2c9abd7.txt  \n",
            "  inflating: train/labels/image0324_jpg.rf.0b993a84cac36b642ec8f839640d0c18.txt  \n",
            "  inflating: train/labels/image0324_jpg.rf.43c2b89ae7ad98af88a0375335f14445.txt  \n",
            "  inflating: train/labels/image0324_jpg.rf.68d83002c6f9edd27639e6bc32000bcb.txt  \n",
            "  inflating: train/labels/image0327_jpg.rf.08a0f85ea4a7b9deffce300205c20b91.txt  \n",
            "  inflating: train/labels/image0327_jpg.rf.649da0c5e35432140d98bec09639402b.txt  \n",
            "  inflating: train/labels/image0327_jpg.rf.7c6b246a1ad9de34c646eae364f43396.txt  \n",
            "  inflating: train/labels/image0328_jpg.rf.694e92cd4e6fb42939edf3792f8e867d.txt  \n",
            "  inflating: train/labels/image0328_jpg.rf.aaa09e70b9295acd70f894203585fc8b.txt  \n",
            "  inflating: train/labels/image0328_jpg.rf.acb6f79f58eda922ee67ee901a73fbb0.txt  \n",
            "  inflating: train/labels/image0331_jpg.rf.61cd5546ec04ef0cc20b845bdf24efe5.txt  \n",
            "  inflating: train/labels/image0331_jpg.rf.767be6d7ff322adc48c77b285fb07132.txt  \n",
            "  inflating: train/labels/image0331_jpg.rf.fe74a0d300cc3819ebcc666e813a857e.txt  \n",
            "  inflating: train/labels/image0333_jpg.rf.30ba86aa42e3e08d943bcd6ece6ee04c.txt  \n",
            "  inflating: train/labels/image0333_jpg.rf.8a96da2d07fe2c3341e373c511ee5317.txt  \n",
            "  inflating: train/labels/image0333_jpg.rf.c0739e9f2e277f3dc3f954bdd997a8c1.txt  \n",
            "  inflating: train/labels/image0335_jpg.rf.78586641e96a4a23dcbc3703a08079a0.txt  \n",
            "  inflating: train/labels/image0335_jpg.rf.ce3fcb9105803952c794004230f648bb.txt  \n",
            "  inflating: train/labels/image0335_jpg.rf.dfa5847bcfdf49edbd0fa5044622799a.txt  \n",
            "  inflating: train/labels/image0336_jpg.rf.270b87035c58e8049b77545b44b0742a.txt  \n",
            "  inflating: train/labels/image0336_jpg.rf.2ee8ec7ca0f4692c2f9093e5d8bf2781.txt  \n",
            "  inflating: train/labels/image0336_jpg.rf.d2077fa4ffdbf460753e86d9d58a28dd.txt  \n",
            "  inflating: train/labels/image0338_jpg.rf.36e640ef7be5bd970bf3a5e5e2379a4c.txt  \n",
            "  inflating: train/labels/image0338_jpg.rf.77e25611dbe0d986e7cc7f2cc02700d0.txt  \n",
            "  inflating: train/labels/image0338_jpg.rf.c6b4a9f22430a8cb46c13dae2fb7d0e1.txt  \n",
            "  inflating: train/labels/image0339_jpg.rf.43b4c2703d87fc7613832ac640088e2c.txt  \n",
            "  inflating: train/labels/image0339_jpg.rf.6525ff462e451b835eea81d138ef0085.txt  \n",
            "  inflating: train/labels/image0339_jpg.rf.97b39621b92c9df17988aae24da6261f.txt  \n",
            "  inflating: train/labels/image0341_jpg.rf.06cc0de5f790c0bdec63dbfb3b275d10.txt  \n",
            "  inflating: train/labels/image0341_jpg.rf.3f3ee3aca314657fa31437127f9355e1.txt  \n",
            "  inflating: train/labels/image0341_jpg.rf.5d59cfce1ccc2fa765faf06c59c1bcc9.txt  \n",
            "  inflating: train/labels/image0346_jpg.rf.0c05f2b395f39870b9a397fc001b6c4f.txt  \n",
            "  inflating: train/labels/image0346_jpg.rf.83cabc959307ce5e3699a1cc7e8a8619.txt  \n",
            "  inflating: train/labels/image0346_jpg.rf.cdb401ff84a95384fddb89dabf546326.txt  \n",
            "  inflating: train/labels/image0347_jpg.rf.06029bf666012f6f60daa95f187812b9.txt  \n",
            "  inflating: train/labels/image0347_jpg.rf.2becea0cf4d012f10c4e1f1fd9fc545b.txt  \n",
            "  inflating: train/labels/image0347_jpg.rf.e07143430a87362d81271f94651bfb33.txt  \n",
            "  inflating: train/labels/image0357_jpg.rf.301c2313609b36cd031f1223271de319.txt  \n",
            "  inflating: train/labels/image0357_jpg.rf.a8515a23fab37ec83aeae7c872217362.txt  \n",
            "  inflating: train/labels/image0357_jpg.rf.c0c7603679e85dd441e8cdba58e33ec2.txt  \n",
            "  inflating: train/labels/image0358_jpg.rf.093bb44b08cc8c1fdf0d3f5e3577bcf3.txt  \n",
            "  inflating: train/labels/image0358_jpg.rf.8ec739039353434a84166a3be110eff5.txt  \n",
            "  inflating: train/labels/image0358_jpg.rf.9d78fbf7b3c21092c9b013f9d0c7eb1b.txt  \n",
            "  inflating: train/labels/image0361_jpg.rf.1b0d093d299e4e0f26a7b1dbdd113df6.txt  \n",
            "  inflating: train/labels/image0361_jpg.rf.965a6139f8ad7ab51737c72fa8958fd1.txt  \n",
            "  inflating: train/labels/image0361_jpg.rf.dcccf9b81e7418d762648f85cac78830.txt  \n",
            "  inflating: train/labels/image0363_jpg.rf.2736ca2cb058cb5b1bb8b97df079b20b.txt  \n",
            "  inflating: train/labels/image0363_jpg.rf.902f1510196db6f8add14dd196433ba7.txt  \n",
            "  inflating: train/labels/image0363_jpg.rf.f4c039da4f4d62c5368bb224347fbe76.txt  \n",
            "  inflating: train/labels/image0364_jpg.rf.4b4638d9b06b3c3e5ca49c1cd8d11818.txt  \n",
            "  inflating: train/labels/image0364_jpg.rf.6666162824b05e296689ac3b2087681e.txt  \n",
            "  inflating: train/labels/image0364_jpg.rf.a24ef65df6ac9ad2df66b4f139c79d5e.txt  \n",
            "  inflating: train/labels/image0367_jpg.rf.73444f25b862a654b93221e3569d3fcc.txt  \n",
            "  inflating: train/labels/image0367_jpg.rf.9ff622cd5d7554246d08b7f8418ee158.txt  \n",
            "  inflating: train/labels/image0367_jpg.rf.d50e8c9c4a9bf0d8b8e32c732c95a92c.txt  \n",
            "  inflating: train/labels/image0368_jpg.rf.57a707b180ab89f44cbf047348f20349.txt  \n",
            "  inflating: train/labels/image0368_jpg.rf.8724113534ae07078d2920b57e31b188.txt  \n",
            "  inflating: train/labels/image0368_jpg.rf.93bb7d15853eb8fedb7934353052e511.txt  \n",
            "  inflating: train/labels/image0371_jpg.rf.484b0179cc6d007d6c29089a9c57e9a6.txt  \n",
            "  inflating: train/labels/image0371_jpg.rf.5e441b070841f29a8580fae8590a075f.txt  \n",
            "  inflating: train/labels/image0371_jpg.rf.bf44e1e36a2597c0c9350e77a6c20e61.txt  \n",
            "  inflating: train/labels/image0372_jpg.rf.724c03e49aaac5cf6d4b13d693f2ea78.txt  \n",
            "  inflating: train/labels/image0372_jpg.rf.c42843985b2bf85015e70a629ad4fcce.txt  \n",
            "  inflating: train/labels/image0372_jpg.rf.d6d479b568b5404f43cba0f69d73f5a6.txt  \n",
            "  inflating: train/labels/image0373_jpg.rf.28821fb9ceda1ee831f0ae906a1d2edb.txt  \n",
            "  inflating: train/labels/image0373_jpg.rf.292f0a2de3ce095e8d12d4eb71fe3105.txt  \n",
            "  inflating: train/labels/image0373_jpg.rf.2eba61f356637c8c651a26099811a9cf.txt  \n",
            "  inflating: train/labels/image0374_jpg.rf.4508b714b342f60e380824f76b58bdd4.txt  \n",
            "  inflating: train/labels/image0374_jpg.rf.584f1a9b494c2e4442f4da3dc9683e16.txt  \n",
            "  inflating: train/labels/image0374_jpg.rf.65564d3c3eaaf2f18972963385b1e94e.txt  \n",
            "  inflating: train/labels/image0375_jpg.rf.4d346a57ccea8498a647eb75fb5a3732.txt  \n",
            "  inflating: train/labels/image0375_jpg.rf.ce31a6cab8f721ef919c8586724e7484.txt  \n",
            "  inflating: train/labels/image0375_jpg.rf.f9282b55c222a6d9943c5a17294a5e13.txt  \n",
            "  inflating: train/labels/image0376_jpg.rf.076b53b396ae1e98eaa05865fb2056b1.txt  \n",
            "  inflating: train/labels/image0376_jpg.rf.6247f8357591d521ea1cfc76c2782b66.txt  \n",
            "  inflating: train/labels/image0376_jpg.rf.a19296bc8e7043fbf9fdbe1beedc950f.txt  \n",
            "  inflating: train/labels/image0386_jpg.rf.3e7d2373ebf8489081cc33836f24c518.txt  \n",
            "  inflating: train/labels/image0386_jpg.rf.48af1e64bb1cb6a8057ba85054f5574d.txt  \n",
            "  inflating: train/labels/image0386_jpg.rf.68ad7e5d8fbfe72621907edfc778a05a.txt  \n",
            "  inflating: train/labels/image0388_jpg.rf.851addc113d4657dc74236e3841ab8bc.txt  \n",
            "  inflating: train/labels/image0388_jpg.rf.91667b0483c7cec117eaab40f7debeb1.txt  \n",
            "  inflating: train/labels/image0388_jpg.rf.b66b34a06a10a2c5b089aaae9f191d0a.txt  \n",
            "  inflating: train/labels/image0390_jpg.rf.34108970834bb26d4e2ac46c9c0718d6.txt  \n",
            "  inflating: train/labels/image0390_jpg.rf.94199cb74a63ed19c369ed35208299da.txt  \n",
            "  inflating: train/labels/image0390_jpg.rf.9e19d2b2a6ed12cb6f3842eefa520c30.txt  \n",
            "  inflating: train/labels/image0391_jpg.rf.1dfa3b1fc72d06cb18b9b536833ec290.txt  \n",
            "  inflating: train/labels/image0391_jpg.rf.28f9987333de92de771a1fa6b884ad61.txt  \n",
            "  inflating: train/labels/image0391_jpg.rf.bcfa02345e906ae626a515b46247077b.txt  \n",
            "  inflating: train/labels/image0394_jpg.rf.b92c5b2a009adf713c9479bfe4337ad7.txt  \n",
            "  inflating: train/labels/image0394_jpg.rf.c94ff49f1e45b1aa450d369e77c13f47.txt  \n",
            "  inflating: train/labels/image0394_jpg.rf.d96296811889f2d4eb7d5c3f55949c52.txt  \n",
            "  inflating: train/labels/image0397_jpg.rf.2db85e2ce49f987dc655af981dd9558f.txt  \n",
            "  inflating: train/labels/image0397_jpg.rf.54305f6b190fef9aa25d65b889b4177d.txt  \n",
            "  inflating: train/labels/image0397_jpg.rf.82d66f955c3803dc4dea0f969055b42b.txt  \n",
            "  inflating: train/labels/image0400_jpg.rf.5b3a20980adae175fd04aaa4552c88c2.txt  \n",
            "  inflating: train/labels/image0400_jpg.rf.6e6c1faef16bc8415bbbe9b030d1a91f.txt  \n",
            "  inflating: train/labels/image0400_jpg.rf.c5ff12d1d9f2ab499e34401273b422fb.txt  \n",
            "  inflating: train/labels/image0401_jpg.rf.10663560dee3af81b65c14239a252ed1.txt  \n",
            "  inflating: train/labels/image0401_jpg.rf.3a626efb224f1708833921d1669add4f.txt  \n",
            "  inflating: train/labels/image0401_jpg.rf.51ac81553dbd7a0a5e61bb8eecea7c0e.txt  \n",
            "  inflating: train/labels/image0402_jpg.rf.58cce0daa229f6b914cf0c73a752a016.txt  \n",
            "  inflating: train/labels/image0402_jpg.rf.89cc3a3e9137c44e7b517cc4cfcb9d8b.txt  \n",
            "  inflating: train/labels/image0402_jpg.rf.f657902dad71f09222ba8020fd926c89.txt  \n",
            "  inflating: train/labels/image0403_jpg.rf.3b411434bad3a8dc1be880af8d68ecae.txt  \n",
            "  inflating: train/labels/image0403_jpg.rf.9ced2c8bad3ae40fe571449fe9cedf23.txt  \n",
            "  inflating: train/labels/image0403_jpg.rf.bf14648c20435610871fba5f593b1920.txt  \n",
            "  inflating: train/labels/image0405_jpg.rf.0c64385233a711abc69a35dcf150e8d4.txt  \n",
            "  inflating: train/labels/image0405_jpg.rf.a8afb41d59481c96af2e40de68a84edb.txt  \n",
            "  inflating: train/labels/image0405_jpg.rf.c0d6f8555945e97ca33a4970856228b2.txt  \n",
            "  inflating: train/labels/image0408_jpg.rf.23818a30875210c5c66e751b4d746e6d.txt  \n",
            "  inflating: train/labels/image0408_jpg.rf.a82ed701053588a1a60821f4e603388b.txt  \n",
            "  inflating: train/labels/image0408_jpg.rf.d18a584c8e39ed8a57b3d7913fd25fab.txt  \n",
            "  inflating: train/labels/image0410_jpg.rf.240ad986c68f6670a04cbe32d38dd56c.txt  \n",
            "  inflating: train/labels/image0410_jpg.rf.7d0ceff312f3a2bb2c417c30791a7f7c.txt  \n",
            "  inflating: train/labels/image0410_jpg.rf.aca56dbea67bf7a9b8980f5a7d067bba.txt  \n",
            "  inflating: train/labels/image0415_jpg.rf.0e141dcc47d373bb44df6c33ad7efa68.txt  \n",
            "  inflating: train/labels/image0415_jpg.rf.c151c70c848a1b743261a6387d67c9b8.txt  \n",
            "  inflating: train/labels/image0415_jpg.rf.c5f1c0da8a4c9c4177206fcbeabad85a.txt  \n",
            "  inflating: train/labels/image0417_jpg.rf.07756c3288a647df57ad3e87006cd9c4.txt  \n",
            "  inflating: train/labels/image0417_jpg.rf.6d8df230aaca306270cee01738ff4d72.txt  \n",
            "  inflating: train/labels/image0417_jpg.rf.ed467e7595407811689e01e560beeb3b.txt  \n",
            "  inflating: train/labels/image0421_jpg.rf.8cb40067c3b15266f2ce8aaafb0e5744.txt  \n",
            "  inflating: train/labels/image0421_jpg.rf.bd94c50331c3b5948fc91adec9e0025f.txt  \n",
            "  inflating: train/labels/image0421_jpg.rf.e458d7fabd8f034cfefa59a6c2a2b2d7.txt  \n",
            "  inflating: train/labels/image0423_jpg.rf.306dd85087828108689d13d251e64393.txt  \n",
            "  inflating: train/labels/image0423_jpg.rf.a9c7192e9fbc973ed7be3d566b7355fe.txt  \n",
            "  inflating: train/labels/image0423_jpg.rf.d6e991a83b4304caca1b101066867e89.txt  \n",
            "  inflating: train/labels/image0428_jpg.rf.2f1d7c7f999c98dd2a77df482ddc4bbe.txt  \n",
            "  inflating: train/labels/image0428_jpg.rf.33092b7cf4d5a96eb6b6ead615faf4d6.txt  \n",
            "  inflating: train/labels/image0428_jpg.rf.f2a959a36f0311e02767b9f588043cfa.txt  \n",
            "  inflating: train/labels/image0429_jpg.rf.3b839dc88ad07190b2740f67edc29f30.txt  \n",
            "  inflating: train/labels/image0429_jpg.rf.6a99b561e2d13b0c99663b4aa6287bd4.txt  \n",
            "  inflating: train/labels/image0429_jpg.rf.f1abca1f496a56337f064fbd80f4be21.txt  \n",
            "  inflating: train/labels/image0430_jpg.rf.2913c3d64c1463a52a051c46dd67a056.txt  \n",
            "  inflating: train/labels/image0430_jpg.rf.e95a0075f1e18428898c1271359e022b.txt  \n",
            "  inflating: train/labels/image0430_jpg.rf.f5d24c23d3c2d3a1d2b8610b4364706d.txt  \n",
            "  inflating: train/labels/image0431_jpg.rf.68cb697503d2687c120864c3eb2c4178.txt  \n",
            "  inflating: train/labels/image0431_jpg.rf.b6883f82ed930d174ec46dff5dbc3f6c.txt  \n",
            "  inflating: train/labels/image0431_jpg.rf.eb4be970d43935071056620ed7b8967d.txt  \n",
            "  inflating: train/labels/image0432_jpg.rf.170a54f9f7c932c21f0fdc94e072fb92.txt  \n",
            "  inflating: train/labels/image0432_jpg.rf.30295d18ed5296bc0b1de39084dba34a.txt  \n",
            "  inflating: train/labels/image0432_jpg.rf.3f57f7e71d81f0c2fd0b45c49468a8e7.txt  \n",
            "  inflating: train/labels/image0437_jpg.rf.2fa1c722324e98640641e064c6ab3527.txt  \n",
            "  inflating: train/labels/image0437_jpg.rf.776921121f47831cfc4a572728661387.txt  \n",
            "  inflating: train/labels/image0437_jpg.rf.f163f3af297e75216ab360f836287ec4.txt  \n",
            "  inflating: train/labels/image0449_jpg.rf.1ee8bf4932832417860a6d9cd7d8879f.txt  \n",
            "  inflating: train/labels/image0449_jpg.rf.65c320523d4b77903399956aa3d30a76.txt  \n",
            "  inflating: train/labels/image0449_jpg.rf.a005c67b8863ce1ca060aca17d3f87d6.txt  \n",
            "  inflating: train/labels/image0450_jpg.rf.0a0c181ff4f4fdfd4dfc37a7fe8e4c79.txt  \n",
            "  inflating: train/labels/image0450_jpg.rf.4a20ec4eee5ba7324e73edc18ed2d250.txt  \n",
            "  inflating: train/labels/image0450_jpg.rf.b7ae5680d35f43abd3cb90fd3d4b0490.txt  \n",
            "  inflating: train/labels/image0453_jpg.rf.2c1f3b74bce8f761967ebffcee8bcee4.txt  \n",
            "  inflating: train/labels/image0453_jpg.rf.5ef4fdc20834707f738ce3ae49b7062d.txt  \n",
            "  inflating: train/labels/image0453_jpg.rf.9aba09a782fb85ba6125bc494c86423d.txt  \n",
            "  inflating: train/labels/image0458_jpg.rf.1b117e367b9b4e2fd4e056a7d923c3c7.txt  \n",
            "  inflating: train/labels/image0458_jpg.rf.4c786b6be2ee2ee2385d1dd865edb9dc.txt  \n",
            "  inflating: train/labels/image0458_jpg.rf.6afb146741a7351d729a796fe5140b3b.txt  \n",
            "  inflating: train/labels/image0461_jpg.rf.28426524e73f07f49391af17650f78bd.txt  \n",
            "  inflating: train/labels/image0461_jpg.rf.49e0e66fb4a12f02202e5e0280b52c7b.txt  \n",
            "  inflating: train/labels/image0461_jpg.rf.b4199f3fb0ec19e2904588cdbb4b9a3d.txt  \n",
            "  inflating: train/labels/image0465_jpg.rf.0767608322c4232a040507dcc48893d6.txt  \n",
            "  inflating: train/labels/image0465_jpg.rf.17b37d46f4300002373642e9628b292b.txt  \n",
            "  inflating: train/labels/image0465_jpg.rf.241b7dd00d040e115a68f99e0800343a.txt  \n",
            " extracting: train/labels/image0468_jpg.rf.53dfc7b57044d91ac733d1b4accd16df.txt  \n",
            "  inflating: train/labels/image0468_jpg.rf.6f2e214cce9bf6f35287e0efbc423454.txt  \n",
            "  inflating: train/labels/image0468_jpg.rf.cf6730acfb712213c85953f362aeb9cc.txt  \n",
            "  inflating: train/labels/image0471_jpg.rf.59f7464b8fb990eb82ac673b7050325f.txt  \n",
            "  inflating: train/labels/image0471_jpg.rf.5f2b4ee785b98374981bbd755da313e3.txt  \n",
            "  inflating: train/labels/image0471_jpg.rf.7a0bfbdfc8d3b01205aa947a8bd2d235.txt  \n",
            "  inflating: train/labels/image0472_jpg.rf.64da66845e0b710502961d026a78880b.txt  \n",
            "  inflating: train/labels/image0472_jpg.rf.db32948ecc86b1370b6eb8213bf9c056.txt  \n",
            "  inflating: train/labels/image0472_jpg.rf.ee328ea8d4508edef594e460ffe2b6fc.txt  \n",
            "  inflating: train/labels/image0477_jpg.rf.35ceb5a6eb7a71038649041afb1297ce.txt  \n",
            "  inflating: train/labels/image0477_jpg.rf.a65ec8ad62147d4394f46696487000c0.txt  \n",
            "  inflating: train/labels/image0477_jpg.rf.bf079991b9be1d34036a790ce0ffa38e.txt  \n",
            "  inflating: train/labels/image0480_jpg.rf.566301b1a98f12e34cad3c33351cd65e.txt  \n",
            "  inflating: train/labels/image0480_jpg.rf.88d3713657d3af2506929cc5cb316cbc.txt  \n",
            "  inflating: train/labels/image0480_jpg.rf.e7b4cccdbc3bbb368a4d5475bbe7af24.txt  \n",
            "  inflating: train/labels/image0483_jpg.rf.c74c207f923995e5981cb37cc954b2cc.txt  \n",
            "  inflating: train/labels/image0483_jpg.rf.d7b080621815907619b8759d3e84a5a9.txt  \n",
            "  inflating: train/labels/image0483_jpg.rf.ec665dc0d38b487e4b4745a102ac189b.txt  \n",
            "  inflating: train/labels/image0486_jpg.rf.069cb7d12da40de9f2b98d2f9a552798.txt  \n",
            "  inflating: train/labels/image0486_jpg.rf.34c805169e98ce1ef90b4c7d73a3199c.txt  \n",
            "  inflating: train/labels/image0486_jpg.rf.8b340984acac232eff3b81c8ada6c648.txt  \n",
            "  inflating: train/labels/image0491_jpg.rf.24c20e0e946f6ebaa47deab196966414.txt  \n",
            "  inflating: train/labels/image0491_jpg.rf.4a39a6c53b45b8a262f18edbc6aa8e20.txt  \n",
            "  inflating: train/labels/image0491_jpg.rf.4b4e78f0f2cc9a3ab053ba90f2134260.txt  \n",
            "  inflating: train/labels/image0492_jpg.rf.b200235b73021d8dfa9864b58db01b1c.txt  \n",
            "  inflating: train/labels/image0492_jpg.rf.c5d32ca8d1696152db943738f33ed5b0.txt  \n",
            "  inflating: train/labels/image0492_jpg.rf.d3ea22d2214ab22f4e94f935b4083dd2.txt  \n",
            "  inflating: train/labels/image0493_jpg.rf.01923a10d8827ced45f21c132dc4bece.txt  \n",
            "  inflating: train/labels/image0493_jpg.rf.0ad521be5c5ab49f3acbce21f14c2d51.txt  \n",
            "  inflating: train/labels/image0493_jpg.rf.4bdc98d5455d29f1195fcb840b236d3f.txt  \n",
            "  inflating: train/labels/image0495_jpg.rf.162c503d52e21fe82907197dd3046a9b.txt  \n",
            "  inflating: train/labels/image0495_jpg.rf.2910fc92eca15328fc96b61598a1981b.txt  \n",
            "  inflating: train/labels/image0495_jpg.rf.486a37bc16caa0c9af4c974eea12509a.txt  \n",
            "  inflating: train/labels/image0498_jpg.rf.ace3af0cbe7455129f04d2d9b94c4db2.txt  \n",
            "  inflating: train/labels/image0498_jpg.rf.ce14f26e6a538e4716b810b8d927552d.txt  \n",
            "  inflating: train/labels/image0498_jpg.rf.e068706e87b4f61f039ef921e2b2a806.txt  \n",
            "  inflating: train/labels/image0501_jpg.rf.1743cfb303d58e5b4ea3c365ca52273d.txt  \n",
            "  inflating: train/labels/image0501_jpg.rf.43368f26c21b6139dd3c8008bcc9a862.txt  \n",
            "  inflating: train/labels/image0501_jpg.rf.db5989cedee79b59d13185e8898cbf30.txt  \n",
            " extracting: train/labels/image0502_jpg.rf.1e3e03c40a43acf411fe472a6db9c02d.txt  \n",
            "  inflating: train/labels/image0502_jpg.rf.a192a5f1472dde924c8c1669a3aed68c.txt  \n",
            "  inflating: train/labels/image0502_jpg.rf.a1b90bf9031bf4d10bcd25102129328b.txt  \n",
            " extracting: train/labels/image0503_jpg.rf.2a1a791e55873aaabaf2c612a754cdac.txt  \n",
            " extracting: train/labels/image0503_jpg.rf.6553b45bdbe9fdf0d00f057276098068.txt  \n",
            " extracting: train/labels/image0503_jpg.rf.a3704fd7c3d48157fad9a525b856d5e5.txt  \n",
            "  inflating: train/labels/image0504_jpg.rf.1a85060a5b0a39dfc20a08d3847d61e1.txt  \n",
            "  inflating: train/labels/image0504_jpg.rf.4f0ce8ca751470f3e225488bfa02bba8.txt  \n",
            "  inflating: train/labels/image0504_jpg.rf.8c87a900fea7007ea840647784c08e79.txt  \n",
            "  inflating: train/labels/image0508_jpg.rf.b60881af830575f3e2e9362030818736.txt  \n",
            "  inflating: train/labels/image0508_jpg.rf.cc4c99e4e34e16edb2ea3a43d8a30388.txt  \n",
            "  inflating: train/labels/image0508_jpg.rf.f51f02eda4f1e641accb470af2192cae.txt  \n",
            "  inflating: train/labels/image0515_jpg.rf.319c866f978653fa85a97f283f805d76.txt  \n",
            "  inflating: train/labels/image0515_jpg.rf.d3db5143e590418451b780bec1c3f341.txt  \n",
            "  inflating: train/labels/image0515_jpg.rf.db79c25c4f532332d9e864f588a184d3.txt  \n",
            "  inflating: train/labels/image0517_jpg.rf.2281a1ffd13e94abdc064e34044e7fe6.txt  \n",
            "  inflating: train/labels/image0517_jpg.rf.ae4d4d09f0fdead4cc39adcf5610f946.txt  \n",
            "  inflating: train/labels/image0517_jpg.rf.df14e7c3095d5aaeeb4e4f18ea08fb65.txt  \n",
            "  inflating: train/labels/image0524_jpg.rf.a2c3bf768863672fa05280b3bd4ea5f0.txt  \n",
            "  inflating: train/labels/image0524_jpg.rf.c29a57bd8e2fdfa44114a62b0698c1ed.txt  \n",
            "  inflating: train/labels/image0524_jpg.rf.eed678ee0ac30108fd1b74387e0ae184.txt  \n",
            "  inflating: train/labels/image0527_jpg.rf.0d0fef4363207cb1bb8185f17e856a5f.txt  \n",
            "  inflating: train/labels/image0527_jpg.rf.47b4911a76bd67c59baffd71b5925b71.txt  \n",
            "  inflating: train/labels/image0527_jpg.rf.fa3ba177a4431113f22d6d5ee2686933.txt  \n",
            "  inflating: train/labels/image0530_jpg.rf.dd400d7f23d255d24dd648112fed32c0.txt  \n",
            "  inflating: train/labels/image0530_jpg.rf.e171e9f0e22ae9f9fdf2ae450cf74e10.txt  \n",
            "  inflating: train/labels/image0530_jpg.rf.fb851d1b9b9b6baaadb8046c3267721e.txt  \n",
            "  inflating: train/labels/image0533_jpg.rf.675c61daa1e6499e5a4640a4cab0edc9.txt  \n",
            "  inflating: train/labels/image0533_jpg.rf.bae5ac9d32f27304be27c75943a16b0a.txt  \n",
            "  inflating: train/labels/image0533_jpg.rf.c259b29c20ff9cf8596368ff52f32f04.txt  \n",
            "  inflating: train/labels/image0535_jpg.rf.354da4513dcd4386dfc6cc468346a91c.txt  \n",
            "  inflating: train/labels/image0535_jpg.rf.4a538127a0916f9e28abd6fc89aed8ee.txt  \n",
            "  inflating: train/labels/image0535_jpg.rf.c7d44525eae8ee934e1f5b43a3b2bcf0.txt  \n",
            "  inflating: train/labels/image0537_jpg.rf.8fc119e2ffb5f415b7e4c1e2e8072914.txt  \n",
            "  inflating: train/labels/image0537_jpg.rf.c489352d97410ccf80bd50ca99f487de.txt  \n",
            "  inflating: train/labels/image0537_jpg.rf.d001858813aeda16879095775c3ad768.txt  \n",
            "  inflating: train/labels/image0538_jpg.rf.1f5a3b60aeeb098ef84f6f257a60d93f.txt  \n",
            "  inflating: train/labels/image0538_jpg.rf.2ac021ca63d9b0f1db42ebba7fe09262.txt  \n",
            "  inflating: train/labels/image0538_jpg.rf.86ac6f3c6222fd34deb86e09c4a3ca64.txt  \n",
            "  inflating: train/labels/image0539_jpg.rf.09ab8be78db208619a84bfb56431b0aa.txt  \n",
            "  inflating: train/labels/image0539_jpg.rf.4e8c3d5b6d319ec67148668f7f893642.txt  \n",
            "  inflating: train/labels/image0539_jpg.rf.53b778e006032a0b34fa90650246e1a0.txt  \n",
            "  inflating: train/labels/image0540_jpg.rf.1bf9aaec19d8f76b6dd3bb95eb920581.txt  \n",
            "  inflating: train/labels/image0540_jpg.rf.a35ca8b9685ced49b61931a24ee10180.txt  \n",
            "  inflating: train/labels/image0540_jpg.rf.ac4c4cab01639e77433c87f5fa501777.txt  \n",
            "  inflating: train/labels/image0541_jpg.rf.7280e730bd7c982f6da7252f07ae0bdd.txt  \n",
            "  inflating: train/labels/image0541_jpg.rf.916e7a209d9f68c7cefa677ee2ea70a4.txt  \n",
            "  inflating: train/labels/image0541_jpg.rf.99a7429011326ef0ab30e32fa9e9b797.txt  \n",
            "  inflating: train/labels/image0546_jpg.rf.22ba4c8429c593fc19ae29c48a2aceec.txt  \n",
            "  inflating: train/labels/image0546_jpg.rf.6ed966687118bac12cff8f36fb03a3a9.txt  \n",
            "  inflating: train/labels/image0546_jpg.rf.74f14692d158eec765555f38d0ea8040.txt  \n",
            "  inflating: train/labels/image0550_jpg.rf.69fc23395bfe1d652f373123002670e7.txt  \n",
            "  inflating: train/labels/image0550_jpg.rf.747f8ed18413e76be605d7358bddf71a.txt  \n",
            "  inflating: train/labels/image0550_jpg.rf.df88096e80fccac964fc48a37c17498d.txt  \n",
            "  inflating: train/labels/image0556_jpg.rf.dc0ac4482317554b5cd02429efccf799.txt  \n",
            "  inflating: train/labels/image0556_jpg.rf.dccbe514d6ad4eaa1dee23683437b7f7.txt  \n",
            "  inflating: train/labels/image0556_jpg.rf.fce15f16a1c89f53be7d24c8668c69db.txt  \n",
            "  inflating: train/labels/image0557_jpg.rf.0f8debd37141db68e8d3bd0e6bf0c874.txt  \n",
            "  inflating: train/labels/image0557_jpg.rf.8cc92ff77bded3216fc51e3a54bbc4e5.txt  \n",
            "  inflating: train/labels/image0557_jpg.rf.91a3d4acc194e520ac457556d0f4c3ae.txt  \n",
            "  inflating: train/labels/image0561_jpg.rf.740f4bb8e83729a1f677ef7d0a7dc80e.txt  \n",
            "  inflating: train/labels/image0561_jpg.rf.9c8820125a1616e396386fe0ba794dea.txt  \n",
            "  inflating: train/labels/image0561_jpg.rf.b909968fa5a389b4a3334880c228825e.txt  \n",
            "  inflating: train/labels/image0562_jpg.rf.a091fdd6ab17447637cc9afefedf6bbc.txt  \n",
            "  inflating: train/labels/image0562_jpg.rf.deda124571f21c02d0ff33b3926aade5.txt  \n",
            "  inflating: train/labels/image0562_jpg.rf.f18bb69544341f5b15608d4a10736d79.txt  \n",
            "  inflating: train/labels/image0566_jpg.rf.006af18c69efc8aa78562ea28c42928d.txt  \n",
            "  inflating: train/labels/image0566_jpg.rf.211e018b77cb68cc164f399c50b0b575.txt  \n",
            "  inflating: train/labels/image0566_jpg.rf.5303125ead58100acb2aec8e6207d578.txt  \n",
            "  inflating: train/labels/image0568_jpg.rf.49ae656800f86509c8801bf3bc2abd70.txt  \n",
            "  inflating: train/labels/image0568_jpg.rf.5e5825687cd146187ff26cff7e1e6b47.txt  \n",
            "  inflating: train/labels/image0568_jpg.rf.de519f3a8e712ad6d76032e459f7d886.txt  \n",
            "  inflating: train/labels/image0569_jpg.rf.5856e92f5d454fb368903c69d9cee90d.txt  \n",
            "  inflating: train/labels/image0569_jpg.rf.90887704a717cf5da3a1ec84d07a5b98.txt  \n",
            "  inflating: train/labels/image0569_jpg.rf.bb0b4bda9635af0232a2ded9ea9babce.txt  \n",
            "  inflating: train/labels/image0570_jpg.rf.32642183cd8ab98e0c0f047727b46acf.txt  \n",
            "  inflating: train/labels/image0570_jpg.rf.41d45bcdfb89d559d040f002bfbac305.txt  \n",
            "  inflating: train/labels/image0570_jpg.rf.86c6572ffa4c84ef353e165aeda91435.txt  \n",
            "  inflating: train/labels/image0571_jpg.rf.31e4f39b58d0d07ce6d5281220d78efc.txt  \n",
            "  inflating: train/labels/image0571_jpg.rf.dca1b9167a83940aee6c1652d16281c8.txt  \n",
            "  inflating: train/labels/image0571_jpg.rf.ff280f051a968ddac7ed39d7d6c1d812.txt  \n",
            "  inflating: train/labels/image0578_jpg.rf.62d235c8df8b7ad2c8505a9b32e3a37b.txt  \n",
            "  inflating: train/labels/image0578_jpg.rf.80541c33a28b1fbfdfa008e428df60e3.txt  \n",
            "  inflating: train/labels/image0578_jpg.rf.fb023441e091c1860ed143dadd04627c.txt  \n",
            "  inflating: train/labels/image0580_jpg.rf.5705c23ad52f51cb683f6633c5d33303.txt  \n",
            "  inflating: train/labels/image0580_jpg.rf.67c84ae55fa0926cc831524f3bedaa6c.txt  \n",
            "  inflating: train/labels/image0580_jpg.rf.e987807c3d8440737253a86027d9cbfa.txt  \n",
            "  inflating: train/labels/image0585_jpg.rf.16bca89cb60b0329ab9b76737337dac4.txt  \n",
            "  inflating: train/labels/image0585_jpg.rf.66fcebf55f2726e1952d7f84cce56b25.txt  \n",
            "  inflating: train/labels/image0585_jpg.rf.96f7b658a27b2a7630ed74c5448c147e.txt  \n",
            "  inflating: train/labels/image0586_jpg.rf.02bbf9eb05a03490caaeb396a5911dc5.txt  \n",
            "  inflating: train/labels/image0586_jpg.rf.5fc683312394fb2840fb95234451a0ce.txt  \n",
            "  inflating: train/labels/image0586_jpg.rf.7a8a5ca0b137e36821ca8922edd4aff3.txt  \n",
            "  inflating: train/labels/image0588_jpg.rf.169285c3deca12c922e035cbbeecf6d7.txt  \n",
            "  inflating: train/labels/image0588_jpg.rf.62e4362e5fef9c2711e189eb63fa6c8f.txt  \n",
            "  inflating: train/labels/image0588_jpg.rf.b4c566bb0b79c6986c65d2ff736edc18.txt  \n",
            "  inflating: train/labels/image0590_jpg.rf.42540433392780e3a9b3fe8e251013b2.txt  \n",
            "  inflating: train/labels/image0590_jpg.rf.84343faa8f111a27ebf39657d3a2a5e2.txt  \n",
            "  inflating: train/labels/image0590_jpg.rf.f0519c3072656f56c018c70f41dcbcda.txt  \n",
            "  inflating: train/labels/image0593_jpg.rf.1f093f08718c55f671fa565ad08d8a28.txt  \n",
            "  inflating: train/labels/image0593_jpg.rf.60088fa86bf0c6e9b8cdc5497d9b53eb.txt  \n",
            "  inflating: train/labels/image0593_jpg.rf.650a670ebe501e7c5d8dc8a51ce08d36.txt  \n",
            "  inflating: train/labels/image0595_jpg.rf.4d9c1dad5ca451cfb34e451b8ccc0e42.txt  \n",
            "  inflating: train/labels/image0595_jpg.rf.9cef13df1d20cba09311307fc6da895c.txt  \n",
            "  inflating: train/labels/image0595_jpg.rf.ce92b8f8897eb7676835191e53cca8ae.txt  \n",
            "  inflating: train/labels/image0603_jpg.rf.4226657684761d0c03227883742e6da8.txt  \n",
            "  inflating: train/labels/image0603_jpg.rf.6d76f51e7e946b01a5940f002150e276.txt  \n",
            "  inflating: train/labels/image0603_jpg.rf.b3a3905f204f51a013335e5bd2728683.txt  \n",
            "  inflating: train/labels/image0608_jpg.rf.4f0549a0330214fde0028c3d73edb538.txt  \n",
            "  inflating: train/labels/image0608_jpg.rf.d011f691d81603e1159235f4e20cf135.txt  \n",
            "  inflating: train/labels/image0608_jpg.rf.d09c61e326fc0b742f53bee3c247af10.txt  \n",
            "  inflating: train/labels/image0610_jpg.rf.00bfef9600d1dde0eb47bb6d8e5f642d.txt  \n",
            "  inflating: train/labels/image0610_jpg.rf.4e45c260029c2cdd81005619aefb59ec.txt  \n",
            "  inflating: train/labels/image0610_jpg.rf.ef5eb9ce361aeeddf9c240f097f0ac7c.txt  \n",
            "  inflating: train/labels/image0612_jpg.rf.1b9b22d0534713aab038c66a8ea02f67.txt  \n",
            "  inflating: train/labels/image0612_jpg.rf.664dde87dd74232e7e10f5d464308a18.txt  \n",
            "  inflating: train/labels/image0612_jpg.rf.a9dea58424c9a7df7ec7a20ea5cf43be.txt  \n",
            "  inflating: train/labels/image0614_jpg.rf.2dac020d837f4e3ea02a548e0e1df94a.txt  \n",
            "  inflating: train/labels/image0614_jpg.rf.47e21fac13d85c868d3452a15e127172.txt  \n",
            "  inflating: train/labels/image0614_jpg.rf.6ae3f6f24e99fbfa3a7380e22af3f7e5.txt  \n",
            "  inflating: train/labels/image0617_jpg.rf.222ebca127e236ae83aa44fb175349cc.txt  \n",
            "  inflating: train/labels/image0617_jpg.rf.618e1d70dc4fdcb3a1db037e72a38c81.txt  \n",
            "  inflating: train/labels/image0617_jpg.rf.d8bad5abf0152b156a28208b3462060e.txt  \n",
            "  inflating: train/labels/image0621_jpg.rf.06955b2e778fc323432c24e42af2a75d.txt  \n",
            "  inflating: train/labels/image0621_jpg.rf.06c466c514da4ad300cd33deea67da07.txt  \n",
            "  inflating: train/labels/image0621_jpg.rf.e0802246e457be6d6b3d0546b8520974.txt  \n",
            "  inflating: train/labels/image0624_jpg.rf.0754bf3a9e7159fffcd8543c8fd3f9b7.txt  \n",
            "  inflating: train/labels/image0624_jpg.rf.4fcae475e6978d8adb946bc53cd07753.txt  \n",
            "  inflating: train/labels/image0624_jpg.rf.924e4d3749644b557dee9452338c8b84.txt  \n",
            " extracting: train/labels/image0625_jpg.rf.418957b37f0bf13fa90100d33a2b8615.txt  \n",
            " extracting: train/labels/image0625_jpg.rf.9a841d8b28189bc42bff7479eaccf6ee.txt  \n",
            " extracting: train/labels/image0625_jpg.rf.cfc5eb954593ce868b57f174b8db714f.txt  \n",
            " extracting: train/labels/image0627_jpg.rf.1d31d15d16e473731123c638b387634a.txt  \n",
            " extracting: train/labels/image0627_jpg.rf.f3a9d2e8485edb99ccc0eb1c3e3ca6ad.txt  \n",
            " extracting: train/labels/image0627_jpg.rf.fc9b84702cfb9aba53e9d3d05ddfb1fd.txt  \n",
            " extracting: train/labels/image0636_jpg.rf.2c93dd8d0950dd5da3c5dec4d27f5846.txt  \n",
            " extracting: train/labels/image0636_jpg.rf.97001afca8929ce3fa0f65efdaa446bf.txt  \n",
            " extracting: train/labels/image0636_jpg.rf.d156607843c1c80f09e5422afeff5c9e.txt  \n",
            "  inflating: train/labels/image0637_jpg.rf.6fb8f6997b0b7734f2af045069c16258.txt  \n",
            "  inflating: train/labels/image0637_jpg.rf.ef63fdbc874bcd975c188d4ccdf5f6b1.txt  \n",
            "  inflating: train/labels/image0637_jpg.rf.f1c3bfec0aa2e6fffff15d521d727193.txt  \n",
            "  inflating: train/labels/image0642_jpg.rf.358807499627a67516f32e3d712478a6.txt  \n",
            "  inflating: train/labels/image0642_jpg.rf.68ce2dae2889010abedfb7b8fc419dbd.txt  \n",
            "  inflating: train/labels/image0642_jpg.rf.cf189c4b1106e5b80573c983e1a68bdb.txt  \n",
            "  inflating: train/labels/image0643_jpg.rf.9025cb0da945e23231bc7d7c8f38518c.txt  \n",
            "  inflating: train/labels/image0643_jpg.rf.c5cd9463a4672099ac4158c54795fd46.txt  \n",
            "  inflating: train/labels/image0643_jpg.rf.fbf6d13bb9e185ffed9949ca7f4c2db6.txt  \n",
            "  inflating: train/labels/image0644_jpg.rf.1cab7e61fd81bc4f2f09faded6a0eed1.txt  \n",
            "  inflating: train/labels/image0644_jpg.rf.41fd1b4f2fb83ff720d8c2dedd4fa37b.txt  \n",
            "  inflating: train/labels/image0644_jpg.rf.84423e39a2a3861d3db9618eefd21b02.txt  \n",
            "  inflating: train/labels/image0646_jpg.rf.0a9ef6ff0e0345e5de6e6bd4ec0e340d.txt  \n",
            "  inflating: train/labels/image0646_jpg.rf.75586832c858975a683c7f3fa3994895.txt  \n",
            "  inflating: train/labels/image0646_jpg.rf.c365c3eb10dcac2380bfddc53ed25fa4.txt  \n",
            "  inflating: train/labels/image0649_jpg.rf.8e0f4cf1cd272a77c229696c56fbfb98.txt  \n",
            "  inflating: train/labels/image0649_jpg.rf.c765af617fa56a9a20f0573ce725b3d7.txt  \n",
            "  inflating: train/labels/image0649_jpg.rf.d7d91e78400f8777b50b51315a2a95c8.txt  \n",
            "  inflating: train/labels/image0650_jpg.rf.7fb42e95395d27cbed092a9bc7b3d21c.txt  \n",
            "  inflating: train/labels/image0650_jpg.rf.91e57768a74cce9fcdc54325602965eb.txt  \n",
            "  inflating: train/labels/image0650_jpg.rf.97949d485987103d513fce3955bb8728.txt  \n",
            "  inflating: train/labels/image0655_jpg.rf.0934e9e0bf7eb398c69fb737f4e0f1c0.txt  \n",
            "  inflating: train/labels/image0655_jpg.rf.37c6f91c130ca91968ba01f900c29d41.txt  \n",
            "  inflating: train/labels/image0655_jpg.rf.97c153ca4033046903eb7a608c54b3d3.txt  \n",
            "  inflating: train/labels/image0656_jpg.rf.988e794290817c15578444f5ad8a15f7.txt  \n",
            "  inflating: train/labels/image0656_jpg.rf.990438e292bc54b35a12c2a19e2030d2.txt  \n",
            "  inflating: train/labels/image0656_jpg.rf.a8a040167d02f4dd3670bbda512efe78.txt  \n",
            "  inflating: train/labels/image0659_jpg.rf.7ea32a9d4054c2f6dd427564ab0b1731.txt  \n",
            "  inflating: train/labels/image0659_jpg.rf.d0784263eb6c94c4f89771aab55238a8.txt  \n",
            "  inflating: train/labels/image0659_jpg.rf.eda29127c6b36ad865f9f19420616cb7.txt  \n",
            "  inflating: train/labels/image0663_jpg.rf.41fb0d4cf9d49fe54eb80f47dddef9de.txt  \n",
            "  inflating: train/labels/image0663_jpg.rf.b6ab490f21dce571e157f4439f599e6b.txt  \n",
            "  inflating: train/labels/image0663_jpg.rf.f01cb10a3bdbcbc1949b1f17334cf28e.txt  \n",
            "  inflating: train/labels/image0665_jpg.rf.b2f2faed1eade8b38c758760fe9bbd24.txt  \n",
            "  inflating: train/labels/image0665_jpg.rf.bbd3d7cab891b91fb9844efe010205c0.txt  \n",
            "  inflating: train/labels/image0665_jpg.rf.fc950087e573faf580a8171f45222607.txt  \n",
            "  inflating: train/labels/image0666_jpg.rf.157844cf8f6a9b08966caf17c2d0cd46.txt  \n",
            "  inflating: train/labels/image0666_jpg.rf.676cabd3a626bf9c21dced234846346c.txt  \n",
            "  inflating: train/labels/image0666_jpg.rf.79ffabab20a38c9f04967e6fd0dbde8f.txt  \n",
            "  inflating: train/labels/image0668_jpg.rf.6f1b3f666ae7d5c564aaf142485af430.txt  \n",
            "  inflating: train/labels/image0668_jpg.rf.a8b66b2c9c4ff1a53da5f57dd54c5359.txt  \n",
            "  inflating: train/labels/image0668_jpg.rf.f831ea3c94e8fbe4629ee801b334c223.txt  \n",
            "  inflating: train/labels/image0670_jpg.rf.7d6494f07b94937331c5f53a34580bc2.txt  \n",
            "  inflating: train/labels/image0670_jpg.rf.8d0e4564891f38300907a85da5251dd5.txt  \n",
            "  inflating: train/labels/image0670_jpg.rf.fce77888c6cc552790145670a9611670.txt  \n",
            "  inflating: train/labels/image0671_jpg.rf.4e3c99fa717555f6d1c2ffc28ca80e14.txt  \n",
            "  inflating: train/labels/image0671_jpg.rf.b4ee5c7fb0566048923481e79a8e000f.txt  \n",
            "  inflating: train/labels/image0671_jpg.rf.df796a097d9a83300942854d19f991b4.txt  \n",
            "  inflating: train/labels/image0672_jpg.rf.114e12388ad9082583bc3053b13a2cb2.txt  \n",
            "  inflating: train/labels/image0672_jpg.rf.32f63df6b1b93e4e4473ebb0722afadb.txt  \n",
            "  inflating: train/labels/image0672_jpg.rf.767c362b314f9f61d6901f867841c162.txt  \n",
            "  inflating: train/labels/image0684_jpg.rf.361002d42ce9a69da7edc4ab705734e0.txt  \n",
            "  inflating: train/labels/image0684_jpg.rf.54d4d4054c538171db3ff4bef3962631.txt  \n",
            "  inflating: train/labels/image0684_jpg.rf.d90204c47e01a64f7554687d0394bf60.txt  \n",
            "  inflating: train/labels/image0686_jpg.rf.0c28d473e2cca9bfeae89231a894989b.txt  \n",
            "  inflating: train/labels/image0686_jpg.rf.5a7b333174518e2dec502024bba1df76.txt  \n",
            "  inflating: train/labels/image0686_jpg.rf.929e379064e19ce59190994f8490c2b1.txt  \n",
            "  inflating: train/labels/image0689_jpg.rf.5087d1f53ebebd6c1bd0588fc89650cd.txt  \n",
            "  inflating: train/labels/image0689_jpg.rf.b02ffa35526c313aaf74684736409bdc.txt  \n",
            "  inflating: train/labels/image0689_jpg.rf.df39d34d59cfab3539decc21815c945c.txt  \n",
            "  inflating: train/labels/image0690_jpg.rf.8bc925ed0df7dce984255ec630322f43.txt  \n",
            "  inflating: train/labels/image0690_jpg.rf.8dfb7e717910e7fa83f12b79dc4a6be1.txt  \n",
            "  inflating: train/labels/image0690_jpg.rf.dd76a4ecf1b7ab9adf4e535ec6be75f7.txt  \n",
            "  inflating: train/labels/image0699_jpg.rf.1d281ccf42d9ba60c5dd591b91ecc11b.txt  \n",
            "  inflating: train/labels/image0699_jpg.rf.9a0130b17bf90d3a163621430bfbcf8a.txt  \n",
            "  inflating: train/labels/image0699_jpg.rf.e82bc18a6637964515738cc9c470c718.txt  \n",
            "  inflating: train/labels/image0700_jpg.rf.39dbe4677d1d84b17b38e0a84a18ed93.txt  \n",
            "  inflating: train/labels/image0700_jpg.rf.c2118890c834a3a6484f61abc607317e.txt  \n",
            "  inflating: train/labels/image0700_jpg.rf.eeb2746c244347f60df88a51b15f4b74.txt  \n",
            "  inflating: train/labels/image0703_jpg.rf.1afe1a77f3cba4c8b60548a91ca47aef.txt  \n",
            "  inflating: train/labels/image0703_jpg.rf.58c50cf58e4bab4d485ae4c9f1507514.txt  \n",
            "  inflating: train/labels/image0703_jpg.rf.ce06e60ade34176917c7dadc4cdb65ed.txt  \n",
            "  inflating: train/labels/image0709_jpg.rf.0c3a5cb40d1d3715b5e94626cb319bf3.txt  \n",
            "  inflating: train/labels/image0709_jpg.rf.94749b6eedc27f82003565d9b8f7e485.txt  \n",
            "  inflating: train/labels/image0709_jpg.rf.eeaa0b82a10208cfa806f4fd4ca6c28c.txt  \n",
            "  inflating: train/labels/image0710_jpg.rf.5536750de85caf6eba38f92cf1b65d40.txt  \n",
            "  inflating: train/labels/image0710_jpg.rf.aea8403f12ce95a500c930280e2fa907.txt  \n",
            "  inflating: train/labels/image0710_jpg.rf.e73139117f31d9480863a4a238679cfd.txt  \n",
            "  inflating: train/labels/image0713_jpg.rf.3eb5a81c88b361b0e8e1419f58b02b35.txt  \n",
            "  inflating: train/labels/image0713_jpg.rf.75d8771308e194f190e458b4399ed7d5.txt  \n",
            "  inflating: train/labels/image0713_jpg.rf.e991b837bcc96fd476ba10fa7011fcc8.txt  \n",
            "  inflating: train/labels/image0714_jpg.rf.585d960a201e23d579a6a4f8b42142a7.txt  \n",
            "  inflating: train/labels/image0714_jpg.rf.8d045ac59b5286ffd6e8e0d344da449d.txt  \n",
            "  inflating: train/labels/image0714_jpg.rf.f4aa22c2b09d2a18cdf6bdbe048debdb.txt  \n",
            "  inflating: train/labels/image0718_jpg.rf.444f9b2fc28f590cae245984e9e46dec.txt  \n",
            "  inflating: train/labels/image0718_jpg.rf.6a6f7481e9f64edf0a7f9d7c23da2ebd.txt  \n",
            "  inflating: train/labels/image0718_jpg.rf.a7e8d43eca178203a87a3d813b4c7d70.txt  \n",
            "  inflating: train/labels/image0722_jpg.rf.3d67e273428c4a50f1df14c8037a47ed.txt  \n",
            "  inflating: train/labels/image0722_jpg.rf.e223685297e8daa417c25f4676d713ee.txt  \n",
            "  inflating: train/labels/image0722_jpg.rf.f0ebda9267669805f77f752de22b1810.txt  \n",
            "  inflating: train/labels/image0724_jpg.rf.043f63cf2c2bfbbe18d7cfa46153584e.txt  \n",
            "  inflating: train/labels/image0724_jpg.rf.5c022c4dd346e01e100a4f765e7c47c3.txt  \n",
            "  inflating: train/labels/image0724_jpg.rf.9b3a80979970ef505b3bb75f9c58f732.txt  \n",
            "  inflating: train/labels/image0726_jpg.rf.a0369204fd98b4ac1fab489e57e261cb.txt  \n",
            "  inflating: train/labels/image0726_jpg.rf.a12c9fb078aff8dd98b76bf480eb71dd.txt  \n",
            "  inflating: train/labels/image0726_jpg.rf.b269d4befd56dacfa9c8827f0f981574.txt  \n",
            "  inflating: train/labels/image0727_jpg.rf.107044e5b2dc0f2927ca3a8d0de615fb.txt  \n",
            "  inflating: train/labels/image0727_jpg.rf.4dd36c8239063c6b505d09e2fd8d0dc3.txt  \n",
            "  inflating: train/labels/image0727_jpg.rf.5d0d796af9a728a68c979acef7655d8f.txt  \n",
            "  inflating: train/labels/image0738_jpg.rf.bece304ac37e0aed620f6d485e517325.txt  \n",
            "  inflating: train/labels/image0738_jpg.rf.f654717f7899ff18145925fcbe8568c2.txt  \n",
            "  inflating: train/labels/image0738_jpg.rf.ffffefa0c50d2cd9b4985e35d8a0239f.txt  \n",
            "  inflating: train/labels/image0742_jpg.rf.1bdc1cddbd30d935e335b9220ec5fd28.txt  \n",
            "  inflating: train/labels/image0742_jpg.rf.4116dbe5d95b624ff2d79c233b1a1bc3.txt  \n",
            "  inflating: train/labels/image0742_jpg.rf.951d9917c3fc3d6eef9dc7b1a6345364.txt  \n",
            "  inflating: train/labels/image0745_jpg.rf.1abbcbe46ec64d879274d1e7984157ae.txt  \n",
            "  inflating: train/labels/image0745_jpg.rf.341311de3ace22869ea54cfaf18ff484.txt  \n",
            "  inflating: train/labels/image0745_jpg.rf.7b63308e64e2f69b0eba3a407d51c98c.txt  \n",
            "  inflating: train/labels/image0746_jpg.rf.192a8c08885453ea38b04979e9a0aade.txt  \n",
            "  inflating: train/labels/image0746_jpg.rf.5c67769d53b906e7e795dc984d681144.txt  \n",
            "  inflating: train/labels/image0746_jpg.rf.d39aa16697133467f810bb51475821ef.txt  \n",
            "  inflating: train/labels/image0747_jpg.rf.3882fb7a48c84be2b1d08e02abb4924f.txt  \n",
            "  inflating: train/labels/image0747_jpg.rf.6f6101e22f4c6cecf4509eb9427bf9ba.txt  \n",
            "  inflating: train/labels/image0747_jpg.rf.b02e39d60e2a4824a4ff9a22b37eb314.txt  \n",
            "  inflating: train/labels/image0749_jpg.rf.6f3b86d74a33ffad82dba0b1cf8b245e.txt  \n",
            "  inflating: train/labels/image0749_jpg.rf.76392fca97184316080df9f1b996290e.txt  \n",
            "  inflating: train/labels/image0749_jpg.rf.a5242c5ba3b4b99b94adedd04cf27834.txt  \n",
            "  inflating: train/labels/image0751_jpg.rf.285cd29ab6091e3e918a5722af7ddab0.txt  \n",
            "  inflating: train/labels/image0751_jpg.rf.a50de0ea82f0346a73d2cff45aa0179b.txt  \n",
            "  inflating: train/labels/image0751_jpg.rf.c3aae290314c74019a5565fdaecece55.txt  \n",
            "  inflating: train/labels/image0760_jpg.rf.227ef368a09cd926a6d6ca3ce751b863.txt  \n",
            "  inflating: train/labels/image0760_jpg.rf.64198bcad8a762d237f453c01ae58d6f.txt  \n",
            "  inflating: train/labels/image0760_jpg.rf.f5d52259d6a94b736c8e05061236f6e2.txt  \n",
            "  inflating: train/labels/image0761_jpg.rf.04f69288a914dee0e23cd2b69cf94750.txt  \n",
            "  inflating: train/labels/image0761_jpg.rf.606bf66f1cc87d34a5c1e064d86736db.txt  \n",
            "  inflating: train/labels/image0761_jpg.rf.f1e013ad6fd9b6861455dee1a79425aa.txt  \n",
            "  inflating: train/labels/image0767_jpg.rf.29f4adaab6f7660c656fa5029021ab02.txt  \n",
            "  inflating: train/labels/image0767_jpg.rf.59b37f98ae24f82e5a3a6f45411cea1e.txt  \n",
            "  inflating: train/labels/image0767_jpg.rf.63b46c52d641205921998152f714f142.txt  \n",
            "  inflating: train/labels/image0769_jpg.rf.32a4da51f90a81d12b3cef40903a262b.txt  \n",
            "  inflating: train/labels/image0769_jpg.rf.68ab6ddd811d11eb847898374eb84001.txt  \n",
            "  inflating: train/labels/image0769_jpg.rf.8856fd940f0c545f1ac3d632d3cf7a46.txt  \n",
            "  inflating: train/labels/image0775_jpg.rf.730cf23cc3f8521e0d371723d63f2038.txt  \n",
            "  inflating: train/labels/image0775_jpg.rf.93651f55a89828b73663288ddc8e8d98.txt  \n",
            "  inflating: train/labels/image0775_jpg.rf.d59c303ff4ce3bbf746e233340d96f74.txt  \n",
            "  inflating: train/labels/image0778_jpg.rf.7e2208963b25ceebefe75337f9e7bcc9.txt  \n",
            "  inflating: train/labels/image0778_jpg.rf.99cc25985ca7823526794ec2984d92ac.txt  \n",
            "  inflating: train/labels/image0778_jpg.rf.b63dd5c239aa6497b979d6dc5fa72c0f.txt  \n",
            "  inflating: train/labels/image0779_jpg.rf.5a96dba63339c5c37b19149af680c6dd.txt  \n",
            "  inflating: train/labels/image0779_jpg.rf.a374b823b3f3da045d4d20cccb116416.txt  \n",
            "  inflating: train/labels/image0779_jpg.rf.ce9982072262d1807a01ef34510e14e7.txt  \n",
            "  inflating: train/labels/image0785_jpg.rf.6c77d3ccd78754b10bdf04727b925cc8.txt  \n",
            "  inflating: train/labels/image0785_jpg.rf.7dbc02f5a152122eb6bfb0adbb96ff77.txt  \n",
            "  inflating: train/labels/image0785_jpg.rf.fdae7f257faafb04dcdee3453eed6050.txt  \n",
            "  inflating: train/labels/image0790_jpg.rf.5959e3f6f49559213d6665c63c7cf85f.txt  \n",
            "  inflating: train/labels/image0790_jpg.rf.701fdfc4a5707fe7950592474042c5b2.txt  \n",
            "  inflating: train/labels/image0790_jpg.rf.e0d95c74f7444c50c8773ac7000856bc.txt  \n",
            "  inflating: train/labels/image0792_jpg.rf.1148778a1b330992e9b5cc3da7233908.txt  \n",
            "  inflating: train/labels/image0792_jpg.rf.8038b4c005aef4a22801c05c0865a4a7.txt  \n",
            "  inflating: train/labels/image0792_jpg.rf.a01efde23d58ff78fe9c62539b48a514.txt  \n",
            "  inflating: train/labels/image0794_jpg.rf.1b07554e5b0324fd82e750445349a292.txt  \n",
            "  inflating: train/labels/image0794_jpg.rf.91b3e511b4a4c43583890167445770ce.txt  \n",
            "  inflating: train/labels/image0794_jpg.rf.fa7a5643ec165eb9bf51f6d36eb293a0.txt  \n",
            "  inflating: train/labels/image0795_jpg.rf.075bd81aed4fb848f889dfaddcc73f9a.txt  \n",
            "  inflating: train/labels/image0795_jpg.rf.587ba1af0d02f8415d21f5c49e5d94ed.txt  \n",
            "  inflating: train/labels/image0795_jpg.rf.f6d4dbdf9e87d3cce76014e069d245cd.txt  \n",
            "  inflating: train/labels/image0798_jpg.rf.5e2f356b8eb4a6e0736b737855e5ab20.txt  \n",
            "  inflating: train/labels/image0798_jpg.rf.73e9b827c02e74b4ac92a874defa4d5c.txt  \n",
            "  inflating: train/labels/image0798_jpg.rf.ce5504cf73353fa5d7e1c4ec16924cc4.txt  \n",
            "  inflating: train/labels/image0804_jpg.rf.37fda0533853d2a402e713b93351c7f9.txt  \n",
            "  inflating: train/labels/image0804_jpg.rf.8105f0141acd3584b14ff8506655d5aa.txt  \n",
            "  inflating: train/labels/image0804_jpg.rf.862d949dc587a8da0e033514d8d46b06.txt  \n",
            "  inflating: train/labels/image0809_jpg.rf.267ddc20df7e0a963b86282faf16d724.txt  \n",
            "  inflating: train/labels/image0809_jpg.rf.4228580da415554f6739f3d35b137777.txt  \n",
            "  inflating: train/labels/image0809_jpg.rf.c7c025ccf1b2b1a49f7c7b01f2e6e593.txt  \n",
            "  inflating: train/labels/image0810_jpg.rf.371a94c09d808969e2d32a5e1b570e2b.txt  \n",
            "  inflating: train/labels/image0810_jpg.rf.624f3835c32479c1485a6d53e5ba1070.txt  \n",
            "  inflating: train/labels/image0810_jpg.rf.f63717817db2f1cbae862a72dd95c4d7.txt  \n",
            "  inflating: train/labels/image0812_jpg.rf.07efe08c89c9fae6a1c99ff29b994648.txt  \n",
            "  inflating: train/labels/image0812_jpg.rf.445b91f3003bba411b8646901f673ac9.txt  \n",
            "  inflating: train/labels/image0812_jpg.rf.b509dd8d25702f0fffc140ee2092b959.txt  \n",
            "  inflating: train/labels/image0816_jpg.rf.697c696171d5f7a6f4ddffbef3a506b7.txt  \n",
            "  inflating: train/labels/image0816_jpg.rf.d62dcc55e7c56890a0d238d4b09c90d6.txt  \n",
            "  inflating: train/labels/image0816_jpg.rf.fe1de623d142aed758c9579182af1251.txt  \n",
            "  inflating: train/labels/image0817_jpg.rf.590fbce5b9c69dd7617c4328a62f0f25.txt  \n",
            "  inflating: train/labels/image0817_jpg.rf.bd38125578e5c55a74f804265715bb9a.txt  \n",
            "  inflating: train/labels/image0817_jpg.rf.c01a320ad6316bb00e1c848fd49e12fe.txt  \n",
            "  inflating: train/labels/image0820_jpg.rf.211348c357b77e89e830f036515f4632.txt  \n",
            "  inflating: train/labels/image0820_jpg.rf.43282d979c6600965dab564399df97a5.txt  \n",
            "  inflating: train/labels/image0820_jpg.rf.57bcef42668eb09f08d441cdeeea80ea.txt  \n",
            "  inflating: train/labels/image0821_jpg.rf.0efd76bab5f5d728d38ba87c137b5f01.txt  \n",
            "  inflating: train/labels/image0821_jpg.rf.ca7a7bd3f1b4450f851060fbe5b43c7b.txt  \n",
            "  inflating: train/labels/image0821_jpg.rf.d879b4ac4ec1a3f3f0b6b5e0dbb5a575.txt  \n",
            "  inflating: train/labels/image0826_jpg.rf.1c96e0f5a1ef85b90ac87a8ca492ba7c.txt  \n",
            "  inflating: train/labels/image0826_jpg.rf.96edd1b42b9ff3651768bf2352154b80.txt  \n",
            "  inflating: train/labels/image0826_jpg.rf.fe8d11b08ee1716f69fa274c22254b78.txt  \n",
            "  inflating: train/labels/image0831_jpg.rf.04de4ba44effa8333c03e63691c15ffd.txt  \n",
            "  inflating: train/labels/image0831_jpg.rf.96c7ee99d7e713d60ca143164bf00a27.txt  \n",
            "  inflating: train/labels/image0831_jpg.rf.9fa73868ab3f992ca01aae23e0516580.txt  \n",
            "  inflating: train/labels/image0832_jpg.rf.05b95c803e7b150779e8b609a75257b8.txt  \n",
            "  inflating: train/labels/image0832_jpg.rf.69a00b84c178ac9cad298838c35a63e1.txt  \n",
            "  inflating: train/labels/image0832_jpg.rf.d7c40b6bdecfb9bed6ae63d3dc648bac.txt  \n",
            "  inflating: train/labels/image0834_jpg.rf.2b7acb7f339c87bfd4b0a0aa87d8a9a5.txt  \n",
            "  inflating: train/labels/image0834_jpg.rf.866fdc3f2ff45dd6f909fd2ffe6e807a.txt  \n",
            "  inflating: train/labels/image0834_jpg.rf.a7e9e29b85f5456b9bae08b134d87be0.txt  \n",
            "  inflating: train/labels/image0840_jpg.rf.1baa9b4a97c0a87596fa08575a27b429.txt  \n",
            "  inflating: train/labels/image0840_jpg.rf.79f27f3266a67f80d70b20a0fb70d5be.txt  \n",
            "  inflating: train/labels/image0840_jpg.rf.bec4cb95b3de227e836028d251f4cfbb.txt  \n",
            "  inflating: train/labels/image0845_jpg.rf.40adc534e326ab727baf97a0d16cb3bc.txt  \n",
            "  inflating: train/labels/image0845_jpg.rf.7bf2040707a765c2834f3a2140e82635.txt  \n",
            "  inflating: train/labels/image0845_jpg.rf.92975994dfa416babc4aca5986846ad5.txt  \n",
            "  inflating: train/labels/image0848_jpg.rf.969d1c1b01bfa2c7f2d59c957f2abdae.txt  \n",
            "  inflating: train/labels/image0848_jpg.rf.97cf9bd6bd2202f4e017431c5bf163ab.txt  \n",
            "  inflating: train/labels/image0848_jpg.rf.da8805399855b5c2a1ef990d147c66ba.txt  \n",
            "  inflating: train/labels/image0853_jpg.rf.c585bb440154a5672c32fa8a6f7cec3c.txt  \n",
            "  inflating: train/labels/image0853_jpg.rf.de2b862225a25f01c3b0f070e88805a7.txt  \n",
            "  inflating: train/labels/image0853_jpg.rf.f930b657dbfede05b6464bc22f27b8e2.txt  \n",
            "  inflating: train/labels/image0855_jpg.rf.b2b7a22207eddd4eaafd360a6036808c.txt  \n",
            "  inflating: train/labels/image0855_jpg.rf.c3d1a76ef690ac638b3d779cc143cd1e.txt  \n",
            "  inflating: train/labels/image0855_jpg.rf.e4603970cb3734a7d6ae1e090e421330.txt  \n",
            "  inflating: train/labels/image0858_jpg.rf.3b53eeaa63ccb0b8902a7a65c744c52e.txt  \n",
            "  inflating: train/labels/image0858_jpg.rf.a6198869c21503d3421dd9c482cfc2a4.txt  \n",
            "  inflating: train/labels/image0858_jpg.rf.fb0fea880e095b64de52f69b8c2e9108.txt  \n",
            "  inflating: train/labels/image0864_jpg.rf.78fbc5c2adabeee70ba4c5c0e42a9de1.txt  \n",
            "  inflating: train/labels/image0864_jpg.rf.86dbc4386a0531e8a53043986933aeb7.txt  \n",
            "  inflating: train/labels/image0864_jpg.rf.e22a8f1c2465b5a7625a027ec93613df.txt  \n",
            "  inflating: train/labels/image0867_jpg.rf.1eff082eaef5688477a9e7babf8a1de5.txt  \n",
            "  inflating: train/labels/image0867_jpg.rf.269ad3d921dee6d019e166d741d87a7c.txt  \n",
            "  inflating: train/labels/image0867_jpg.rf.7d5594c46a826f87d2c1aeff0e60e1c4.txt  \n",
            "  inflating: train/labels/image0871_jpg.rf.4c9429366b6870783af7e575bd64b869.txt  \n",
            "  inflating: train/labels/image0871_jpg.rf.71caa5d8a058aa82543729c07d8b9612.txt  \n",
            "  inflating: train/labels/image0871_jpg.rf.e1cc0762ecb9fd65559c6a8e346bcbc1.txt  \n",
            "  inflating: train/labels/image0875_jpg.rf.47e31f480c56751f5968f79e22bc8db3.txt  \n",
            "  inflating: train/labels/image0875_jpg.rf.dfc8b6b9e70c24cc82bc4e3e470fe138.txt  \n",
            "  inflating: train/labels/image0875_jpg.rf.ea12b7d81fd990d70a4243859efff357.txt  \n",
            "  inflating: train/labels/image0876_jpg.rf.39097902715ebd1c83be5dca05a28f6b.txt  \n",
            "  inflating: train/labels/image0876_jpg.rf.9bd65a49fae77f501432905eb481f3ac.txt  \n",
            "  inflating: train/labels/image0876_jpg.rf.e02659397ccb8e5674e1e2d6674c0307.txt  \n",
            "  inflating: train/labels/image0878_jpg.rf.2469d4f0926f98c56bac14ea0185eb2a.txt  \n",
            "  inflating: train/labels/image0878_jpg.rf.32270fb7d65f832ee03b84618967022c.txt  \n",
            "  inflating: train/labels/image0878_jpg.rf.717f2bc4d7a8ce07fda25c0bb43d708e.txt  \n",
            "  inflating: train/labels/image0879_jpg.rf.33697f03d49f7f91adf65e578f088ccc.txt  \n",
            "  inflating: train/labels/image0879_jpg.rf.3abc7f5f15ace0ed748e9fc79b82da5f.txt  \n",
            "  inflating: train/labels/image0879_jpg.rf.6d4e624c1914c37bb9cacc7d248ef00d.txt  \n",
            "  inflating: train/labels/image0881_jpg.rf.41bdb9aaa455c8ade3d0661185ffc9ec.txt  \n",
            "  inflating: train/labels/image0881_jpg.rf.bf6222f1885b5284ef162a06a1b05218.txt  \n",
            "  inflating: train/labels/image0881_jpg.rf.c95771eda0bafd56fbfb542c5e7ed529.txt  \n",
            "  inflating: train/labels/image0886_jpg.rf.3caf8d93e567759de37f6a5e847ee5cb.txt  \n",
            "  inflating: train/labels/image0886_jpg.rf.63a3ac7d83eeb88cfbdf2181b56cda23.txt  \n",
            "  inflating: train/labels/image0886_jpg.rf.a50cb104514810d4ee3a5d7889896c2f.txt  \n",
            "  inflating: train/labels/image0897_jpg.rf.0778f58626b9c8c0fbce2e9edf7f62e3.txt  \n",
            "  inflating: train/labels/image0897_jpg.rf.3e1cfafc8ae03a4c7ac6f9ca27591f01.txt  \n",
            "  inflating: train/labels/image0897_jpg.rf.de3316a8ec3b2ec29280b0c110dd97cf.txt  \n",
            "  inflating: train/labels/image0901_jpg.rf.364aa7644ed8689739589293e6296463.txt  \n",
            "  inflating: train/labels/image0901_jpg.rf.8a6ef9b133a1f9b3e0a11bcabdc4e714.txt  \n",
            "  inflating: train/labels/image0901_jpg.rf.d11c477dfca1e7fe81fcffe68240b4de.txt  \n",
            "  inflating: train/labels/image0904_jpg.rf.4ff6dfee138f381ba4f215c695cb4e24.txt  \n",
            "  inflating: train/labels/image0904_jpg.rf.ade3e95c85427f0b8a90596aa967ab84.txt  \n",
            "  inflating: train/labels/image0904_jpg.rf.b9d5193c50d82ac1170432208b50f0de.txt  \n",
            "  inflating: train/labels/image0911_jpg.rf.4f6885509794ad7b5d4ddf5eacedf2f1.txt  \n",
            "  inflating: train/labels/image0911_jpg.rf.582da5481b1d619dea7ec665e1adf666.txt  \n",
            "  inflating: train/labels/image0911_jpg.rf.68280ba057594d8eb72dadb0c986d2e9.txt  \n",
            "  inflating: train/labels/image0912_jpg.rf.a3330ece79668a682c7eaf8356872245.txt  \n",
            "  inflating: train/labels/image0912_jpg.rf.c084809a8c5974af47f49e51f081be63.txt  \n",
            "  inflating: train/labels/image0912_jpg.rf.e1cfe593e670504ee6022ce375e91b93.txt  \n",
            "  inflating: train/labels/image0914_jpg.rf.07cca0fe278494d70ab0a7a13245d7e2.txt  \n",
            "  inflating: train/labels/image0914_jpg.rf.2fb3690fedbd82fafc62592d40b08199.txt  \n",
            "  inflating: train/labels/image0914_jpg.rf.38c343a8f75139e1caa7bfeddd499491.txt  \n",
            "  inflating: train/labels/image0916_jpg.rf.353fb9911fa5bae0275dedf35452a584.txt  \n",
            "  inflating: train/labels/image0916_jpg.rf.50073117e37bd8c1c04762f66f6e1d14.txt  \n",
            "  inflating: train/labels/image0916_jpg.rf.e491f593e5717d723d9e8cda4adba3ae.txt  \n",
            "  inflating: train/labels/image0918_jpg.rf.677791e3018e7f14ddd27e7d6eff08a5.txt  \n",
            "  inflating: train/labels/image0918_jpg.rf.79847ae30d13cc53fd33fe95865ae2ed.txt  \n",
            "  inflating: train/labels/image0918_jpg.rf.caf1569e766a56998cbfaf9b7bcb7257.txt  \n",
            "  inflating: train/labels/image0920_jpg.rf.552641f15ba3b75e70cf6f5a05130abe.txt  \n",
            "  inflating: train/labels/image0920_jpg.rf.5af2a9baa185155f8213f8361bb7c26e.txt  \n",
            "  inflating: train/labels/image0920_jpg.rf.7c872aa9132183a531894efe4ee8b146.txt  \n",
            "  inflating: train/labels/image0921_jpg.rf.5d0ad74721b57beaba286d276432f50e.txt  \n",
            "  inflating: train/labels/image0921_jpg.rf.d1121b117e3492a53d0488ed9e74f045.txt  \n",
            "  inflating: train/labels/image0921_jpg.rf.dd0f2ac749f7dafa5899d7adead863e5.txt  \n",
            "  inflating: train/labels/image0926_jpg.rf.048c718d7069ea303ebe6925f0e6bf25.txt  \n",
            "  inflating: train/labels/image0926_jpg.rf.2ab934aa084e536cce53653cbc642ce4.txt  \n",
            "  inflating: train/labels/image0926_jpg.rf.a4de2dea73fb3ebe2aee32fec419fc56.txt  \n",
            "  inflating: train/labels/image0927_jpg.rf.4f92177f79422c14eb83776f0e91ea7c.txt  \n",
            "  inflating: train/labels/image0927_jpg.rf.58d927101188f60ca32b26b8e2147b98.txt  \n",
            "  inflating: train/labels/image0927_jpg.rf.84586bedd403d8d77571bb0f30e9e46e.txt  \n",
            "  inflating: train/labels/image0928_jpg.rf.0085d4a00a013318f426de19217ef155.txt  \n",
            "  inflating: train/labels/image0928_jpg.rf.46eb9980e23d0aac8cb3c4c26475a27e.txt  \n",
            "  inflating: train/labels/image0928_jpg.rf.db61b55f960867a0af5a12f72764e46f.txt  \n",
            "  inflating: train/labels/image0931_jpg.rf.3dbc202291804e667112a6e90a23b936.txt  \n",
            "  inflating: train/labels/image0931_jpg.rf.7221f2e7fe6355b4020a12e72bb23bff.txt  \n",
            "  inflating: train/labels/image0931_jpg.rf.f2b7fd0282b4f847a0a41e7331ff8f41.txt  \n",
            "  inflating: train/labels/image0932_jpg.rf.09d9d0a3ad3be02c6fc44a92f8956294.txt  \n",
            "  inflating: train/labels/image0932_jpg.rf.b24b8e3d2fea8b9e69acda27f9b14977.txt  \n",
            "  inflating: train/labels/image0932_jpg.rf.dd71e4a3c93b937eb50e9fb97611818a.txt  \n",
            "  inflating: train/labels/image0942_jpg.rf.513384cd6ef7e23a87d79357696b8abf.txt  \n",
            "  inflating: train/labels/image0942_jpg.rf.99ebc43cf74168913617692f35def171.txt  \n",
            "  inflating: train/labels/image0942_jpg.rf.a233c2332c8fb14bd7801bcfa07cf907.txt  \n",
            "  inflating: train/labels/image0943_jpg.rf.49860759922f5307fa4b06460893e191.txt  \n",
            "  inflating: train/labels/image0943_jpg.rf.8128a54bc5e0c109183b89286a5aa132.txt  \n",
            "  inflating: train/labels/image0943_jpg.rf.df810c23cdc58d788b2609c8b7541d55.txt  \n",
            "  inflating: train/labels/image0944_jpg.rf.0a129f1edbf33291fa8a4564f7f7995f.txt  \n",
            "  inflating: train/labels/image0944_jpg.rf.2119636120083f30b092ae7ac5bb4aba.txt  \n",
            "  inflating: train/labels/image0944_jpg.rf.896369b7a362b480262bf61eee4dae89.txt  \n",
            "  inflating: train/labels/image0946_jpg.rf.16abae2d4faf0249ec35ec9c83ff4d7a.txt  \n",
            "  inflating: train/labels/image0946_jpg.rf.b6535822d39c717316596feaecfc38c9.txt  \n",
            "  inflating: train/labels/image0946_jpg.rf.ecff022768f3e80e0dec6038f46516dc.txt  \n",
            "  inflating: train/labels/image0948_jpg.rf.61d1b00958396331ad7f6cfcbca169ca.txt  \n",
            "  inflating: train/labels/image0948_jpg.rf.854b50c12dc4f5fbcc08611b5227a9f2.txt  \n",
            "  inflating: train/labels/image0948_jpg.rf.b8cfa38d0506a417420c587443f011e5.txt  \n",
            "  inflating: train/labels/image0950_jpg.rf.186ae2534a0dcfe4ec5706f8bf6bc887.txt  \n",
            "  inflating: train/labels/image0950_jpg.rf.3949680bdb04601aea7daded62c1bfa7.txt  \n",
            "  inflating: train/labels/image0950_jpg.rf.d53e6827144d990a309465f39617acfa.txt  \n",
            "  inflating: train/labels/image0959_jpg.rf.09803236c67e13fe31502cbfbb093381.txt  \n",
            "  inflating: train/labels/image0959_jpg.rf.98372e1cd44a28361bafdbad087048c3.txt  \n",
            "  inflating: train/labels/image0959_jpg.rf.a7b15cffc2d31e417af2802111e24d0d.txt  \n",
            "  inflating: train/labels/image0962_jpg.rf.10dabd6216ccb35488146359a2ed792b.txt  \n",
            "  inflating: train/labels/image0962_jpg.rf.2b717e12149883a7f14f5f8dd7f4db2f.txt  \n",
            "  inflating: train/labels/image0962_jpg.rf.718c1887eb34e78f519c41bd5f4bc079.txt  \n",
            "  inflating: train/labels/image0964_jpg.rf.3921a3dbacae7a218e6c1ac7b622f242.txt  \n",
            "  inflating: train/labels/image0964_jpg.rf.411bece0a2923fd1fa1058403d5ea4a3.txt  \n",
            "  inflating: train/labels/image0964_jpg.rf.6087ea8c4e0f8b197d53b68a9fc5b332.txt  \n",
            "  inflating: train/labels/image0965_jpg.rf.16b0eb4795730396db77409667fe6a45.txt  \n",
            "  inflating: train/labels/image0965_jpg.rf.19b10434acfe024d911a6c4a53de8e48.txt  \n",
            "  inflating: train/labels/image0965_jpg.rf.75bc3e213d2fab54f4af8ca2e0b63f50.txt  \n",
            "  inflating: train/labels/image0969_jpg.rf.2f1ee3b5d89254cfe5aab51d7a9b0f06.txt  \n",
            "  inflating: train/labels/image0969_jpg.rf.30c27d78ff28932bfe82de9368c14e32.txt  \n",
            "  inflating: train/labels/image0969_jpg.rf.36081e2c9d39723ac69aebecac1b4b94.txt  \n",
            "  inflating: train/labels/image0973_jpg.rf.5b0ce7f4792de161fd54f677451f5d60.txt  \n",
            "  inflating: train/labels/image0973_jpg.rf.779174542b0eaed9aaa9c850c98c7eb0.txt  \n",
            "  inflating: train/labels/image0973_jpg.rf.9f24c5cfb3aedc13f869cf5a435ea939.txt  \n",
            " extracting: train/labels/image0975_jpg.rf.3bf0b6bcb047478090e4c31f08da2ade.txt  \n",
            " extracting: train/labels/image0975_jpg.rf.53d582f465dd5ed5e2f0b01d92c3d9f8.txt  \n",
            " extracting: train/labels/image0975_jpg.rf.674237bd1c0591f46f87c64c8ac0702e.txt  \n",
            "  inflating: train/labels/image0979_jpg.rf.2f74d6c1b36cd4d292e5dd91d015e201.txt  \n",
            "  inflating: train/labels/image0979_jpg.rf.3ba2dcde2d848292cba2383be46533ac.txt  \n",
            "  inflating: train/labels/image0979_jpg.rf.fd91efe004e69a84ce9ab878e91b865a.txt  \n",
            "  inflating: train/labels/image0981_jpg.rf.27503ce661d3c1b0a2cc8d8db62676b1.txt  \n",
            "  inflating: train/labels/image0981_jpg.rf.30dfb68db45c5243ad5db32c330bc1d1.txt  \n",
            "  inflating: train/labels/image0981_jpg.rf.c7273fb83e85be38ca4a7b4ec238d679.txt  \n",
            "  inflating: train/labels/image0982_jpg.rf.f722f019ec1b0b94ee9edae925551bdf.txt  \n",
            "  inflating: train/labels/image0982_jpg.rf.f7252e886e973b628140e7b022efdc4d.txt  \n",
            "  inflating: train/labels/image0982_jpg.rf.fe7ce2f99ff50132dbd72625d05940c6.txt  \n",
            "  inflating: train/labels/image0984_jpg.rf.021dbe1651267e22d1913cade0a72a6a.txt  \n",
            "  inflating: train/labels/image0984_jpg.rf.97fa43d7ae619d142dc1b2ce1d394aa8.txt  \n",
            "  inflating: train/labels/image0984_jpg.rf.e8d1ad7973a09c8f9bcf443d4c64ed42.txt  \n",
            "  inflating: train/labels/image0986_jpg.rf.200d5a2c29fe781e0625ee202ffc5042.txt  \n",
            "  inflating: train/labels/image0986_jpg.rf.688f4c8258e8c18e6a1068e27c080f78.txt  \n",
            "  inflating: train/labels/image0986_jpg.rf.ffe3a59c0e28c24361899f53efc79d8f.txt  \n",
            "  inflating: train/labels/image0994_jpg.rf.2f294cc5af326ba20e994bbc01bc13cb.txt  \n",
            "  inflating: train/labels/image0994_jpg.rf.58408bb4408db5614658fad7cafe5433.txt  \n",
            "  inflating: train/labels/image0994_jpg.rf.75edd7a2b5c18ed5ff162c838d840a07.txt  \n",
            "  inflating: train/labels/image1000_jpg.rf.68cacfe2a4b152b286c4b0c128df6027.txt  \n",
            "  inflating: train/labels/image1000_jpg.rf.88be22ee576edf138a57a475c931a645.txt  \n",
            "  inflating: train/labels/image1000_jpg.rf.cf213a8256c82680a221fa9ab2675069.txt  \n",
            "  inflating: train/labels/image1009_jpg.rf.1710354ed8d6bf603cf112814711f62a.txt  \n",
            "  inflating: train/labels/image1009_jpg.rf.cc13efd9342f368da7517d5af4d83437.txt  \n",
            "  inflating: train/labels/image1009_jpg.rf.d37e33e570f5a54bfa5b8e5b1ad6092c.txt  \n",
            "  inflating: train/labels/image1010_jpg.rf.23aa05c1647a392a5b03b4f2b95896d7.txt  \n",
            "  inflating: train/labels/image1010_jpg.rf.4528908d2690f2c999874ee5e3a3424c.txt  \n",
            "  inflating: train/labels/image1010_jpg.rf.4611f1c04f82b307934e66f37161c2ff.txt  \n",
            "  inflating: train/labels/image1016_jpg.rf.477ded18e58bd83226f7cc74eeb6e5c4.txt  \n",
            "  inflating: train/labels/image1016_jpg.rf.a553466bd882981441b7ed4755f1c8a6.txt  \n",
            "  inflating: train/labels/image1016_jpg.rf.dc7ba2486934b83c0c29c09146d4a132.txt  \n",
            "  inflating: train/labels/image1021_jpg.rf.067226bae0dad63961e78945d8016797.txt  \n",
            "  inflating: train/labels/image1021_jpg.rf.2bfbe881fcbee5c868b7d47c069cc6fc.txt  \n",
            "  inflating: train/labels/image1021_jpg.rf.9f2b3e8341257b6a60e906fa64174b09.txt  \n",
            "  inflating: train/labels/image1022_jpg.rf.00d05e5cb7032096ce0c494a20fe697e.txt  \n",
            "  inflating: train/labels/image1022_jpg.rf.2d5b19040cf51bda77424877cd633c7b.txt  \n",
            "  inflating: train/labels/image1022_jpg.rf.5c3d9fc965133199f22f8719f6b9eb40.txt  \n",
            "  inflating: train/labels/image1027_jpg.rf.35d44e2dbb28ceacab43dfe011d35ed5.txt  \n",
            "  inflating: train/labels/image1027_jpg.rf.b20a296d1764de05cbafc4bfd30ad8ac.txt  \n",
            "  inflating: train/labels/image1027_jpg.rf.d228a1adfade4e2c59adbcf6beefe4f9.txt  \n",
            "  inflating: train/labels/image1028_jpg.rf.49618f03a1cb33d25048a3d710f96c36.txt  \n",
            "  inflating: train/labels/image1028_jpg.rf.95c321efb2165017b72e95af71fba6a2.txt  \n",
            "  inflating: train/labels/image1028_jpg.rf.d665ffad48554ae3d1dcda426a2ecf22.txt  \n",
            "  inflating: train/labels/image1037_jpg.rf.2378aa279f9424453ba120a35f2705db.txt  \n",
            "  inflating: train/labels/image1037_jpg.rf.3b8b71ece34c85ad041413bce1f81906.txt  \n",
            "  inflating: train/labels/image1037_jpg.rf.aaceb896084ba7853c1377b747c44fbb.txt  \n",
            "  inflating: train/labels/image1038_jpg.rf.69f6e109c083d8038afd9e16262d12db.txt  \n",
            "  inflating: train/labels/image1038_jpg.rf.a7b247f5470b336b7ac03b83782748ad.txt  \n",
            "  inflating: train/labels/image1038_jpg.rf.b52adc9790178e8a7fa1d605e7811e9d.txt  \n",
            "  inflating: train/labels/image1044_jpg.rf.11dfdea42183d0b245bb9db414c06f1c.txt  \n",
            "  inflating: train/labels/image1044_jpg.rf.53222b5f03ab8db86a8f7eb1cc8c6fad.txt  \n",
            "  inflating: train/labels/image1044_jpg.rf.5f3284884180234f52cdf0f18200dfa6.txt  \n",
            "  inflating: train/labels/image1045_jpg.rf.3973331fe879bd167e4143567dc44dbe.txt  \n",
            "  inflating: train/labels/image1045_jpg.rf.8e9e71df77af1975dbbb50c369a07099.txt  \n",
            "  inflating: train/labels/image1045_jpg.rf.9e370a0843330d79b9cbe81009150694.txt  \n",
            "  inflating: train/labels/image1046_jpg.rf.03592c122ebdef81503f17ad23137f3e.txt  \n",
            "  inflating: train/labels/image1046_jpg.rf.5a12a812b72bd277d4b5a2e5dce26901.txt  \n",
            "  inflating: train/labels/image1046_jpg.rf.f4c161521b47e0008ec3865add1094aa.txt  \n",
            "  inflating: train/labels/image1047_jpg.rf.1fbf514be6eca80db47bd7761518d6c9.txt  \n",
            "  inflating: train/labels/image1047_jpg.rf.86cb794c54b085af3c16c60f28e4f745.txt  \n",
            "  inflating: train/labels/image1047_jpg.rf.ee03a63915c9794db9f3003436624da8.txt  \n",
            "  inflating: train/labels/image1048_jpg.rf.1476568f71ffb799e546696dd242b9b5.txt  \n",
            "  inflating: train/labels/image1048_jpg.rf.9f7e503bc838c385c0298756b6710d32.txt  \n",
            "  inflating: train/labels/image1048_jpg.rf.cb336ba9edecc54dc9dce04c89dd2d7e.txt  \n",
            "  inflating: train/labels/image1051_jpg.rf.b850c388d5cab80c2081d7410733d4df.txt  \n",
            "  inflating: train/labels/image1051_jpg.rf.c3ecd34a11385046ff4fd1222c303525.txt  \n",
            "  inflating: train/labels/image1051_jpg.rf.eaa3d2c193cce74f3a062bf26f95c01e.txt  \n",
            "  inflating: train/labels/image1052_jpg.rf.6871ce6186c857f10749e1044afcd33c.txt  \n",
            "  inflating: train/labels/image1052_jpg.rf.b9f143808ee01df19215302241dcd22a.txt  \n",
            "  inflating: train/labels/image1052_jpg.rf.c06c29f8c802726da7093ce61cd972f3.txt  \n",
            "  inflating: train/labels/image1055_jpg.rf.56187a2d01ea27d765e8699401b6216e.txt  \n",
            "  inflating: train/labels/image1055_jpg.rf.7cf43920f91cb21a6d4ffea9e25f76be.txt  \n",
            "  inflating: train/labels/image1055_jpg.rf.fdd94a9544cbeb70de8920d9f78f97e4.txt  \n",
            "  inflating: train/labels/image1057_jpg.rf.1ca9e9b94d15607f944389aaa159c97c.txt  \n",
            "  inflating: train/labels/image1057_jpg.rf.91c2bd62a882ecc972d02bbfd3325fdb.txt  \n",
            "  inflating: train/labels/image1057_jpg.rf.e2061c91720b9f8db3449ed0d0235a2c.txt  \n",
            "  inflating: train/labels/image1058_jpg.rf.4d835c148bccb3432cfa8e6f514bb746.txt  \n",
            "  inflating: train/labels/image1058_jpg.rf.ed5ca02d90611aad6ecb6223356137b3.txt  \n",
            "  inflating: train/labels/image1058_jpg.rf.fc7404c7cda62c105da1e2744d2e3f04.txt  \n",
            "  inflating: train/labels/image1059_jpg.rf.3d165e1b6bb5397489aa893d86da86ff.txt  \n",
            "  inflating: train/labels/image1059_jpg.rf.d6ee26d3e0a0930622d07e0dbd0dc6a6.txt  \n",
            "  inflating: train/labels/image1059_jpg.rf.ea4a5166bfdbe71f6ac65419b8811366.txt  \n",
            "  inflating: train/labels/image1062_jpg.rf.86a0832cbca277511945765f11088302.txt  \n",
            "  inflating: train/labels/image1062_jpg.rf.b7527d1df28acac402b5bab0e4bdb183.txt  \n",
            "  inflating: train/labels/image1062_jpg.rf.cc0a40e20ab10c967222df84364e225d.txt  \n",
            "  inflating: train/labels/image1064_jpg.rf.40c064a3ff52bb62c049c57fd81fe9bf.txt  \n",
            "  inflating: train/labels/image1064_jpg.rf.48f4f43fc29481586483a21c4b6a7d29.txt  \n",
            "  inflating: train/labels/image1064_jpg.rf.e4e8a03186d32952d60fb923aa624ad0.txt  \n",
            "  inflating: train/labels/image1065_jpg.rf.3ac18f816b3f6e250dd8f3c8b0c732ed.txt  \n",
            "  inflating: train/labels/image1065_jpg.rf.7c39bbb47a87b6274463607871b63216.txt  \n",
            "  inflating: train/labels/image1065_jpg.rf.fec786b545886080d91f1715ce41e3ef.txt  \n",
            "  inflating: train/labels/image1069_jpg.rf.1abc356095bace000a2e657ecb345ec5.txt  \n",
            "  inflating: train/labels/image1069_jpg.rf.5805eada671b2e8b44de051e03c17eb2.txt  \n",
            "  inflating: train/labels/image1069_jpg.rf.e2b4901d15d3899db7b25fe4ead5681d.txt  \n",
            "  inflating: train/labels/image1075_jpg.rf.078627813efc2ebc3b06f5568515e701.txt  \n",
            "  inflating: train/labels/image1075_jpg.rf.83a34148acd7f2a361f3304a917ddcdb.txt  \n",
            "  inflating: train/labels/image1075_jpg.rf.8edc4a6e360a29de3ee24b0d7d115698.txt  \n",
            "  inflating: train/labels/image1086_jpg.rf.984706397b635e322140f59f1fdc04c8.txt  \n",
            "  inflating: train/labels/image1086_jpg.rf.af0da9c92e0335576ab082fa0fe274d8.txt  \n",
            "  inflating: train/labels/image1086_jpg.rf.d71d960ad67092cabf303c86ee80f862.txt  \n",
            "  inflating: train/labels/image1097_jpg.rf.45bfd0938f4595b8430060eb456b002e.txt  \n",
            "  inflating: train/labels/image1097_jpg.rf.9f82290be9b9f96db84b61073387b996.txt  \n",
            "  inflating: train/labels/image1097_jpg.rf.b573faec365a377b094725d211c75e5c.txt  \n",
            "  inflating: train/labels/image1103_jpg.rf.a337e1d0610db90809ff4ce4ffd3cd5f.txt  \n",
            "  inflating: train/labels/image1103_jpg.rf.c92a188cf60788f42904f52dd75a66f1.txt  \n",
            "  inflating: train/labels/image1103_jpg.rf.f3b0401a356163ed96449d8681468be7.txt  \n",
            "  inflating: train/labels/image1105_jpg.rf.6aaa55c127de9d2309abce7083b99484.txt  \n",
            "  inflating: train/labels/image1105_jpg.rf.6ba19a77c083d597f4240f3d3671a773.txt  \n",
            "  inflating: train/labels/image1105_jpg.rf.6f842037497ce546bd5f8b6d78af6f73.txt  \n",
            "  inflating: train/labels/image1112_jpg.rf.01442dd2ca767082f28d5103b80ee430.txt  \n",
            "  inflating: train/labels/image1112_jpg.rf.3ee60bcbd44a0361d9aa67338185507c.txt  \n",
            "  inflating: train/labels/image1112_jpg.rf.a9393318f24f5d477b5d82479be6fc61.txt  \n",
            "  inflating: train/labels/image1116_jpg.rf.18c04e2fca879a174ae256ac4b5ab14e.txt  \n",
            "  inflating: train/labels/image1116_jpg.rf.5e743138207fa25cc257b73128c429b7.txt  \n",
            "  inflating: train/labels/image1116_jpg.rf.6123f31d884cdf522ae9fea4e976500c.txt  \n",
            "  inflating: train/labels/image1118_jpg.rf.75be39b2f960029d9f6b290b13ab5a63.txt  \n",
            "  inflating: train/labels/image1118_jpg.rf.c34a24c00a9b233109d954be9cd3be71.txt  \n",
            "  inflating: train/labels/image1118_jpg.rf.c3c58fdbfa173f02f1329901903d0897.txt  \n",
            "  inflating: train/labels/image1126_jpg.rf.2f62d53ed8bf51ffbead308b192c97d7.txt  \n",
            "  inflating: train/labels/image1126_jpg.rf.6171182827785192a66113021a793ef9.txt  \n",
            "  inflating: train/labels/image1126_jpg.rf.b9b8ff86f159dcc734f8e5ee4bfed2a9.txt  \n",
            "  inflating: train/labels/image1127_jpg.rf.77cee569aa81e4e67b266c9dd6bf4603.txt  \n",
            "  inflating: train/labels/image1127_jpg.rf.c1a70e0c3ff636aac8b71b15334c0bec.txt  \n",
            "  inflating: train/labels/image1127_jpg.rf.d490611a355b72134fb51dc7c07c0e9b.txt  \n",
            "  inflating: train/labels/image1129_jpg.rf.46244e43dbfad3a92e00ce0c66599e7f.txt  \n",
            "  inflating: train/labels/image1129_jpg.rf.a62b4c53ec390080ad9b1b4219325eba.txt  \n",
            "  inflating: train/labels/image1129_jpg.rf.d1c448aaabe02ff8cd6e56798b013445.txt  \n",
            "  inflating: train/labels/image1131_jpg.rf.8a179e7e59fb1481a289d241245bfe0a.txt  \n",
            "  inflating: train/labels/image1131_jpg.rf.aae38a7a5d49593a3cca910a9d168b66.txt  \n",
            "  inflating: train/labels/image1131_jpg.rf.e158d092601e7122add09a481cbc874f.txt  \n",
            "  inflating: train/labels/image1139_jpg.rf.a3881ab8fb404e90286ecdb359d0edbd.txt  \n",
            "  inflating: train/labels/image1139_jpg.rf.c7693d5549d16cdb262ab6a2bae2391d.txt  \n",
            "  inflating: train/labels/image1139_jpg.rf.e287ecdd0ee6da491f63afb84d7f027d.txt  \n",
            "  inflating: train/labels/image1147_jpg.rf.49f80f591c39d1ce2015e0a3cdf25876.txt  \n",
            "  inflating: train/labels/image1147_jpg.rf.5bd8d01edca4db27d66b036e284cd3d8.txt  \n",
            "  inflating: train/labels/image1147_jpg.rf.5e1ca202e1759ef572de79f3b36d45b8.txt  \n",
            "  inflating: train/labels/image1148_jpg.rf.5f97ef69885729218c6f20e55324fd72.txt  \n",
            "  inflating: train/labels/image1148_jpg.rf.9a1f46e73df5f3602276064cae883814.txt  \n",
            "  inflating: train/labels/image1148_jpg.rf.d07297bf97615173de73b8cf27506813.txt  \n",
            "  inflating: train/labels/image1150_jpg.rf.62f33e3cd9a43714ce994ce88a701567.txt  \n",
            "  inflating: train/labels/image1150_jpg.rf.6d695f0ab7914920fca6b356361fbf18.txt  \n",
            "  inflating: train/labels/image1150_jpg.rf.7f9ce243d574e23fe3147aa1f80f5706.txt  \n",
            "  inflating: train/labels/image1152_jpg.rf.773b6136606a6f4035d38060da61df04.txt  \n",
            "  inflating: train/labels/image1152_jpg.rf.9285e909796c01a437c3e2750b8fbe08.txt  \n",
            "  inflating: train/labels/image1152_jpg.rf.b508dd969e69b68e27a2b2c56f0c8ca8.txt  \n",
            "  inflating: train/labels/image1156_jpg.rf.0a3f6f9167dbec4496b91075fe93928b.txt  \n",
            "  inflating: train/labels/image1156_jpg.rf.5a1a38ef8d422661f529c2b375db3e1d.txt  \n",
            "  inflating: train/labels/image1156_jpg.rf.d9b32d62d1c7b8c5adad79bde6b1925d.txt  \n",
            "  inflating: train/labels/image1158_jpg.rf.0d6a306513b3e53c978f7914f80a8a1f.txt  \n",
            "  inflating: train/labels/image1158_jpg.rf.58ed24d23b8721e20012613e00eed92a.txt  \n",
            "  inflating: train/labels/image1158_jpg.rf.da85f4829ca561490c30ed17c6bf9999.txt  \n",
            "  inflating: train/labels/image1168_jpg.rf.042bda808887283f120b36a7e066b7aa.txt  \n",
            "  inflating: train/labels/image1168_jpg.rf.8de95cf3b282b9c8300fbfa8aedec1f2.txt  \n",
            "  inflating: train/labels/image1168_jpg.rf.a7097e6eeebd33ac55f30c6440207ebb.txt  \n",
            "  inflating: train/labels/image1172_jpg.rf.2d1cdb0f16be67f212b9d110dcf971a2.txt  \n",
            "  inflating: train/labels/image1172_jpg.rf.73fd97511b350a8ea51c8379deceec45.txt  \n",
            "  inflating: train/labels/image1172_jpg.rf.d4dfc943f685f4f7eac192a78ba9290a.txt  \n",
            "  inflating: train/labels/image1176_jpg.rf.07ee9b01e8429bc7b6ddd519e74d807a.txt  \n",
            "  inflating: train/labels/image1176_jpg.rf.08584e3fa7ad4252d6eebe8ddbdcdb7e.txt  \n",
            "  inflating: train/labels/image1176_jpg.rf.20da7cd752512d7e9f291ef5273bf0fe.txt  \n",
            "  inflating: train/labels/image1178_jpg.rf.5321c0ac1d428d3a775bde0c00d45dc2.txt  \n",
            "  inflating: train/labels/image1178_jpg.rf.7b5ea5933759f833ceb688c979811bdb.txt  \n",
            "  inflating: train/labels/image1178_jpg.rf.e27e879247f0e67b461efec473849a33.txt  \n",
            "  inflating: train/labels/image1179_jpg.rf.a7b066b74d78a459f9ab54d9cb947c68.txt  \n",
            "  inflating: train/labels/image1179_jpg.rf.a8d62060c724be064599b34b7df75769.txt  \n",
            "  inflating: train/labels/image1179_jpg.rf.ccfbbc140e52c7fc9f8824ccd89fa0fb.txt  \n",
            "  inflating: train/labels/image1180_jpg.rf.e9b15b3a03d1b61b8077663bb49dba12.txt  \n",
            "  inflating: train/labels/image1180_jpg.rf.ec29e554a2d7be0d7914e05a4cb56b4d.txt  \n",
            "  inflating: train/labels/image1180_jpg.rf.fcbbe563fd5155af06d510e4d88b116c.txt  \n",
            "  inflating: train/labels/image1183_jpg.rf.a50e91a1bf0d88a1ada04466bdae91be.txt  \n",
            "  inflating: train/labels/image1183_jpg.rf.e20786c216124b6cf10c2bcb95b5233d.txt  \n",
            "  inflating: train/labels/image1183_jpg.rf.efb596e7054f90a16fea658c0e30ec19.txt  \n",
            "  inflating: train/labels/image1184_jpg.rf.2ffbf0abbd5c2ad1e87787de4f609ea3.txt  \n",
            "  inflating: train/labels/image1184_jpg.rf.65d40f71c3d0c7a7994a1c5d881505d3.txt  \n",
            "  inflating: train/labels/image1184_jpg.rf.d002431b26b7de1f6894c35b2d7542ee.txt  \n",
            "  inflating: train/labels/image1186_jpg.rf.2ae3d03a335744e3a54902df46a34e20.txt  \n",
            "  inflating: train/labels/image1186_jpg.rf.4353296801c69f399c816612c18f5351.txt  \n",
            "  inflating: train/labels/image1186_jpg.rf.86a4e7208c1ad6fbb4c8787c2fb23756.txt  \n",
            "  inflating: train/labels/image1198_jpg.rf.4280fcba2af6752145bc83ab22a00110.txt  \n",
            "  inflating: train/labels/image1198_jpg.rf.6e810c061aec48fe0c424a418ea17d16.txt  \n",
            "  inflating: train/labels/image1198_jpg.rf.8eea47091d9d035b35d7016f6d4062d0.txt  \n",
            "  inflating: train/labels/image1201_jpg.rf.348630ef292bd00ef304be32dd1347f7.txt  \n",
            "  inflating: train/labels/image1201_jpg.rf.a7b1c6abf7afcd6b1edbb26fec6e7b46.txt  \n",
            "  inflating: train/labels/image1201_jpg.rf.e264a2715c77f2b5f7c753f14a2f1a7f.txt  \n",
            "  inflating: train/labels/image1202_jpg.rf.781cb08c60bf082dad751d06081d42ce.txt  \n",
            "  inflating: train/labels/image1202_jpg.rf.d9e537bc8e3755896524868086682fa9.txt  \n",
            "  inflating: train/labels/image1202_jpg.rf.e7dd73b516a53f0b5ea0fe4904e637ab.txt  \n",
            "  inflating: train/labels/image1205_jpg.rf.b9fe84c8c7193b1883ec1705a2db1fef.txt  \n",
            "  inflating: train/labels/image1205_jpg.rf.c9dff29b9cd31b31d0785920fef70e9a.txt  \n",
            "  inflating: train/labels/image1205_jpg.rf.ea2731a0dbe66d477c0669211658f11a.txt  \n",
            "  inflating: train/labels/image1206_jpg.rf.4b900e5f35dd71d7e896bcc7e5a767fd.txt  \n",
            "  inflating: train/labels/image1206_jpg.rf.6c49ef2ad34d4af7f3e5fb911821c7a0.txt  \n",
            "  inflating: train/labels/image1206_jpg.rf.b9c3ecfbc691f574100303318a21baae.txt  \n",
            "  inflating: train/labels/image1207_jpg.rf.223f2edcd6811ed0d12d41691f1bc9ef.txt  \n",
            "  inflating: train/labels/image1207_jpg.rf.5334ab62d40a856d5df005181a37833e.txt  \n",
            "  inflating: train/labels/image1207_jpg.rf.d84beb7b54822f3b6a11c3c04960d5ed.txt  \n",
            "  inflating: train/labels/image1208_jpg.rf.8344209eb8b64edc62133fb4bf6a6136.txt  \n",
            "  inflating: train/labels/image1208_jpg.rf.90f292271b3dd8607c4f315fe6915d92.txt  \n",
            "  inflating: train/labels/image1208_jpg.rf.a7e4cb9677276923ff358c650a20e6c4.txt  \n",
            "  inflating: train/labels/image1211_jpg.rf.5154a7a09bd57f27b887dd32c5208a08.txt  \n",
            "  inflating: train/labels/image1211_jpg.rf.c58ed57eafa68073e08fe6e97026e847.txt  \n",
            "  inflating: train/labels/image1211_jpg.rf.fa10a73f7438474a6484c5bfcf1ed20c.txt  \n",
            "  inflating: train/labels/image1212_jpg.rf.3e693b5ff8f7461480134d1c3ac295a8.txt  \n",
            "  inflating: train/labels/image1212_jpg.rf.4b2b4472ef4b34d3b37b833596359625.txt  \n",
            "  inflating: train/labels/image1212_jpg.rf.d340675413413bb1ea3e0c422b5e0c43.txt  \n",
            "  inflating: train/labels/image1213_jpg.rf.0de1f7d96368fccde6302f1bfacfc87e.txt  \n",
            "  inflating: train/labels/image1213_jpg.rf.835f8cf9969509a135b18189667904d9.txt  \n",
            "  inflating: train/labels/image1213_jpg.rf.8792d8a6af8501a0320e41e4434655af.txt  \n",
            "  inflating: train/labels/image1214_jpg.rf.2c4cdb583a430820ab58ca2b47f985c6.txt  \n",
            "  inflating: train/labels/image1214_jpg.rf.87d550e494f350db07b1d87baa09c62b.txt  \n",
            "  inflating: train/labels/image1214_jpg.rf.a5292aa5f4ef7e40a63b15bf7221eff1.txt  \n",
            "  inflating: train/labels/image1217_jpg.rf.009ed743ce5d96a2c6b5a2145458175a.txt  \n",
            "  inflating: train/labels/image1217_jpg.rf.0b27936cef85ebaf03f190b8d5f80506.txt  \n",
            "  inflating: train/labels/image1217_jpg.rf.479d520ddab477b17e85b4d18c8ac798.txt  \n",
            "  inflating: train/labels/image1220_jpg.rf.1a615ddb7b672cf5664c07aa39e410b2.txt  \n",
            "  inflating: train/labels/image1220_jpg.rf.6db3601f9a6b1a908b6a1fc14c55519a.txt  \n",
            "  inflating: train/labels/image1220_jpg.rf.a6d8adc5d5b52323a42a20bf29411692.txt  \n",
            "  inflating: train/labels/image1223_jpg.rf.170bda5db3c752f21b3acb62c01b0d6a.txt  \n",
            "  inflating: train/labels/image1223_jpg.rf.7947ee7773ffc292d2ffee16ac85b8f0.txt  \n",
            "  inflating: train/labels/image1223_jpg.rf.8b4eec1e9fa2b32423d76085cdf87bde.txt  \n",
            "  inflating: train/labels/image1227_jpg.rf.0d1501716c4188e23190ea01358e0ae3.txt  \n",
            "  inflating: train/labels/image1227_jpg.rf.1aee17c8c78be62ed484132bc0812191.txt  \n",
            "  inflating: train/labels/image1227_jpg.rf.66dc52549da6345cdb4de0a02d4ce30a.txt  \n",
            "  inflating: train/labels/image1228_jpg.rf.32d731d00a5673f8306d2bb350238e5f.txt  \n",
            "  inflating: train/labels/image1228_jpg.rf.518601c596939cf9d9125bd3c64ab52e.txt  \n",
            "  inflating: train/labels/image1228_jpg.rf.eb5a70c466ef696c407b80a11af87aa5.txt  \n",
            "  inflating: train/labels/image1229_jpg.rf.55cb5959da272e3b21d886618e08287a.txt  \n",
            "  inflating: train/labels/image1229_jpg.rf.f42a2a514ec932e387b6a67f2bc6fb1b.txt  \n",
            "  inflating: train/labels/image1229_jpg.rf.fba5a187face51f4bddeea16b0451866.txt  \n",
            "  inflating: train/labels/image1232_jpg.rf.1af1f6a6571e05e9a9e12f047fd62a0f.txt  \n",
            "  inflating: train/labels/image1232_jpg.rf.2cd2c6f5aedb73192f70b8c06f1986f2.txt  \n",
            "  inflating: train/labels/image1232_jpg.rf.553570d8aa8b6e51db3f69987fcf97fa.txt  \n",
            "  inflating: train/labels/image1237_jpg.rf.5c99c930c39cd470a37e92f1c334139f.txt  \n",
            "  inflating: train/labels/image1237_jpg.rf.622896a806d55bd689dbc8f9361a59ae.txt  \n",
            "  inflating: train/labels/image1237_jpg.rf.7a1031819eb7a93c59227b49f44eb89e.txt  \n",
            "  inflating: train/labels/image1247_jpg.rf.35cb0b206d6b92b6c483318aa81c644b.txt  \n",
            "  inflating: train/labels/image1247_jpg.rf.b3e936ed43ac467e55eb945b6017fb2a.txt  \n",
            "  inflating: train/labels/image1247_jpg.rf.e96c61b7f9b1ec94c3fb959bcaa1dc16.txt  \n",
            "  inflating: train/labels/image1258_jpg.rf.13eb8bd09705faf6279c7453620817fe.txt  \n",
            "  inflating: train/labels/image1258_jpg.rf.51987f83eb546877fa63f1256e3e5dbc.txt  \n",
            "  inflating: train/labels/image1258_jpg.rf.56b70c31feb9e43cbf4715672fb5d0c6.txt  \n",
            " extracting: train/labels/image1261_jpg.rf.46aeb2754b9bc679cab8018bf5476159.txt  \n",
            " extracting: train/labels/image1261_jpg.rf.7b207178f8d0d94f52d1af947fddefc7.txt  \n",
            " extracting: train/labels/image1261_jpg.rf.d6bec0a1da3c6b7a892612229a419050.txt  \n",
            "  inflating: train/labels/image1269_jpg.rf.01f9309c60ffca15e7ea67a9eff3a6cb.txt  \n",
            "  inflating: train/labels/image1269_jpg.rf.78bd038cef1467332831505aa127fc0a.txt  \n",
            "  inflating: train/labels/image1269_jpg.rf.f4d98879181706e7779397266a824e93.txt  \n",
            "  inflating: train/labels/image1273_jpg.rf.8a8abdc2113b9b41732eab07f1906a05.txt  \n",
            "  inflating: train/labels/image1273_jpg.rf.f251bc2d6fb5d5e29221c6ac1e3c5a44.txt  \n",
            "  inflating: train/labels/image1273_jpg.rf.f3c555c3ec87f2802f08d5b4e1878e87.txt  \n",
            "  inflating: train/labels/image1279_jpg.rf.a7a93a487a41e6a3a3aa7528f3710214.txt  \n",
            "  inflating: train/labels/image1279_jpg.rf.bf677bccb8a44dbf718de8111de1816a.txt  \n",
            "  inflating: train/labels/image1279_jpg.rf.e78a3ef61c597902dd631791421c6042.txt  \n",
            "  inflating: train/labels/image1281_jpg.rf.0874af74bd2d87b46ee912d1eb2c9835.txt  \n",
            "  inflating: train/labels/image1281_jpg.rf.2bf01647fe6044d8b9d9e7b0c4a8d87b.txt  \n",
            "  inflating: train/labels/image1281_jpg.rf.681f5384ec698006979678f061f0d754.txt  \n",
            "  inflating: train/labels/image1282_jpg.rf.752a9fe6ab47926a7203cd292b4a51d7.txt  \n",
            "  inflating: train/labels/image1282_jpg.rf.9c31fc068ae945217eee6df554d7af37.txt  \n",
            "  inflating: train/labels/image1282_jpg.rf.ff00d1e3d84fdec39b8b69740c9583ba.txt  \n",
            "  inflating: train/labels/image1285_jpg.rf.5d442f731b3283df70f362377efc3027.txt  \n",
            "  inflating: train/labels/image1285_jpg.rf.8134f0fd0e3b85156e471c00f320c860.txt  \n",
            "  inflating: train/labels/image1285_jpg.rf.ee0c1086407b5c6521ba3182b4b55542.txt  \n",
            "  inflating: train/labels/image1291_jpg.rf.481de663e626d6a36375571a58cf3b96.txt  \n",
            "  inflating: train/labels/image1291_jpg.rf.c90ce8f07a6c2ccb36b8c4c3a4238114.txt  \n",
            "  inflating: train/labels/image1291_jpg.rf.cfc80c2ce9addaaaac85adc7fd75ea8c.txt  \n",
            "  inflating: train/labels/image1293_jpg.rf.107486316aeea1c6274731a6258df2a1.txt  \n",
            "  inflating: train/labels/image1293_jpg.rf.7639e0e8e678cc687c98e440d10bb165.txt  \n",
            "  inflating: train/labels/image1293_jpg.rf.f4b64cc317625fadf8e6c4a8a139b49a.txt  \n",
            "  inflating: train/labels/image1296_jpg.rf.1e5b54a81657c112860c5baf4f08f1bc.txt  \n",
            "  inflating: train/labels/image1296_jpg.rf.a379edbe4229f0f889cf87c45d55b17b.txt  \n",
            "  inflating: train/labels/image1296_jpg.rf.ac13dd49b9e532d58024844e9e4ee1f6.txt  \n",
            "  inflating: train/labels/image1300_jpg.rf.8772d1d8c400c1f6af408d8fdcbd3085.txt  \n",
            "  inflating: train/labels/image1300_jpg.rf.c00264d4acb0b4f9d64732dd25f72bb6.txt  \n",
            "  inflating: train/labels/image1300_jpg.rf.e4a94e7e15be428bbae7ff3b53d25ac4.txt  \n",
            "  inflating: train/labels/image1305_jpg.rf.4c3ade151333d430da7071d0ead62274.txt  \n",
            "  inflating: train/labels/image1305_jpg.rf.521fe0c95a87b958ddd408bb347ebfa1.txt  \n",
            "  inflating: train/labels/image1305_jpg.rf.efb9766cf2aa4da45c1de3a30e7f4388.txt  \n",
            "  inflating: train/labels/image1306_jpg.rf.036d1a6707327769b12276701e45d875.txt  \n",
            "  inflating: train/labels/image1306_jpg.rf.e9de8fe3ea6f138601154791f9598d23.txt  \n",
            "  inflating: train/labels/image1306_jpg.rf.ee2cc5dbe8558a6cc1682df7410ae247.txt  \n",
            "  inflating: train/labels/image1307_jpg.rf.4c6515a95b40a9ac7a1c87d6055b9627.txt  \n",
            "  inflating: train/labels/image1307_jpg.rf.d20173f62b3c91806b9cf50839beb3dd.txt  \n",
            "  inflating: train/labels/image1307_jpg.rf.f70b15cfca4bcb7d80a7c9612a366df7.txt  \n",
            "  inflating: train/labels/image1309_jpg.rf.2335c3695e90895b18ad3c667d256944.txt  \n",
            "  inflating: train/labels/image1309_jpg.rf.325ff98d3f99d4e88b326caeede199f2.txt  \n",
            "  inflating: train/labels/image1309_jpg.rf.6f6921f87b22a40099428e15490e8268.txt  \n",
            "  inflating: train/labels/image1310_jpg.rf.2e458ca9efdd08fb5462a894434fab61.txt  \n",
            "  inflating: train/labels/image1310_jpg.rf.9c06eb90869fa5c84fbbd4498f6e851a.txt  \n",
            "  inflating: train/labels/image1310_jpg.rf.f36dc3d032b66610bf3db8e21f66b3be.txt  \n",
            "  inflating: train/labels/image1321_jpg.rf.40c3f016389df338851f97789e06638a.txt  \n",
            "  inflating: train/labels/image1321_jpg.rf.aa79894d431e6ec4281dca3a699e1b29.txt  \n",
            "  inflating: train/labels/image1321_jpg.rf.ee94414c41c6613ca2947b83d958c2f8.txt  \n",
            "  inflating: train/labels/image1328_jpg.rf.146a068176093111f4bd40c7c2df3189.txt  \n",
            "  inflating: train/labels/image1328_jpg.rf.20ea8e153f4de48ec42b36c316b5eda4.txt  \n",
            "  inflating: train/labels/image1328_jpg.rf.28cf5bd7456cb910444f0bd47b9a61a0.txt  \n",
            "  inflating: train/labels/image1329_jpg.rf.17132afa613382d5bfd3a8e44636b115.txt  \n",
            " extracting: train/labels/image1329_jpg.rf.4b50e66cd2e6fbad13ac30d60b224d5f.txt  \n",
            "  inflating: train/labels/image1329_jpg.rf.ea9bcf925e5b096704bfd37788dbafb3.txt  \n",
            " extracting: train/labels/image1330_jpg.rf.67f2e005daf870e232ddf60d8f9d6dd5.txt  \n",
            " extracting: train/labels/image1330_jpg.rf.734a344ba68e2cdbba305a0d3224f108.txt  \n",
            " extracting: train/labels/image1330_jpg.rf.cc2c5d574a8a007af7b617ab94ad94fb.txt  \n",
            "  inflating: train/labels/image1331_jpg.rf.b9e59361daf0b3c118c1a4c0dea261f2.txt  \n",
            "  inflating: train/labels/image1331_jpg.rf.c918072029705ddf50b57183b609a17b.txt  \n",
            "  inflating: train/labels/image1331_jpg.rf.db6809677e5da2db628e068343975c11.txt  \n",
            "  inflating: train/labels/image1334_jpg.rf.6d9babbbc1f11d7ec1cae332b7651e2c.txt  \n",
            "  inflating: train/labels/image1334_jpg.rf.84df6f8a6e4b1153c8ac2033f556e02f.txt  \n",
            "  inflating: train/labels/image1334_jpg.rf.85d4049e9feb7f4e43c3ed3a6aefc812.txt  \n",
            "  inflating: train/labels/image1337_jpg.rf.4cefb83b50574e3b9934f91ca74bc4b1.txt  \n",
            "  inflating: train/labels/image1337_jpg.rf.8f4f651bb0187eaa9ecdf491ecbdcb3d.txt  \n",
            "  inflating: train/labels/image1337_jpg.rf.b9d12bd2308d1af97b6e8fdef66962d0.txt  \n",
            "  inflating: train/labels/image1339_jpg.rf.1eaa9d99254524f1edcac95de7cab319.txt  \n",
            "  inflating: train/labels/image1339_jpg.rf.2f8437a71fada76e614ec19959e376d5.txt  \n",
            "  inflating: train/labels/image1339_jpg.rf.6113ef4c48d4d91be8c763f124ce379e.txt  \n",
            "  inflating: train/labels/image1340_jpg.rf.173579828cfff4974026e000b4d9a201.txt  \n",
            "  inflating: train/labels/image1340_jpg.rf.38e576c5eb90c79e5d5bba05b094c725.txt  \n",
            "  inflating: train/labels/image1340_jpg.rf.61fb453b33a9eb06ba256508e7a8e01a.txt  \n",
            "  inflating: train/labels/image1343_jpg.rf.05a78d00d2e58aca2bc82e2c18fbbe71.txt  \n",
            "  inflating: train/labels/image1343_jpg.rf.c3d3de28288c94db27d28a966e5d563c.txt  \n",
            "  inflating: train/labels/image1343_jpg.rf.fad18075aceee8dc99e8526b9e53cc1d.txt  \n",
            "  inflating: train/labels/image1347_jpg.rf.482d5f5dc832cce50b26beb1151c371c.txt  \n",
            "  inflating: train/labels/image1347_jpg.rf.810301afcde1a452c2e83ecd7011072f.txt  \n",
            "  inflating: train/labels/image1347_jpg.rf.ba5b3494a5ec62d23a6d68c739266f82.txt  \n",
            "  inflating: train/labels/image1348_jpg.rf.127d4a218481ace2230e39175a094357.txt  \n",
            "  inflating: train/labels/image1348_jpg.rf.39b0b272737ae45b94d6a1e096dd46e2.txt  \n",
            "  inflating: train/labels/image1348_jpg.rf.bf1263b098510eeca0f121810f878125.txt  \n",
            "  inflating: train/labels/image1349_jpg.rf.001bdfd5ae11067693314eb2d83fc63a.txt  \n",
            "  inflating: train/labels/image1349_jpg.rf.1995ecb5b9e5a96e57bddd8ed7c50bfd.txt  \n",
            "  inflating: train/labels/image1349_jpg.rf.681a085fa3cfe4b3d6898934631f430b.txt  \n",
            "  inflating: train/labels/image1350_jpg.rf.a12a0cdfc980a5c420b0c93d040adc6b.txt  \n",
            "  inflating: train/labels/image1350_jpg.rf.f2cb744c6f77bffb66a9c4afd341a856.txt  \n",
            "  inflating: train/labels/image1350_jpg.rf.ff7016ef899f3a23ee5a7a9063bedbf7.txt  \n",
            "  inflating: train/labels/image1352_jpg.rf.87114072f3881cbdafe1d142e5dc208d.txt  \n",
            "  inflating: train/labels/image1352_jpg.rf.ed2afe547f26533b0e647f49f08985ad.txt  \n",
            "  inflating: train/labels/image1352_jpg.rf.f0ae010b84416c84eb47e71795d9910a.txt  \n",
            "  inflating: train/labels/image1361_jpg.rf.002b2ef88c592020b6d23206b83113ea.txt  \n",
            "  inflating: train/labels/image1361_jpg.rf.52ffcbfc781953d9050b206591d45aa3.txt  \n",
            "  inflating: train/labels/image1361_jpg.rf.ad0fbabcf8c1dfecb236d95083ad2c8d.txt  \n",
            "  inflating: train/labels/image1370_jpg.rf.03ba12f21602ac3f80878f2c5435a652.txt  \n",
            "  inflating: train/labels/image1370_jpg.rf.2ef08747e4028aa4b6cdb54faafad7b0.txt  \n",
            "  inflating: train/labels/image1370_jpg.rf.57b11f0ea9eeeef54503873618ed8ef6.txt  \n",
            "  inflating: train/labels/image1376_jpg.rf.212654f720125d8e0d6e646a79eb2116.txt  \n",
            "  inflating: train/labels/image1376_jpg.rf.74ab5446ee2bdf95fcccf52b5018d674.txt  \n",
            "  inflating: train/labels/image1376_jpg.rf.990956204b820ff7bdb198bee9f127a6.txt  \n",
            "  inflating: train/labels/image1381_jpg.rf.90dccdfb8d1b9040d85bebcc66020879.txt  \n",
            "  inflating: train/labels/image1381_jpg.rf.a3406b8c57db4f4a993237b514afd66e.txt  \n",
            "  inflating: train/labels/image1381_jpg.rf.ccadfced9a12e2025240c9793e6b4975.txt  \n",
            "  inflating: train/labels/image1390_jpg.rf.222fb10638ad186609907f5ece4abb72.txt  \n",
            "  inflating: train/labels/image1390_jpg.rf.9bc594fd461b01ba743e5271480e1149.txt  \n",
            "  inflating: train/labels/image1390_jpg.rf.dfe1e410dde8026bca0c58adf29da86b.txt  \n",
            "  inflating: train/labels/image1393_jpg.rf.63da0fa590312c0ce6210be1332ca9de.txt  \n",
            "  inflating: train/labels/image1393_jpg.rf.73ec7d7747631ed1864976abbd3e501c.txt  \n",
            "  inflating: train/labels/image1393_jpg.rf.abb49e1440953a9aeaf13a1719dc78e4.txt  \n",
            "  inflating: train/labels/image1394_jpg.rf.ae3d0fcc79ce1b1e395fa3117e3304b7.txt  \n",
            "  inflating: train/labels/image1394_jpg.rf.f79a7698707fae0ee622ae49ad11c477.txt  \n",
            "  inflating: train/labels/image1394_jpg.rf.fd15284cdb11fac323f4be04a2027fc3.txt  \n",
            "  inflating: train/labels/image1396_jpg.rf.2d60a963048dc7b85dec57072ffa5f0a.txt  \n",
            "  inflating: train/labels/image1396_jpg.rf.5348424f28b981d7f159b05a061a7aac.txt  \n",
            "  inflating: train/labels/image1396_jpg.rf.fdb3670b9905ad740b896f503c6da82e.txt  \n",
            "  inflating: train/labels/image1399_jpg.rf.6cc4411b6f74113319e0979c1cbbb847.txt  \n",
            "  inflating: train/labels/image1399_jpg.rf.75460ee0a66803d0f0315e691ff7ace0.txt  \n",
            "  inflating: train/labels/image1399_jpg.rf.892d6dc4863267ea5f60570df52e84b6.txt  \n",
            "  inflating: train/labels/image1403_jpg.rf.3497d48223bae3210a564e9d2ca444ba.txt  \n",
            "  inflating: train/labels/image1403_jpg.rf.90eb6ea805d064f7f61a05ce81c42fcf.txt  \n",
            "  inflating: train/labels/image1403_jpg.rf.d36b4002305faf0da80ee6def8ce8b5c.txt  \n",
            " extracting: train/labels/image1408_jpg.rf.546cb38330f7fc68ef0de2f1de8b1834.txt  \n",
            " extracting: train/labels/image1408_jpg.rf.5f05b4ed48ad3ff2d376dc3cb186e880.txt  \n",
            " extracting: train/labels/image1408_jpg.rf.e912085ea8444778036ad3ab48242745.txt  \n",
            "  inflating: train/labels/image1413_jpg.rf.068399a804c5c4294d78dca04b9ab185.txt  \n",
            "  inflating: train/labels/image1413_jpg.rf.97173022029b59b9407fbe223a3bd47d.txt  \n",
            "  inflating: train/labels/image1413_jpg.rf.b07a34cb4d56ca8b76b8aa4e13191b0c.txt  \n",
            "  inflating: train/labels/image1417_jpg.rf.1665caf27b1f9fe33ff5c496d99abb4b.txt  \n",
            "  inflating: train/labels/image1417_jpg.rf.716be44e4b56148d27cc53f6c3ca0bf5.txt  \n",
            "  inflating: train/labels/image1417_jpg.rf.e57ea18fe60567591e194f2a05e3caf4.txt  \n",
            "  inflating: train/labels/image1422_jpg.rf.240a93b5266915187b09f127ba3b2f72.txt  \n",
            "  inflating: train/labels/image1422_jpg.rf.8d107f5ed2ed8fad806ca7e7b9d8aabf.txt  \n",
            "  inflating: train/labels/image1422_jpg.rf.9ad051680e3bc823aea3c4c48dff4d62.txt  \n",
            "  inflating: train/labels/image1423_jpg.rf.4b4db8b895e0f42bd6a61629df5a112f.txt  \n",
            "  inflating: train/labels/image1423_jpg.rf.4cdfe34463d5df747050a51878d5a127.txt  \n",
            "  inflating: train/labels/image1423_jpg.rf.dc704e82349528c7f5fa791ec288ad99.txt  \n",
            "  inflating: train/labels/image1425_jpg.rf.9294018a8755dea98f018c86aa9e18f7.txt  \n",
            "  inflating: train/labels/image1425_jpg.rf.9c7aebb707deacf9ff380fa314ecfe77.txt  \n",
            "  inflating: train/labels/image1425_jpg.rf.f2a140b866841b00c6f7c399532045b6.txt  \n",
            "  inflating: train/labels/image1427_jpg.rf.30c213c133ede4e5111421a6186e7204.txt  \n",
            "  inflating: train/labels/image1427_jpg.rf.97427f55500994f6d135b120763568d0.txt  \n",
            "  inflating: train/labels/image1427_jpg.rf.a9327260f4b03c4a1aedfbbc66206b7d.txt  \n",
            "  inflating: train/labels/image1429_jpg.rf.124181d224b08f698b9f430b540f4421.txt  \n",
            "  inflating: train/labels/image1429_jpg.rf.d02a2d73ee332e5a513feb1845fecff2.txt  \n",
            "  inflating: train/labels/image1429_jpg.rf.faed5db76cb3192cfb83ecd3504cca19.txt  \n",
            "  inflating: train/labels/image1430_jpg.rf.2861e342fc3ded48408c3d41592e394a.txt  \n",
            "  inflating: train/labels/image1430_jpg.rf.c1ec56882d263d26f090b7a738015ab3.txt  \n",
            "  inflating: train/labels/image1430_jpg.rf.f3ce64baf38e00b8bf6f20e0e928612a.txt  \n",
            "  inflating: train/labels/image1432_jpg.rf.8058d0b4476f1003a7615ae90a0275be.txt  \n",
            "  inflating: train/labels/image1432_jpg.rf.f1efbf3609f56914d61d75c1731b7ed0.txt  \n",
            "  inflating: train/labels/image1432_jpg.rf.f6d3b031de25486b5874fe18a7698353.txt  \n",
            "  inflating: train/labels/image1438_jpg.rf.8b32f70d4e92b93b3606ad42a8c03f0c.txt  \n",
            "  inflating: train/labels/image1438_jpg.rf.9fc5bc114ee73ffa9059e51e00b641a9.txt  \n",
            "  inflating: train/labels/image1438_jpg.rf.ca52f4bb9a9474f4051e6cc8961b5793.txt  \n",
            "  inflating: train/labels/image1439_jpg.rf.63afb888b9746845077716793403b34e.txt  \n",
            "  inflating: train/labels/image1439_jpg.rf.7f83894296625ec83096567585a0d4e7.txt  \n",
            "  inflating: train/labels/image1439_jpg.rf.e0848ae24a31e03a6c903d535683292e.txt  \n",
            "  inflating: train/labels/image1443_jpg.rf.38ac6fa4d4211b89a2b6c37b99cfdd56.txt  \n",
            "  inflating: train/labels/image1443_jpg.rf.5420ffc5ff248491b5aed2aef29cf5c9.txt  \n",
            "  inflating: train/labels/image1443_jpg.rf.ceba3b6e1923f8215ec8de5501d24568.txt  \n",
            "  inflating: train/labels/image1450_jpg.rf.66cac877808bb6023682b3d72dd538b9.txt  \n",
            "  inflating: train/labels/image1450_jpg.rf.8ab6b943d2b90e17c842ee0e97dce40a.txt  \n",
            "  inflating: train/labels/image1450_jpg.rf.f0999f142fe04242d2d422fb0753322c.txt  \n",
            "  inflating: train/labels/image1454_jpg.rf.42fac47664fb658c282d3ffc9bb8f964.txt  \n",
            "  inflating: train/labels/image1454_jpg.rf.61cadf5bb15a70b1375ec2a5c14a6a05.txt  \n",
            "  inflating: train/labels/image1454_jpg.rf.f686db180973be3bcd457c2cc4a03811.txt  \n",
            "  inflating: train/labels/image1455_jpg.rf.04178a63f4d8ead370ceb8063270b1c5.txt  \n",
            "  inflating: train/labels/image1455_jpg.rf.61b22dc8e5ecc43c5860845b77bf266f.txt  \n",
            " extracting: train/labels/image1455_jpg.rf.a12d357cac1ad00e64cc8ac3e45b6a3a.txt  \n",
            "  inflating: train/labels/image1458_jpg.rf.3b320f0ade7174bab2ae32bc34939b2f.txt  \n",
            "  inflating: train/labels/image1458_jpg.rf.9bdaf2efd18d601c2c889d2e0fec9061.txt  \n",
            "  inflating: train/labels/image1458_jpg.rf.a8cd4a589322ecb9a8013273a6015ca3.txt  \n",
            "  inflating: train/labels/image1460_jpg.rf.09dd36fbeb44e378dfd6fce4c6efbee8.txt  \n",
            "  inflating: train/labels/image1460_jpg.rf.433e937f6b63c14e874e12a1086a36c1.txt  \n",
            "  inflating: train/labels/image1460_jpg.rf.e608f7f0ee244ba28f698d1cf727d491.txt  \n",
            "  inflating: train/labels/image1461_jpg.rf.19bfdbd257af7db027b1703dcee16733.txt  \n",
            "  inflating: train/labels/image1461_jpg.rf.29f004071c0bdb0ea40734a2b149edb1.txt  \n",
            "  inflating: train/labels/image1461_jpg.rf.a0d695b066d2df3b4ea58eef9caddb2d.txt  \n",
            "  inflating: train/labels/image1463_jpg.rf.1e50821aaa5f9f62027e401ac491c463.txt  \n",
            "  inflating: train/labels/image1463_jpg.rf.4a022398809810b261c311bcf8aefc27.txt  \n",
            "  inflating: train/labels/image1463_jpg.rf.9ec6f5c997f3281534eed312248f1a83.txt  \n",
            "  inflating: train/labels/image1469_jpg.rf.41e9474becc55f4bc712dea14a00df7b.txt  \n",
            "  inflating: train/labels/image1469_jpg.rf.6fe7eca4ef995c7268339aacc52f3eb7.txt  \n",
            "  inflating: train/labels/image1469_jpg.rf.e5089c864655a3b42f01e7f037cb756b.txt  \n",
            "  inflating: train/labels/image1474_jpg.rf.0bba0484bdec3d0d24bd586aa5a365f3.txt  \n",
            "  inflating: train/labels/image1474_jpg.rf.56893b192604f8f0dbb0f1fd87b04918.txt  \n",
            "  inflating: train/labels/image1474_jpg.rf.8cfc13f62aacc0e4379d6d8b1ef65ae6.txt  \n",
            "  inflating: train/labels/image1475_jpg.rf.67f7b4dc49b76277a5c04608cce8f691.txt  \n",
            "  inflating: train/labels/image1475_jpg.rf.b28a0d99808e04da83daafe5bb7a9e55.txt  \n",
            "  inflating: train/labels/image1475_jpg.rf.d907812d87b3c11d1460def9149123a4.txt  \n",
            "  inflating: train/labels/image1478_jpg.rf.82633632d4824932efabc69a957c09ef.txt  \n",
            "  inflating: train/labels/image1478_jpg.rf.af55489a5bab2e53b8f20d9bf5074e86.txt  \n",
            "  inflating: train/labels/image1478_jpg.rf.f76557b94f8e7622f88fb18e424d8f39.txt  \n",
            "  inflating: train/labels/image1479_jpg.rf.5cb946dcd420204b2f625a1b57c7a6f1.txt  \n",
            "  inflating: train/labels/image1479_jpg.rf.a06cd294d0aacfed597c939d15fc8761.txt  \n",
            "  inflating: train/labels/image1479_jpg.rf.ebeb7cd19cf07c6292f38081a603c962.txt  \n",
            "  inflating: train/labels/image1480_jpg.rf.89bfe3fc3fe4c58e63253673634078cd.txt  \n",
            "  inflating: train/labels/image1480_jpg.rf.ab8658ea363df2bcd3a24332f04d673c.txt  \n",
            "  inflating: train/labels/image1480_jpg.rf.c8580ab540cfefd9efa581cf5cfec739.txt  \n",
            "  inflating: train/labels/image1481_jpg.rf.0c94f331b5c03eb9d1fed8d5d6373ff3.txt  \n",
            "  inflating: train/labels/image1481_jpg.rf.374fa51c886e7410001cc3037befa022.txt  \n",
            "  inflating: train/labels/image1481_jpg.rf.4547178a7409485d8c9dac8ad04d8fb3.txt  \n",
            "  inflating: train/labels/image1484_jpg.rf.1840456b3818286f07244172015dbfe3.txt  \n",
            "  inflating: train/labels/image1484_jpg.rf.263ac3609f8214da8e82d9db36b300fb.txt  \n",
            "  inflating: train/labels/image1484_jpg.rf.e9caae4d44c303dacae654eee85e765c.txt  \n",
            "  inflating: train/labels/image1486_jpg.rf.15aa1b796cfe047d2b15dfa51c397371.txt  \n",
            "  inflating: train/labels/image1486_jpg.rf.52f028e7de05078431779a701ad7fb9c.txt  \n",
            "  inflating: train/labels/image1486_jpg.rf.a3d47dd50005bb6ec7cf5ed360fdf13e.txt  \n",
            "  inflating: train/labels/image1487_jpg.rf.0cdce3d47dd02f5274373de379f35f6d.txt  \n",
            "  inflating: train/labels/image1487_jpg.rf.7e011b3d37e52836f1ec6ec7b98c83e7.txt  \n",
            "  inflating: train/labels/image1487_jpg.rf.f0a8bc7f4bdd38d81be6f8fdd1e7f44a.txt  \n",
            "  inflating: train/labels/image1488_jpg.rf.a842c0ab08d27463c4d29ca868e0b4fb.txt  \n",
            "  inflating: train/labels/image1488_jpg.rf.c06c601ec1f32b6ae4ce23a9654dd57d.txt  \n",
            "  inflating: train/labels/image1488_jpg.rf.cd1c16209ab7a28f0721024aee54b971.txt  \n",
            "  inflating: train/labels/image1496_jpg.rf.29fcd0d78d77ed2b4ae08ac8002facdb.txt  \n",
            "  inflating: train/labels/image1496_jpg.rf.7e69261c08287f183c862338a6f2640c.txt  \n",
            "  inflating: train/labels/image1496_jpg.rf.a0f70ffe6ffe344f976c45f89751be02.txt  \n",
            "  inflating: train/labels/image1497_jpg.rf.1ab9c8d9f008c2d8d564a42bcf2c9864.txt  \n",
            "  inflating: train/labels/image1497_jpg.rf.447b338e88ac44aa62fe50bc41f0144a.txt  \n",
            "  inflating: train/labels/image1497_jpg.rf.5811e574433e7a8134a442c0564d0fed.txt  \n",
            "  inflating: train/labels/image1498_jpg.rf.0b0b246cc216fa386ce709c296a1eed1.txt  \n",
            "  inflating: train/labels/image1498_jpg.rf.2fae90fe61d42d35c663bec34c3a7de5.txt  \n",
            "  inflating: train/labels/image1498_jpg.rf.306a606707a239c322adf1f3f0a39a63.txt  \n",
            "  inflating: train/labels/image1505_jpg.rf.181c3184112b8b8e71192d3ceb2bc2a5.txt  \n",
            "  inflating: train/labels/image1505_jpg.rf.340fec86edf93d757f80c4004a577e52.txt  \n",
            "  inflating: train/labels/image1505_jpg.rf.6efbae6250256c18256266b6237f4915.txt  \n",
            "  inflating: train/labels/image1507_jpg.rf.1d922add0d1e97560d752186584bad20.txt  \n",
            "  inflating: train/labels/image1507_jpg.rf.5bfaa9dd78b476bf07121f914b2d78a5.txt  \n",
            "  inflating: train/labels/image1507_jpg.rf.e5645a7400a23bf2522febb8d37bbbeb.txt  \n",
            "  inflating: train/labels/image1513_jpg.rf.395f5fc9162345d85bf5415f0304a71a.txt  \n",
            "  inflating: train/labels/image1513_jpg.rf.989d7dee7cd954f867d39dbadda5ec61.txt  \n",
            "  inflating: train/labels/image1513_jpg.rf.a862e1e1acd4bee2f07cb57b340c4bc6.txt  \n",
            "  inflating: train/labels/image1514_jpg.rf.610d0d2547dc49a5297e03cb599efd3c.txt  \n",
            "  inflating: train/labels/image1514_jpg.rf.91e2f67cddff92135f58c0cbe915e55e.txt  \n",
            "  inflating: train/labels/image1514_jpg.rf.fabb2a43dfc1632054c6f0aeecfc2212.txt  \n",
            "  inflating: train/labels/image1519_jpg.rf.0110d551bf6f3418222078647a4bbd64.txt  \n",
            "  inflating: train/labels/image1519_jpg.rf.1efb45c3ed399b18271b8b3073b94c95.txt  \n",
            "  inflating: train/labels/image1519_jpg.rf.acc3871e345270b757d7a718ba89fd5a.txt  \n",
            "  inflating: train/labels/image1524_jpg.rf.0a797013034084b6bf9e078a313eca9a.txt  \n",
            "  inflating: train/labels/image1524_jpg.rf.258b388b0ca8e36260e2116621d5d2d8.txt  \n",
            "  inflating: train/labels/image1524_jpg.rf.539cf4adcd0beafc3c9351419f67baab.txt  \n",
            "  inflating: train/labels/image1529_jpg.rf.b32b4bfbe8ae0868d0e4af1fc3fffb62.txt  \n",
            "  inflating: train/labels/image1529_jpg.rf.cdeecf42fb54ab57ba4282d332ed1c69.txt  \n",
            "  inflating: train/labels/image1529_jpg.rf.eb2bbee295ab7e1501b86ab7eca92010.txt  \n",
            "  inflating: train/labels/image1534_jpg.rf.cdd25ac53fa3e893e8e3ef9ae7b11f54.txt  \n",
            "  inflating: train/labels/image1534_jpg.rf.e2dd5ccb8d105b9ecdef3f21c8c4838a.txt  \n",
            "  inflating: train/labels/image1534_jpg.rf.fb4fa28dbf057c6a48a1f6e95fb5c43f.txt  \n",
            "  inflating: train/labels/image1537_jpg.rf.166d7f85afa6d9dc440c58c2dd621988.txt  \n",
            "  inflating: train/labels/image1537_jpg.rf.4fcc72659ed503da5b91a96fce8239e3.txt  \n",
            "  inflating: train/labels/image1537_jpg.rf.60a579f9542958f088bebb6edd5e1b9e.txt  \n",
            "  inflating: train/labels/image1541_jpg.rf.9cdfb9a6b23b0a3247cfc1cf59083c9b.txt  \n",
            "  inflating: train/labels/image1541_jpg.rf.f1b2f78eab34c1dc13c30438644082dc.txt  \n",
            "  inflating: train/labels/image1541_jpg.rf.f5c7f6dc0390ef8047170795f17cb8c0.txt  \n",
            "  inflating: train/labels/image1546_jpg.rf.61a1015a075de6b9be504a008d694036.txt  \n",
            "  inflating: train/labels/image1546_jpg.rf.aae9d2c5a16f1706aaf649c99e9c1d0c.txt  \n",
            "  inflating: train/labels/image1546_jpg.rf.c743290ece53bc2de30fccc49731bf36.txt  \n",
            "  inflating: train/labels/image1553_jpg.rf.86787d3ad402953b6ef6fdd2f077c053.txt  \n",
            "  inflating: train/labels/image1553_jpg.rf.ce9c37d05ad6fbcdafcb2778ad26bd49.txt  \n",
            "  inflating: train/labels/image1553_jpg.rf.d39e3e611e1ff93c99ae8df6953337c8.txt  \n",
            "  inflating: train/labels/image1558_jpg.rf.63996b8250f783bc59941f0c48be056e.txt  \n",
            "  inflating: train/labels/image1558_jpg.rf.f0f4f0d5c7561fdead903b28dc99da76.txt  \n",
            "  inflating: train/labels/image1558_jpg.rf.fda5bc0adfd76dbb7af54f98479fe1d1.txt  \n",
            "  inflating: train/labels/image1559_jpg.rf.35822e23f7ac432ff6e6c59267a558da.txt  \n",
            "  inflating: train/labels/image1559_jpg.rf.ab626516f599185674d6198e84de051d.txt  \n",
            "  inflating: train/labels/image1559_jpg.rf.e9afe728204021d1194730234beebc61.txt  \n",
            "  inflating: train/labels/image1561_jpg.rf.3c694e846d13769a56411c05a9edd92a.txt  \n",
            "  inflating: train/labels/image1561_jpg.rf.e0ef726c5f99c4ab74535fac1ec37a9e.txt  \n",
            "  inflating: train/labels/image1561_jpg.rf.f47f45471f718fc8ab8449a71dd4d6f0.txt  \n",
            "  inflating: train/labels/image1563_jpg.rf.62bc5bd44681af6c4e52b89a36b876d6.txt  \n",
            "  inflating: train/labels/image1563_jpg.rf.726be92d806e9878922d9b2a8f134658.txt  \n",
            "  inflating: train/labels/image1563_jpg.rf.c41da63c6e4af6a85cc9aec9e569f184.txt  \n",
            "  inflating: train/labels/image1565_jpg.rf.50498c00432f49747ab6b30b9d115da3.txt  \n",
            "  inflating: train/labels/image1565_jpg.rf.7dcb84f8ab20c3b857022e6cf228c4d6.txt  \n",
            "  inflating: train/labels/image1565_jpg.rf.a6400a1ba185bc2a3fe526a210d758dc.txt  \n",
            "  inflating: train/labels/image1567_jpg.rf.3fa2690237bed09d6fcd7efadc7e4e3a.txt  \n",
            "  inflating: train/labels/image1567_jpg.rf.4eb9981228095620d710d02d7db54b81.txt  \n",
            "  inflating: train/labels/image1567_jpg.rf.baca034a16cee93afa5a6cf42c52254f.txt  \n",
            "  inflating: train/labels/image1569_jpg.rf.719db01f1a93755857492a921bcc76a8.txt  \n",
            "  inflating: train/labels/image1569_jpg.rf.d1f5cdf4e075a69cabb3269ac73a33a7.txt  \n",
            "  inflating: train/labels/image1569_jpg.rf.f71856ad256af50f79bbdb112275d11c.txt  \n",
            "  inflating: train/labels/image1576_jpg.rf.0c94c34dd11ef406871091f1ac61592b.txt  \n",
            "  inflating: train/labels/image1576_jpg.rf.6ce9b725a2a16ab18621097859c73c8f.txt  \n",
            "  inflating: train/labels/image1576_jpg.rf.9ed2148bc9263ecc5f386791288ff576.txt  \n",
            "  inflating: train/labels/image1577_jpg.rf.1f508b2b41a5c84ffb7b7a0bfc442fd8.txt  \n",
            "  inflating: train/labels/image1577_jpg.rf.344d1e29cf5d52c81327c9bfe522ea0c.txt  \n",
            "  inflating: train/labels/image1577_jpg.rf.e6ddda0aa4d4d4b3ea4ae78114812985.txt  \n",
            "  inflating: train/labels/image1578_jpg.rf.504af48c206dd6b1f4f44b2c23722f35.txt  \n",
            "  inflating: train/labels/image1578_jpg.rf.567bcf4af86823c4aca918df5c183c07.txt  \n",
            "  inflating: train/labels/image1578_jpg.rf.722cf560fa980076ab9700316e949117.txt  \n",
            "  inflating: train/labels/image1582_jpg.rf.09fde03012b50616a1ef03050c9a4942.txt  \n",
            "  inflating: train/labels/image1582_jpg.rf.53e20f4d6506d15102911f87e032ffbb.txt  \n",
            "  inflating: train/labels/image1582_jpg.rf.c85d96e32e87f45aee4eda0832bd8482.txt  \n",
            "  inflating: train/labels/image1588_jpg.rf.5801c5fb360d9c87df503af12e7ff788.txt  \n",
            "  inflating: train/labels/image1588_jpg.rf.5b75c5aefe3a783fb261699f46570018.txt  \n",
            "  inflating: train/labels/image1588_jpg.rf.64de13a25015aa03725464070c9df6cb.txt  \n",
            "  inflating: train/labels/image1590_jpg.rf.f5bdaef5ddb076bc714d39c856bf2908.txt  \n",
            "  inflating: train/labels/image1590_jpg.rf.f938030869acf796bc3ba39e319467cf.txt  \n",
            "  inflating: train/labels/image1590_jpg.rf.fd53007aaa304d50cd2b9d3acfb5cd1e.txt  \n",
            "  inflating: train/labels/image1598_jpg.rf.0915cd62e54645ba85b2482233655509.txt  \n",
            "  inflating: train/labels/image1598_jpg.rf.77562b83cf79bbaa052c142ce2a5f8da.txt  \n",
            "  inflating: train/labels/image1598_jpg.rf.cd4239b742b573acf0a29b950a11d6bc.txt  \n",
            "  inflating: train/labels/image1600_jpg.rf.00f19762967f7d288d86c0a4c52a82a4.txt  \n",
            "  inflating: train/labels/image1600_jpg.rf.17d8e3e5e7c30fd1bc494d64ae3d82e2.txt  \n",
            "  inflating: train/labels/image1600_jpg.rf.59491587b4fccae2889aff6976ad76c2.txt  \n",
            "  inflating: train/labels/image1601_jpg.rf.6f8b80d0adc765d4ae8147790b72713e.txt  \n",
            "  inflating: train/labels/image1601_jpg.rf.8212c292b6670b97deee4a1006290fc5.txt  \n",
            "  inflating: train/labels/image1601_jpg.rf.d8c259f82ce4ace0c5e24de564e139e4.txt  \n",
            "  inflating: train/labels/image1602_jpg.rf.2cc27f390e93ec481695954ef386f930.txt  \n",
            "  inflating: train/labels/image1602_jpg.rf.7a201fc33b5000a46524a699753cac7c.txt  \n",
            "  inflating: train/labels/image1602_jpg.rf.d8f448b421a8f63d587d851f4c752ce7.txt  \n",
            "  inflating: train/labels/image1605_jpg.rf.2c967ba41d2039d4b9eb53545a2919d3.txt  \n",
            "  inflating: train/labels/image1605_jpg.rf.711deb078fadde54f64f821d5dfb88eb.txt  \n",
            "  inflating: train/labels/image1605_jpg.rf.e02ccca78d3c28d38bc32618e2144170.txt  \n",
            "  inflating: train/labels/image1609_jpg.rf.31f0554728d41d5908e7efae6f3ab06d.txt  \n",
            "  inflating: train/labels/image1609_jpg.rf.8bba2a5dde3b14d6c11127ce97506ac7.txt  \n",
            "  inflating: train/labels/image1609_jpg.rf.b10210111c5a2edac04b6c220919beb5.txt  \n",
            "  inflating: train/labels/image1610_jpg.rf.0c28eb8460dc18e3629da7b1eb3f2cc1.txt  \n",
            "  inflating: train/labels/image1610_jpg.rf.6cfc9438703c01fa0adc175fc7e2e20a.txt  \n",
            "  inflating: train/labels/image1610_jpg.rf.f1d0b5442e11b3e0267075b1c32f3b12.txt  \n",
            "  inflating: train/labels/image1612_jpg.rf.5d8db0a1978e7412b43fd870f59dfc88.txt  \n",
            "  inflating: train/labels/image1612_jpg.rf.6a80fab41b98e6e1198404826e6e2386.txt  \n",
            "  inflating: train/labels/image1612_jpg.rf.fad809e6db4d1b7f7e782008fd736aae.txt  \n",
            "  inflating: train/labels/image1613_jpg.rf.47cef00dfb6c562f6e513b409c4c2af8.txt  \n",
            "  inflating: train/labels/image1613_jpg.rf.ca631bd8a6045d99119b8dc26c9dd645.txt  \n",
            "  inflating: train/labels/image1613_jpg.rf.ef2d67e019a426745e8a0ccfb4fa8387.txt  \n",
            "  inflating: train/labels/image1615_jpg.rf.25254c2f19bb2e95c1e8d7ac7204b657.txt  \n",
            "  inflating: train/labels/image1615_jpg.rf.3095fe4d94be43bc7e650ba1ea0b02c6.txt  \n",
            "  inflating: train/labels/image1615_jpg.rf.d7b34b36230d04826f07adc66a33b219.txt  \n",
            "  inflating: train/labels/image1618_jpg.rf.0ee458c8cd1a6ba03cdb2c9600437cd8.txt  \n",
            "  inflating: train/labels/image1618_jpg.rf.ec69f05d77405c6ca2ec75f8d1c95006.txt  \n",
            "  inflating: train/labels/image1618_jpg.rf.efb03a6d05029371d78e3124c56662fe.txt  \n",
            "  inflating: train/labels/image1623_jpg.rf.12ad3adeb81d1cf5eb8175d1ccb3788b.txt  \n",
            "  inflating: train/labels/image1623_jpg.rf.19890b58694624518e62b21c474309f4.txt  \n",
            "  inflating: train/labels/image1623_jpg.rf.6b01a9ff46d39bfa24fdd1998032faad.txt  \n",
            "  inflating: train/labels/image1629_jpg.rf.324b806292dbffb2d08604616323c10e.txt  \n",
            "  inflating: train/labels/image1629_jpg.rf.714be13216b05bd70439271e48b74535.txt  \n",
            "  inflating: train/labels/image1629_jpg.rf.72e7801e622494c4bb5d3fa562d87ea5.txt  \n",
            "  inflating: train/labels/image1634_jpg.rf.849d79f848cc7964ee1dd9cbbdbcc1ce.txt  \n",
            "  inflating: train/labels/image1634_jpg.rf.b0c69156ecdbc73f65e170db8d06c2a6.txt  \n",
            "  inflating: train/labels/image1634_jpg.rf.be8bc7fe4905c7fd66d8dbd4a0ef67b2.txt  \n",
            "  inflating: train/labels/image1636_jpg.rf.1e4798f815d00ba0c94e34726168c2ef.txt  \n",
            "  inflating: train/labels/image1636_jpg.rf.2d2d3560d1331d274298ad6089e9a605.txt  \n",
            "  inflating: train/labels/image1636_jpg.rf.b559564f0618da4ad3ced78ca69c7a21.txt  \n",
            "  inflating: train/labels/image1641_jpg.rf.0dca672dec051ccf186cc9acccd4a07f.txt  \n",
            "  inflating: train/labels/image1641_jpg.rf.3db676edccda90eb391e7289e154f704.txt  \n",
            "  inflating: train/labels/image1641_jpg.rf.6a512bee399dfd2defbe7d3b945b645f.txt  \n",
            "  inflating: train/labels/image1642_jpg.rf.64a75da9462dfeb5f17238fec0a29789.txt  \n",
            "  inflating: train/labels/image1642_jpg.rf.7dca92aa0b1dcc82897eea90d4f81dee.txt  \n",
            "  inflating: train/labels/image1642_jpg.rf.c3f44455db585eaeba511a3946e777d5.txt  \n",
            "  inflating: train/labels/image1644_jpg.rf.36f1ff38e6e05f59ccdfedfcbe550b5c.txt  \n",
            "  inflating: train/labels/image1644_jpg.rf.94749f9c73020516045154d36d15d647.txt  \n",
            "  inflating: train/labels/image1644_jpg.rf.ea613cab0133a76d3a161539bfa5f186.txt  \n",
            "  inflating: train/labels/image1649_jpg.rf.052286c24099a763e9b36d90060c59d1.txt  \n",
            "  inflating: train/labels/image1649_jpg.rf.2c7b0d3d87379a7cbbca728dcd06cafb.txt  \n",
            "  inflating: train/labels/image1649_jpg.rf.ed60863b59fef09eb002cf36b08d3496.txt  \n",
            "  inflating: train/labels/image1655_jpg.rf.7d753ef4e83e65e0183cc5f258fd947b.txt  \n",
            "  inflating: train/labels/image1655_jpg.rf.9465d989abb16201f5509d52569eec7e.txt  \n",
            "  inflating: train/labels/image1655_jpg.rf.db7f43a76e64fb22af077768b115ff36.txt  \n",
            "  inflating: train/labels/image1656_jpg.rf.1a789c8f735acb4e83a604afeffc9231.txt  \n",
            "  inflating: train/labels/image1656_jpg.rf.ca265fc24862cd8af097c4c0bbbc9d14.txt  \n",
            "  inflating: train/labels/image1656_jpg.rf.ec44ef256f1c48f67cf605ca3d7e4fc9.txt  \n",
            "  inflating: train/labels/image1660_jpg.rf.0e36346dbf62d764d67e3b3964069750.txt  \n",
            "  inflating: train/labels/image1660_jpg.rf.5b69d7996b54eb721ef454d69ef074e3.txt  \n",
            "  inflating: train/labels/image1660_jpg.rf.79304dab95415c64da85c85d8e5f6469.txt  \n",
            "  inflating: train/labels/image1670_jpg.rf.4feb29c5c749fbe71870f575ed20b32b.txt  \n",
            "  inflating: train/labels/image1670_jpg.rf.6625691d755cbc2faba68bbfe5bac9e2.txt  \n",
            "  inflating: train/labels/image1670_jpg.rf.a0ba3a0fddeb3e22d12d3fbbc4755592.txt  \n",
            "  inflating: train/labels/image1677_jpg.rf.3e9b380bc6e1ea0fe7cd6cebd03feb10.txt  \n",
            "  inflating: train/labels/image1677_jpg.rf.44949acad99e717e12fa61e4ef076904.txt  \n",
            "  inflating: train/labels/image1677_jpg.rf.6dcccdc305a783c3262190580f3bbaa0.txt  \n",
            "  inflating: train/labels/image1681_jpg.rf.288f0838237292af6f4f5eb4cce9edf0.txt  \n",
            "  inflating: train/labels/image1681_jpg.rf.4bd281e30223f8147c7798b148a55c6d.txt  \n",
            "  inflating: train/labels/image1681_jpg.rf.ccf05ee8af0a06f59a37f82fea3edf8f.txt  \n",
            "  inflating: train/labels/image1683_jpg.rf.0ceadc650dd66ccc1a959c324e3041ba.txt  \n",
            "  inflating: train/labels/image1683_jpg.rf.a1422203f5670760c771072c5d704948.txt  \n",
            "  inflating: train/labels/image1683_jpg.rf.e1272ef92747bd9850e59da9c98d1d88.txt  \n",
            "  inflating: train/labels/image1686_jpg.rf.1c534da1a60e8042e11763f8e3464dad.txt  \n",
            "  inflating: train/labels/image1686_jpg.rf.3bbecb536b328611e31901d623fd8714.txt  \n",
            "  inflating: train/labels/image1686_jpg.rf.c788d9aa03fbd8fc1b8521f5279725f0.txt  \n",
            "  inflating: train/labels/image1693_jpg.rf.14a1169369d26041234f9dc4737736c4.txt  \n",
            "  inflating: train/labels/image1693_jpg.rf.4f0c36d3c4d0e495b2a377832f265bf5.txt  \n",
            "  inflating: train/labels/image1693_jpg.rf.5bd48c4a280a2de0e7faebbfa3f49dc1.txt  \n",
            "  inflating: train/labels/image1696_jpg.rf.13a789b63f5d879ad6ff088ec910276e.txt  \n",
            "  inflating: train/labels/image1696_jpg.rf.4ebb09cfcdcc74894d6b645c17cda742.txt  \n",
            "  inflating: train/labels/image1696_jpg.rf.9335dfc1a905e2f3075bf6f1e71f220c.txt  \n",
            "  inflating: train/labels/image1698_jpg.rf.17f3bf94de898dbef3cd1b501cb01534.txt  \n",
            "  inflating: train/labels/image1698_jpg.rf.6ba2f4862ecaed8a78158bbc7bc43cdb.txt  \n",
            "  inflating: train/labels/image1698_jpg.rf.c336ad2eef62d94de0683f1604f7df63.txt  \n",
            "  inflating: train/labels/image1700_jpg.rf.4e63787d2e24184b3ff3d842bbdfae44.txt  \n",
            "  inflating: train/labels/image1700_jpg.rf.6f8b646c34ad15d004f811617a65434f.txt  \n",
            "  inflating: train/labels/image1700_jpg.rf.a96e2c8db9639afbbdbee5a296b2b2bd.txt  \n",
            "  inflating: train/labels/image1704_jpg.rf.34b3fadf943ffc96a3ad6fd072e0a366.txt  \n",
            "  inflating: train/labels/image1704_jpg.rf.3534174cef405c6c7f264e7ad93f3d1c.txt  \n",
            "  inflating: train/labels/image1704_jpg.rf.7d0155208f91162900811a3c671134bc.txt  \n",
            "  inflating: train/labels/image1708_jpg.rf.2187bd4dda8b58bb02ac8d08fb8cf026.txt  \n",
            "  inflating: train/labels/image1708_jpg.rf.55d5f44bf0fdcd0ffd24d69ec91bb8ed.txt  \n",
            "  inflating: train/labels/image1708_jpg.rf.801f2062725a33acba6e2c71932e47ab.txt  \n",
            "  inflating: train/labels/image1713_jpg.rf.19162ff43bf1e078c6492f8962eebd64.txt  \n",
            "  inflating: train/labels/image1713_jpg.rf.43af11386e52104ac9f1a5fa9026527d.txt  \n",
            "  inflating: train/labels/image1713_jpg.rf.7069bcbe55d04b3b7b7d6b1cab6edac6.txt  \n",
            "  inflating: train/labels/image1717_jpg.rf.03fbd587cabb01a5659ee2c0514974e3.txt  \n",
            "  inflating: train/labels/image1717_jpg.rf.476fc0c8cc6e42668def10f15ad9419e.txt  \n",
            "  inflating: train/labels/image1717_jpg.rf.c5fde36b684a921a66dcc142392f43ea.txt  \n",
            "  inflating: train/labels/image1722_jpg.rf.1792e31f87dc0fec143169c8e238b1e2.txt  \n",
            "  inflating: train/labels/image1722_jpg.rf.d7c0698da546099f31ab3588caaa1060.txt  \n",
            "  inflating: train/labels/image1722_jpg.rf.e98cc08c3ced3b8445fb83acd8a05f6e.txt  \n",
            "  inflating: train/labels/image1723_jpg.rf.04076fedf427a99b7d35a02b7f044a4e.txt  \n",
            "  inflating: train/labels/image1723_jpg.rf.9059b4d43c7f429b708722f642cc1c8d.txt  \n",
            "  inflating: train/labels/image1723_jpg.rf.ce1f6a29dd3b54ab31b37a7e2f34eca2.txt  \n",
            "  inflating: train/labels/image1724_jpg.rf.0de6fceefbdb633f4f748cc4dbed1fc6.txt  \n",
            "  inflating: train/labels/image1724_jpg.rf.62ba563e074e84cf54c95f7fc1969446.txt  \n",
            "  inflating: train/labels/image1724_jpg.rf.fa6c9700768ada2939fb7129905c0550.txt  \n",
            "  inflating: train/labels/image1726_jpg.rf.dde2ab83524e7e98078ebcd25324e8c9.txt  \n",
            "  inflating: train/labels/image1726_jpg.rf.f477f378a55aa30212cbb23e60b7c2e9.txt  \n",
            "  inflating: train/labels/image1726_jpg.rf.fe114ed5b8cf8894e8b1bdd156c79cc1.txt  \n",
            "  inflating: train/labels/image1727_jpg.rf.235b316ef10ec3753cc519dc53e265f1.txt  \n",
            "  inflating: train/labels/image1727_jpg.rf.677d6d18c27ee926d7220bc323139f2f.txt  \n",
            "  inflating: train/labels/image1727_jpg.rf.960fdb892534646a89c3f250f8c9af29.txt  \n",
            "  inflating: train/labels/image1733_jpg.rf.29750a0a9686242dfa84710af1c8f0a7.txt  \n",
            "  inflating: train/labels/image1733_jpg.rf.4e062cd1eeaebfcfb2f3c3792116996a.txt  \n",
            "  inflating: train/labels/image1733_jpg.rf.f7f1ccc19b2fbceebd4794f14bcea824.txt  \n",
            "  inflating: train/labels/image1734_jpg.rf.93dc7bab9976d54a25f59942d9915102.txt  \n",
            "  inflating: train/labels/image1734_jpg.rf.dbb267d4de98e107a7237ba540854834.txt  \n",
            "  inflating: train/labels/image1734_jpg.rf.fb70f1d77c3d27f31f99cd6053a6858d.txt  \n",
            "  inflating: train/labels/image1735_jpg.rf.1b112fe18ce0f8d01fcb02f4e48ad0dd.txt  \n",
            "  inflating: train/labels/image1735_jpg.rf.2239736a1afd430cecbb7a0c6757c45a.txt  \n",
            "  inflating: train/labels/image1735_jpg.rf.6c1e4a87b9456113ee1042908bffe53a.txt  \n",
            "  inflating: train/labels/image1737_jpg.rf.06b98c31b7342057837e73ce988685af.txt  \n",
            "  inflating: train/labels/image1737_jpg.rf.1bf3c10676ff61a7ff37d6d790726685.txt  \n",
            "  inflating: train/labels/image1737_jpg.rf.f05c8a136baf9c0882be981e2eab5cc0.txt  \n",
            "  inflating: train/labels/image1738_jpg.rf.6f26ef8fbcd39965feed4c446b9c802b.txt  \n",
            "  inflating: train/labels/image1738_jpg.rf.c4f3fff55710a3fd05869c6cace0d4ae.txt  \n",
            "  inflating: train/labels/image1738_jpg.rf.d605246e1088e3110196f1b2a6c683d9.txt  \n",
            "  inflating: train/labels/image1743_jpg.rf.36ce2783a96af2300383805bb50b1821.txt  \n",
            "  inflating: train/labels/image1743_jpg.rf.803e058d0b56aac4bde51451115ad7f7.txt  \n",
            "  inflating: train/labels/image1743_jpg.rf.b453ff187855dbc500929531d15a20b5.txt  \n",
            "  inflating: train/labels/image1750_jpg.rf.7675e38290926a399b496d4052c27575.txt  \n",
            "  inflating: train/labels/image1750_jpg.rf.7b29df3f190e0f7a7b9853919ea5458f.txt  \n",
            "  inflating: train/labels/image1750_jpg.rf.e68924b9673aabe647de6f024232ed51.txt  \n",
            "  inflating: train/labels/image1752_jpg.rf.247cc25ac1c0100921c1c20a6ac6fb26.txt  \n",
            "  inflating: train/labels/image1752_jpg.rf.7cd6c2a948208f80cc7b2270baaa98bf.txt  \n",
            "  inflating: train/labels/image1752_jpg.rf.e9bffd7798302cfe84668f1c33eb3e14.txt  \n",
            "  inflating: train/labels/image1754_jpg.rf.426c4078301c19cc63195921af23bb82.txt  \n",
            "  inflating: train/labels/image1754_jpg.rf.a7ebfdb84c165d7805dbf5e8f70980fc.txt  \n",
            "  inflating: train/labels/image1754_jpg.rf.d090b89d66c2270898dd9c56c26641f1.txt  \n",
            "  inflating: train/labels/image1756_jpg.rf.1f3e83a78b38333374b13d29a6c2b3f4.txt  \n",
            "  inflating: train/labels/image1756_jpg.rf.3e2f3cfb21d7d34e4305642ff685d5d0.txt  \n",
            "  inflating: train/labels/image1756_jpg.rf.e2b25a23cdfc514792bf7c30209cdb39.txt  \n",
            " extracting: train/labels/image1762_jpg.rf.ef947e39203558093a5b6e23602a71b7.txt  \n",
            " extracting: train/labels/image1762_jpg.rf.fd3e8bfd8bf47f112799aa1c15c6f318.txt  \n",
            " extracting: train/labels/image1762_jpg.rf.ff04dba8165ba4a5a14400d9f83c90ca.txt  \n",
            "  inflating: train/labels/image1764_jpg.rf.7744caf013cedfd576e8b9054dcb497b.txt  \n",
            "  inflating: train/labels/image1764_jpg.rf.87c1f6b71aec7ed0f52f22f6673ed324.txt  \n",
            "  inflating: train/labels/image1764_jpg.rf.cf477f1f3154ccd55c309e4fd11aa28e.txt  \n",
            "  inflating: train/labels/image1765_jpg.rf.12b250e549f0e929c23050c36aa0ee83.txt  \n",
            "  inflating: train/labels/image1765_jpg.rf.707d50c60a60c10599d753f34121b7ff.txt  \n",
            "  inflating: train/labels/image1765_jpg.rf.e3294c3ce5eb0796920a77bd27c45689.txt  \n",
            "  inflating: train/labels/image1766_jpg.rf.31bdbd6143be8826d11fa892e6a3e6d0.txt  \n",
            "  inflating: train/labels/image1766_jpg.rf.aae0de96ad43d933cd6661d33cdbf042.txt  \n",
            "  inflating: train/labels/image1766_jpg.rf.d678af194a63b6f993d067bafe4aeedc.txt  \n",
            "  inflating: train/labels/image1768_jpg.rf.53f5d0116d16f966cee8ff45d30b77ac.txt  \n",
            "  inflating: train/labels/image1768_jpg.rf.6752ecad3bc6b45fc8f969d9bb7e3910.txt  \n",
            "  inflating: train/labels/image1768_jpg.rf.fdf82f6caa48ce2b4c264ef7365554c5.txt  \n",
            "  inflating: train/labels/image1773_jpg.rf.00ac1845d5ea0448ab7afa884f75036d.txt  \n",
            "  inflating: train/labels/image1773_jpg.rf.19fca8ae907b9a8f85f477953c4832e8.txt  \n",
            "  inflating: train/labels/image1773_jpg.rf.9e161e6396b10c60eeddb05b10bb8438.txt  \n",
            "  inflating: train/labels/image1774_jpg.rf.4a0535efad79c54a5071d5cd8cb1c2dd.txt  \n",
            "  inflating: train/labels/image1774_jpg.rf.7355aa6ac930dcd26eec6edc3fee0208.txt  \n",
            "  inflating: train/labels/image1774_jpg.rf.f99a283d2284dd00dae442026e4ce5b7.txt  \n",
            "  inflating: train/labels/image1775_jpg.rf.422159e781a3d92ec7cdda4d5ababd75.txt  \n",
            "  inflating: train/labels/image1775_jpg.rf.7ea3211cddb87537f32f30910296973e.txt  \n",
            "  inflating: train/labels/image1775_jpg.rf.f7c4864c6a43bd9a7933c6e01e525952.txt  \n",
            "  inflating: train/labels/image1779_jpg.rf.2c79e2b0a4f9679d72f2fd044bc11612.txt  \n",
            "  inflating: train/labels/image1779_jpg.rf.c2db10b3b7e1333ee693dc8d505f41dd.txt  \n",
            "  inflating: train/labels/image1779_jpg.rf.e2a8e8ff5262a4b14fdcb7c51a18e86d.txt  \n",
            "  inflating: train/labels/image1780_jpg.rf.4cb3864f9b0156f55d1327476d069844.txt  \n",
            "  inflating: train/labels/image1780_jpg.rf.756b23abec0b7ec186ff17fd6aa47a4a.txt  \n",
            "  inflating: train/labels/image1780_jpg.rf.d1954b768f0c7fe92acb29ebb4760de9.txt  \n",
            "  inflating: train/labels/image1781_jpg.rf.0200a52e5c209728db2a4384a6406722.txt  \n",
            "  inflating: train/labels/image1781_jpg.rf.127ff7878c4078f26648393bdf028710.txt  \n",
            "  inflating: train/labels/image1781_jpg.rf.a68ebdd58cd1268753459adaa8994781.txt  \n",
            "  inflating: train/labels/image1786_jpg.rf.03366feea9774dbe14d60f65db2fa292.txt  \n",
            "  inflating: train/labels/image1786_jpg.rf.b099b98c175bf9baf6e3f323e482fcef.txt  \n",
            "  inflating: train/labels/image1786_jpg.rf.d87a67093067aa939848198de0f878d0.txt  \n",
            "  inflating: train/labels/image1791_jpg.rf.34edc59945f42867410f2f7415bfe80a.txt  \n",
            "  inflating: train/labels/image1791_jpg.rf.6449d098e13c46bb77a3ae737766d3b9.txt  \n",
            "  inflating: train/labels/image1791_jpg.rf.d9f80917cfc02a06ca1d2cd3e641b089.txt  \n",
            "  inflating: train/labels/image1793_jpg.rf.55d66116dddd0aa4d892890fb11fdf04.txt  \n",
            "  inflating: train/labels/image1793_jpg.rf.94bd605d621e3ffabdb65e28a8bf175d.txt  \n",
            "  inflating: train/labels/image1793_jpg.rf.ca13e44ad66faf03e6f3a6433dbb2dfd.txt  \n",
            "  inflating: train/labels/image1794_jpg.rf.663c7325da9934cdbcf312a07492019a.txt  \n",
            "  inflating: train/labels/image1794_jpg.rf.6ea2d65333edefcac750c6151c7d9860.txt  \n",
            "  inflating: train/labels/image1794_jpg.rf.8761050a1d0b31e5e5728c086c3f1178.txt  \n",
            "  inflating: train/labels/image1796_jpg.rf.2bdcad113bf5eb94b77dc5945d69576e.txt  \n",
            "  inflating: train/labels/image1796_jpg.rf.2fe2889a31388ed0afe583e108e16bd9.txt  \n",
            "  inflating: train/labels/image1796_jpg.rf.fa17a7fef804f9b022d9b5fe465c2bbf.txt  \n",
            "  inflating: train/labels/image1799_jpg.rf.a44b943e26bbd034e20c6f0730d6ab73.txt  \n",
            "  inflating: train/labels/image1799_jpg.rf.cd3360929a17bdab343dbbefc0a8f8ee.txt  \n",
            "  inflating: train/labels/image1799_jpg.rf.f395964662ac88d62ad9642fec3cb7ca.txt  \n",
            "  inflating: train/labels/image1802_jpg.rf.4e607d3c446bc12d99d1ef59c1c34f8e.txt  \n",
            "  inflating: train/labels/image1802_jpg.rf.5e2d3141cc14ca14bfd4e2ac6d865346.txt  \n",
            "  inflating: train/labels/image1802_jpg.rf.ea018509ac17eb9b92a49de7ea948790.txt  \n",
            "  inflating: train/labels/image1805_jpg.rf.230a3c7a38762860e6c363791b8854af.txt  \n",
            "  inflating: train/labels/image1805_jpg.rf.365c93ede172cc95253843ba2554fad7.txt  \n",
            "  inflating: train/labels/image1805_jpg.rf.60ed16e6e0ca05d19a44f89a6fa7cf88.txt  \n",
            "  inflating: train/labels/image1807_jpg.rf.01c8f375c2e5ba405f2a0bd6f8572602.txt  \n",
            "  inflating: train/labels/image1807_jpg.rf.41389f9e8ae29f140a5531e8bea22b87.txt  \n",
            "  inflating: train/labels/image1807_jpg.rf.a3c21fa7f310df1072095f29050bcede.txt  \n",
            "  inflating: train/labels/image1815_jpg.rf.6961163c6923a4ba5ab5d33cbd07a7ca.txt  \n",
            "  inflating: train/labels/image1815_jpg.rf.787d2cd3f40303fd0fe908376cb706c6.txt  \n",
            "  inflating: train/labels/image1815_jpg.rf.fb0f239ef6f16391660f1e4b296fa6df.txt  \n",
            "  inflating: train/labels/image1818_jpg.rf.0a25e4d18f95f443ab6317b94c459ec8.txt  \n",
            "  inflating: train/labels/image1818_jpg.rf.7213e3cf161543354505ac7ace961267.txt  \n",
            "  inflating: train/labels/image1818_jpg.rf.da79849d451f2d5d14e1669cd42f06df.txt  \n",
            "  inflating: train/labels/image1820_jpg.rf.1f7857182c8c90694d747825780c57c9.txt  \n",
            "  inflating: train/labels/image1820_jpg.rf.8c457ccf5cbe1ef543561325bd01a477.txt  \n",
            "  inflating: train/labels/image1820_jpg.rf.8f93b6423dfeed4e69432f57fccfab53.txt  \n",
            "  inflating: train/labels/image1824_jpg.rf.12cb52d0d6ac4362f0a129c6a130f9eb.txt  \n",
            "  inflating: train/labels/image1824_jpg.rf.5cdbda3b265245b997b65fbdc92434e6.txt  \n",
            "  inflating: train/labels/image1824_jpg.rf.dc1a3c10575da2f7c3011c19f85c7732.txt  \n",
            "  inflating: train/labels/image1830_jpg.rf.19b819e8ce3497bdd37bc3cbb070a25a.txt  \n",
            "  inflating: train/labels/image1830_jpg.rf.7a46b6bda99ad96d47719096818d3550.txt  \n",
            "  inflating: train/labels/image1830_jpg.rf.d81733e8ed220bd21a6781d09411138b.txt  \n",
            "  inflating: train/labels/image1831_jpg.rf.5024cf9ae8603e22347eca639a1e5b58.txt  \n",
            "  inflating: train/labels/image1831_jpg.rf.76a27fdafda6151ab9b4e22a75655f1e.txt  \n",
            "  inflating: train/labels/image1831_jpg.rf.d9d93c2c2785bf51ae210a179a82efc7.txt  \n",
            "  inflating: train/labels/image1832_jpg.rf.1b29130fcfbb92db55cf01764f1ebb3c.txt  \n",
            "  inflating: train/labels/image1832_jpg.rf.6c9780fd266c16143166a20734805cf3.txt  \n",
            "  inflating: train/labels/image1832_jpg.rf.921f43633e9f8c2525c925f9aa50245f.txt  \n",
            "  inflating: train/labels/image1833_jpg.rf.05717ed6ecd41adecd5ab83b38e45541.txt  \n",
            "  inflating: train/labels/image1833_jpg.rf.3541f6f4ad799d3b6a377fce8afe47be.txt  \n",
            "  inflating: train/labels/image1833_jpg.rf.e19d380f62f927ee0fca0138b3811a6b.txt  \n",
            "  inflating: train/labels/image1840_jpg.rf.06aa9a152f0ab50d4b6759e00a02e85f.txt  \n",
            "  inflating: train/labels/image1840_jpg.rf.6bdd5cb689c577b6175f7b691f3caec0.txt  \n",
            "  inflating: train/labels/image1840_jpg.rf.b21ba64c390d6c34a89a2b3c3370310a.txt  \n",
            "  inflating: train/labels/image1841_jpg.rf.1f532f4594cee33e831b995b046f5c46.txt  \n",
            "  inflating: train/labels/image1841_jpg.rf.7db025f29db8b65911a41eb5e102dbf3.txt  \n",
            "  inflating: train/labels/image1841_jpg.rf.8dc7716b2fd1a7f3473ece02ad58d931.txt  \n",
            "  inflating: train/labels/image1845_jpg.rf.182f662ac4451007e15a71412a94f8ad.txt  \n",
            "  inflating: train/labels/image1845_jpg.rf.1a8fe8081dc2d3532b8bbe3e0e6b0fba.txt  \n",
            "  inflating: train/labels/image1845_jpg.rf.ccf451d282545a3983893780d591f06c.txt  \n",
            "  inflating: train/labels/image1846_jpg.rf.7ad7c12a675bb2db5793810dcc882eaf.txt  \n",
            "  inflating: train/labels/image1846_jpg.rf.aa64c0a5d4ccc647e800311150c533d3.txt  \n",
            "  inflating: train/labels/image1846_jpg.rf.dfa870d1764836348f67f8d38cbe4c52.txt  \n",
            "  inflating: train/labels/image1847_jpg.rf.0c98e3adc2c4dc0bf7ba1233b0a5986d.txt  \n",
            "  inflating: train/labels/image1847_jpg.rf.8ed975f3a01d4db44f1f02745d0e9118.txt  \n",
            "  inflating: train/labels/image1847_jpg.rf.9945da01efadfe27343c67a324d1cef4.txt  \n",
            "  inflating: train/labels/image1852_jpg.rf.3ce6ab00a5b14942b4e3fd344ff57162.txt  \n",
            "  inflating: train/labels/image1852_jpg.rf.7b8297f08e34a12b37f3ba54023f9c44.txt  \n",
            "  inflating: train/labels/image1852_jpg.rf.b4b126e06e1bf5f6190ef1fe5ae95f8f.txt  \n",
            "  inflating: train/labels/image1854_jpg.rf.0e28a66bf8f810a0a26d6d4917628884.txt  \n",
            "  inflating: train/labels/image1854_jpg.rf.42f7435710063c49cdc3cb92249d2b14.txt  \n",
            "  inflating: train/labels/image1854_jpg.rf.7963f20431aa837fbf14bf0f08af33bf.txt  \n",
            "  inflating: train/labels/image1857_jpg.rf.1cb0c2e44e35f25f34c9f599bca4773f.txt  \n",
            "  inflating: train/labels/image1857_jpg.rf.42c3059d661984e486ea57a3c4929c69.txt  \n",
            "  inflating: train/labels/image1857_jpg.rf.bbedbeb4444937280adbbe4a36fb62da.txt  \n",
            "  inflating: train/labels/image1863_jpg.rf.066b58cb6cfe7bfbaa170fb8d4aa4682.txt  \n",
            "  inflating: train/labels/image1863_jpg.rf.60c760ca03d444fe3ac765c4354b9416.txt  \n",
            "  inflating: train/labels/image1863_jpg.rf.a9d5cb4cc437cb4bd02629fcfe8f805c.txt  \n",
            "  inflating: train/labels/image1864_jpg.rf.52d98e18aa70f1347cf863e39b43549a.txt  \n",
            "  inflating: train/labels/image1864_jpg.rf.a3196ad697c5fea5794dceed18a04c59.txt  \n",
            "  inflating: train/labels/image1864_jpg.rf.edd24713682bf5a405432cf3c94f470f.txt  \n",
            "  inflating: train/labels/image1867_jpg.rf.c8b441c3e202d68f7232f7d762d7d2b4.txt  \n",
            "  inflating: train/labels/image1867_jpg.rf.e4d7fbb3d1eb22cfab6e8534fe7a7fd7.txt  \n",
            "  inflating: train/labels/image1867_jpg.rf.f66eaef63720e9f422833204f529c73d.txt  \n",
            "  inflating: train/labels/image1869_jpg.rf.5b08087d968852e28408f33752569095.txt  \n",
            "  inflating: train/labels/image1869_jpg.rf.69893a57a09ac5ea7510ae5b4faad7d6.txt  \n",
            "  inflating: train/labels/image1869_jpg.rf.74a459f77575911a464188176bc63714.txt  \n",
            "  inflating: train/labels/image1870_jpg.rf.85c59e6ffd33acdb6b949d83da7033cf.txt  \n",
            "  inflating: train/labels/image1870_jpg.rf.86babbb8b3b0501d9d928a27dfe9c8ac.txt  \n",
            "  inflating: train/labels/image1870_jpg.rf.f4f502cd40150173902fa6ff5f90b696.txt  \n",
            "  inflating: train/labels/image1871_jpg.rf.2c42d85abaa06efbf9563dcd0eefdc47.txt  \n",
            "  inflating: train/labels/image1871_jpg.rf.3495c59eb48b8387afaf59ec95298205.txt  \n",
            "  inflating: train/labels/image1871_jpg.rf.464782a896f464f256b3eb65000d61de.txt  \n",
            "  inflating: train/labels/image1876_jpg.rf.653c390e1b37b6b6b0b5493e43b58d25.txt  \n",
            "  inflating: train/labels/image1876_jpg.rf.f131b5d08d54ce30ffe04797243709fc.txt  \n",
            "  inflating: train/labels/image1876_jpg.rf.f74d31b80c1d5392170f0c91fe15a4da.txt  \n",
            "  inflating: train/labels/image1885_jpg.rf.9cf69b337dcbef6287a67dbf19768162.txt  \n",
            "  inflating: train/labels/image1885_jpg.rf.fb126252f021451bce9580dfff74a625.txt  \n",
            "  inflating: train/labels/image1885_jpg.rf.fb330920af5d7d7aaacd4bc4022a1c19.txt  \n",
            "  inflating: train/labels/image1887_jpg.rf.54ead0352aa509b6d9f6d7d1939fb8c8.txt  \n",
            "  inflating: train/labels/image1887_jpg.rf.5e89d333d215677bfb2b34b1c72a1b1b.txt  \n",
            "  inflating: train/labels/image1887_jpg.rf.f33c8f53042e3b5a8795059df12bb9f7.txt  \n",
            " extracting: train/labels/image1890_jpg.rf.4480fc35446e0417f34f98095763a2dc.txt  \n",
            " extracting: train/labels/image1890_jpg.rf.81c128496898ef502cc5c9455ce212e0.txt  \n",
            " extracting: train/labels/image1890_jpg.rf.cdf78433a58042400c2ea9fb3010467e.txt  \n",
            "  inflating: train/labels/image1892_jpg.rf.8d4ef7ecdd655e068c56af80275c1bfc.txt  \n",
            "  inflating: train/labels/image1892_jpg.rf.ab6bba4d1dc64b4d64e5dd753eb07717.txt  \n",
            "  inflating: train/labels/image1892_jpg.rf.d54566dfd1b7ec5afcc0e4b1720a966e.txt  \n",
            "  inflating: train/labels/image1894_jpg.rf.02686a1ac685a4cd6cc7daf809ba68f3.txt  \n",
            "  inflating: train/labels/image1894_jpg.rf.1ea42f9eecfdc60299cf7b22fd7fe536.txt  \n",
            "  inflating: train/labels/image1894_jpg.rf.951d0ea50903adcd1837b4370731a095.txt  \n",
            "  inflating: train/labels/image1895_jpg.rf.91103a2a49df4b6b5103db1dcced9095.txt  \n",
            "  inflating: train/labels/image1895_jpg.rf.d4c379d2e69ee24f306c91206f66f082.txt  \n",
            "  inflating: train/labels/image1895_jpg.rf.eec0dd3d87c677ff956e196e782b31cc.txt  \n",
            "  inflating: train/labels/image1899_jpg.rf.4783f4eaa84adcd6f4d5a73898a0fa19.txt  \n",
            "  inflating: train/labels/image1899_jpg.rf.982d122c4f26838d8fdfbd26a723a690.txt  \n",
            "  inflating: train/labels/image1899_jpg.rf.b1ce83076e2956083ed2d3e20390a82f.txt  \n",
            "  inflating: train/labels/image1901_jpg.rf.4fce70c69a050e816c432ba6b95f4d8b.txt  \n",
            "  inflating: train/labels/image1901_jpg.rf.5095b4760a5e1e1fe39b6779b667a2cc.txt  \n",
            "  inflating: train/labels/image1901_jpg.rf.e3a8e601eddf577aef98ad2daafe0aa2.txt  \n",
            "  inflating: train/labels/image1903_jpg.rf.9fb664fe74a9eec3d12ac08ff6e9b687.txt  \n",
            "  inflating: train/labels/image1903_jpg.rf.d0668d51d93ffd8414dc32d0120f42a7.txt  \n",
            "  inflating: train/labels/image1903_jpg.rf.fda005d518bfd5190d44466157cca3c6.txt  \n",
            "  inflating: train/labels/image1906_jpg.rf.6af350718186f6d5c124c3a63132d0ec.txt  \n",
            "  inflating: train/labels/image1906_jpg.rf.d20ef9a8fa3ddddea0647111680b6331.txt  \n",
            "  inflating: train/labels/image1906_jpg.rf.fbbd31ca4d59dfe36111dbc45c0e6c1c.txt  \n",
            "  inflating: train/labels/image1907_jpg.rf.03fc7d408ccd7e64a883e7357af519ab.txt  \n",
            "  inflating: train/labels/image1907_jpg.rf.9d2e716e30b7b0d113da868ad9f8dab3.txt  \n",
            "  inflating: train/labels/image1907_jpg.rf.e2f0427f44af752948e3c06c268af6bc.txt  \n",
            "  inflating: train/labels/image1908_jpg.rf.a4b8977843a752ee4af95f2ce3a8cd5b.txt  \n",
            "  inflating: train/labels/image1908_jpg.rf.a9e8d6ad66a5b3b65d76a3c40563ed2e.txt  \n",
            "  inflating: train/labels/image1908_jpg.rf.cf45cb2751f127983f54f7789a625333.txt  \n",
            "  inflating: train/labels/image1909_jpg.rf.0075b0650faa76ea02a214bc03f73d8e.txt  \n",
            "  inflating: train/labels/image1909_jpg.rf.97364b1291406198a20c34cf496331cf.txt  \n",
            "  inflating: train/labels/image1909_jpg.rf.cc098fba559b246dec87b99cba96b850.txt  \n",
            "  inflating: train/labels/image1914_jpg.rf.1a05cf64356feac2a5e8e830f1d2badd.txt  \n",
            "  inflating: train/labels/image1914_jpg.rf.5fddc1babe2064eedfddcd321da0ccd4.txt  \n",
            "  inflating: train/labels/image1914_jpg.rf.7ec185e65bcd3bee31ab3a95d72e883c.txt  \n",
            "  inflating: train/labels/image1920_jpg.rf.b9a88631aa6da6b9be823c73ce71dcf0.txt  \n",
            "  inflating: train/labels/image1920_jpg.rf.e3b294a506ed854ca1c7751aa87194d0.txt  \n",
            "  inflating: train/labels/image1920_jpg.rf.e5ff505b7c983bae8a5f99a1f83341c6.txt  \n",
            "  inflating: train/labels/image1936_jpg.rf.0602d45d258f1915fc42478fe31ad886.txt  \n",
            "  inflating: train/labels/image1936_jpg.rf.58bd02d17312ff1a8c282b0c4480a7bb.txt  \n",
            "  inflating: train/labels/image1936_jpg.rf.856dd595727f6baf8da9e8cc8dcd33fc.txt  \n",
            "  inflating: train/labels/image1937_jpg.rf.780a1f36bd31baa44007a0ac73668e63.txt  \n",
            "  inflating: train/labels/image1937_jpg.rf.91016c0dcbcb4ec8c7f29774787869cf.txt  \n",
            "  inflating: train/labels/image1937_jpg.rf.bb7ebfe98f3887710ad548d1862b6ba4.txt  \n",
            "  inflating: train/labels/image1939_jpg.rf.0089d6d9618a7d6d2c703c0a4b96c945.txt  \n",
            "  inflating: train/labels/image1939_jpg.rf.f44808f35de2bc49f70da7bef2f2d6d6.txt  \n",
            "  inflating: train/labels/image1939_jpg.rf.f8a994a667582e10e7bc9e960054ca56.txt  \n",
            "  inflating: train/labels/image1942_jpg.rf.6187607788d738f15621c2387b949357.txt  \n",
            "  inflating: train/labels/image1942_jpg.rf.8aadf1fd6f46c62ba3d3d0d091b61029.txt  \n",
            "  inflating: train/labels/image1942_jpg.rf.bb36e7db2e1bbff1e4d94cbf36091ce9.txt  \n",
            "  inflating: train/labels/image1950_jpg.rf.6373ec32f581c3afff5f72cbced9a804.txt  \n",
            "  inflating: train/labels/image1950_jpg.rf.bbda14ddb0c5d4f324185b7294da20ae.txt  \n",
            "  inflating: train/labels/image1950_jpg.rf.da9e51ae4f0694ba88189bec9c5daccc.txt  \n",
            "  inflating: train/labels/image1951_jpg.rf.0294a2ea8715a3b4271d72e3cad2884b.txt  \n",
            "  inflating: train/labels/image1951_jpg.rf.3fa47bb1c45b6dfb1c51930a9d21bdbf.txt  \n",
            "  inflating: train/labels/image1951_jpg.rf.8fe6b73d07d432c38907169084a70387.txt  \n",
            "  inflating: train/labels/image1957_jpg.rf.2dd2bbb842e12e0e21a2f6e2c4697e9c.txt  \n",
            "  inflating: train/labels/image1957_jpg.rf.f945f4f3f5160c96a59a0a1d296d4efb.txt  \n",
            "  inflating: train/labels/image1957_jpg.rf.f96a12238d8cbbb2908638cff8beba3b.txt  \n",
            "  inflating: train/labels/image1962_jpg.rf.5837f0044257b2e094112897e149874d.txt  \n",
            "  inflating: train/labels/image1962_jpg.rf.802db0d69b57ccc4a9493ed19ce20865.txt  \n",
            "  inflating: train/labels/image1962_jpg.rf.ed91444f08161808c32bc31f91b7982e.txt  \n",
            "  inflating: train/labels/image1965_jpg.rf.037bd22556383c31b2e7fa1cf60cdf5a.txt  \n",
            "  inflating: train/labels/image1965_jpg.rf.0c6dc66980e15c84875902a23454951a.txt  \n",
            "  inflating: train/labels/image1965_jpg.rf.9f19dbda04a7dca3f66af02ef8d96227.txt  \n",
            "  inflating: train/labels/image1976_jpg.rf.96ecb0e95425a13b8215b4bb869bd421.txt  \n",
            "  inflating: train/labels/image1976_jpg.rf.af0cb558a0f3413a3023b658fa28780e.txt  \n",
            "  inflating: train/labels/image1976_jpg.rf.b85b9d0a659211a275a9638b9672dd39.txt  \n",
            "  inflating: train/labels/image1984_jpg.rf.8b7705ee7b7cc4d104892cc39b1fe10d.txt  \n",
            "  inflating: train/labels/image1984_jpg.rf.aedcd906f743b80d53c6e2584c7d6468.txt  \n",
            "  inflating: train/labels/image1984_jpg.rf.ea7eff37ece4c8e7a2ab9700c6306b9e.txt  \n",
            "  inflating: train/labels/image1987_jpg.rf.3fa54e29a9fb98db49c1bad106edf9a2.txt  \n",
            "  inflating: train/labels/image1987_jpg.rf.6937d8e66df9637141f0939ab6b2e16a.txt  \n",
            "  inflating: train/labels/image1987_jpg.rf.f2ac73bbbe169ff7c7b5d3c48790a9b1.txt  \n",
            " extracting: train/labels/image1988_jpg.rf.61571ba26608754f755d6e94b0698489.txt  \n",
            " extracting: train/labels/image1988_jpg.rf.753448e2027d2a2f37611f0a710e64eb.txt  \n",
            " extracting: train/labels/image1988_jpg.rf.86fd4bf39c7edaabbd0a64b3fd94ae79.txt  \n",
            "  inflating: train/labels/image1989_jpg.rf.202a7730907784bd37eb85eaf400aefe.txt  \n",
            "  inflating: train/labels/image1989_jpg.rf.5d601188d59cdebb9a21f843a61bbc4d.txt  \n",
            "  inflating: train/labels/image1989_jpg.rf.80809fa6225aa80f9215d4b825062540.txt  \n",
            "  inflating: train/labels/image1996_jpg.rf.4c1c12298cdd3a902c426b15be33ae24.txt  \n",
            "  inflating: train/labels/image1996_jpg.rf.87dc6fc18c90da9cacbc093a926d9b4a.txt  \n",
            "  inflating: train/labels/image1996_jpg.rf.fec0950ccf85385325e645f7e6dd9f90.txt  \n",
            " extracting: train/labels/image1999_jpg.rf.131e28063687bccf796f6aeb0f19ecd9.txt  \n",
            " extracting: train/labels/image1999_jpg.rf.32f5de4bb77a2e73c92953fb7f474ef1.txt  \n",
            " extracting: train/labels/image1999_jpg.rf.529c2816337c5f5a0cafa5b9b71805e7.txt  \n",
            "  inflating: train/labels/image2006_jpg.rf.7c2b79ae014ff26849d34ad668209dc5.txt  \n",
            "  inflating: train/labels/image2006_jpg.rf.9d370bc36488ead24e89b500e895c6ce.txt  \n",
            "  inflating: train/labels/image2006_jpg.rf.e8c5d0f3ed1e031c539546ee9a8fb2a2.txt  \n",
            "  inflating: train/labels/image2007_jpg.rf.2366e29afd2732af4215bd463df241ea.txt  \n",
            "  inflating: train/labels/image2007_jpg.rf.70edf0a157d0650dd5d6e910ce2f7d9d.txt  \n",
            "  inflating: train/labels/image2007_jpg.rf.b2eee00b05bc4e14c0ac84e7ef3cb895.txt  \n",
            "  inflating: train/labels/image2011_jpg.rf.5e34b62fe30d978e06093fa2c278a40c.txt  \n",
            "  inflating: train/labels/image2011_jpg.rf.aba6cac54b5c980ffa4d007485d1de1e.txt  \n",
            "  inflating: train/labels/image2011_jpg.rf.ad045f6fef6bce1f2c5d17deaf8a1a5c.txt  \n",
            "  inflating: train/labels/image2013_jpg.rf.042985ec7b625cae97d4a42bd9355547.txt  \n",
            "  inflating: train/labels/image2013_jpg.rf.d123e6f9ece2ebc8f7cd263e63ab024d.txt  \n",
            "  inflating: train/labels/image2013_jpg.rf.d3d82318546de1028a233075a6f8645b.txt  \n",
            "  inflating: train/labels/image2018_jpg.rf.06a496c993bb59e828f3b4f8e3623e49.txt  \n",
            "  inflating: train/labels/image2018_jpg.rf.7d31dee1841b5020d4f2357e4f408be6.txt  \n",
            "  inflating: train/labels/image2018_jpg.rf.9cc54ee71bb86a499eae1e57df1bf0ef.txt  \n",
            "  inflating: train/labels/image2020_jpg.rf.591840261f6366db30ad60a2312e4120.txt  \n",
            "  inflating: train/labels/image2020_jpg.rf.8a4dad4ec4c6af2128be44702a6eaa95.txt  \n",
            "  inflating: train/labels/image2020_jpg.rf.e2d57c3cfe284b68d4834911fef267e7.txt  \n",
            "  inflating: train/labels/image2024_jpg.rf.08038944fc563f24fcc19fee4ea341ff.txt  \n",
            "  inflating: train/labels/image2024_jpg.rf.3c84c80ac04dabf5dc9ac58de171c03e.txt  \n",
            "  inflating: train/labels/image2024_jpg.rf.88fa6e3ef95b2ab3e8f8fa0b9eb0e4d2.txt  \n",
            "  inflating: train/labels/image2025_jpg.rf.5a610b5be0af378e8e42243355d805d4.txt  \n",
            "  inflating: train/labels/image2025_jpg.rf.9f2984865497753946b758f80a4dbd10.txt  \n",
            "  inflating: train/labels/image2025_jpg.rf.de060a0a2e42aa9efbee315548abc94c.txt  \n",
            "  inflating: train/labels/image2026_jpg.rf.1717d96cf87954515c626dcdd71028d4.txt  \n",
            "  inflating: train/labels/image2026_jpg.rf.a9e22f9e3344d54c9123f0660a46119a.txt  \n",
            "  inflating: train/labels/image2026_jpg.rf.e28240057a38dbf35e307c490f9b9cd5.txt  \n",
            "  inflating: train/labels/image2031_jpg.rf.4c3a42825c584f351979b001d145d02b.txt  \n",
            "  inflating: train/labels/image2031_jpg.rf.5a5ceb47e51f1bdc98d82a2ffcf1fd55.txt  \n",
            "  inflating: train/labels/image2031_jpg.rf.db72070e216e0292c7141080aece05d4.txt  \n",
            "  inflating: train/labels/image2032_jpg.rf.6cede6dee3281a1fc7ff9990e14734ad.txt  \n",
            "  inflating: train/labels/image2032_jpg.rf.720440c2144dc8e04f78df968f22bbc2.txt  \n",
            "  inflating: train/labels/image2032_jpg.rf.ff7f9330a416c2830e448d030f794bc7.txt  \n",
            "  inflating: train/labels/image2035_jpg.rf.3062f7648ce411d16f9ab5ab34bbf784.txt  \n",
            "  inflating: train/labels/image2035_jpg.rf.53d0598589106787f0268ce1c690b8be.txt  \n",
            "  inflating: train/labels/image2035_jpg.rf.ed3d06d98cc88cdfdbb2532aea18c01a.txt  \n",
            "  inflating: train/labels/image2037_jpg.rf.84876f014c0b848ea07384e553360826.txt  \n",
            "  inflating: train/labels/image2037_jpg.rf.ce25c9fa00ede50acd96b1cd9110fd5d.txt  \n",
            "  inflating: train/labels/image2037_jpg.rf.d04b5a27abe6663b7a907c17087fbde9.txt  \n",
            "  inflating: train/labels/image2040_jpg.rf.355179241870e06f91a53638424c460c.txt  \n",
            "  inflating: train/labels/image2040_jpg.rf.6158922e0454419bb25c63758c01e5a2.txt  \n",
            "  inflating: train/labels/image2040_jpg.rf.fbb1e2ab5bae3d71a401758e32c12974.txt  \n",
            "  inflating: train/labels/image2053_jpg.rf.0125930bd19aeff33564baecfc9e686a.txt  \n",
            "  inflating: train/labels/image2053_jpg.rf.d2ff6d4d8332b55a367ff805bb2ad708.txt  \n",
            "  inflating: train/labels/image2053_jpg.rf.ecbb1b09516781aab90e52cc161d6d0b.txt  \n",
            "  inflating: train/labels/image2054_jpg.rf.31ea4ceb37c46b0be2c9e6de2021b4ae.txt  \n",
            "  inflating: train/labels/image2054_jpg.rf.e18fc94d26bc42c55488b0a25404a918.txt  \n",
            "  inflating: train/labels/image2054_jpg.rf.fa861e504f5446a920d8a737f2d8ff54.txt  \n",
            "  inflating: train/labels/image2055_jpg.rf.835c44f30336364554f4b617f2381d5b.txt  \n",
            "  inflating: train/labels/image2055_jpg.rf.8e4fd7c21f693fd471cb69827c4ea9dc.txt  \n",
            "  inflating: train/labels/image2055_jpg.rf.db20761fdaf69705501f7b7cd83f7127.txt  \n",
            "  inflating: train/labels/image2059_jpg.rf.4623ba54a1b882143c16306ea1c78f9c.txt  \n",
            "  inflating: train/labels/image2059_jpg.rf.8823ecafd2db0a9a172c28365cdcd82e.txt  \n",
            "  inflating: train/labels/image2059_jpg.rf.ed9e91dae8e2357514cd95086cbddeaf.txt  \n",
            "  inflating: train/labels/image2061_jpg.rf.156753cfee7d4be2c5541dea5ab9a3ee.txt  \n",
            "  inflating: train/labels/image2061_jpg.rf.27c3a7f8ae19eac60fe5ac9ce2daf367.txt  \n",
            "  inflating: train/labels/image2061_jpg.rf.ec5a249b51f4c21a427bd4663aea66bf.txt  \n",
            "  inflating: train/labels/image2062_jpg.rf.4af192bcf1f95b7a0702799f091cc005.txt  \n",
            "  inflating: train/labels/image2062_jpg.rf.938155293c79d3b3303659d394c274ce.txt  \n",
            "  inflating: train/labels/image2062_jpg.rf.a048926313fff31935073dc18be94335.txt  \n",
            "  inflating: train/labels/image2070_jpg.rf.04b2601d3505b96018423d1cefbd6e20.txt  \n",
            "  inflating: train/labels/image2070_jpg.rf.306dbed89595deb15f2fd335ceb87ecc.txt  \n",
            "  inflating: train/labels/image2070_jpg.rf.f58a7fe6a6438a6f336cb20a79623d6b.txt  \n",
            "  inflating: train/labels/image2085_jpg.rf.219408ad8e10ec27ab57fb94913cf716.txt  \n",
            "  inflating: train/labels/image2085_jpg.rf.73822cdd85e0a89cdee90d33c4552925.txt  \n",
            "  inflating: train/labels/image2085_jpg.rf.8fa802315005bf75c66940418d372a77.txt  \n",
            "  inflating: train/labels/image2086_jpg.rf.7c1f5be49001b1d6ebfa1158453a6ee2.txt  \n",
            "  inflating: train/labels/image2086_jpg.rf.9c2520cc9c5587ef1238ac17ab90a46e.txt  \n",
            "  inflating: train/labels/image2086_jpg.rf.ea41ea1d8b65771604e737c21d57da98.txt  \n",
            "  inflating: train/labels/image2087_jpg.rf.182ce711d7d57ed43ef33f22a502c055.txt  \n",
            "  inflating: train/labels/image2087_jpg.rf.7a936e47a20ebbf54cf8995f557e28e4.txt  \n",
            "  inflating: train/labels/image2087_jpg.rf.8e9ec6986ed05a39b003499d13a7e139.txt  \n",
            "  inflating: train/labels/image2088_jpg.rf.87d0f009c6cff930485d4890d270e750.txt  \n",
            "  inflating: train/labels/image2088_jpg.rf.947177cc08e3267fea6370d454d7ea47.txt  \n",
            "  inflating: train/labels/image2088_jpg.rf.cedead930a76f42081c69b74c026b235.txt  \n",
            "  inflating: train/labels/image2096_jpg.rf.2392c236c9000e9eb99dbf50a5bb144e.txt  \n",
            "  inflating: train/labels/image2096_jpg.rf.37e9f49ac1cfb92f031ed51927aea8d3.txt  \n",
            "  inflating: train/labels/image2096_jpg.rf.675c128adf5de11534e689703f2b31aa.txt  \n",
            "  inflating: train/labels/image2098_jpg.rf.84c1d169fbbe922dcdc2c800bc545f32.txt  \n",
            "  inflating: train/labels/image2098_jpg.rf.8dadf7bd44d990356be5847ffa3bb8ce.txt  \n",
            "  inflating: train/labels/image2098_jpg.rf.e98fb50d88f70736441d2e63bd40882e.txt  \n",
            "  inflating: train/labels/image2104_jpg.rf.101f91ab9c8bd3be57a827edaf605c58.txt  \n",
            "  inflating: train/labels/image2104_jpg.rf.acb1267577523f37ee902d7ed4485360.txt  \n",
            "  inflating: train/labels/image2104_jpg.rf.d044b266630c3ba75bf33d659e06c409.txt  \n",
            "  inflating: train/labels/image2108_jpg.rf.903977cdb45db0ea1d9609b327c13614.txt  \n",
            "  inflating: train/labels/image2108_jpg.rf.bc056f3afe2834106aa70db7b612b6f1.txt  \n",
            "  inflating: train/labels/image2108_jpg.rf.e727810db52e7b8c3ed015e69d955e91.txt  \n",
            "  inflating: train/labels/image2119_jpg.rf.00dabb4d00db72fa5daf096bcee94877.txt  \n",
            "  inflating: train/labels/image2119_jpg.rf.360200bdb4bce45f196594ed528d8810.txt  \n",
            "  inflating: train/labels/image2119_jpg.rf.a6acdc83bc02b977c38a93af7c7e9c43.txt  \n",
            "  inflating: train/labels/image2120_jpg.rf.2091cf2f9311c84152bb5e642adf1b47.txt  \n",
            "  inflating: train/labels/image2120_jpg.rf.7a9f665b13d3ecce1154768a26fc8990.txt  \n",
            "  inflating: train/labels/image2120_jpg.rf.c4d772c9fae80cc2e1011e507c352e45.txt  \n",
            "  inflating: train/labels/image2123_jpg.rf.1dfc7d891713a0847aeabc91d1872f29.txt  \n",
            "  inflating: train/labels/image2123_jpg.rf.95e97d03bc6323e35710ca0c22241c83.txt  \n",
            "  inflating: train/labels/image2123_jpg.rf.afefa1d9320dc1deb51fffe600dda7d7.txt  \n",
            " extracting: train/labels/image2125_jpg.rf.0420e8c34fa1e97419296d24ece6fe83.txt  \n",
            "  inflating: train/labels/image2125_jpg.rf.60ab8d39e8c0b133eb3461acc2625c54.txt  \n",
            "  inflating: train/labels/image2125_jpg.rf.88d9c9f5abdd4884a5bf28d59ac072c3.txt  \n",
            "  inflating: train/labels/image2127_jpg.rf.13dc76594286ebcf251a621a5a4b997d.txt  \n",
            "  inflating: train/labels/image2127_jpg.rf.4127166d1d8bc1540add47138addb5a4.txt  \n",
            "  inflating: train/labels/image2127_jpg.rf.4b467b081d6354e16f1a58b3b713043c.txt  \n",
            " extracting: train/labels/image2128_jpg.rf.2a01738266dce5bb4ba307af691829ec.txt  \n",
            " extracting: train/labels/image2128_jpg.rf.557ac9c4220ca222d877335f85d4728b.txt  \n",
            " extracting: train/labels/image2128_jpg.rf.6bf5ef4a2bde83e3b4926fbd5acfbc1e.txt  \n",
            "  inflating: train/labels/image2141_jpg.rf.3385aa429032c004b7884cd31811abc4.txt  \n",
            "  inflating: train/labels/image2141_jpg.rf.bdf38d6181e47fc5daa1484a67fbc088.txt  \n",
            "  inflating: train/labels/image2141_jpg.rf.d4fe50be0d140b104eca35a70484cd86.txt  \n",
            " extracting: train/labels/image2152_jpg.rf.032b271a23ff777a3e332123cc82ecde.txt  \n",
            " extracting: train/labels/image2152_jpg.rf.5eedcbc103e828e5150d3fb01d9611c2.txt  \n",
            " extracting: train/labels/image2152_jpg.rf.f7f76638a3f6f9bfda3572bdc82e6192.txt  \n",
            "  inflating: train/labels/image2153_jpg.rf.a299b859d0a1bc46d160a5d8da3793e9.txt  \n",
            "  inflating: train/labels/image2153_jpg.rf.e6a70fe34669ffd3f2ac11c384aded75.txt  \n",
            "  inflating: train/labels/image2153_jpg.rf.e837346da0581986d1bb7f5fc3e80d2f.txt  \n",
            "  inflating: train/labels/image2160_jpg.rf.551a457a99b1d7eb506061ad6638732e.txt  \n",
            "  inflating: train/labels/image2160_jpg.rf.6704244bbc4eeeab14fe0240caaf1292.txt  \n",
            "  inflating: train/labels/image2160_jpg.rf.c6a7eb5c8cc442d63e3fb302879a0cec.txt  \n",
            " extracting: train/labels/image2161_jpg.rf.290afa535801fb7916087900bdfdbce6.txt  \n",
            " extracting: train/labels/image2161_jpg.rf.6cc46e4b5243a9257f4544fc7aac86c7.txt  \n",
            " extracting: train/labels/image2161_jpg.rf.fb87345653435be11d4ccd8e293b073f.txt  \n",
            "  inflating: train/labels/image2166_jpg.rf.2775c4bfa0f87f5529c942491d456de9.txt  \n",
            "  inflating: train/labels/image2166_jpg.rf.88cd3f18dcd1b726e8321642b1e897cc.txt  \n",
            "  inflating: train/labels/image2166_jpg.rf.b3bc5e5b0e12eaf79dabe7a2f9cf8f2d.txt  \n",
            " extracting: train/labels/image2170_jpg.rf.7150f6cbed61c7e5e016127dd54aacca.txt  \n",
            " extracting: train/labels/image2170_jpg.rf.848a3b303f6ceb7f623df1e53781cd29.txt  \n",
            " extracting: train/labels/image2170_jpg.rf.8b39771fd96b2608e93401d11a1635f7.txt  \n",
            "  inflating: train/labels/image2171_jpg.rf.cb5110f46311724d43fa1e28a91a426e.txt  \n",
            "  inflating: train/labels/image2171_jpg.rf.e1db34443b35ef52d34991eff9bf2a31.txt  \n",
            "  inflating: train/labels/image2171_jpg.rf.e8cb5fa8d4711bd5fe8cbbead4f79599.txt  \n",
            "  inflating: train/labels/image2178_jpg.rf.8cfd00796e50b60e974676c9a76a798a.txt  \n",
            "  inflating: train/labels/image2178_jpg.rf.a7972b10e10bc97c83efe861ed40e886.txt  \n",
            "  inflating: train/labels/image2178_jpg.rf.f55854eece8115893f446bc62091bb3c.txt  \n",
            " extracting: train/labels/image2187_jpg.rf.0acb528382c429ecc1a24083fdb6a478.txt  \n",
            " extracting: train/labels/image2187_jpg.rf.5e6a834796457dd9534c44872adbce89.txt  \n",
            " extracting: train/labels/image2187_jpg.rf.c516acd7c93936b1e6a77aabdc2831f6.txt  \n",
            "  inflating: train/labels/image2189_jpg.rf.42eca2abf250c1b52e92e73f2666065a.txt  \n",
            "  inflating: train/labels/image2189_jpg.rf.99e235f8b2ba70d86195d888c5c92372.txt  \n",
            "  inflating: train/labels/image2189_jpg.rf.cc5aa0962cc68c712ec91d7182b4b85a.txt  \n",
            "  inflating: train/labels/image2191_jpg.rf.033f91ff9615a46834e696a909ebd313.txt  \n",
            "  inflating: train/labels/image2191_jpg.rf.31c14c70cda6084eaf3f55f7e8dcc3cc.txt  \n",
            "  inflating: train/labels/image2191_jpg.rf.aaa2e2476bc9d5f7bf913923d6e407c4.txt  \n",
            "  inflating: train/labels/image2193_jpg.rf.0385df666f2d64ddfd08a257a0ead60c.txt  \n",
            "  inflating: train/labels/image2193_jpg.rf.2aee1714d515d888d6057a6b0341a241.txt  \n",
            "  inflating: train/labels/image2193_jpg.rf.69a3090e1abc3c0b361d49b331214406.txt  \n",
            "  inflating: train/labels/image2194_jpg.rf.397ac3138fcbeb610d0eeea38fcdb90c.txt  \n",
            "  inflating: train/labels/image2194_jpg.rf.92e1fa9ed0b67d37564c0542bafc86d3.txt  \n",
            "  inflating: train/labels/image2194_jpg.rf.9d61b36ae3ae7e4a70dcd29b4f76a1c2.txt  \n",
            "  inflating: train/labels/image2201_jpg.rf.37b805eff151e8b39eac8463cd6a186a.txt  \n",
            "  inflating: train/labels/image2201_jpg.rf.a12698392317d86db8726ece242dbe1f.txt  \n",
            "  inflating: train/labels/image2201_jpg.rf.a307e45a23ad46f7bff7d164508081d8.txt  \n",
            "  inflating: train/labels/image2202_jpg.rf.d708e02eb73e74766ef247309554f928.txt  \n",
            "  inflating: train/labels/image2202_jpg.rf.eeaf54a2f25a84c9f14fc344d2d14139.txt  \n",
            "  inflating: train/labels/image2202_jpg.rf.f052901f67dd2548a639869084e3cd87.txt  \n",
            "  inflating: train/labels/image2203_jpg.rf.2f8eac41265588fe2ecdccf9b96b18c6.txt  \n",
            "  inflating: train/labels/image2203_jpg.rf.43427338ab8588ee4a07d502c15c18dd.txt  \n",
            "  inflating: train/labels/image2203_jpg.rf.defcdb68d9821828e63b935a174c08ac.txt  \n",
            "  inflating: train/labels/image2206_jpg.rf.44e3256cacd1ad31c90f335b4767c4ce.txt  \n",
            "  inflating: train/labels/image2206_jpg.rf.d10dd169ad8f4c9894dd55528cec439e.txt  \n",
            "  inflating: train/labels/image2206_jpg.rf.dfd010e159cf003c243b53b13ae9f202.txt  \n",
            "  inflating: train/labels/image2207_jpg.rf.1acd8093a7f81e957ffc4ef09777b8f0.txt  \n",
            "  inflating: train/labels/image2207_jpg.rf.e3d2c3d22832620aeae903a0c0ec3ec5.txt  \n",
            "  inflating: train/labels/image2207_jpg.rf.e7c1085198cc775dd135e2dd27a868e7.txt  \n",
            "  inflating: train/labels/image2208_jpg.rf.05b7e203213dc4e9754972ad44e06b25.txt  \n",
            "  inflating: train/labels/image2208_jpg.rf.5de9b8a53bd7cd900ae1984c8a153fe5.txt  \n",
            "  inflating: train/labels/image2208_jpg.rf.abb4ca8c92fdd34d97d4f1eb92924597.txt  \n",
            "  inflating: train/labels/image2212_jpg.rf.7300182c8252a657b0c024ac0caf9112.txt  \n",
            "  inflating: train/labels/image2212_jpg.rf.824904568473803044908aa9170399f4.txt  \n",
            "  inflating: train/labels/image2212_jpg.rf.9c133281b176c6a54ab8c4f6adfa81f7.txt  \n",
            "  inflating: train/labels/image2217_jpg.rf.606006ad76c13de96303ec5db36e70a7.txt  \n",
            "  inflating: train/labels/image2217_jpg.rf.c5ff5ae02b6350c8a7d677d162711a8e.txt  \n",
            "  inflating: train/labels/image2217_jpg.rf.f14f480ec511d34997c87a1cf69cf725.txt  \n",
            "  inflating: train/labels/image2222_jpg.rf.349a49f5f749b64d486aa228b2cb0843.txt  \n",
            "  inflating: train/labels/image2222_jpg.rf.9c1ccbea92f8e312fcefc01c8936de9d.txt  \n",
            "  inflating: train/labels/image2222_jpg.rf.de5db0d180ccbce848b486c663135e89.txt  \n",
            "  inflating: train/labels/image2225_jpg.rf.255f9384ffaa59a324635edcdf61d678.txt  \n",
            "  inflating: train/labels/image2225_jpg.rf.5c7a757c91b4d449c80d5f8f2c0df120.txt  \n",
            "  inflating: train/labels/image2225_jpg.rf.bcfe19fc3ce93298403a4e0414b078f6.txt  \n",
            "  inflating: train/labels/image2229_jpg.rf.6b52329b506c41421c60f00f267fd067.txt  \n",
            "  inflating: train/labels/image2229_jpg.rf.c59e51a29e313792ad5ca7199417d029.txt  \n",
            "  inflating: train/labels/image2229_jpg.rf.ddccf3a85e75a44a677b7f4caa3b8cc2.txt  \n",
            "  inflating: train/labels/image2233_jpg.rf.3676d867a7ee1336aba0f6ab6860d512.txt  \n",
            "  inflating: train/labels/image2233_jpg.rf.a0954899660c1e0bf147df1fd3061dfe.txt  \n",
            "  inflating: train/labels/image2233_jpg.rf.cb5a3eea066c10bd8128352c949c8cc4.txt  \n",
            " extracting: train/labels/image2234_jpg.rf.42966e27a2187e24dc01db3a4c21731d.txt  \n",
            " extracting: train/labels/image2234_jpg.rf.5882ddb2eefe5a68c3110baf0b477ace.txt  \n",
            " extracting: train/labels/image2234_jpg.rf.8d4233a71d285c0c7e2e4bcb76e77ac7.txt  \n",
            "  inflating: train/labels/image2237_jpg.rf.35e075282de097ec5a4892d1405fe201.txt  \n",
            "  inflating: train/labels/image2237_jpg.rf.6ef60fa4379f7e2cd00ef184334b7702.txt  \n",
            "  inflating: train/labels/image2237_jpg.rf.a6f7bbde951d86bf4f08da946e476d5c.txt  \n",
            "  inflating: train/labels/image2242_jpg.rf.26d07f69d981193bfcc36aed5b367737.txt  \n",
            "  inflating: train/labels/image2242_jpg.rf.aeae199afb8795c6adedb266ff840581.txt  \n",
            "  inflating: train/labels/image2242_jpg.rf.fdb20f20102f62c545208b942377e68e.txt  \n",
            "  inflating: train/labels/image2263_jpg.rf.30e6b86ae6ffaf85fe31b32f48e12231.txt  \n",
            "  inflating: train/labels/image2263_jpg.rf.5c00996a5d60bc76c445a2cb489aa6e0.txt  \n",
            "  inflating: train/labels/image2263_jpg.rf.6d3c6a9a59eda4fb1ce3a8e16fde4dbe.txt  \n",
            "  inflating: train/labels/image2274_jpg.rf.5695325b2d7f512c62b367875540ee44.txt  \n",
            "  inflating: train/labels/image2274_jpg.rf.69bf72d03591669fe7f1c5f14030f1ad.txt  \n",
            "  inflating: train/labels/image2274_jpg.rf.fb6c147724506a26384f45188d9abe0d.txt  \n",
            "  inflating: train/labels/image2275_jpg.rf.56df2108f8fa10f3027dc1d6b89ba24a.txt  \n",
            "  inflating: train/labels/image2275_jpg.rf.6d6dfe6fda42736b9896cb33a405c8d1.txt  \n",
            "  inflating: train/labels/image2275_jpg.rf.ef43d09a1870b2212a80878b3e10c29d.txt  \n",
            "  inflating: train/labels/image2283_jpg.rf.47191c28d095b20e9888ba91850add0f.txt  \n",
            "  inflating: train/labels/image2283_jpg.rf.bf32f6b6a502455e5fef537b10c35a65.txt  \n",
            "  inflating: train/labels/image2283_jpg.rf.ffc2961ec7437c3b9635a4d0fb99959e.txt  \n",
            "  inflating: train/labels/image2292_jpg.rf.539e3039cabcd9ab4d66dcb7b4392c9c.txt  \n",
            "  inflating: train/labels/image2292_jpg.rf.9c39f65f3c27bc69e2ca6384bdf94a72.txt  \n",
            "  inflating: train/labels/image2292_jpg.rf.cd35dd79ecb6cce49d0729c2b37f4d5e.txt  \n",
            "  inflating: train/labels/image2303_jpg.rf.1f82bc3921b2115dd7199089bef32d67.txt  \n",
            "  inflating: train/labels/image2303_jpg.rf.5b515c9a905054cf75b506a06f89a71a.txt  \n",
            "  inflating: train/labels/image2303_jpg.rf.a67c4b305a885936fc973e6995c61dcf.txt  \n",
            "  inflating: train/labels/image2309_jpg.rf.01b6f579b5a13f4f554a759ecc509258.txt  \n",
            "  inflating: train/labels/image2309_jpg.rf.85713283aaa31b63b15fe9c56cf410a3.txt  \n",
            "  inflating: train/labels/image2309_jpg.rf.91df450d528a3c37041ca49958b178bd.txt  \n",
            "  inflating: train/labels/image2313_jpg.rf.1b5531fc576b3f3f78d6b3dea44a646c.txt  \n",
            "  inflating: train/labels/image2313_jpg.rf.899aabd8849a85db12f22483caef0ee2.txt  \n",
            "  inflating: train/labels/image2313_jpg.rf.9f11002703fdd582dc1670f8e36a74fc.txt  \n",
            "  inflating: train/labels/image2315_jpg.rf.6657e94f0f78e36be6d2142e86fb9217.txt  \n",
            "  inflating: train/labels/image2315_jpg.rf.a05a8f9ffac941f3bb76d539b9e3b51a.txt  \n",
            "  inflating: train/labels/image2315_jpg.rf.b41e9bac2f7014ed8a6b0946c7abaf00.txt  \n",
            "  inflating: train/labels/image2318_jpg.rf.6c41400ceb1a088929c9912f6c854666.txt  \n",
            "  inflating: train/labels/image2318_jpg.rf.b5164ecbb987b61a0a11727cb91ed2d1.txt  \n",
            "  inflating: train/labels/image2318_jpg.rf.e0bc828059a2fc29cdce17474b1bd708.txt  \n",
            "  inflating: train/labels/image2319_jpg.rf.17669ed916e70ac9ccb2f7ecf01231f6.txt  \n",
            "  inflating: train/labels/image2319_jpg.rf.50ee740af03df0eca7b8a82b2b934db9.txt  \n",
            "  inflating: train/labels/image2319_jpg.rf.f6d67b52e313a72b2f285f456c5cf4d6.txt  \n",
            "  inflating: train/labels/image2321_jpg.rf.8da003251f5c31972497e0493345562c.txt  \n",
            "  inflating: train/labels/image2321_jpg.rf.ce930237370fabe36db46f0e04942836.txt  \n",
            "  inflating: train/labels/image2321_jpg.rf.e1a3dde705aa3223d720378195cec688.txt  \n",
            "  inflating: train/labels/image2325_jpg.rf.4809718069f3c9e50fc61c0abd6601ae.txt  \n",
            "  inflating: train/labels/image2325_jpg.rf.d1a0aa341b8576215287af7f66962733.txt  \n",
            "  inflating: train/labels/image2325_jpg.rf.fe023085db78662657e632399b7f61f9.txt  \n",
            " extracting: train/labels/image2328_jpg.rf.2b377a943b1b87e345f19b7e7daf4ba5.txt  \n",
            " extracting: train/labels/image2328_jpg.rf.3cc8a77e9c41843694fd370afbd07757.txt  \n",
            " extracting: train/labels/image2328_jpg.rf.c86815174a31f94882f0ee463588dfc7.txt  \n",
            " extracting: train/labels/image2329_jpg.rf.527beeae39a3f73164d28f8427f83ba5.txt  \n",
            " extracting: train/labels/image2329_jpg.rf.957cf8c3e1a5db72c363e8f9a1654b5c.txt  \n",
            " extracting: train/labels/image2329_jpg.rf.bf5bea3fdb8724594305796a45af8195.txt  \n",
            " extracting: train/labels/image2336_jpg.rf.5ffc1fe2bfcd6a9cf5df15c09fa84063.txt  \n",
            " extracting: train/labels/image2336_jpg.rf.a0bc229fd391e6f54a48fc844e03899b.txt  \n",
            " extracting: train/labels/image2336_jpg.rf.ce2d8a94235945b8bf4fc713f5723ad9.txt  \n",
            "  inflating: train/labels/image2340_jpg.rf.a6a8b1990aed02e6d79e88ce6f9a4b33.txt  \n",
            "  inflating: train/labels/image2340_jpg.rf.ad65456c800d990b1def0ea610ad569e.txt  \n",
            "  inflating: train/labels/image2340_jpg.rf.dea93897a77ed2be60a63fdcec5750ec.txt  \n",
            " extracting: train/labels/image2342_jpg.rf.c21d292fdc6fa1be9f3623ab220fd291.txt  \n",
            " extracting: train/labels/image2342_jpg.rf.e11c1ab833061633c04011bf527558e4.txt  \n",
            " extracting: train/labels/image2342_jpg.rf.efccbbebf0ed497ace05bdfbff64bbdb.txt  \n",
            "  inflating: train/labels/image2353_jpg.rf.59306bd6695a0bb20c30df5843f0ac61.txt  \n",
            "  inflating: train/labels/image2353_jpg.rf.7c2104865635dd3cced4aa841c180e5c.txt  \n",
            "  inflating: train/labels/image2353_jpg.rf.7f7ecf62032e7e27d635335ba3d7e3fb.txt  \n",
            " extracting: train/labels/image2361_jpg.rf.140b4541fe1e4e77828bde2a4667dc7f.txt  \n",
            " extracting: train/labels/image2361_jpg.rf.d43b04c22a6e5c5e1181b0a0cd452de8.txt  \n",
            " extracting: train/labels/image2361_jpg.rf.dfc5bdca3078d79b6131fdca2a3344b2.txt  \n",
            "  inflating: train/labels/image2362_jpg.rf.3f9d15ecc308e7cb983c3245a8d827b3.txt  \n",
            "  inflating: train/labels/image2362_jpg.rf.69a4196d37ddabe1ab2f5fc187f6576b.txt  \n",
            "  inflating: train/labels/image2362_jpg.rf.956592b741d5c034362ecd812ea321f3.txt  \n",
            "  inflating: train/labels/image2371_jpg.rf.8ee65cb33612a867f6065fb23f6d11ea.txt  \n",
            "  inflating: train/labels/image2371_jpg.rf.d68f8d10a7d1a738f5ec3b9a6d327bd3.txt  \n",
            "  inflating: train/labels/image2371_jpg.rf.f096e8eefb97229d28ab8b98867b03b1.txt  \n",
            "  inflating: train/labels/image2373_jpg.rf.06e242f6355896247b7a26bd994a5590.txt  \n",
            "  inflating: train/labels/image2373_jpg.rf.27a383a0a446ee560cf5d1ce44d82822.txt  \n",
            "  inflating: train/labels/image2373_jpg.rf.393e4f0ae74c3ac2c3cd648c14aa3207.txt  \n",
            "  inflating: train/labels/image2375_jpg.rf.7e37fe91b88015c89c146e5a5538339b.txt  \n",
            "  inflating: train/labels/image2375_jpg.rf.8b69d37545c1847a5bc48368c53fc930.txt  \n",
            "  inflating: train/labels/image2375_jpg.rf.a580b6a1c0626d83497ab809c20183aa.txt  \n",
            "  inflating: train/labels/image2382_jpg.rf.2995bfa19638e20d3409001d5420a097.txt  \n",
            "  inflating: train/labels/image2382_jpg.rf.51516e8ba854658333fd1c29d92dc76e.txt  \n",
            "  inflating: train/labels/image2382_jpg.rf.f83374ace764801b984d1119ff58480c.txt  \n",
            " extracting: train/labels/image2384_jpg.rf.1a730286e80dee24541e376169748c17.txt  \n",
            " extracting: train/labels/image2384_jpg.rf.ad64229b2e0e282c64c6d846f184d9c9.txt  \n",
            " extracting: train/labels/image2384_jpg.rf.fcab2f319d9bd4c97e2bd2b1c095311b.txt  \n",
            "  inflating: train/labels/image2387_jpg.rf.2996ba917c92a3d2fb277df583b9b8f3.txt  \n",
            "  inflating: train/labels/image2387_jpg.rf.34296de026725655ebd1937099b273b4.txt  \n",
            "  inflating: train/labels/image2387_jpg.rf.35f92f39418a4b6a8c5fee66b72a0db0.txt  \n",
            "  inflating: train/labels/image2390_jpg.rf.11f26eb175fffec79b6a5302b8354776.txt  \n",
            "  inflating: train/labels/image2390_jpg.rf.2766d4791761641a77ca6d354c2e4e99.txt  \n",
            "  inflating: train/labels/image2390_jpg.rf.71498aa65d7c62e806b168ca48c2e039.txt  \n",
            "  inflating: train/labels/image2392_jpg.rf.9fe93e553c81a44b13fea8cf921c3352.txt  \n",
            "  inflating: train/labels/image2392_jpg.rf.e3577c3056d992faa6e30a658754ead7.txt  \n",
            "  inflating: train/labels/image2392_jpg.rf.f8922eaa85d9ca87eed396f02c2da991.txt  \n",
            " extracting: train/labels/image2393_jpg.rf.26af6d5c29065a1d3e063f7053b01d2e.txt  \n",
            " extracting: train/labels/image2393_jpg.rf.836541478901b567c03e97dfe80f3cd8.txt  \n",
            " extracting: train/labels/image2393_jpg.rf.f31693ac451880d3ab455ab19aa347c5.txt  \n",
            "  inflating: train/labels/image2394_jpg.rf.0c508fe1b52110666f6dff54fb78da99.txt  \n",
            "  inflating: train/labels/image2394_jpg.rf.3fee55618acab1ff95b32a00e358741e.txt  \n",
            "  inflating: train/labels/image2394_jpg.rf.74fc13b7106e55071699d3ac39f4cd8e.txt  \n",
            "  inflating: train/labels/image2405_jpg.rf.2e02353bf7dd4e15eaf61b93c9bbd812.txt  \n",
            "  inflating: train/labels/image2405_jpg.rf.6c198a0537cb53ccebdb6f11a570d59c.txt  \n",
            "  inflating: train/labels/image2405_jpg.rf.7d833f892fe6cbe70d8cf556a96d8a10.txt  \n",
            " extracting: train/labels/image2407_jpg.rf.258dd7665774b847296110fd07b7204f.txt  \n",
            " extracting: train/labels/image2407_jpg.rf.281d28e4a91597b7f71d50edb4ab2374.txt  \n",
            " extracting: train/labels/image2407_jpg.rf.8a2de76fd5f0ff47e53cafb0d38ba859.txt  \n",
            "  inflating: train/labels/image2409_jpg.rf.8dd6755ba0bd1522332f1ec165e836f7.txt  \n",
            "  inflating: train/labels/image2409_jpg.rf.ae3853175b519665c950fb6f86f1d705.txt  \n",
            "  inflating: train/labels/image2409_jpg.rf.b551e6b0e8b53443287ad62f70f86258.txt  \n",
            "  inflating: train/labels/image2412_jpg.rf.1b8f16ab76df47cf120f4b9a20448f1f.txt  \n",
            "  inflating: train/labels/image2412_jpg.rf.ea80aa2114337b30e5a9c73d92a14515.txt  \n",
            "  inflating: train/labels/image2412_jpg.rf.f153dca9acc1777277013721a646ae0d.txt  \n",
            "  inflating: train/labels/image2413_jpg.rf.1334818e4edf8a7f5ffaebf616a59f7a.txt  \n",
            "  inflating: train/labels/image2413_jpg.rf.1ba71ed454841d7146a8b138e8ca39bb.txt  \n",
            "  inflating: train/labels/image2413_jpg.rf.b2d9238d4457b4c179e4774820a7c8c7.txt  \n",
            "  inflating: train/labels/image2414_jpg.rf.103cd4f349a0fe8fec2ac4220fecc6c5.txt  \n",
            "  inflating: train/labels/image2414_jpg.rf.556201f678ebbd06cf8f9204cd40527f.txt  \n",
            "  inflating: train/labels/image2414_jpg.rf.a4ddadc0811a12d8f94dcfc52f3f1527.txt  \n",
            "  inflating: train/labels/image2415_jpg.rf.786a229a0f949ee8e39d5e17a40e9ab9.txt  \n",
            "  inflating: train/labels/image2415_jpg.rf.d957101d79645419cfce8035abf30f44.txt  \n",
            "  inflating: train/labels/image2415_jpg.rf.db02863ea9dfd0173b9b47d762e8a7cc.txt  \n",
            "  inflating: train/labels/image2418_jpg.rf.4c5cc09f7f4e91509b5549562a9c74c0.txt  \n",
            "  inflating: train/labels/image2418_jpg.rf.5db472f3e72483870df155a4604c569b.txt  \n",
            "  inflating: train/labels/image2418_jpg.rf.b04c8fdab32dd42cd2e1470ca0e91a95.txt  \n",
            "  inflating: train/labels/image2432_jpg.rf.4adba1875ade395a84a72aafeb192fec.txt  \n",
            "  inflating: train/labels/image2432_jpg.rf.85af98ba481a3d1c2cb48a0ce6da8c00.txt  \n",
            "  inflating: train/labels/image2432_jpg.rf.af6e6cbe9119925e11f6604d9dbf0fe9.txt  \n",
            "  inflating: train/labels/image2435_jpg.rf.01a40a358e172793bdd04db5fa450c18.txt  \n",
            "  inflating: train/labels/image2435_jpg.rf.0baa3d39a3e735ad70b1fe949796e7e6.txt  \n",
            "  inflating: train/labels/image2435_jpg.rf.25915e43dee6d0f5190990224dc5ad0a.txt  \n",
            "  inflating: train/labels/image2436_jpg.rf.024ba03c3bfb87bd5ad44fc6fb589fce.txt  \n",
            "  inflating: train/labels/image2436_jpg.rf.389029e9a8363256c52560f1c4146762.txt  \n",
            "  inflating: train/labels/image2436_jpg.rf.ed1dd6f7a23056511795a74e209a95fc.txt  \n",
            "  inflating: train/labels/image2442_jpg.rf.19e79949928ea23739acf64653289fb5.txt  \n",
            "  inflating: train/labels/image2442_jpg.rf.5becbad3056893b33766e39b010fb515.txt  \n",
            "  inflating: train/labels/image2442_jpg.rf.fd55ee4bfce87d3a5757127e27c4083b.txt  \n",
            "  inflating: train/labels/image2450_jpg.rf.87398ee2e5d7cd571b3ab542c4915717.txt  \n",
            "  inflating: train/labels/image2450_jpg.rf.c316c853bb7dc04ef19870e40da3a03d.txt  \n",
            "  inflating: train/labels/image2450_jpg.rf.c4b7f43c84d4f70b927ac926fd2c3767.txt  \n",
            "  inflating: train/labels/image2452_jpg.rf.6cb17101524b6accfe8434eff9032b40.txt  \n",
            "  inflating: train/labels/image2452_jpg.rf.6d46fae71c0bd9df736792df44424f4a.txt  \n",
            "  inflating: train/labels/image2452_jpg.rf.c9eb016cf9d622e7d5488ebe3da3af2c.txt  \n",
            "  inflating: train/labels/image2454_jpg.rf.0350776005241404e66b3dba57e2958e.txt  \n",
            "  inflating: train/labels/image2454_jpg.rf.ee4409fbf6c5e36bce5faa52a400c5dc.txt  \n",
            "  inflating: train/labels/image2454_jpg.rf.f5620a8e5d329119de2f60f8fe7e71cc.txt  \n",
            "  inflating: train/labels/image2457_jpg.rf.dc8fd226ea935cda56deebaf1db0e21b.txt  \n",
            "  inflating: train/labels/image2457_jpg.rf.f81fc4afdc91d64c961ba89c4d0dea4d.txt  \n",
            "  inflating: train/labels/image2457_jpg.rf.f8f26b8e583ea06f6e010a1f1ea9a4f5.txt  \n",
            "  inflating: train/labels/image2458_jpg.rf.203c8b6f3994685bdd8c518c59c30ff4.txt  \n",
            "  inflating: train/labels/image2458_jpg.rf.2e17810e9edf7a3de9ba47332ee38d87.txt  \n",
            "  inflating: train/labels/image2458_jpg.rf.52c37294593bc6608f7455fc42c65e25.txt  \n",
            "  inflating: train/labels/image2459_jpg.rf.4613b0726492ffae60215dc22023dc8c.txt  \n",
            "  inflating: train/labels/image2459_jpg.rf.9954135e25a3e7675a99873bcce2971a.txt  \n",
            "  inflating: train/labels/image2459_jpg.rf.d7512484abdabcc2edc80065776abaf9.txt  \n",
            "  inflating: train/labels/image2464_jpg.rf.7c810fc67fcbd87c63e11879a338bdc0.txt  \n",
            "  inflating: train/labels/image2464_jpg.rf.ad0876a28248737a3276109cd68e3df9.txt  \n",
            "  inflating: train/labels/image2464_jpg.rf.c48881541a207f6a7a78cd5f363b6d41.txt  \n",
            "  inflating: train/labels/image2466_jpg.rf.08f15e37ff0879834d21ea1d289bd850.txt  \n",
            "  inflating: train/labels/image2466_jpg.rf.3ab72c8e4072bc08e063a0cec4ae91f3.txt  \n",
            "  inflating: train/labels/image2466_jpg.rf.f0a867569729087122c399353b225102.txt  \n",
            "  inflating: train/labels/image2468_jpg.rf.7ce39520021f3cfd73687a2527afc16e.txt  \n",
            "  inflating: train/labels/image2468_jpg.rf.91a0053797492a342ed663f1c7cf8996.txt  \n",
            "  inflating: train/labels/image2468_jpg.rf.a90a9ddc40d22f0c99d47cd1729d76ee.txt  \n",
            "  inflating: train/labels/image2469_jpg.rf.2ffad9812b4015b36d6e5b79e19ef31e.txt  \n",
            "  inflating: train/labels/image2469_jpg.rf.3d891c15db327e071b8d45e65a4e29cb.txt  \n",
            "  inflating: train/labels/image2469_jpg.rf.7243b50645b3c4cb9b48eb0709b78c4c.txt  \n",
            "  inflating: train/labels/image2473_jpg.rf.6656c80c255be0d899c3e40009999e72.txt  \n",
            "  inflating: train/labels/image2473_jpg.rf.bc586288b2f3ecfb08bee706ab8c2f15.txt  \n",
            "  inflating: train/labels/image2473_jpg.rf.c0ce6d464053c2777db0b0846fc693c1.txt  \n",
            "  inflating: train/labels/image2477_jpg.rf.089c2e062e19f29cff26d5b3d1ec3fe6.txt  \n",
            "  inflating: train/labels/image2477_jpg.rf.6c6aeb625736228f2a0568d283eaf6b1.txt  \n",
            "  inflating: train/labels/image2477_jpg.rf.ba06cf235ff6c8e322311c4dfbd40ae8.txt  \n",
            "  inflating: train/labels/image2481_jpg.rf.2e1098751f33fc8ec5eeda7e4a1bdf4b.txt  \n",
            "  inflating: train/labels/image2481_jpg.rf.3bd054b90744bef75d602719439f348d.txt  \n",
            "  inflating: train/labels/image2481_jpg.rf.c5f202ac54b98f35863622c1f32feafb.txt  \n",
            "  inflating: train/labels/image2482_jpg.rf.30352a3c1b2daa774a85abf034ccad77.txt  \n",
            "  inflating: train/labels/image2482_jpg.rf.bb78b724308c803c4464cd39bf212f53.txt  \n",
            "  inflating: train/labels/image2482_jpg.rf.e4531da5294cbe4b57e5b01a17981116.txt  \n",
            "  inflating: train/labels/image2483_jpg.rf.5c0e71c9e128c5b46d00854e7c6039d7.txt  \n",
            "  inflating: train/labels/image2483_jpg.rf.8b4965674b832c2a05da63b9ac9c429a.txt  \n",
            "  inflating: train/labels/image2483_jpg.rf.eda79a6091c0fb0701e68c875c9bcfac.txt  \n",
            "  inflating: train/labels/image2485_jpg.rf.63f791073d242df58e1fa24824151073.txt  \n",
            "  inflating: train/labels/image2485_jpg.rf.7d21de3d726b1fae0bab059582b78dc9.txt  \n",
            "  inflating: train/labels/image2485_jpg.rf.e00f9e578c5d55383776bb9fb3aa8fe8.txt  \n",
            "  inflating: train/labels/image2487_jpg.rf.0844e571f9d0a149f7dd56c34dd8e972.txt  \n",
            "  inflating: train/labels/image2487_jpg.rf.46a1df4e737efa93a98c437bed79cc22.txt  \n",
            "  inflating: train/labels/image2487_jpg.rf.6fc3125912dac1573f936a8843cd2e3e.txt  \n",
            "  inflating: train/labels/image2490_jpg.rf.3be0651ea14d2079bc8eb394062e21d0.txt  \n",
            "  inflating: train/labels/image2490_jpg.rf.a9d63b915f1d543784ba66b76d42e494.txt  \n",
            "  inflating: train/labels/image2490_jpg.rf.b7a0f52930e971439b4201d4635008fa.txt  \n",
            " extracting: train/labels/image2498_jpg.rf.0a70ccd040e3b51f464b813c3358b237.txt  \n",
            " extracting: train/labels/image2498_jpg.rf.40565719deb1f59187618c1c64767ce3.txt  \n",
            " extracting: train/labels/image2498_jpg.rf.4e23614d74b8edb2735aa4ee2765263e.txt  \n",
            "  inflating: train/labels/image2504_jpg.rf.01874b9be7a65535a2a444c00592e245.txt  \n",
            "  inflating: train/labels/image2504_jpg.rf.31ff60f289204e46ba5d8e0fa7f9c9db.txt  \n",
            "  inflating: train/labels/image2504_jpg.rf.de4ad52e4fc36d7f20842b2fcc68dd55.txt  \n",
            "  inflating: train/labels/image2505_jpg.rf.0fbf2e2c716e503d75b147715761a0b5.txt  \n",
            "  inflating: train/labels/image2505_jpg.rf.85b6d35e9646661ccda95c786a99f18d.txt  \n",
            "  inflating: train/labels/image2505_jpg.rf.a7bcbf24f00a0b806ff403006323671b.txt  \n",
            "  inflating: train/labels/image2508_jpg.rf.6760b195ca192ea6d319074d42423224.txt  \n",
            "  inflating: train/labels/image2508_jpg.rf.98fb72169f31fb75fa4f4e62745b85a5.txt  \n",
            "  inflating: train/labels/image2508_jpg.rf.d170ae301eedf58921122edf2a729da7.txt  \n",
            "  inflating: train/labels/image2509_jpg.rf.369b7fdb739d6988ffcc41834e45b3c4.txt  \n",
            "  inflating: train/labels/image2509_jpg.rf.b33471a586e60733f676f208a0c83367.txt  \n",
            "  inflating: train/labels/image2509_jpg.rf.b5a62d301f7708b87f4a85d085f316e4.txt  \n",
            "  inflating: train/labels/image2510_jpg.rf.507129a7423f7c64fb3a6d04c46757ba.txt  \n",
            "  inflating: train/labels/image2510_jpg.rf.5770659fabc7cd5cb5c257fe4ea2b062.txt  \n",
            "  inflating: train/labels/image2510_jpg.rf.5849f10ed644e3df338eeea11bad03ea.txt  \n",
            "  inflating: train/labels/image2512_jpg.rf.213e4818c848270149ae5f3371744209.txt  \n",
            "  inflating: train/labels/image2512_jpg.rf.47e8e51612e0c92cf9d01aa3bb1cf8fd.txt  \n",
            "  inflating: train/labels/image2512_jpg.rf.505fe8ebc9ce3d6fc795e9cd7b69431d.txt  \n",
            "  inflating: train/labels/image2513_jpg.rf.4c0b05f9528c780fdbef2ef509677fdf.txt  \n",
            "  inflating: train/labels/image2513_jpg.rf.5e311d082c8f47af5e3e687c23203f5e.txt  \n",
            "  inflating: train/labels/image2513_jpg.rf.de376b9cf9678d4d18a7c7a00efb776e.txt  \n",
            "  inflating: train/labels/image2515_jpg.rf.604fdd68241c8c517ed0babfd88f0d8e.txt  \n",
            "  inflating: train/labels/image2515_jpg.rf.a8162181e65ea4280c03d15b66c21ddb.txt  \n",
            "  inflating: train/labels/image2515_jpg.rf.f5689b8b0988f978ddff75274dd25c3a.txt  \n",
            "  inflating: train/labels/image2516_jpg.rf.711e54bd709f6793add0982dde0516d1.txt  \n",
            "  inflating: train/labels/image2516_jpg.rf.a4559794d34d38e5af4e6b98f5adc74e.txt  \n",
            "  inflating: train/labels/image2516_jpg.rf.dab18627364fb61706920ea406084499.txt  \n",
            "  inflating: train/labels/image2517_jpg.rf.1267891a26f811097c4c0f20032ac542.txt  \n",
            "  inflating: train/labels/image2517_jpg.rf.4f72c9754cd3d08a92574d916f1a8200.txt  \n",
            "  inflating: train/labels/image2517_jpg.rf.9dd6427ced4b4c5182de8baa3442e01d.txt  \n",
            " extracting: train/labels/image2518_jpg.rf.0aef5649f9a79ab38033150a2ea8f0dd.txt  \n",
            " extracting: train/labels/image2518_jpg.rf.c5d417e54e915eab76061af7b185736b.txt  \n",
            " extracting: train/labels/image2518_jpg.rf.dbe68892b6fa1971d6800bd27d7b3d78.txt  \n",
            "  inflating: train/labels/image2520_jpg.rf.619890c012063a1565a1084f8ebe445d.txt  \n",
            "  inflating: train/labels/image2520_jpg.rf.7ab1cadcab782662637031940c1d1a53.txt  \n",
            "  inflating: train/labels/image2520_jpg.rf.91d69921faee66e1faf4b5f0e328339b.txt  \n",
            "  inflating: train/labels/image2523_jpg.rf.1cd5433f3e1baa0e0c2b5963492c9f5a.txt  \n",
            "  inflating: train/labels/image2523_jpg.rf.6750096ccd11d0e6867a2e47747726e5.txt  \n",
            "  inflating: train/labels/image2523_jpg.rf.872eba15f9b7b8989402b38b3c930629.txt  \n",
            "  inflating: train/labels/image2524_jpg.rf.5633ff034d8685393e2d6982b6343693.txt  \n",
            "  inflating: train/labels/image2524_jpg.rf.5a9554b8a6628e6624787c63e01aa8b2.txt  \n",
            "  inflating: train/labels/image2524_jpg.rf.aa6ed4d5cde13570fd50c72584180adc.txt  \n",
            "  inflating: train/labels/image2527_jpg.rf.128c3182f670b9e094db255a318a03cc.txt  \n",
            "  inflating: train/labels/image2527_jpg.rf.2a78c8748bee220b551457b9d0981c53.txt  \n",
            "  inflating: train/labels/image2527_jpg.rf.30f1dcb9e659bcd52ac53079d3dbb52c.txt  \n",
            "  inflating: train/labels/image2535_jpg.rf.1f5cc035def7da31e57a1175d671dfd4.txt  \n",
            "  inflating: train/labels/image2535_jpg.rf.273746207d327cbfafb1bedec1ac2110.txt  \n",
            "  inflating: train/labels/image2535_jpg.rf.5e3a132ae5f51d7adac136a1b400e7d2.txt  \n",
            "  inflating: train/labels/image2537_jpg.rf.00a6e40a15ba177ca144326f0bb0a0af.txt  \n",
            "  inflating: train/labels/image2537_jpg.rf.819b7cbceb6dc3321a528ef4019e326d.txt  \n",
            "  inflating: train/labels/image2537_jpg.rf.bc5d7f6f84748c85dfcd4c8ec88e7179.txt  \n",
            "  inflating: train/labels/image2539_jpg.rf.16625e42587f5852caa1f41d3d7dc41a.txt  \n",
            "  inflating: train/labels/image2539_jpg.rf.3dc36cebdf5796b206033f1a3f9a9500.txt  \n",
            "  inflating: train/labels/image2539_jpg.rf.52b6b4194958f96b47a75e429d63986e.txt  \n",
            "  inflating: train/labels/image2543_jpg.rf.3ef6ddcda73825371f62dd88a0fc542a.txt  \n",
            "  inflating: train/labels/image2543_jpg.rf.7c1dd707a8d9ab943674c7771a16347f.txt  \n",
            "  inflating: train/labels/image2543_jpg.rf.86807b9e2292c9a4e6a896e2ad3fecfe.txt  \n",
            "  inflating: train/labels/image2550_jpg.rf.3601c67aacf339f7126d778497f634e8.txt  \n",
            "  inflating: train/labels/image2550_jpg.rf.48e7077c1c83f0b873cc8d01e3bf1968.txt  \n",
            "  inflating: train/labels/image2550_jpg.rf.8403984cb98f6ba04bf242f50604794f.txt  \n",
            " extracting: train/labels/image2552_jpg.rf.3156c96a6c93a3803f7f1a8c851b7839.txt  \n",
            " extracting: train/labels/image2552_jpg.rf.86c6e2ea0d07990c4419a60320fbbdc6.txt  \n",
            " extracting: train/labels/image2552_jpg.rf.8976054bb5dc93579bf712a4fd3ae309.txt  \n",
            "  inflating: train/labels/image2553_jpg.rf.24709c6b526b283f2b2811c6eed69777.txt  \n",
            "  inflating: train/labels/image2553_jpg.rf.b542bec22781e063e2ff91c9c296db91.txt  \n",
            "  inflating: train/labels/image2553_jpg.rf.bdf99b89312bad80a8337b1c229df68a.txt  \n",
            " extracting: train/labels/image2554_jpg.rf.676cb16c4ca36f295b4ae56e0743f9ab.txt  \n",
            " extracting: train/labels/image2554_jpg.rf.a69fa4082ed754a09f24ce2fff367340.txt  \n",
            " extracting: train/labels/image2554_jpg.rf.bcce4d7237865cd1b733d6b29c674176.txt  \n",
            "  inflating: train/labels/image2555_jpg.rf.0368731685b9bc75bac0e120706c8ea7.txt  \n",
            "  inflating: train/labels/image2555_jpg.rf.94ffd9293f3950e070da683abf121df0.txt  \n",
            "  inflating: train/labels/image2555_jpg.rf.b10e8c0fd58ddf7970246ea6c49743c6.txt  \n",
            "  inflating: train/labels/image2556_jpg.rf.23d841418d32e58cc49573246c5aa137.txt  \n",
            "  inflating: train/labels/image2556_jpg.rf.82b5107f14feca5d5558220854a2bbf8.txt  \n",
            "  inflating: train/labels/image2556_jpg.rf.d20c2c6e4ea86cc66de01ec068143233.txt  \n",
            "  inflating: train/labels/image2557_jpg.rf.55e527e6869e8561185d9e46ad1baa0e.txt  \n",
            "  inflating: train/labels/image2557_jpg.rf.901ca3f7de72cc3325b917d8c884fe11.txt  \n",
            "  inflating: train/labels/image2557_jpg.rf.abc0b5501bc36b59cfa6b3215291d24b.txt  \n",
            "  inflating: train/labels/image2559_jpg.rf.189224d472e11da310061dbc67c97173.txt  \n",
            "  inflating: train/labels/image2559_jpg.rf.86752f981bc808574fbfd4b5f0c1e927.txt  \n",
            "  inflating: train/labels/image2559_jpg.rf.e07e7dbeb4b77b042ec6e19985a4d0d1.txt  \n",
            "  inflating: train/labels/image2560_jpg.rf.17cd227daa9c11547d3c03ef31619f54.txt  \n",
            "  inflating: train/labels/image2560_jpg.rf.5bed4982dd9c3e0b1e9c934dd5e2fbb8.txt  \n",
            "  inflating: train/labels/image2560_jpg.rf.7e08274948c850e30623170547d11c7a.txt  \n",
            "  inflating: train/labels/image2561_jpg.rf.1cb122aef18c8e4fe599c9c8c18d68b0.txt  \n",
            "  inflating: train/labels/image2561_jpg.rf.95b4f87bb0aca8454a189b46c3a6c6dc.txt  \n",
            "  inflating: train/labels/image2561_jpg.rf.d54f0c369673a406f1fb4d943f7eb9a8.txt  \n",
            "  inflating: train/labels/image2564_jpg.rf.061391f5ae47512648044fcbf48371a3.txt  \n",
            "  inflating: train/labels/image2564_jpg.rf.3f5dcbc9763911419b148f4bcb0542a5.txt  \n",
            "  inflating: train/labels/image2564_jpg.rf.a42b292df2dda55e6760beb43f8005bd.txt  \n",
            "  inflating: train/labels/image2565_jpg.rf.13e934e777c0fbdcb95443ad2cba4009.txt  \n",
            "  inflating: train/labels/image2565_jpg.rf.ab3b5caccc5d4b7e41c605cc3a2992c2.txt  \n",
            "  inflating: train/labels/image2565_jpg.rf.c64f8d927b260f3864991023ba10b790.txt  \n",
            "  inflating: train/labels/image2568_jpg.rf.37426cd78c40371105db5819aaa8ad4b.txt  \n",
            "  inflating: train/labels/image2568_jpg.rf.45c3be8e2615ac4b961d5152c26f7141.txt  \n",
            "  inflating: train/labels/image2568_jpg.rf.a572aa87eb1bd46243ed49b81fa6fef8.txt  \n",
            "  inflating: train/labels/image2572_jpg.rf.808dca33792ee546d8a319c29e8ba0a9.txt  \n",
            "  inflating: train/labels/image2572_jpg.rf.874f2aab947122a7b8cfc7365f469df6.txt  \n",
            "  inflating: train/labels/image2572_jpg.rf.a49a972a95f5a0701416ec058a2df779.txt  \n",
            "  inflating: train/labels/image2574_jpg.rf.05ebfd8fca70a44c7b441bb8b7143c68.txt  \n",
            "  inflating: train/labels/image2574_jpg.rf.4121ef46e2d2341f07eed1129b2b2ed7.txt  \n",
            "  inflating: train/labels/image2574_jpg.rf.53b2b33569a3fb9d19b5424ad5060fc6.txt  \n",
            "  inflating: train/labels/image2576_jpg.rf.2644bbab0ec95a4e93db310256b76461.txt  \n",
            "  inflating: train/labels/image2576_jpg.rf.79819e7f4224f784c220c65a83bed51b.txt  \n",
            "  inflating: train/labels/image2576_jpg.rf.a5e5cd8d183960847aa617eb99d5b5b3.txt  \n",
            "  inflating: train/labels/image2577_jpg.rf.31df00587a45cada8e745769a56abefe.txt  \n",
            "  inflating: train/labels/image2577_jpg.rf.84c73a6805dbeee62d985331584416d1.txt  \n",
            "  inflating: train/labels/image2577_jpg.rf.996eeb82f3ad5eb384929f66e637f31c.txt  \n",
            "  inflating: train/labels/image2581_jpg.rf.9b32a382e151d5dfeb1b7e114a88a2b2.txt  \n",
            "  inflating: train/labels/image2581_jpg.rf.a8b8fe4e5841ee164a3c439468d829b8.txt  \n",
            "  inflating: train/labels/image2581_jpg.rf.d6da2b499d15228655327de965db3dd2.txt  \n",
            "  inflating: train/labels/image2582_jpg.rf.c9fff8eead1b52598929058efcf39630.txt  \n",
            "  inflating: train/labels/image2582_jpg.rf.f2c591cac0e19c46ad9d8da0b3ab0206.txt  \n",
            "  inflating: train/labels/image2582_jpg.rf.fd10cfc1a8950d8343b275391cce65b2.txt  \n",
            "  inflating: train/labels/image2614_jpg.rf.72014a44ff059f58ec82ae615b17a899.txt  \n",
            "  inflating: train/labels/image2614_jpg.rf.97aaadfc0c2f08fe7fb1e96e9130d9e3.txt  \n",
            "  inflating: train/labels/image2614_jpg.rf.b55a7b97d4aca0c2c92311cb42ee4b48.txt  \n",
            "  inflating: train/labels/image2644_jpg.rf.4732cadf04a224c53252c976e94c5a66.txt  \n",
            "  inflating: train/labels/image2644_jpg.rf.6109fab41a081027c76d1652e91baea7.txt  \n",
            "  inflating: train/labels/image2644_jpg.rf.8da05bf358a63d2149a40adc3a6717ed.txt  \n",
            "  inflating: train/labels/image2674_jpg.rf.605568da44774efdb8283079ade66a31.txt  \n",
            "  inflating: train/labels/image2674_jpg.rf.ce5393ace45acf5fe35fcda95700da0d.txt  \n",
            "  inflating: train/labels/image2674_jpg.rf.eacb4a46f3debd21205e768c7f44f5cd.txt  \n",
            "  inflating: train/labels/images_jpg.rf.4f310331b3734fb14698f58f37ffad07.txt  \n",
            "  inflating: train/labels/images_jpg.rf.7bdb5423ee2f471daeb127d2db763baa.txt  \n",
            "  inflating: train/labels/images_jpg.rf.bf7119b9ee41f4b94a336a71cb981f5d.txt  \n",
            "  inflating: train/labels/images_png.rf.2b1e6b5d35587ab430a1dfaba0756ef9.txt  \n",
            "  inflating: train/labels/images_png.rf.44df412ec8f7204b3a78dc1052aa58cb.txt  \n",
            "  inflating: train/labels/images_png.rf.5d5c9813e350515df43b5cad25940992.txt  \n",
            "  inflating: train/labels/large-printable-numbers-0-9-pdf_jpg.rf.3eab478f131819453af939202e8ba4ad.txt  \n",
            "  inflating: train/labels/large-printable-numbers-0-9-pdf_jpg.rf.4c320b53b6b9075488762d387614f163.txt  \n",
            "  inflating: train/labels/large-printable-numbers-0-9-pdf_jpg.rf.f3a5c038df8433789c2bf7393f6d4327.txt  \n",
            "  inflating: train/labels/nwprov_jpg.rf.0228352411c214b0a3675f21584f7dc2.txt  \n",
            "  inflating: train/labels/nwprov_jpg.rf.2603af4861e595919709e989d5dbc1ff.txt  \n",
            "  inflating: train/labels/nwprov_jpg.rf.dd479294d20878e3b1d1e003ea1f732b.txt  \n",
            "  inflating: train/labels/sanorthernprov2003_jpg.rf.ced4bf9bf93ec5c218350391a7aca53e.txt  \n",
            "  inflating: train/labels/sanorthernprov2003_jpg.rf.cee2516de4697ff94325c5db9f4ce2dd.txt  \n",
            "  inflating: train/labels/sanorthernprov2003_jpg.rf.d0905128d8358b05e9e8258e3f57129a.txt  \n",
            "  inflating: train/labels/syn_1006_jpg.rf.35379e2559a75baa7da3e409c19a4f99.txt  \n",
            "  inflating: train/labels/syn_1006_jpg.rf.60fecccf0b141feea7661f3801f875bb.txt  \n",
            "  inflating: train/labels/syn_1006_jpg.rf.e45918690cb0717476b98931a6717326.txt  \n",
            "  inflating: train/labels/syn_1028_jpg.rf.82286dce7156f1b32b4e5495bb7bb600.txt  \n",
            "  inflating: train/labels/syn_1028_jpg.rf.9194ea1869d4ae18c0d47d595b880df9.txt  \n",
            "  inflating: train/labels/syn_1028_jpg.rf.ab74ec12c78f5fc2a831b327bec9fabc.txt  \n",
            "  inflating: train/labels/syn_1038_jpg.rf.55574f1fe92c2c7d0c9bf9e90a37513a.txt  \n",
            "  inflating: train/labels/syn_1038_jpg.rf.cadbe87c42e66d015e84721130a2b993.txt  \n",
            "  inflating: train/labels/syn_1038_jpg.rf.e046bd0420df0ed3921c84adf4bcaa29.txt  \n",
            "  inflating: train/labels/syn_1059_jpg.rf.19d734076d4964b367176efaab6e94dc.txt  \n",
            "  inflating: train/labels/syn_1059_jpg.rf.275b24e8f8ad866e86d2a8dbe0fd7568.txt  \n",
            "  inflating: train/labels/syn_1059_jpg.rf.3f4473f2652a5bde954246d26c1280ba.txt  \n",
            "  inflating: train/labels/syn_1063_jpg.rf.57a3545024e2f1f09ecfa428d6678a1c.txt  \n",
            "  inflating: train/labels/syn_1063_jpg.rf.a2a5318baebe9b8222fd1e19726efae0.txt  \n",
            "  inflating: train/labels/syn_1063_jpg.rf.e1483c806e88f18935566d763893172f.txt  \n",
            "  inflating: train/labels/syn_1066_jpg.rf.2a9164b460c896ca044d195496e7defd.txt  \n",
            "  inflating: train/labels/syn_1066_jpg.rf.711f79dcca64227dfef5a7b115f93605.txt  \n",
            "  inflating: train/labels/syn_1066_jpg.rf.d7697c4c048762a278ed2e9fef56ceb4.txt  \n",
            "  inflating: train/labels/syn_1079_jpg.rf.02aa6f0f4425c53e55e325ce2fe1fa97.txt  \n",
            "  inflating: train/labels/syn_1079_jpg.rf.b124ae57f6874ff418b408bd9a8d6f32.txt  \n",
            "  inflating: train/labels/syn_1079_jpg.rf.e6954d8026556e214f8be484f7beb90b.txt  \n",
            "  inflating: train/labels/syn_1087_jpg.rf.343b00428e87212fb962760bf11c0153.txt  \n",
            "  inflating: train/labels/syn_1087_jpg.rf.f70cfed3e7d0c0a1e79a9ba7b598fce3.txt  \n",
            "  inflating: train/labels/syn_1087_jpg.rf.ff0a8cefc6f7e0a0d33e8dcf3ff7c757.txt  \n",
            "  inflating: train/labels/syn_1090_jpg.rf.8a57b62fd84020c77c3a834421dcb90f.txt  \n",
            "  inflating: train/labels/syn_1090_jpg.rf.8a57ff5e41758cce860663ec9b035f75.txt  \n",
            "  inflating: train/labels/syn_1090_jpg.rf.cc65b18454c3097156e9b1ff02bc89a2.txt  \n",
            "  inflating: train/labels/syn_10_jpg.rf.952858cb4a04e6156ddacd99b246cf66.txt  \n",
            "  inflating: train/labels/syn_10_jpg.rf.9931862dea88347f39638c9c8507b677.txt  \n",
            "  inflating: train/labels/syn_10_jpg.rf.f9692cdd91d5f5d8b52f906946840c29.txt  \n",
            "  inflating: train/labels/syn_110_jpg.rf.2c2a3aade6707bb5ec78aaebb9800a35.txt  \n",
            "  inflating: train/labels/syn_110_jpg.rf.ba5e37abb036c6927b2c427b77549d1d.txt  \n",
            "  inflating: train/labels/syn_110_jpg.rf.d02849622d9e0ce3c75e9f9593a6e000.txt  \n",
            "  inflating: train/labels/syn_1116_jpg.rf.11bf8b64118604bcaff0ac9be76e77f7.txt  \n",
            "  inflating: train/labels/syn_1116_jpg.rf.37a3ea2a26c732958667efd7f111b819.txt  \n",
            "  inflating: train/labels/syn_1116_jpg.rf.8f04de2417b951dac5d7c95c13ff4a7d.txt  \n",
            "  inflating: train/labels/syn_1129_jpg.rf.200a18b83c240a48fc7578250dbe2b84.txt  \n",
            "  inflating: train/labels/syn_1129_jpg.rf.4321c3c978a7d97c637bf3872029724e.txt  \n",
            "  inflating: train/labels/syn_1129_jpg.rf.f646b921062d11839055a89ea968d89a.txt  \n",
            "  inflating: train/labels/syn_1135_jpg.rf.0238c5bd1a5df1b9a23dc02c120e71ec.txt  \n",
            "  inflating: train/labels/syn_1135_jpg.rf.605ef56c39c509b592de1f02ba4cf66e.txt  \n",
            "  inflating: train/labels/syn_1135_jpg.rf.b3566f72a008bf726d374c8a5400ef96.txt  \n",
            "  inflating: train/labels/syn_1140_jpg.rf.155d1c82e2b4452766f9e83e2fa6c1ca.txt  \n",
            "  inflating: train/labels/syn_1140_jpg.rf.4c375c66a0daf83d82f148c2b23b0c3f.txt  \n",
            "  inflating: train/labels/syn_1140_jpg.rf.cd1deaee0a68e96401acfe99476b5369.txt  \n",
            "  inflating: train/labels/syn_1154_jpg.rf.7b36af89812bd1cf16955556c22a1c1c.txt  \n",
            "  inflating: train/labels/syn_1154_jpg.rf.b9a68b7ddf1c996aa39dc1a06be9511b.txt  \n",
            "  inflating: train/labels/syn_1154_jpg.rf.ee63032b629ad6bc277e0b8be20d7b0f.txt  \n",
            "  inflating: train/labels/syn_1161_jpg.rf.604cb547d449c22a20cbd120ccd54b45.txt  \n",
            "  inflating: train/labels/syn_1161_jpg.rf.ac395c41b495a58a16d54ec27029e504.txt  \n",
            "  inflating: train/labels/syn_1161_jpg.rf.dbfa69cdf649e6e7751531d32b3e840f.txt  \n",
            "  inflating: train/labels/syn_119_jpg.rf.73a64eb2fe80da0c098a217ac73b188f.txt  \n",
            "  inflating: train/labels/syn_119_jpg.rf.b1764e11730ba650397a4903a47c212d.txt  \n",
            "  inflating: train/labels/syn_119_jpg.rf.d5e9789c749863e5842d2d69170e1e6e.txt  \n",
            "  inflating: train/labels/syn_11_jpg.rf.05f8c8adcc72545b5d120d240573a350.txt  \n",
            "  inflating: train/labels/syn_11_jpg.rf.5a6790b4c9bf8e3b8232bbdfe5474850.txt  \n",
            "  inflating: train/labels/syn_11_jpg.rf.aefc4a461f29c4a72bf61bfca9d68107.txt  \n",
            "  inflating: train/labels/syn_1207_jpg.rf.662eb42139548e1a07b0a3670699b207.txt  \n",
            "  inflating: train/labels/syn_1207_jpg.rf.a7af17f9157919de068ce049c9882023.txt  \n",
            "  inflating: train/labels/syn_1207_jpg.rf.de9bce857668c430b6d66366678b1d37.txt  \n",
            "  inflating: train/labels/syn_1216_jpg.rf.0211e3c6e6f4a523b6b9d7b5e2c15a78.txt  \n",
            "  inflating: train/labels/syn_1216_jpg.rf.c21591c8ee0fa4c327dcbe7bb1cff1cf.txt  \n",
            "  inflating: train/labels/syn_1216_jpg.rf.ebee18a8a5794f79c6375c66b6f77a14.txt  \n",
            "  inflating: train/labels/syn_122_jpg.rf.26515194dbbb8fb98fc9ced01921435e.txt  \n",
            "  inflating: train/labels/syn_122_jpg.rf.41c5cd743a729d010ba1755db47a47a6.txt  \n",
            "  inflating: train/labels/syn_122_jpg.rf.fe4f8ef6860b9b704faed1fd3d7bdd69.txt  \n",
            " extracting: train/labels/syn_1237_jpg.rf.2cff22e6647c10b9ca7f339ac31e6975.txt  \n",
            " extracting: train/labels/syn_1237_jpg.rf.6d06d314bb2a701a0a4c5ec092299f43.txt  \n",
            " extracting: train/labels/syn_1237_jpg.rf.b68fa039fd5651eeaf24a5847f3ae94e.txt  \n",
            "  inflating: train/labels/syn_1253_jpg.rf.29565108bbfbaef901447923f6e17d6e.txt  \n",
            "  inflating: train/labels/syn_1253_jpg.rf.955fce081199723ff5403e9796274b92.txt  \n",
            "  inflating: train/labels/syn_1253_jpg.rf.b7c57b810b682f15265cfc9d63165d0c.txt  \n",
            "  inflating: train/labels/syn_1254_jpg.rf.158e1519b9337402342c895b19ae6c9f.txt  \n",
            "  inflating: train/labels/syn_1254_jpg.rf.64f7eff78e04518958c62e88258cb652.txt  \n",
            "  inflating: train/labels/syn_1254_jpg.rf.7dd4448f8e9d068b3762271ba48c7400.txt  \n",
            "  inflating: train/labels/syn_1266_jpg.rf.04e289eef457a54d6088dff6e042aa43.txt  \n",
            "  inflating: train/labels/syn_1266_jpg.rf.5255c762d8449c2a4e1fc2c3e61464dd.txt  \n",
            "  inflating: train/labels/syn_1266_jpg.rf.54dde1972f9e90623c313f1e65804701.txt  \n",
            "  inflating: train/labels/syn_1280_jpg.rf.29a399ff79156b38447d8d8a196a27f6.txt  \n",
            "  inflating: train/labels/syn_1280_jpg.rf.c2bcaddc3dff350ce666358637ebffd0.txt  \n",
            "  inflating: train/labels/syn_1280_jpg.rf.e0e1d2d6c7d80d3de415d045e3334067.txt  \n",
            "  inflating: train/labels/syn_1296_jpg.rf.1288f12ed4ff12d52dd398bcf58ec025.txt  \n",
            "  inflating: train/labels/syn_1296_jpg.rf.2feeed2a8abf6e7f9a164c3ba6afe59e.txt  \n",
            "  inflating: train/labels/syn_1296_jpg.rf.e59df1c272565a17ecc30b9617151d71.txt  \n",
            "  inflating: train/labels/syn_1297_jpg.rf.675f60924135b21a019521ccbb2be88c.txt  \n",
            "  inflating: train/labels/syn_1297_jpg.rf.dcaeaa35e382a9aa22813ee6077c05bd.txt  \n",
            "  inflating: train/labels/syn_1297_jpg.rf.e81350ac3c4a026a3b618698b60f8f26.txt  \n",
            "  inflating: train/labels/syn_1303_jpg.rf.928ae7c06e54748313a686e38a07330d.txt  \n",
            "  inflating: train/labels/syn_1303_jpg.rf.a16999dfea21a936ef813323cfc68d6e.txt  \n",
            "  inflating: train/labels/syn_1303_jpg.rf.cf183f0e5b5cf645a0c57290c116d3ca.txt  \n",
            " extracting: train/labels/syn_1318_jpg.rf.05c0779cca4ffcae4ee074e277ff11c1.txt  \n",
            " extracting: train/labels/syn_1318_jpg.rf.38a8b7a4bf2361c19e3f3e4c2dc6b339.txt  \n",
            " extracting: train/labels/syn_1318_jpg.rf.6bfbb765c19554d7982017269f1482e3.txt  \n",
            "  inflating: train/labels/syn_1329_jpg.rf.3d283c6bdd6b184193d5833020204c03.txt  \n",
            "  inflating: train/labels/syn_1329_jpg.rf.603021e4dd776378281ec53494b39591.txt  \n",
            "  inflating: train/labels/syn_1329_jpg.rf.81c73125ef48d3d5b07a59827e3f8501.txt  \n",
            "  inflating: train/labels/syn_132_jpg.rf.425dfb10a89c1d6191038d991dbe6245.txt  \n",
            "  inflating: train/labels/syn_132_jpg.rf.560ae24671fd9ac134f01063050c814c.txt  \n",
            "  inflating: train/labels/syn_132_jpg.rf.c916b40ba451c50d9a66015a7aeee552.txt  \n",
            " extracting: train/labels/syn_1344_jpg.rf.90f26d2bb6bfaa3a87e5e5bd378f75ec.txt  \n",
            " extracting: train/labels/syn_1344_jpg.rf.b97ff6f7d40b089429b74c05493325f7.txt  \n",
            " extracting: train/labels/syn_1344_jpg.rf.cced45c6ccd454aed6658f855cf57208.txt  \n",
            "  inflating: train/labels/syn_1393_jpg.rf.5ab7b1adc8e20f7b4d0d82cc81992274.txt  \n",
            "  inflating: train/labels/syn_1393_jpg.rf.b1c7864b2b5cd2896d9d0896ace21f41.txt  \n",
            "  inflating: train/labels/syn_1393_jpg.rf.c9fff2161aaa860d7da44ae0c5ae965e.txt  \n",
            "  inflating: train/labels/syn_1397_jpg.rf.1f50f701aed42f9ad1bbaad49f791678.txt  \n",
            "  inflating: train/labels/syn_1397_jpg.rf.3c9aa58a793311e65309bfab399a94bd.txt  \n",
            "  inflating: train/labels/syn_1397_jpg.rf.f0ca784fdd67f59afda0737bf8ba8259.txt  \n",
            "  inflating: train/labels/syn_139_jpg.rf.7cbcc8f496078b4d2c62ba46394e63f8.txt  \n",
            "  inflating: train/labels/syn_139_jpg.rf.7d664d5b5f3e2de7c6047ee1c3203084.txt  \n",
            "  inflating: train/labels/syn_139_jpg.rf.8a9d034a25a4f533223e50029c3d3a07.txt  \n",
            "  inflating: train/labels/syn_1426_jpg.rf.2eddea9cb2972960f4fef50f2526056b.txt  \n",
            "  inflating: train/labels/syn_1426_jpg.rf.a4c4f317f443e3f4425da77bec92061d.txt  \n",
            "  inflating: train/labels/syn_1426_jpg.rf.b0878e46d1134d96cd8c5594df1c381f.txt  \n",
            "  inflating: train/labels/syn_1427_jpg.rf.83a814cbbdf66023c2bc05ad9e98f27e.txt  \n",
            "  inflating: train/labels/syn_1427_jpg.rf.91e0811880bd55ecb5745ab1c337891b.txt  \n",
            "  inflating: train/labels/syn_1427_jpg.rf.f8b3aea898d8ce81224f6cf86d0d1400.txt  \n",
            "  inflating: train/labels/syn_1459_jpg.rf.c51bce76c61e3ec8bb6d8803e9155dc8.txt  \n",
            "  inflating: train/labels/syn_1459_jpg.rf.ca6e3f52094d16a290819e772d01b302.txt  \n",
            "  inflating: train/labels/syn_1459_jpg.rf.cac5e074c7847ab0a788d0430182b04b.txt  \n",
            "  inflating: train/labels/syn_1476_jpg.rf.1ccbcb1d9449baa706c169d0e5d059ad.txt  \n",
            "  inflating: train/labels/syn_1476_jpg.rf.bad000317a84ccf35c842cc744130580.txt  \n",
            "  inflating: train/labels/syn_1476_jpg.rf.fe4bdb009868936cbad86d71e30fd886.txt  \n",
            "  inflating: train/labels/syn_147_jpg.rf.8c7809b9be502341fe52a73953fa2c86.txt  \n",
            "  inflating: train/labels/syn_147_jpg.rf.b23607b56becedf483856fb610106419.txt  \n",
            "  inflating: train/labels/syn_147_jpg.rf.fe5c219249f35f297f02c534d8801756.txt  \n",
            "  inflating: train/labels/syn_14_jpg.rf.096397dc8afcc76d63572e110d15d40d.txt  \n",
            "  inflating: train/labels/syn_14_jpg.rf.13eec86792373cef22d297ff23529b57.txt  \n",
            "  inflating: train/labels/syn_14_jpg.rf.ddf0e31736d99d84866b0f33b8aa39df.txt  \n",
            "  inflating: train/labels/syn_1503_jpg.rf.44700c6dc7f1dd8d3df3f3608dd9b85c.txt  \n",
            "  inflating: train/labels/syn_1503_jpg.rf.ee2cb9d71f2cac2c76447c49f8232c1d.txt  \n",
            "  inflating: train/labels/syn_1503_jpg.rf.f711547a3992c615e79ae36246507554.txt  \n",
            "  inflating: train/labels/syn_1504_jpg.rf.11bf0590255eb945303d2e23a696d398.txt  \n",
            "  inflating: train/labels/syn_1504_jpg.rf.a64ccf93ea6fc8dd4b2d0cec59bf93bb.txt  \n",
            "  inflating: train/labels/syn_1504_jpg.rf.dfd50377f47772cc55bac619f733b724.txt  \n",
            "  inflating: train/labels/syn_1547_jpg.rf.07e5feae591b941aa2b88dcb0e7e78d5.txt  \n",
            "  inflating: train/labels/syn_1547_jpg.rf.1882c5c8dde9ed976de20b94a59f01ac.txt  \n",
            "  inflating: train/labels/syn_1547_jpg.rf.5d587f297fd7eac07489c8b3fe295fe7.txt  \n",
            "  inflating: train/labels/syn_1549_jpg.rf.7d47758c58cf3b30dd79a0c849823bb0.txt  \n",
            "  inflating: train/labels/syn_1549_jpg.rf.97c5c24b4df00a855a4a78e972eb597c.txt  \n",
            "  inflating: train/labels/syn_1549_jpg.rf.ba1b9ae777771de63e0435f9d8ab2ab4.txt  \n",
            "  inflating: train/labels/syn_1551_jpg.rf.e641d8d69093eafa7aea949b85532443.txt  \n",
            "  inflating: train/labels/syn_1551_jpg.rf.ea3d6c92616126d72af66eac75252a42.txt  \n",
            "  inflating: train/labels/syn_1551_jpg.rf.f46cb2a62fd21ccbfc7e019e388940fa.txt  \n",
            " extracting: train/labels/syn_1554_jpg.rf.14ea6f050cc71754485cc4594e4d80d3.txt  \n",
            " extracting: train/labels/syn_1554_jpg.rf.733237708e21d5926b44a60c604e8f7a.txt  \n",
            " extracting: train/labels/syn_1554_jpg.rf.e83455097182327509fbcec4ef4b2943.txt  \n",
            "  inflating: train/labels/syn_1640_jpg.rf.053286cf998264fd5d5e72d52b64c6a4.txt  \n",
            "  inflating: train/labels/syn_1640_jpg.rf.3eac8893162a8a9ad65510bfa7c0f425.txt  \n",
            "  inflating: train/labels/syn_1640_jpg.rf.fabb31c45f3b50e39435eba5f7193601.txt  \n",
            "  inflating: train/labels/syn_1644_jpg.rf.1c0f60c15e09343dc3a5b3e87ca925c6.txt  \n",
            "  inflating: train/labels/syn_1644_jpg.rf.65afc43001de1a74ce7bf826b7bc2ebe.txt  \n",
            "  inflating: train/labels/syn_1644_jpg.rf.8ed2dcd59a0ef19f7a5d0c91af5c4ac2.txt  \n",
            "  inflating: train/labels/syn_1658_jpg.rf.d3f81b2ccffa9359e1ef8bd14181ce36.txt  \n",
            "  inflating: train/labels/syn_1658_jpg.rf.f4d2af5d429bce67454d672e71bf865c.txt  \n",
            "  inflating: train/labels/syn_1658_jpg.rf.f51ca99a1288a4693840f53d870c33fc.txt  \n",
            "  inflating: train/labels/syn_1661_jpg.rf.02fe4e5adfbf1aac7714fabb095c8be7.txt  \n",
            "  inflating: train/labels/syn_1661_jpg.rf.6b3f125372da1aa2ceea13b57972ea48.txt  \n",
            "  inflating: train/labels/syn_1661_jpg.rf.90715025a0c3ae3145b925af3c28e2d8.txt  \n",
            " extracting: train/labels/syn_1664_jpg.rf.2f48f39a6b0f9f3b2623b5097607c6a2.txt  \n",
            " extracting: train/labels/syn_1664_jpg.rf.6346eb084da011e3430709a4cf752bd6.txt  \n",
            " extracting: train/labels/syn_1664_jpg.rf.be4023b11653e98a5d3ce12d85369be7.txt  \n",
            "  inflating: train/labels/syn_1672_jpg.rf.606ec85a9ba954263bc6e3367946efce.txt  \n",
            "  inflating: train/labels/syn_1672_jpg.rf.aafa8cae813ee6e953ee1d8137b6457f.txt  \n",
            "  inflating: train/labels/syn_1672_jpg.rf.d6aacee3973da557c039d02027b9febf.txt  \n",
            "  inflating: train/labels/syn_1683_jpg.rf.2726f618a188b294cd71ea9ddcc5cbeb.txt  \n",
            "  inflating: train/labels/syn_1683_jpg.rf.4b2b764e98f481106f9ca482adfc468b.txt  \n",
            "  inflating: train/labels/syn_1683_jpg.rf.ff50fc98044863cd258a17d7dd3e0a73.txt  \n",
            " extracting: train/labels/syn_1700_jpg.rf.5e9b13bfc07e18741983b15c974bdd0e.txt  \n",
            " extracting: train/labels/syn_1700_jpg.rf.f647378bde376fd94457b9921c042fb9.txt  \n",
            " extracting: train/labels/syn_1700_jpg.rf.ff693ae4077fad3f332395513bb5c310.txt  \n",
            "  inflating: train/labels/syn_1702_jpg.rf.0a39eaaf0f4d10fcfba8ed1c991d050c.txt  \n",
            "  inflating: train/labels/syn_1702_jpg.rf.1660c3d9f148a10c971ad089aa6fcf56.txt  \n",
            "  inflating: train/labels/syn_1702_jpg.rf.30c1db9076714dc4945c731204ca9657.txt  \n",
            "  inflating: train/labels/syn_1728_jpg.rf.a33810577ebe5e4d8b24376ff1a60bb2.txt  \n",
            "  inflating: train/labels/syn_1728_jpg.rf.c3ae11e26707803722afbcbea313ceee.txt  \n",
            "  inflating: train/labels/syn_1728_jpg.rf.fdb2da60fbfe2fad162530ff2cc6d5d4.txt  \n",
            "  inflating: train/labels/syn_1736_jpg.rf.1125f1422e47eca99ad0feee23738980.txt  \n",
            "  inflating: train/labels/syn_1736_jpg.rf.4fd231574e7698a050885f3225921481.txt  \n",
            "  inflating: train/labels/syn_1736_jpg.rf.fdd4d1e45db27b8fb854097593332a6a.txt  \n",
            "  inflating: train/labels/syn_1757_jpg.rf.641a0c261dfabfcb4757a976c60b2156.txt  \n",
            "  inflating: train/labels/syn_1757_jpg.rf.668c8554d406efbdd74ba3e1e7ba9be6.txt  \n",
            "  inflating: train/labels/syn_1757_jpg.rf.d8698cf9b640b3f112ef925e9a49dc5b.txt  \n",
            "  inflating: train/labels/syn_1765_jpg.rf.0c1b8dbb0bf819d1aabd0220c9dbe19f.txt  \n",
            "  inflating: train/labels/syn_1765_jpg.rf.81727823ff5e64e46d100a395b7a5c01.txt  \n",
            "  inflating: train/labels/syn_1765_jpg.rf.b36834c5ef5034b6a0c66e9bbdf1c350.txt  \n",
            "  inflating: train/labels/syn_1783_jpg.rf.119bcb3eb306b54ce5aa3079eb74db82.txt  \n",
            "  inflating: train/labels/syn_1783_jpg.rf.2fdbfa3d0d2a6cccd1d208d0ffdca592.txt  \n",
            "  inflating: train/labels/syn_1783_jpg.rf.d401c5632db82c076aba914b017d62fd.txt  \n",
            "  inflating: train/labels/syn_178_jpg.rf.4c868d2cb7ddca916973a7e7a295705d.txt  \n",
            "  inflating: train/labels/syn_178_jpg.rf.51322b8d3652638fd28f9d5673cee64c.txt  \n",
            "  inflating: train/labels/syn_178_jpg.rf.69003a12f64c5f6f239f5e47d61e0786.txt  \n",
            "  inflating: train/labels/syn_1792_jpg.rf.1680861cb610d41c3c36f373c12708b0.txt  \n",
            "  inflating: train/labels/syn_1792_jpg.rf.d63373bf2111c8a35dadc094f4e09c31.txt  \n",
            "  inflating: train/labels/syn_1792_jpg.rf.ec560c05ecf2007f4484733c14c85603.txt  \n",
            " extracting: train/labels/syn_1798_jpg.rf.11e0ca2522806bffbb1eee1fd9114ad3.txt  \n",
            " extracting: train/labels/syn_1798_jpg.rf.3b3515901c7dcaf2d76c0312ae10d966.txt  \n",
            " extracting: train/labels/syn_1798_jpg.rf.9a9758cbae4fc491109b701affdc32cf.txt  \n",
            "  inflating: train/labels/syn_1799_jpg.rf.34aa307945698e31cd4f3d7b4de63104.txt  \n",
            "  inflating: train/labels/syn_1799_jpg.rf.62595a5806aa91bb53a13c6ea69110e3.txt  \n",
            "  inflating: train/labels/syn_1799_jpg.rf.b5d2bc809aff9b9e4f2bfe2e9303603a.txt  \n",
            "  inflating: train/labels/syn_179_jpg.rf.17db09cd751dc907b82d98fb7099b7c6.txt  \n",
            "  inflating: train/labels/syn_179_jpg.rf.e0201daf5f5f41eb3af9d34fd0011b0d.txt  \n",
            "  inflating: train/labels/syn_179_jpg.rf.e0b0e764cf452123170feb81b7848ffa.txt  \n",
            "  inflating: train/labels/syn_1819_jpg.rf.1d0d563f07c02879fb6d1401921640e5.txt  \n",
            "  inflating: train/labels/syn_1819_jpg.rf.4a600d80aee3f4772a0bbcc666072f67.txt  \n",
            "  inflating: train/labels/syn_1819_jpg.rf.d337d87d123afdda097930a1f339a0fc.txt  \n",
            "  inflating: train/labels/syn_1847_jpg.rf.31dd233a636de042bf361939289b5d6c.txt  \n",
            "  inflating: train/labels/syn_1847_jpg.rf.8e9a629dc7fb558b73c5f1784955dce9.txt  \n",
            "  inflating: train/labels/syn_1847_jpg.rf.cfddddc42feb5140ca6f47377a5d69b3.txt  \n",
            "  inflating: train/labels/syn_1849_jpg.rf.04864d2c15812254d1d3ff0990c00dc6.txt  \n",
            "  inflating: train/labels/syn_1849_jpg.rf.d67607e8d25490ca081d555e8cb3dfe8.txt  \n",
            "  inflating: train/labels/syn_1849_jpg.rf.dfde9e8c8dc84aded5f6277837fbb3b4.txt  \n",
            "  inflating: train/labels/syn_1854_jpg.rf.3864c0575205f09b2dc7b1909d936c72.txt  \n",
            "  inflating: train/labels/syn_1854_jpg.rf.7e39caa071635ef69b766d8c2e5dc077.txt  \n",
            "  inflating: train/labels/syn_1854_jpg.rf.7fbaced90dc4eaca842d9b08f6c28108.txt  \n",
            "  inflating: train/labels/syn_1870_jpg.rf.2998c91d3510a2cd2469c4c213ee5249.txt  \n",
            "  inflating: train/labels/syn_1870_jpg.rf.9d10ae2c791f11e26caec00c06bfa784.txt  \n",
            "  inflating: train/labels/syn_1870_jpg.rf.b3c250bddf5edb0ac45244bbc5796bef.txt  \n",
            "  inflating: train/labels/syn_1876_jpg.rf.31e0d0a48bc10faa8537be9e5be7afb2.txt  \n",
            "  inflating: train/labels/syn_1876_jpg.rf.599c31c222ec2ef4d68a8b00a7310a10.txt  \n",
            "  inflating: train/labels/syn_1876_jpg.rf.fff6cb13ddd0fa015eec272a9ed4ec43.txt  \n",
            "  inflating: train/labels/syn_1892_jpg.rf.a0ad787d25f2f6591456f95939e29c43.txt  \n",
            "  inflating: train/labels/syn_1892_jpg.rf.b4b0792b19c52ca9cb199e2a7f640976.txt  \n",
            "  inflating: train/labels/syn_1892_jpg.rf.e91701bcedf45b974119430b2b4a7673.txt  \n",
            "  inflating: train/labels/syn_18_jpg.rf.3d78e448f2707c2832e110c96ecad2ad.txt  \n",
            "  inflating: train/labels/syn_18_jpg.rf.4d782584b4b39e48adb7b4c50305fae7.txt  \n",
            "  inflating: train/labels/syn_18_jpg.rf.83e93a638f9db6c642d4e600c2c7f6d4.txt  \n",
            " extracting: train/labels/syn_1904_jpg.rf.109c91e1e81583d73fe3cf0b9bb0c4ea.txt  \n",
            " extracting: train/labels/syn_1904_jpg.rf.7bcdedd090fb19aa85906dc72c664a08.txt  \n",
            " extracting: train/labels/syn_1904_jpg.rf.a98adb7b2516b82ca3bf27375aefc59d.txt  \n",
            "  inflating: train/labels/syn_1945_jpg.rf.52ff3d3da616244a4d58b0b963ea5463.txt  \n",
            "  inflating: train/labels/syn_1945_jpg.rf.73fc35651c0a6ff04a90c94ae1b0bc6b.txt  \n",
            "  inflating: train/labels/syn_1945_jpg.rf.8465ab4789580f4537692fdafc70c9de.txt  \n",
            "  inflating: train/labels/syn_194_jpg.rf.98ec287b5239789283ff01d969647436.txt  \n",
            "  inflating: train/labels/syn_194_jpg.rf.c2f8b0768dce79b5ac6953b67b830c77.txt  \n",
            "  inflating: train/labels/syn_194_jpg.rf.e09e7ec3a9fd8e034923ba2954edbe0f.txt  \n",
            "  inflating: train/labels/syn_1956_jpg.rf.e0130d6119468eeab6777ea32228b073.txt  \n",
            "  inflating: train/labels/syn_1956_jpg.rf.e540e3c5c2359e0ff1e4d2d916c4e34d.txt  \n",
            "  inflating: train/labels/syn_1956_jpg.rf.f23c349dd821a35fea5c112e2e8d54d5.txt  \n",
            "  inflating: train/labels/syn_1957_jpg.rf.5f2236b6d06da53ccaacb2294636d784.txt  \n",
            "  inflating: train/labels/syn_1957_jpg.rf.9adaebd56c12c12e9dd86a6f216be197.txt  \n",
            "  inflating: train/labels/syn_1957_jpg.rf.a7f49e8f023f4706bff8f47b338c2534.txt  \n",
            "  inflating: train/labels/syn_1981_jpg.rf.2655ead64cf3a8a287b666157b3ab70e.txt  \n",
            "  inflating: train/labels/syn_1981_jpg.rf.5cbc3295175d37327767bb0d9831c256.txt  \n",
            "  inflating: train/labels/syn_1981_jpg.rf.b993fbef17baacf12436f8c8e1161fcc.txt  \n",
            "  inflating: train/labels/syn_1997_jpg.rf.14df93b3a2e03297bdb193a38885af22.txt  \n",
            "  inflating: train/labels/syn_1997_jpg.rf.3567f9584dc89c12df03b19ba7aa9515.txt  \n",
            "  inflating: train/labels/syn_1997_jpg.rf.c841fbb7a8b0d1ec49e993bf90d9659f.txt  \n",
            "  inflating: train/labels/syn_1_jpg.rf.148efcc1e417c6466e465e15755d8189.txt  \n",
            "  inflating: train/labels/syn_1_jpg.rf.2e9a230da4815df6dc8229a73449277f.txt  \n",
            "  inflating: train/labels/syn_1_jpg.rf.6772925017c8e18ab960d39acaa15b74.txt  \n",
            " extracting: train/labels/syn_2008_jpg.rf.4c95a07c3a5fe4f7bf051959a01320e1.txt  \n",
            " extracting: train/labels/syn_2008_jpg.rf.a11f097a6ab19ae48f853e44b5aa987d.txt  \n",
            " extracting: train/labels/syn_2008_jpg.rf.c2b70a4e49b414c82f87a390dbe78bd9.txt  \n",
            "  inflating: train/labels/syn_2013_jpg.rf.14a32512c823e3e8e511b8f1a5cf05d6.txt  \n",
            "  inflating: train/labels/syn_2013_jpg.rf.a85f7311151b3c133947e59ff30c0fa2.txt  \n",
            "  inflating: train/labels/syn_2013_jpg.rf.d145192ddd098f2a189d56f05e58f068.txt  \n",
            " extracting: train/labels/syn_2014_jpg.rf.010472ed5ceeffd65eb2c519d594df33.txt  \n",
            " extracting: train/labels/syn_2014_jpg.rf.5195ce5259b7770b430292d901f62b3c.txt  \n",
            " extracting: train/labels/syn_2014_jpg.rf.a0b82802aa7565374964fbd0e1876af1.txt  \n",
            "  inflating: train/labels/syn_2021_jpg.rf.0cc16cd2c01379424c5356c3d8849ef0.txt  \n",
            "  inflating: train/labels/syn_2021_jpg.rf.1573a4d24082de1b2a6318d04100e82b.txt  \n",
            "  inflating: train/labels/syn_2021_jpg.rf.91d3a7757fbb5086ba82ffca053bf198.txt  \n",
            "  inflating: train/labels/syn_2040_jpg.rf.5a2781a2a76911c6230b8858bf557316.txt  \n",
            "  inflating: train/labels/syn_2040_jpg.rf.8c0ff5ed3f95b2b0581483e79ea3d3a9.txt  \n",
            "  inflating: train/labels/syn_2040_jpg.rf.90e3e34b8a6f1c3332db5bcfaacf8777.txt  \n",
            " extracting: train/labels/syn_2051_jpg.rf.51b458e7358d8cf6ff86dd8c254fe23e.txt  \n",
            " extracting: train/labels/syn_2051_jpg.rf.da7e4d23342c9bbc377ea7a0afafe54a.txt  \n",
            " extracting: train/labels/syn_2051_jpg.rf.f33f128e0ee88201565233a754169c1e.txt  \n",
            "  inflating: train/labels/syn_2073_jpg.rf.289dde4a7a1d569b458bb0d3e5d6e9c5.txt  \n",
            "  inflating: train/labels/syn_2073_jpg.rf.7a1769bdb38d41f0e5b28fdd51799f42.txt  \n",
            "  inflating: train/labels/syn_2073_jpg.rf.d906a10b174b58cbed728078b8bbf5b1.txt  \n",
            "  inflating: train/labels/syn_207_jpg.rf.0e23cbb24e0e8b8f51dd129b4fab9ecd.txt  \n",
            "  inflating: train/labels/syn_207_jpg.rf.cd4dd14809994f2d483801eff301e1d6.txt  \n",
            "  inflating: train/labels/syn_207_jpg.rf.f65259721ba3c3c17f1035e8bacae8aa.txt  \n",
            "  inflating: train/labels/syn_2091_jpg.rf.7234a04fde3c1c9a8daf3980dafedcfd.txt  \n",
            "  inflating: train/labels/syn_2091_jpg.rf.8e484a1eb3d6c645fdedf23e19a2ff56.txt  \n",
            "  inflating: train/labels/syn_2091_jpg.rf.eb0e79a2908a81532f4331c31d8bc31c.txt  \n",
            "  inflating: train/labels/syn_2116_jpg.rf.1189fb27c12e31e42e0fafe23d2e764f.txt  \n",
            "  inflating: train/labels/syn_2116_jpg.rf.6ceea2d606104878aa002a0038c88d0a.txt  \n",
            "  inflating: train/labels/syn_2116_jpg.rf.6ef6840cf011b685cf51665c696025d9.txt  \n",
            "  inflating: train/labels/syn_2131_jpg.rf.952b6a9ca5853d97082c7e8861e16d2a.txt  \n",
            "  inflating: train/labels/syn_2131_jpg.rf.a3fee0a713f4e7b5f1b69ed4817621bd.txt  \n",
            "  inflating: train/labels/syn_2131_jpg.rf.b46b7ad26dfbb2bae499920b68f4c279.txt  \n",
            "  inflating: train/labels/syn_2143_jpg.rf.144862821f020e092e2b1c1c280512b6.txt  \n",
            "  inflating: train/labels/syn_2143_jpg.rf.ad5e076b7db36148fd4c5c6bc995e6f2.txt  \n",
            "  inflating: train/labels/syn_2143_jpg.rf.f14cbaea426ebebdff2befe4841c61c2.txt  \n",
            "  inflating: train/labels/syn_2160_jpg.rf.6bab06fd3d37dc0d34da78265ae6f1cc.txt  \n",
            "  inflating: train/labels/syn_2160_jpg.rf.8f46be221810ee639ea629829ab8ff17.txt  \n",
            "  inflating: train/labels/syn_2160_jpg.rf.fb93bfd81f07cd5d4951b6dee79d7535.txt  \n",
            "  inflating: train/labels/syn_216_jpg.rf.d1e2efe13ae9c20d292a90bba049317c.txt  \n",
            "  inflating: train/labels/syn_216_jpg.rf.d4655f33c0b5d44f7d49a297a2727e37.txt  \n",
            "  inflating: train/labels/syn_216_jpg.rf.f8cf798fbc8d41b178d77c13a7c3c14c.txt  \n",
            "  inflating: train/labels/syn_2176_jpg.rf.5db9db610248ff090786deee78fe488b.txt  \n",
            "  inflating: train/labels/syn_2176_jpg.rf.7e65140e15383658cfdfa45c44b94bb2.txt  \n",
            "  inflating: train/labels/syn_2176_jpg.rf.94436e504a04ccad4cb0ec329d5355dc.txt  \n",
            "  inflating: train/labels/syn_2177_jpg.rf.1a6b4e1008c90a4d34cbbd4e8af9b486.txt  \n",
            "  inflating: train/labels/syn_2177_jpg.rf.3509c1ac376eca272b85a717d7c46352.txt  \n",
            "  inflating: train/labels/syn_2177_jpg.rf.40302f61ef55ed2a019f04239c500d89.txt  \n",
            " extracting: train/labels/syn_2180_jpg.rf.0108ddc982461be9e6a41a48b2bfb8a7.txt  \n",
            " extracting: train/labels/syn_2180_jpg.rf.cf48bdb02a173459e25745722005dfe9.txt  \n",
            " extracting: train/labels/syn_2180_jpg.rf.eaac256308ef95fe11192975919d79a5.txt  \n",
            "  inflating: train/labels/syn_2196_jpg.rf.0f8351d20557fef73ccda7486e9fb142.txt  \n",
            "  inflating: train/labels/syn_2196_jpg.rf.cf5a22e6ba4112b61b1a113da6ad0ce7.txt  \n",
            "  inflating: train/labels/syn_2196_jpg.rf.e665c74d4ba462c429440e44cc23964d.txt  \n",
            "  inflating: train/labels/syn_2225_jpg.rf.317b0ea84f8393178d938acd39cebd02.txt  \n",
            "  inflating: train/labels/syn_2225_jpg.rf.dedbf06f3085991591f69af22ba3da1b.txt  \n",
            "  inflating: train/labels/syn_2225_jpg.rf.e39e62cb0fa72edc7c00003a1755aab1.txt  \n",
            "  inflating: train/labels/syn_2231_jpg.rf.3ec073b159183d5bfd0e3b1f6cca7b33.txt  \n",
            "  inflating: train/labels/syn_2231_jpg.rf.5ae1e3c93b80920f969bdf78f1594a9b.txt  \n",
            "  inflating: train/labels/syn_2231_jpg.rf.af84bc8128baaccf001e4e2a2e5a9db3.txt  \n",
            "  inflating: train/labels/syn_224_jpg.rf.4729c21dbd9103a2432ecf7bbeb6906c.txt  \n",
            "  inflating: train/labels/syn_224_jpg.rf.5a0491d92fb3834e793890ca73b228ec.txt  \n",
            "  inflating: train/labels/syn_224_jpg.rf.75d2f74102ffd87d82838c0bd3c6e491.txt  \n",
            "  inflating: train/labels/syn_2252_jpg.rf.3dce87e1d080354c0c636af3256ba778.txt  \n",
            "  inflating: train/labels/syn_2252_jpg.rf.99cf9f981f19a33fc5658843075ed08f.txt  \n",
            "  inflating: train/labels/syn_2252_jpg.rf.ab29100251837b14905237d0411ba287.txt  \n",
            "  inflating: train/labels/syn_2281_jpg.rf.223f8e6455c706e89502bb8818a4cb37.txt  \n",
            "  inflating: train/labels/syn_2281_jpg.rf.ef7fa5e192ae120d2c169153564e77fb.txt  \n",
            "  inflating: train/labels/syn_2281_jpg.rf.f3b78ce4ec1b3d57eedab7911bf866e0.txt  \n",
            "  inflating: train/labels/syn_2291_jpg.rf.34926cd807ef145e8c3f536da9019b53.txt  \n",
            "  inflating: train/labels/syn_2291_jpg.rf.4da2b8a78504951e4bf2a98573293607.txt  \n",
            "  inflating: train/labels/syn_2291_jpg.rf.79194882d2bb9ce0f597f7c851f6d5d9.txt  \n",
            "  inflating: train/labels/syn_230_jpg.rf.090c581c3fff9bb598190caafcd207f5.txt  \n",
            "  inflating: train/labels/syn_230_jpg.rf.32811a84cd25d6297500f72ec755486f.txt  \n",
            "  inflating: train/labels/syn_230_jpg.rf.bf473671d7545126a3bc142e6c45fa79.txt  \n",
            "  inflating: train/labels/syn_2322_jpg.rf.a7a6ab7a2c5df3da065deed990887725.txt  \n",
            "  inflating: train/labels/syn_2322_jpg.rf.c92d0f450fb30bbe284f878f594ff996.txt  \n",
            "  inflating: train/labels/syn_2322_jpg.rf.de0867d1cbd401c75301d2a1d61ce20e.txt  \n",
            "  inflating: train/labels/syn_2366_jpg.rf.4e39a33d663b072abd5b6dc15a7080c4.txt  \n",
            "  inflating: train/labels/syn_2366_jpg.rf.881ca4cac286d2ecb8dac7a7d2eb64d8.txt  \n",
            "  inflating: train/labels/syn_2366_jpg.rf.c31735ab78e65699a1465272499ac632.txt  \n",
            "  inflating: train/labels/syn_2382_jpg.rf.071facb17a6047a279cad995913c5e07.txt  \n",
            "  inflating: train/labels/syn_2382_jpg.rf.2c714489154485c6405b35991c859160.txt  \n",
            "  inflating: train/labels/syn_2382_jpg.rf.3e56d4ddc2cfee45e9933ca0766d2815.txt  \n",
            "  inflating: train/labels/syn_2384_jpg.rf.6a8ef350b467d0e6562429dd8b7995ef.txt  \n",
            "  inflating: train/labels/syn_2384_jpg.rf.abdc9e9c75da7600a7d0dceabafd9b6b.txt  \n",
            "  inflating: train/labels/syn_2384_jpg.rf.fbb09208651842c0d8c40ffbf7d95d33.txt  \n",
            "  inflating: train/labels/syn_2385_jpg.rf.83c852fbcb2084e9266061c9c4f81627.txt  \n",
            "  inflating: train/labels/syn_2385_jpg.rf.bbd609e7b5dee7452c9724e20ba3723b.txt  \n",
            "  inflating: train/labels/syn_2385_jpg.rf.cb08826939aac6fbbc06b2e5def53530.txt  \n",
            " extracting: train/labels/syn_2418_jpg.rf.3effdf1e5f00c36cf105e4a1124c9afc.txt  \n",
            " extracting: train/labels/syn_2418_jpg.rf.5441964c0caf345c497a37d57da96eab.txt  \n",
            " extracting: train/labels/syn_2418_jpg.rf.893602ac868c44b834828c673fb3e7ee.txt  \n",
            "  inflating: train/labels/syn_2438_jpg.rf.4dae750ea466b6e6389ff93fa00f59b4.txt  \n",
            "  inflating: train/labels/syn_2438_jpg.rf.4ff44e2b7f25eded44f503d87ea4ef35.txt  \n",
            "  inflating: train/labels/syn_2438_jpg.rf.d5d74f0599496d96c9e884a4706c3dee.txt  \n",
            "  inflating: train/labels/syn_2446_jpg.rf.1b47595831886487f01eef48fe857455.txt  \n",
            "  inflating: train/labels/syn_2446_jpg.rf.1ecb8c2961658a4182842bdc99eeacfd.txt  \n",
            "  inflating: train/labels/syn_2446_jpg.rf.7f6f556ec11c8a9eade44bbcf7bc6ecd.txt  \n",
            " extracting: train/labels/syn_2454_jpg.rf.008cd9fc04cc41a6533b506f7899ee20.txt  \n",
            " extracting: train/labels/syn_2454_jpg.rf.d575f77e1bada4180ac98619f92bcff2.txt  \n",
            " extracting: train/labels/syn_2454_jpg.rf.de58e75e352b5200ec0d68684198d001.txt  \n",
            "  inflating: train/labels/syn_2458_jpg.rf.a0f90e08cfb9d87846dde8df008e1c52.txt  \n",
            "  inflating: train/labels/syn_2458_jpg.rf.a4ef8e771a9e36693a2c9c6ef5cd4c64.txt  \n",
            "  inflating: train/labels/syn_2458_jpg.rf.f9e6617163ba2d26758f6615683ccebd.txt  \n",
            "  inflating: train/labels/syn_2464_jpg.rf.769de7872a565222336b9e676e26db96.txt  \n",
            "  inflating: train/labels/syn_2464_jpg.rf.835900a3b4b5b9234013ff2148112663.txt  \n",
            "  inflating: train/labels/syn_2464_jpg.rf.e0a622d2fb45a8f5a85892bcf31c254c.txt  \n",
            "  inflating: train/labels/syn_2521_jpg.rf.20d6d59c2e109635b3a40ddfe2e5bebd.txt  \n",
            "  inflating: train/labels/syn_2521_jpg.rf.63e61ea4ebb28802548a7a763bd4d2f4.txt  \n",
            "  inflating: train/labels/syn_2521_jpg.rf.a9b0170e6ea6a5552746025ffc10b665.txt  \n",
            " extracting: train/labels/syn_2527_jpg.rf.4ea57f9062659b305f11389c12c3fdbe.txt  \n",
            " extracting: train/labels/syn_2527_jpg.rf.5440aa59aaecb6d3227ee40202defa52.txt  \n",
            " extracting: train/labels/syn_2527_jpg.rf.79c10f45ed47d4d554d2b571e817002e.txt  \n",
            "  inflating: train/labels/syn_2543_jpg.rf.1c263333bd469f556b8aeee9bc9efa85.txt  \n",
            "  inflating: train/labels/syn_2543_jpg.rf.5f9b34cdd173322952ffd2a945125da0.txt  \n",
            "  inflating: train/labels/syn_2543_jpg.rf.615be7a7f0f0eb43a27da4a215ab99bb.txt  \n",
            "  inflating: train/labels/syn_2583_jpg.rf.08b3c12c1000c9c5d6d6af2bb3092895.txt  \n",
            "  inflating: train/labels/syn_2583_jpg.rf.10219be48eb22a80ee6159b6c8ebc565.txt  \n",
            "  inflating: train/labels/syn_2583_jpg.rf.d6dbbb3852513e9c9ad070f344ca334d.txt  \n",
            "  inflating: train/labels/syn_2585_jpg.rf.0a73839c22086c1f6e986f2620d13d1b.txt  \n",
            "  inflating: train/labels/syn_2585_jpg.rf.4bde3d70ce3e5b84fcc3ee7af29d6b6c.txt  \n",
            "  inflating: train/labels/syn_2585_jpg.rf.8c9bcad8bc0f63c754226020c52bc7f2.txt  \n",
            "  inflating: train/labels/syn_2610_jpg.rf.68e10e6675fdfb1890dc7ae4e8d41200.txt  \n",
            "  inflating: train/labels/syn_2610_jpg.rf.f3f7ea58f49b1ebb6a5678cdb5a532fa.txt  \n",
            "  inflating: train/labels/syn_2610_jpg.rf.fae272b1e90b3ae95a4ec93666145841.txt  \n",
            "  inflating: train/labels/syn_2637_jpg.rf.58da48932b259b44f7785c319b02a099.txt  \n",
            "  inflating: train/labels/syn_2637_jpg.rf.c6f21779e725b7fecb4c1451f80e3202.txt  \n",
            "  inflating: train/labels/syn_2637_jpg.rf.f15ed74fddd86c597d297583cbaa7c3c.txt  \n",
            "  inflating: train/labels/syn_2667_jpg.rf.a802bb1c741fc22a161df8519b060ad2.txt  \n",
            "  inflating: train/labels/syn_2667_jpg.rf.b88395995eccb78939784ef67223d79c.txt  \n",
            "  inflating: train/labels/syn_2667_jpg.rf.d81848808a3406db757771a19bec8e9d.txt  \n",
            "  inflating: train/labels/syn_2685_jpg.rf.16eb795ce79d757b57725176cb0adc3f.txt  \n",
            "  inflating: train/labels/syn_2685_jpg.rf.1b0f7b77be46b1bd336d7c837bdf6b63.txt  \n",
            "  inflating: train/labels/syn_2685_jpg.rf.d071d7a4d17ce89492f2d924a0079641.txt  \n",
            "  inflating: train/labels/syn_2699_jpg.rf.1fd956da7bbce36b2c949ff542402d74.txt  \n",
            "  inflating: train/labels/syn_2699_jpg.rf.eac520869db50a5e782a2c6837c56bbb.txt  \n",
            "  inflating: train/labels/syn_2699_jpg.rf.faee1feff107fec36e38d45962d2c030.txt  \n",
            "  inflating: train/labels/syn_2704_jpg.rf.20db37b118d37e4f5c14ead18a9a7f9b.txt  \n",
            "  inflating: train/labels/syn_2704_jpg.rf.8c7cdfeadca972a1b8f00c4ab747302c.txt  \n",
            "  inflating: train/labels/syn_2704_jpg.rf.9029ad7665a71a5cfc7a9fea18845715.txt  \n",
            "  inflating: train/labels/syn_2715_jpg.rf.5170224f4711bc668df9dcda28142b6e.txt  \n",
            "  inflating: train/labels/syn_2715_jpg.rf.7ffc65ae683ee46a10e99cbd444f943c.txt  \n",
            "  inflating: train/labels/syn_2715_jpg.rf.9bc43ced46168dba63d9257df433473e.txt  \n",
            "  inflating: train/labels/syn_2728_jpg.rf.32ea728fab2a29b17da85f4d36678aca.txt  \n",
            "  inflating: train/labels/syn_2728_jpg.rf.649672a64a5fb9b457c511a6947e227b.txt  \n",
            "  inflating: train/labels/syn_2728_jpg.rf.8440aa0e6a56fd5c1e5248017f8556f2.txt  \n",
            "  inflating: train/labels/syn_2731_jpg.rf.5bed2b2b142d74a21c8b8207f208aec1.txt  \n",
            "  inflating: train/labels/syn_2731_jpg.rf.cb26948123494d1e3ae9d82b822844c3.txt  \n",
            "  inflating: train/labels/syn_2731_jpg.rf.f7a51d379aaae1eb7fa141257ddbea50.txt  \n",
            "  inflating: train/labels/syn_2733_jpg.rf.aa7ab1aa240ff7447c64018d7ae84f08.txt  \n",
            "  inflating: train/labels/syn_2733_jpg.rf.b16e6361edc0522b2d2440574d8f62e6.txt  \n",
            "  inflating: train/labels/syn_2733_jpg.rf.def9fa79877ed25db6ebca6b2c639839.txt  \n",
            "  inflating: train/labels/syn_2742_jpg.rf.96e74635a447d84cb19b916491727238.txt  \n",
            "  inflating: train/labels/syn_2742_jpg.rf.c540b1156f0b19bf85e75608257ae20c.txt  \n",
            "  inflating: train/labels/syn_2742_jpg.rf.fb0f69b42aeaada31e10285359d38e35.txt  \n",
            "  inflating: train/labels/syn_2748_jpg.rf.6885f8ad079d7b8169745e2c960ff97b.txt  \n",
            "  inflating: train/labels/syn_2748_jpg.rf.7b77f52125f896842c57983609fbd792.txt  \n",
            "  inflating: train/labels/syn_2748_jpg.rf.cf75e29e1f65ff2bae588b8c085ebf60.txt  \n",
            "  inflating: train/labels/syn_2767_jpg.rf.0c174655d86b4c0151fd5a64f17d9d2a.txt  \n",
            "  inflating: train/labels/syn_2767_jpg.rf.e2902e8ad27957ca333f6156cbbb83d2.txt  \n",
            "  inflating: train/labels/syn_2767_jpg.rf.ed88ef3f73ab5d0506ef409f495c3eeb.txt  \n",
            "  inflating: train/labels/syn_2785_jpg.rf.0757f07b8c60eb6e948c38c704ffafa2.txt  \n",
            "  inflating: train/labels/syn_2785_jpg.rf.2d2f80bff0ee7d441675ea8468236ab0.txt  \n",
            "  inflating: train/labels/syn_2785_jpg.rf.d36e8735b9f6c0fbfeeeb6bf9bb64ac6.txt  \n",
            "  inflating: train/labels/syn_2795_jpg.rf.17d829c81811164d761f96a354711885.txt  \n",
            "  inflating: train/labels/syn_2795_jpg.rf.61f82a2f9de266a29e783cade4e2f69a.txt  \n",
            "  inflating: train/labels/syn_2795_jpg.rf.f15c53aa684af7288fcb56dff0aabf4a.txt  \n",
            "  inflating: train/labels/syn_2819_jpg.rf.07db0cef073f97b0c10e3dae9ca5ab68.txt  \n",
            "  inflating: train/labels/syn_2819_jpg.rf.4c48b0440baaf2a3bae543b30c6d0a0b.txt  \n",
            "  inflating: train/labels/syn_2819_jpg.rf.d63dc0c58aabbc702fafdac9677975d0.txt  \n",
            "  inflating: train/labels/syn_2822_jpg.rf.17b039a7ad3abc548d8f0537b2665e6b.txt  \n",
            "  inflating: train/labels/syn_2822_jpg.rf.3022bed4d774f69ffe394df866fc7bc0.txt  \n",
            "  inflating: train/labels/syn_2822_jpg.rf.8914812169ddf9f2f31fe5e392dc12fb.txt  \n",
            "  inflating: train/labels/syn_2833_jpg.rf.7dccce18fff995b1b8d1f8cce967fc7a.txt  \n",
            "  inflating: train/labels/syn_2833_jpg.rf.b42488de50b2a5e8a076f2be527845a5.txt  \n",
            "  inflating: train/labels/syn_2833_jpg.rf.c279693b7b0bb7b7cfd200d963b16c07.txt  \n",
            "  inflating: train/labels/syn_2837_jpg.rf.3f1d0999d605d4999a5e03d89ada650c.txt  \n",
            "  inflating: train/labels/syn_2837_jpg.rf.504fb3a662503e04edda4b1bd6ad70cb.txt  \n",
            "  inflating: train/labels/syn_2837_jpg.rf.6cb8159b11fd60f8be7d5e4bea275042.txt  \n",
            "  inflating: train/labels/syn_2839_jpg.rf.8538508745126812c62fd9a5694a525b.txt  \n",
            "  inflating: train/labels/syn_2839_jpg.rf.c26c691f0c1e8b7d92b32825108cd4d9.txt  \n",
            "  inflating: train/labels/syn_2839_jpg.rf.fab950c8c3d63d83441732049073e036.txt  \n",
            "  inflating: train/labels/syn_2844_jpg.rf.19a236f669daf3bfd1300bf327b8565b.txt  \n",
            "  inflating: train/labels/syn_2844_jpg.rf.afedf4e028d7b4d5fe4c72cd8ba4f31e.txt  \n",
            "  inflating: train/labels/syn_2844_jpg.rf.f6a67bc4fad93a3c6e27777697438341.txt  \n",
            "  inflating: train/labels/syn_2849_jpg.rf.0082b9b28d29528bba4f8190344e8a6a.txt  \n",
            "  inflating: train/labels/syn_2849_jpg.rf.93582bc47e4c94afa722b97567f57eb5.txt  \n",
            "  inflating: train/labels/syn_2849_jpg.rf.94cb14bc1ad2fc5e39e9848bf6b9e696.txt  \n",
            "  inflating: train/labels/syn_2861_jpg.rf.21ca3024828aa0511fe075bb83a86b6c.txt  \n",
            "  inflating: train/labels/syn_2861_jpg.rf.592015ce37c9d07f2414d5647014f8fa.txt  \n",
            "  inflating: train/labels/syn_2861_jpg.rf.5e0bebd2ce30d3657632fa5dbd176058.txt  \n",
            "  inflating: train/labels/syn_2866_jpg.rf.129cdf1923e0f8b11ac38929a76fbf42.txt  \n",
            "  inflating: train/labels/syn_2866_jpg.rf.5564cdd9ad6102247304d7347bade901.txt  \n",
            "  inflating: train/labels/syn_2866_jpg.rf.f517e70fc16477a86a6e286acc381d0c.txt  \n",
            "  inflating: train/labels/syn_2870_jpg.rf.1054689d7e4954fa7437d54de9ec923d.txt  \n",
            "  inflating: train/labels/syn_2870_jpg.rf.2f5770189d769a8a630b42abeca478be.txt  \n",
            "  inflating: train/labels/syn_2870_jpg.rf.b4d718b5bc5ee893ae0a74db21dc22c6.txt  \n",
            "  inflating: train/labels/syn_2890_jpg.rf.9d21441dba967097aca88ee770ea2a83.txt  \n",
            "  inflating: train/labels/syn_2890_jpg.rf.bb193cfda83edd45144e951d2d0b46e5.txt  \n",
            "  inflating: train/labels/syn_2890_jpg.rf.f1f4ec626ca0b6f39e174fc278c441aa.txt  \n",
            "  inflating: train/labels/syn_2907_jpg.rf.1a21c74b664a7b1b803fc2b310df07be.txt  \n",
            "  inflating: train/labels/syn_2907_jpg.rf.1a3d5845762da8338cc8ebad0d215efd.txt  \n",
            "  inflating: train/labels/syn_2907_jpg.rf.b3ea8d1f57f7c60ece9c80ca76196631.txt  \n",
            "  inflating: train/labels/syn_2913_jpg.rf.0b4183c6965aaa16ecf7e0e0a6407a1b.txt  \n",
            "  inflating: train/labels/syn_2913_jpg.rf.2719afa23cd640129cd088e3edaf31c8.txt  \n",
            "  inflating: train/labels/syn_2913_jpg.rf.f8dd81df6f8e84f88983a5c51c57cedb.txt  \n",
            "  inflating: train/labels/syn_2919_jpg.rf.5b64663d68afff007a2f2e87a0acdcfe.txt  \n",
            "  inflating: train/labels/syn_2919_jpg.rf.92f9f27b8cca5b111b6637e231978b64.txt  \n",
            "  inflating: train/labels/syn_2919_jpg.rf.95ba93605ed8bfc387a65df6e2c68c1d.txt  \n",
            "  inflating: train/labels/syn_2940_jpg.rf.7926e7a5eba2b6db2e9f103f910d010a.txt  \n",
            "  inflating: train/labels/syn_2940_jpg.rf.a705073b7d6189a394470339128593c4.txt  \n",
            "  inflating: train/labels/syn_2940_jpg.rf.f47b50ab6241e3a4cfe9fd41151da586.txt  \n",
            "  inflating: train/labels/syn_2958_jpg.rf.45e795b6cd75c3c047528e13e083216e.txt  \n",
            "  inflating: train/labels/syn_2958_jpg.rf.78db742318496d2549097a64d3ddb34b.txt  \n",
            "  inflating: train/labels/syn_2958_jpg.rf.e8b425b56a1478f2a2c3414ddb0df913.txt  \n",
            "  inflating: train/labels/syn_2965_jpg.rf.0c4122f231291e98c890bc6fb78e9350.txt  \n",
            "  inflating: train/labels/syn_2965_jpg.rf.457ceda1543f2298196b1eb98d34a426.txt  \n",
            "  inflating: train/labels/syn_2965_jpg.rf.aaf103a92cfcee25c32b8aff99f75089.txt  \n",
            "  inflating: train/labels/syn_2977_jpg.rf.2d285b96eed85bb879ba2efaabd806b1.txt  \n",
            "  inflating: train/labels/syn_2977_jpg.rf.a3a7da5b9373e4d245813d63a67eab81.txt  \n",
            "  inflating: train/labels/syn_2977_jpg.rf.de56236bbc1a2fbe9ad198107c706893.txt  \n",
            "  inflating: train/labels/syn_2999_jpg.rf.15776a44c5312fca085d7ec44207a08e.txt  \n",
            "  inflating: train/labels/syn_2999_jpg.rf.c7669adc4f612fa797df19f2d5c57e3b.txt  \n",
            "  inflating: train/labels/syn_2999_jpg.rf.dd30580af298bd747594c802fb202cab.txt  \n",
            " extracting: train/labels/syn_3009_jpg.rf.2dc1a6dfe1f0a3230ea45c2b8bc1f027.txt  \n",
            " extracting: train/labels/syn_3009_jpg.rf.74037bd12faad0e73517594eeb2cb510.txt  \n",
            " extracting: train/labels/syn_3009_jpg.rf.edacfc2fbf4496f885713aeffed132fd.txt  \n",
            "  inflating: train/labels/syn_3016_jpg.rf.4a1c57fc4afd0af9dc1e75731b88b179.txt  \n",
            "  inflating: train/labels/syn_3016_jpg.rf.cc5ca53366cb9495dec9da19361aa0e8.txt  \n",
            "  inflating: train/labels/syn_3016_jpg.rf.d7a033a26ac5f5d3ee1513a1527c8596.txt  \n",
            "  inflating: train/labels/syn_3025_jpg.rf.1b0dd2c44cd24ca0034e027f7bf5818e.txt  \n",
            "  inflating: train/labels/syn_3025_jpg.rf.5515eb5524e84d421739ab17c67e653d.txt  \n",
            "  inflating: train/labels/syn_3025_jpg.rf.87427fa09cb24e040d6b776ea343c890.txt  \n",
            "  inflating: train/labels/syn_3070_jpg.rf.81f3bf8dcb968e0a6df7433e7903e868.txt  \n",
            "  inflating: train/labels/syn_3070_jpg.rf.b9f099c74c377eb839d55cdf08c8a436.txt  \n",
            "  inflating: train/labels/syn_3070_jpg.rf.ce2f8bfd6c4805461e16d38c140970be.txt  \n",
            "  inflating: train/labels/syn_3082_jpg.rf.12c872bb874845cad1591f52459a0188.txt  \n",
            "  inflating: train/labels/syn_3082_jpg.rf.204004da6e41ce39075948975e60ddb1.txt  \n",
            "  inflating: train/labels/syn_3082_jpg.rf.298b34373ce3c4e6c68bc91d1a45ca30.txt  \n",
            " extracting: train/labels/syn_3086_jpg.rf.5491c98b5c119054b2fcd282a1574583.txt  \n",
            " extracting: train/labels/syn_3086_jpg.rf.7dfb130c8c9bc80d020c207dbf91affe.txt  \n",
            " extracting: train/labels/syn_3086_jpg.rf.bacdd7724858ea114e56d349cdf948fd.txt  \n",
            "  inflating: train/labels/syn_3104_jpg.rf.03477f43729ea6276e24cf8d4951276d.txt  \n",
            "  inflating: train/labels/syn_3104_jpg.rf.3a4d84cbc71b0e8360f5eb46343619c6.txt  \n",
            "  inflating: train/labels/syn_3104_jpg.rf.e54bdbe663be68ca93c77d3ce0bfd192.txt  \n",
            "  inflating: train/labels/syn_3113_jpg.rf.697a27390e16a0552d62e4d8e14a5986.txt  \n",
            "  inflating: train/labels/syn_3113_jpg.rf.7f53b35c27ff70f9c4f55a93fca3ac42.txt  \n",
            "  inflating: train/labels/syn_3113_jpg.rf.ba33f295e1a2e949f9d00300619a4789.txt  \n",
            "  inflating: train/labels/syn_3117_jpg.rf.064b16456aec5eb23d2b3377cdb089eb.txt  \n",
            "  inflating: train/labels/syn_3117_jpg.rf.14cd6606f6e164f26bf6e5ce31aa3df8.txt  \n",
            "  inflating: train/labels/syn_3117_jpg.rf.f14b328467f63ae30a612817fcf3cd7c.txt  \n",
            "  inflating: train/labels/syn_3122_jpg.rf.25f9ab948219b240b5fe53cf192ad6ca.txt  \n",
            "  inflating: train/labels/syn_3122_jpg.rf.4260c45cc8b6ec5f15c36a41f6dab538.txt  \n",
            "  inflating: train/labels/syn_3122_jpg.rf.7a857a62cd1d03504deeee73ea8a088f.txt  \n",
            "  inflating: train/labels/syn_3126_jpg.rf.3b6a49901f05693d701a5f584bc6a9a3.txt  \n",
            "  inflating: train/labels/syn_3126_jpg.rf.8d8bbab13e09de5ead2e6d89937c8eb0.txt  \n",
            "  inflating: train/labels/syn_3126_jpg.rf.a3e9f5bf3b81e6aa0f6fd665bdc0d214.txt  \n",
            "  inflating: train/labels/syn_3131_jpg.rf.37f359c265f60d5962f0af578a8845f2.txt  \n",
            "  inflating: train/labels/syn_3131_jpg.rf.5a4e7dbf40105d69228e7b08535173e5.txt  \n",
            "  inflating: train/labels/syn_3131_jpg.rf.795540ff0f5eb53b7d475e89e7e615cf.txt  \n",
            "  inflating: train/labels/syn_3162_jpg.rf.025bf0d07c3c360930c54764e92dd3e0.txt  \n",
            "  inflating: train/labels/syn_3162_jpg.rf.22230cdb95388d33c108339b78093ced.txt  \n",
            "  inflating: train/labels/syn_3162_jpg.rf.eb13dae665f6aa0ed9b4db61d97d3721.txt  \n",
            "  inflating: train/labels/syn_3163_jpg.rf.1135708b2c804c60e335e015d41fc89b.txt  \n",
            "  inflating: train/labels/syn_3163_jpg.rf.2fdd9245ccd5feb3fb88cb538b228c9f.txt  \n",
            "  inflating: train/labels/syn_3163_jpg.rf.e70dc76bf77608bcf18f77708404c54e.txt  \n",
            "  inflating: train/labels/syn_3165_jpg.rf.3bf226e49b2ca66a6abd81e0cd0c0450.txt  \n",
            "  inflating: train/labels/syn_3165_jpg.rf.777ab38755fa67fc66b31c945b0738d0.txt  \n",
            "  inflating: train/labels/syn_3165_jpg.rf.8a43dc2ce660d01090c58eae021da2d0.txt  \n",
            " extracting: train/labels/syn_3172_jpg.rf.433c29776cfa4f5fa64c77ced1efc131.txt  \n",
            " extracting: train/labels/syn_3172_jpg.rf.d037a019d33544663c6a7b95edd6f24c.txt  \n",
            " extracting: train/labels/syn_3172_jpg.rf.f50176e5d625f9487d58607aa7693a8c.txt  \n",
            "  inflating: train/labels/syn_3176_jpg.rf.2c7ecd09aafc3c06a72c6a25ba45a027.txt  \n",
            "  inflating: train/labels/syn_3176_jpg.rf.42e3555f7b5a03e233d28889a6afa7b1.txt  \n",
            "  inflating: train/labels/syn_3176_jpg.rf.762a55db19e396abbb7054b3fabf424d.txt  \n",
            "  inflating: train/labels/syn_3178_jpg.rf.3897865fcaa4ff782fd1bf03471b238f.txt  \n",
            "  inflating: train/labels/syn_3178_jpg.rf.7be8709ee6608a1aa068602b99adba20.txt  \n",
            "  inflating: train/labels/syn_3178_jpg.rf.ff136db2995cb2062bc3ef7814b23662.txt  \n",
            "  inflating: train/labels/syn_3220_jpg.rf.aff7c9e5157e8b8a2c6b59b2bf0b67cd.txt  \n",
            "  inflating: train/labels/syn_3220_jpg.rf.d4dc77225b90e91f10487f9bd69b9607.txt  \n",
            "  inflating: train/labels/syn_3220_jpg.rf.f657d0d83934bf8121082578a629b21e.txt  \n",
            "  inflating: train/labels/syn_3240_jpg.rf.22c5c0b4020e5a792dfb58c31b33529d.txt  \n",
            "  inflating: train/labels/syn_3240_jpg.rf.facb32577695b0d263da913ccf24edb0.txt  \n",
            "  inflating: train/labels/syn_3240_jpg.rf.fc78d0903228a2c13f03bf085cbcfc5f.txt  \n",
            "  inflating: train/labels/syn_3264_jpg.rf.892bff4d3c8f1ad9a5bbbaaae780fcf7.txt  \n",
            "  inflating: train/labels/syn_3264_jpg.rf.aaf28e45923d36258b12be70f93d87b7.txt  \n",
            "  inflating: train/labels/syn_3264_jpg.rf.f0c79ed84057be662f2b6c2780fbb6af.txt  \n",
            "  inflating: train/labels/syn_3307_jpg.rf.3b18c62339b40de6c266f91f30aa730d.txt  \n",
            "  inflating: train/labels/syn_3307_jpg.rf.790adbec6e782140db1fcbace73d10ed.txt  \n",
            "  inflating: train/labels/syn_3307_jpg.rf.f48887b9d2be473f8ed638e72ca18f87.txt  \n",
            "  inflating: train/labels/syn_3319_jpg.rf.2d89935f3e087e29914ba3ec8bd01576.txt  \n",
            "  inflating: train/labels/syn_3319_jpg.rf.34f1ee99beb9d7446d1c3200ca75fdef.txt  \n",
            "  inflating: train/labels/syn_3319_jpg.rf.b1c3ea25504af49e2b526c6771eaa5f0.txt  \n",
            "  inflating: train/labels/syn_3321_jpg.rf.1fd27c2c5442ad7a7b2a7c538c4252da.txt  \n",
            "  inflating: train/labels/syn_3321_jpg.rf.c1000609af24bf34d1d2c90ebe09823c.txt  \n",
            "  inflating: train/labels/syn_3321_jpg.rf.e62285db16708208d9a568d01db985ab.txt  \n",
            "  inflating: train/labels/syn_3336_jpg.rf.63ccf98dcffd635210dba9498abf8bb7.txt  \n",
            "  inflating: train/labels/syn_3336_jpg.rf.d13f5efac8cd304e52ae4ba978bdc7cf.txt  \n",
            "  inflating: train/labels/syn_3336_jpg.rf.f99f1e7c59e87f5a117cbe474ca36ff7.txt  \n",
            "  inflating: train/labels/syn_3349_jpg.rf.97d4c468985d556653f6a0b8d19ed0e9.txt  \n",
            "  inflating: train/labels/syn_3349_jpg.rf.c74f9396c79e778bd51018aefc405483.txt  \n",
            "  inflating: train/labels/syn_3349_jpg.rf.f31857de26316a648cbef12591003738.txt  \n",
            "  inflating: train/labels/syn_3353_jpg.rf.2e01f64b19552124c5f7be0f57500dac.txt  \n",
            "  inflating: train/labels/syn_3353_jpg.rf.5ec049ce7f6df7217f6d4bb1789f026a.txt  \n",
            "  inflating: train/labels/syn_3353_jpg.rf.77cdd91379d3832b29bc8eb3a7859461.txt  \n",
            " extracting: train/labels/syn_3362_jpg.rf.49ce42b3a72c3f9af084fcdbe497cf1f.txt  \n",
            " extracting: train/labels/syn_3362_jpg.rf.b119f381fb4438967c24ce7059517b78.txt  \n",
            " extracting: train/labels/syn_3362_jpg.rf.bf3efbaf40ee2beeb123add1a834274d.txt  \n",
            "  inflating: train/labels/syn_3382_jpg.rf.68472fd4770f42a7c15872353c4af87d.txt  \n",
            "  inflating: train/labels/syn_3382_jpg.rf.82df88ccf00d945e2a94712ce75de433.txt  \n",
            "  inflating: train/labels/syn_3382_jpg.rf.afdf06331e932ab14f8cbae564f234f6.txt  \n",
            " extracting: train/labels/syn_338_jpg.rf.1052cbf2958d98ae3d1cdfed30de7c22.txt  \n",
            " extracting: train/labels/syn_338_jpg.rf.5fddd24d2bd9898bfbce3f5e87bc3a8c.txt  \n",
            " extracting: train/labels/syn_338_jpg.rf.d70bdfa17d46aeb79bf0deb570716878.txt  \n",
            "  inflating: train/labels/syn_3407_jpg.rf.47c2b4081197d0fe303dfa17fab607f0.txt  \n",
            "  inflating: train/labels/syn_3407_jpg.rf.9ae6d0b36f8dec399e706bcf82f6bdc0.txt  \n",
            "  inflating: train/labels/syn_3407_jpg.rf.e2c83db4470b334a764f42cd1a6ee2b2.txt  \n",
            "  inflating: train/labels/syn_3409_jpg.rf.3da3e97841addc59dfc317f7e5943d28.txt  \n",
            "  inflating: train/labels/syn_3409_jpg.rf.468118a0f65a8bd535f527c4e12c891e.txt  \n",
            "  inflating: train/labels/syn_3409_jpg.rf.fd9a1a307df4a54251be858b6f2200e0.txt  \n",
            "  inflating: train/labels/syn_3418_jpg.rf.4df7dcc2319209b5e44a9ca1fae69dad.txt  \n",
            "  inflating: train/labels/syn_3418_jpg.rf.66a490b9d4051a8d469129575bbf6dc3.txt  \n",
            "  inflating: train/labels/syn_3418_jpg.rf.fdc62b5588935f69fe937eb1f87bb030.txt  \n",
            "  inflating: train/labels/syn_3446_jpg.rf.295edd0f32a7ee756dfc45ad5659daa0.txt  \n",
            "  inflating: train/labels/syn_3446_jpg.rf.e5e6ae9e014b9befb1528ca193c2414f.txt  \n",
            "  inflating: train/labels/syn_3446_jpg.rf.fe181955c0ba21b4eb3f830ddd10aeb6.txt  \n",
            "  inflating: train/labels/syn_345_jpg.rf.1de615ef808ca73e492772890b58a498.txt  \n",
            "  inflating: train/labels/syn_345_jpg.rf.b8b98c929dcf13040900761724c84cb1.txt  \n",
            "  inflating: train/labels/syn_345_jpg.rf.dcd716c83e0981c5200ec60910a339a8.txt  \n",
            "  inflating: train/labels/syn_346_jpg.rf.16ecc7b149e282f72d9c34813ae853a8.txt  \n",
            "  inflating: train/labels/syn_346_jpg.rf.839cb08822e0a11297c7eccb0d9a8d21.txt  \n",
            "  inflating: train/labels/syn_346_jpg.rf.9d3a8f6c3ea54861faf6d6074d444dd7.txt  \n",
            "  inflating: train/labels/syn_3476_jpg.rf.3082fd107a4b967f71b5a7977f150cc5.txt  \n",
            "  inflating: train/labels/syn_3476_jpg.rf.de68263b5162efcee29c877d5565ed28.txt  \n",
            "  inflating: train/labels/syn_3476_jpg.rf.e85132b1a2684626d176fa24bdd84c51.txt  \n",
            "  inflating: train/labels/syn_3495_jpg.rf.8baf18ade17e1545251aaeb08cdb9561.txt  \n",
            "  inflating: train/labels/syn_3495_jpg.rf.9c7a36cff4ef94d8a0216d344a231f97.txt  \n",
            "  inflating: train/labels/syn_3495_jpg.rf.ae22451234494fe1cb54fd32ea2bb2eb.txt  \n",
            "  inflating: train/labels/syn_3499_jpg.rf.1a77e61a66b6ddf1ccea19dacfcec58a.txt  \n",
            "  inflating: train/labels/syn_3499_jpg.rf.562850855303a1fb818f61f2f300b1cb.txt  \n",
            "  inflating: train/labels/syn_3499_jpg.rf.f8eee5d0d8fb735c6501acedce2314d6.txt  \n",
            "  inflating: train/labels/syn_3504_jpg.rf.0c2fdaadd99a3b289bdf470da4ec17f6.txt  \n",
            "  inflating: train/labels/syn_3504_jpg.rf.e3e43e7a50bf1c82acd72618a152c46d.txt  \n",
            "  inflating: train/labels/syn_3504_jpg.rf.ff9abe8db63295f6895853d5fbae132d.txt  \n",
            "  inflating: train/labels/syn_3524_jpg.rf.17ebf26026314466a8d4985c89b7ad2c.txt  \n",
            "  inflating: train/labels/syn_3524_jpg.rf.418d03a076f9643f172a2ed9950a9098.txt  \n",
            "  inflating: train/labels/syn_3524_jpg.rf.be0e03c895f76af3e7f97ef498fbd7af.txt  \n",
            "  inflating: train/labels/syn_3538_jpg.rf.70be883b0d4104c394d492c34b05804d.txt  \n",
            "  inflating: train/labels/syn_3538_jpg.rf.80151a949120649bfffd658916bc3892.txt  \n",
            "  inflating: train/labels/syn_3538_jpg.rf.9047aa4663e94fc625786fe02788f04d.txt  \n",
            "  inflating: train/labels/syn_3543_jpg.rf.1138caf5ea47bc6ce2c3fa3335269617.txt  \n",
            "  inflating: train/labels/syn_3543_jpg.rf.142ce43e2fe0d36da2ba821ebb747f4e.txt  \n",
            "  inflating: train/labels/syn_3543_jpg.rf.7f52f570edd7c54b5110991dc45e2d4c.txt  \n",
            "  inflating: train/labels/syn_3547_jpg.rf.ce48dbaa6192f227b88f02383cbc7303.txt  \n",
            "  inflating: train/labels/syn_3547_jpg.rf.d327162f6be5432510416a7910a7b5b4.txt  \n",
            "  inflating: train/labels/syn_3547_jpg.rf.fca97d84d27b372888eefb884b5f6d98.txt  \n",
            "  inflating: train/labels/syn_3552_jpg.rf.596192830b9b325f6db3355572618bbe.txt  \n",
            "  inflating: train/labels/syn_3552_jpg.rf.aca23f5ba84baf684ae2885082dbae03.txt  \n",
            "  inflating: train/labels/syn_3552_jpg.rf.da8af2febddae048e44d153e22aeb56e.txt  \n",
            "  inflating: train/labels/syn_3596_jpg.rf.0b6ac008f65fe537cb4a265a5b7764d7.txt  \n",
            "  inflating: train/labels/syn_3596_jpg.rf.615250ba5ee28c607c053d023c36c815.txt  \n",
            "  inflating: train/labels/syn_3596_jpg.rf.ad9af9350e4019477f8e0837c05e09ed.txt  \n",
            "  inflating: train/labels/syn_3636_jpg.rf.791da6841de8eb6c664d9ebdece3917c.txt  \n",
            "  inflating: train/labels/syn_3636_jpg.rf.a2a73bdc8d8e07c1fc2fdc06f92a8d60.txt  \n",
            "  inflating: train/labels/syn_3636_jpg.rf.c55414f8fd9c1665c8278034bbc6bf6d.txt  \n",
            "  inflating: train/labels/syn_3638_jpg.rf.7d0f77daac40876ed6998465dad235e7.txt  \n",
            "  inflating: train/labels/syn_3638_jpg.rf.a5fd8a30c0e4f63e4ce453682ef0ec61.txt  \n",
            "  inflating: train/labels/syn_3638_jpg.rf.fd3c2492098630245dc3ed3441392fb5.txt  \n",
            "  inflating: train/labels/syn_3645_jpg.rf.39328f077124e7a8c70f0feedab496ef.txt  \n",
            "  inflating: train/labels/syn_3645_jpg.rf.97fd53a37b2f8b4728ee26d9a2bc7395.txt  \n",
            "  inflating: train/labels/syn_3645_jpg.rf.c30da6cecb59ae4f9c7eb53ee47b0a4d.txt  \n",
            "  inflating: train/labels/syn_3647_jpg.rf.c689e8c4ed25e61afe71641782bdbafe.txt  \n",
            "  inflating: train/labels/syn_3647_jpg.rf.da129f5f36153ec61aed461df236699e.txt  \n",
            "  inflating: train/labels/syn_3647_jpg.rf.e50abeaac669f76641288b76d145441c.txt  \n",
            "  inflating: train/labels/syn_3700_jpg.rf.0e8b065b1b40e52820e45bbc117358cf.txt  \n",
            "  inflating: train/labels/syn_3700_jpg.rf.46c138d676ac8c5b1dc99b641da662b4.txt  \n",
            "  inflating: train/labels/syn_3700_jpg.rf.fcad79d868563f5dae9741e35e01b2fa.txt  \n",
            "  inflating: train/labels/syn_3710_jpg.rf.35ccdafe7365cd74a51b4659defad25e.txt  \n",
            "  inflating: train/labels/syn_3710_jpg.rf.f031331209388bc8df3163a4b6860a67.txt  \n",
            "  inflating: train/labels/syn_3710_jpg.rf.fd37d329fa3275d5d82b586c9b486574.txt  \n",
            "  inflating: train/labels/syn_3715_jpg.rf.4af75993cadea283e2931f09518d604e.txt  \n",
            "  inflating: train/labels/syn_3715_jpg.rf.a127d52ab7ff8eeb30a67d77353a85dd.txt  \n",
            "  inflating: train/labels/syn_3715_jpg.rf.e38e02248c0855ec0a44efee9507cdc2.txt  \n",
            "  inflating: train/labels/syn_3724_jpg.rf.55458e43f22aaaea4785192c727d3f84.txt  \n",
            "  inflating: train/labels/syn_3724_jpg.rf.910a60076502f031cdb95235ca56a5bc.txt  \n",
            "  inflating: train/labels/syn_3724_jpg.rf.b7d10f6822ea188ac6200651a1739054.txt  \n",
            "  inflating: train/labels/syn_3759_jpg.rf.836d11f84771f178fb69d24428590e5a.txt  \n",
            "  inflating: train/labels/syn_3759_jpg.rf.8e1dd2bb51b793fe49e7133f1e4f4636.txt  \n",
            "  inflating: train/labels/syn_3759_jpg.rf.d8bc5eba8ccb020c9f08fa63397876aa.txt  \n",
            "  inflating: train/labels/syn_3763_jpg.rf.53edfadfda8fe608f6bb5e2284590add.txt  \n",
            "  inflating: train/labels/syn_3763_jpg.rf.cb22630f567e71a6c17008cb66b213dc.txt  \n",
            "  inflating: train/labels/syn_3763_jpg.rf.fd33b46042aaf596dc49a777260bd632.txt  \n",
            "  inflating: train/labels/syn_3771_jpg.rf.03d4bd8e42e5dde31af284415df680c5.txt  \n",
            "  inflating: train/labels/syn_3771_jpg.rf.a64c03cd7079f3816af139a2f1b73157.txt  \n",
            "  inflating: train/labels/syn_3771_jpg.rf.ffb5069187bb3f54a07810a93ba2d28c.txt  \n",
            "  inflating: train/labels/syn_3772_jpg.rf.21a62e78170e3eb90efd8912f3d4f795.txt  \n",
            "  inflating: train/labels/syn_3772_jpg.rf.6bfaa4ec7ade35e5a9e981e7c33fc2db.txt  \n",
            "  inflating: train/labels/syn_3772_jpg.rf.9a624e12848dea8a96553be4243eeb81.txt  \n",
            "  inflating: train/labels/syn_3802_jpg.rf.5f7156197810a1335727e8c2a4cc6730.txt  \n",
            "  inflating: train/labels/syn_3802_jpg.rf.8447497cc7d1d4b4a531b161fb68521c.txt  \n",
            "  inflating: train/labels/syn_3802_jpg.rf.e672a72e142dd945c19147ef7ca300e2.txt  \n",
            " extracting: train/labels/syn_3808_jpg.rf.4fbbad756d9ac14b359188ba657316b4.txt  \n",
            " extracting: train/labels/syn_3808_jpg.rf.88631e1091d1ba2e501db42fb1eefefb.txt  \n",
            " extracting: train/labels/syn_3808_jpg.rf.dc0eff603fb5b707c5963d03acbffc08.txt  \n",
            "  inflating: train/labels/syn_3821_jpg.rf.0a7a6534ceaa4020def2abc25a42fa7a.txt  \n",
            "  inflating: train/labels/syn_3821_jpg.rf.1db0fe905e98e2018894147e5666d2a6.txt  \n",
            "  inflating: train/labels/syn_3821_jpg.rf.592540f9f0746164deac077ab3b3af3f.txt  \n",
            " extracting: train/labels/syn_3848_jpg.rf.4010c1c69bc515258965904f5b7dbc30.txt  \n",
            " extracting: train/labels/syn_3848_jpg.rf.b2897d84cc9ce1826357fe61ab88858f.txt  \n",
            " extracting: train/labels/syn_3848_jpg.rf.b4ee96707d5db71ef9ed15d2846def90.txt  \n",
            "  inflating: train/labels/syn_3872_jpg.rf.82b9ee209ab6e66a9ab27845328a24a1.txt  \n",
            "  inflating: train/labels/syn_3872_jpg.rf.9ecd810e240981a675e086a9d55bb45f.txt  \n",
            "  inflating: train/labels/syn_3872_jpg.rf.b84c91ada5952e7b3a68a6d3cab093f2.txt  \n",
            "  inflating: train/labels/syn_3878_jpg.rf.2da938b590ca2cd05a72e3c8ffd3cda2.txt  \n",
            "  inflating: train/labels/syn_3878_jpg.rf.d2103b4db8c87f0c10ef962c34c5a264.txt  \n",
            "  inflating: train/labels/syn_3878_jpg.rf.e458fdf25e822a2aca8977d45ad6dea5.txt  \n",
            "  inflating: train/labels/syn_3885_jpg.rf.2be71070f8f5b6d0285a4fb1310d45a8.txt  \n",
            "  inflating: train/labels/syn_3885_jpg.rf.8d0364d746b9813ae5a60678df03079d.txt  \n",
            "  inflating: train/labels/syn_3885_jpg.rf.c825d5d961e83044ccf8b3fd3d659167.txt  \n",
            "  inflating: train/labels/syn_3899_jpg.rf.076916547085187e7696d7269298e9d8.txt  \n",
            "  inflating: train/labels/syn_3899_jpg.rf.2c15ab5a6f176ce73e272f43a02471b1.txt  \n",
            "  inflating: train/labels/syn_3899_jpg.rf.c48e7bd55db36fc38346d2c2c51520e3.txt  \n",
            "  inflating: train/labels/syn_3911_jpg.rf.4b2c0f1adeb0b86e4d67b9b984db1eea.txt  \n",
            "  inflating: train/labels/syn_3911_jpg.rf.85a344d6a84e9bed4c4ccff99120f6bb.txt  \n",
            "  inflating: train/labels/syn_3911_jpg.rf.ae8e5b3f5eed7604e291e5587909da1f.txt  \n",
            " extracting: train/labels/syn_3915_jpg.rf.997b34ea6c73c94f594e9a032e1ce718.txt  \n",
            " extracting: train/labels/syn_3915_jpg.rf.9f88a22df18162217cdb94b2ae849dc1.txt  \n",
            " extracting: train/labels/syn_3915_jpg.rf.a793c9f7fcad5a83d49a465cfebae670.txt  \n",
            "  inflating: train/labels/syn_3916_jpg.rf.0d09ef7b0507c4208ea43a0dadc1f284.txt  \n",
            "  inflating: train/labels/syn_3916_jpg.rf.86bf6aebd4e2e34ca6308c7e5e6d9841.txt  \n",
            "  inflating: train/labels/syn_3916_jpg.rf.9c90d282401726eabfde42d8bc9fe2e6.txt  \n",
            "  inflating: train/labels/syn_3932_jpg.rf.6809b8f4dda29852af1dbbedf585cf1d.txt  \n",
            "  inflating: train/labels/syn_3932_jpg.rf.946c28f70bf1522cdcc3ae6edc1fb068.txt  \n",
            "  inflating: train/labels/syn_3932_jpg.rf.ae0d7f1faaa652f8438bd6f4274f566a.txt  \n",
            "  inflating: train/labels/syn_3939_jpg.rf.17650bc23191e110745dff4d3a0ca04e.txt  \n",
            "  inflating: train/labels/syn_3939_jpg.rf.3d9237734c353d337a41d19e8fc986dc.txt  \n",
            "  inflating: train/labels/syn_3939_jpg.rf.c1d83b5c7cc799af2434c9430c93093f.txt  \n",
            "  inflating: train/labels/syn_397_jpg.rf.00a1e1101a69c78fc193dc2a8e9e823d.txt  \n",
            "  inflating: train/labels/syn_397_jpg.rf.44eb2f3f879fadc7243fb07653ebaa3e.txt  \n",
            "  inflating: train/labels/syn_397_jpg.rf.723788533011e5824e0b0c2974fbfb5f.txt  \n",
            "  inflating: train/labels/syn_4010_jpg.rf.30c30c2b4b41077713bd953d32c93409.txt  \n",
            "  inflating: train/labels/syn_4010_jpg.rf.8e0a75cc08e2deac95637ecc705125d1.txt  \n",
            "  inflating: train/labels/syn_4010_jpg.rf.b0f655f011182891727c726c86598248.txt  \n",
            "  inflating: train/labels/syn_4021_jpg.rf.9c66a7e06cf2af316567a3e12a5faffa.txt  \n",
            "  inflating: train/labels/syn_4021_jpg.rf.a09fa5f6ae91339e823d43d32c6ad311.txt  \n",
            "  inflating: train/labels/syn_4021_jpg.rf.bd6a8cafc2e644867fbd05cb47e1262f.txt  \n",
            "  inflating: train/labels/syn_4027_jpg.rf.3eaa404464fc15dba502720c785bd987.txt  \n",
            "  inflating: train/labels/syn_4027_jpg.rf.cabf8c076999829840e40ec4b62e6b2a.txt  \n",
            "  inflating: train/labels/syn_4027_jpg.rf.d9dfa5a0926cd2a53f856707ac096cad.txt  \n",
            " extracting: train/labels/syn_4045_jpg.rf.4ec7d46120cf4cb34ed5f8b059f88e71.txt  \n",
            " extracting: train/labels/syn_4045_jpg.rf.a4504d9ce3ca6fead7843449c1cebcd6.txt  \n",
            " extracting: train/labels/syn_4045_jpg.rf.bf8102c8bfa42122da781b1e54ec2186.txt  \n",
            "  inflating: train/labels/syn_4060_jpg.rf.37776be9102333558978ff70c438b061.txt  \n",
            "  inflating: train/labels/syn_4060_jpg.rf.4be4ed44b2c0f884bfe238332e3710d6.txt  \n",
            "  inflating: train/labels/syn_4060_jpg.rf.b9c4737345da77692eebda63446f0cc1.txt  \n",
            "  inflating: train/labels/syn_4062_jpg.rf.21260ee0f45d065cc95e3b73aede4064.txt  \n",
            "  inflating: train/labels/syn_4062_jpg.rf.52b9344a277203d3dbd8e768b697a7c0.txt  \n",
            "  inflating: train/labels/syn_4062_jpg.rf.dfbdc42326cbc9f6b6cc2baca7bf371e.txt  \n",
            " extracting: train/labels/syn_4077_jpg.rf.7bbe0be747660eacd971d0f47204c3c9.txt  \n",
            " extracting: train/labels/syn_4077_jpg.rf.8803834e23b1ac1aa38f49cc7845607d.txt  \n",
            " extracting: train/labels/syn_4077_jpg.rf.d77ddbd7fdadb2f8636ff9a93d9a5c48.txt  \n",
            "  inflating: train/labels/syn_4088_jpg.rf.73f5201be3a1dcbdee7d809580d34fed.txt  \n",
            "  inflating: train/labels/syn_4088_jpg.rf.815a330f4fd5cdb8be92f31e328aa1c5.txt  \n",
            "  inflating: train/labels/syn_4088_jpg.rf.a9b0a8956cd5cfca884657a693e40e94.txt  \n",
            "  inflating: train/labels/syn_408_jpg.rf.28b538315db02995f9ae9ce01ca54af1.txt  \n",
            "  inflating: train/labels/syn_408_jpg.rf.93afdc35f25da6d81e5b566417d16a81.txt  \n",
            "  inflating: train/labels/syn_408_jpg.rf.b86d4b73bb1f3af69dae3fc25dc644d3.txt  \n",
            "  inflating: train/labels/syn_4115_jpg.rf.86a54c08ae08c5695892143a73712784.txt  \n",
            "  inflating: train/labels/syn_4115_jpg.rf.a1f51f744256cd61f459e26865c7732e.txt  \n",
            "  inflating: train/labels/syn_4115_jpg.rf.c13150b27fae87f8d510df4bc2245910.txt  \n",
            "  inflating: train/labels/syn_4138_jpg.rf.1fae623be9f10aeef14eae0ce1eaf72e.txt  \n",
            "  inflating: train/labels/syn_4138_jpg.rf.a9cb2f5353fdec91a01a5252d13fc1ae.txt  \n",
            "  inflating: train/labels/syn_4138_jpg.rf.ed16d866bbfda6a848c1da2561473f37.txt  \n",
            "  inflating: train/labels/syn_413_jpg.rf.6e948d1493816127c81bfc43fc9c4405.txt  \n",
            "  inflating: train/labels/syn_413_jpg.rf.a6a8a3b52792f0bc84d4e40f8d385492.txt  \n",
            "  inflating: train/labels/syn_413_jpg.rf.d244f05932f55debaa9c49f9140ac8ef.txt  \n",
            "  inflating: train/labels/syn_4141_jpg.rf.2eeb8d8cf93df0d06690b2d0b8170be7.txt  \n",
            "  inflating: train/labels/syn_4141_jpg.rf.6e7ba43ca7b39d11ab538e0ab6d4a2f9.txt  \n",
            "  inflating: train/labels/syn_4141_jpg.rf.a192b913b61950c4b62dce75caed3d85.txt  \n",
            "  inflating: train/labels/syn_4149_jpg.rf.2eaba70fbc36875d7f95e8a504cf14d0.txt  \n",
            "  inflating: train/labels/syn_4149_jpg.rf.4e821faf8c1351b4d2dbe649573021eb.txt  \n",
            "  inflating: train/labels/syn_4149_jpg.rf.5e8843521214795d207e7cba6cc70c85.txt  \n",
            "  inflating: train/labels/syn_4156_jpg.rf.10843353facef8e2855972cefba645c5.txt  \n",
            "  inflating: train/labels/syn_4156_jpg.rf.2819f84d955a0a501bcf36cdfa9fec6b.txt  \n",
            "  inflating: train/labels/syn_4156_jpg.rf.a37a2883fb6ca204dff0e98e90f6f79d.txt  \n",
            "  inflating: train/labels/syn_4159_jpg.rf.79846ab2cce0a7d185f6a1b9ad190e62.txt  \n",
            "  inflating: train/labels/syn_4159_jpg.rf.ec75287ddc96632380152bc4371843ac.txt  \n",
            "  inflating: train/labels/syn_4159_jpg.rf.f26ab0099d4c411c0fecaef805ca98ec.txt  \n",
            "  inflating: train/labels/syn_4167_jpg.rf.0c102c7265a2d1faee9508b4e6189941.txt  \n",
            "  inflating: train/labels/syn_4167_jpg.rf.1fbf3ab4372001a66ba05c1c73a0c02f.txt  \n",
            "  inflating: train/labels/syn_4167_jpg.rf.45f3a97f3a140057b72ac30c76a5d1d6.txt  \n",
            "  inflating: train/labels/syn_4214_jpg.rf.36492ef3a467d01741514f95fe26d758.txt  \n",
            "  inflating: train/labels/syn_4214_jpg.rf.eb6718cc471a683ddf19ae45f3028134.txt  \n",
            "  inflating: train/labels/syn_4214_jpg.rf.f7eeaaf029ea37d37a00c610acbed41d.txt  \n",
            "  inflating: train/labels/syn_4249_jpg.rf.3fe88eb4deb9228191aacc8f5783ef0d.txt  \n",
            "  inflating: train/labels/syn_4249_jpg.rf.65838e7ae4ebc623130463faa0bfcfdd.txt  \n",
            "  inflating: train/labels/syn_4249_jpg.rf.9e407fdd5b3fe557fed35cf3d6122a71.txt  \n",
            "  inflating: train/labels/syn_4253_jpg.rf.40a294b136dd3ae9ad1e9dc227a0c04f.txt  \n",
            "  inflating: train/labels/syn_4253_jpg.rf.8ef56df8cfb1a2680d0126ac4356a179.txt  \n",
            "  inflating: train/labels/syn_4253_jpg.rf.9a09bf38970a53f9106c592f906e4a02.txt  \n",
            "  inflating: train/labels/syn_4273_jpg.rf.59d1e477ad0b13c71fa2fd594de24bd9.txt  \n",
            "  inflating: train/labels/syn_4273_jpg.rf.a70592082f7d9f30e81c473d37940ceb.txt  \n",
            "  inflating: train/labels/syn_4273_jpg.rf.cbf486de3ddbb0d0abd44f8642095343.txt  \n",
            "  inflating: train/labels/syn_4288_jpg.rf.26f3858c4d0d9bfc53e556857aded445.txt  \n",
            "  inflating: train/labels/syn_4288_jpg.rf.58f7166a0345496f10975c6d9550d99a.txt  \n",
            "  inflating: train/labels/syn_4288_jpg.rf.9825ce5f10cd163c1b3ac29331203318.txt  \n",
            " extracting: train/labels/syn_4291_jpg.rf.31d12a1c31176708c7fa529c534d155a.txt  \n",
            " extracting: train/labels/syn_4291_jpg.rf.72c1c7cacbcb965601c876bdf52151d3.txt  \n",
            " extracting: train/labels/syn_4291_jpg.rf.d0371d2a4308ac6c7c24323f6820da11.txt  \n",
            "  inflating: train/labels/syn_4305_jpg.rf.4918129caa7b7c6cf2de9b678674a24c.txt  \n",
            "  inflating: train/labels/syn_4305_jpg.rf.530d2fc81dd9892f349742ef3047c04b.txt  \n",
            "  inflating: train/labels/syn_4305_jpg.rf.802dcc9334de828ac3b87f43d714d525.txt  \n",
            "  inflating: train/labels/syn_430_jpg.rf.151c566224e61e0ea1e460771f9a9d01.txt  \n",
            "  inflating: train/labels/syn_430_jpg.rf.d39e86ae6c87152e7bec90fb7b3abc19.txt  \n",
            "  inflating: train/labels/syn_430_jpg.rf.e8219212db3be8bf194bc72625dd201f.txt  \n",
            "  inflating: train/labels/syn_432_jpg.rf.586d48514cd4114bae664c014044e352.txt  \n",
            "  inflating: train/labels/syn_432_jpg.rf.77a9a030408b706991ce83633f6513e9.txt  \n",
            "  inflating: train/labels/syn_432_jpg.rf.d377a68ed44feb3bfb066528760d85de.txt  \n",
            "  inflating: train/labels/syn_4334_jpg.rf.2584ce5a12db0ab45aeeaba9f1516ea7.txt  \n",
            "  inflating: train/labels/syn_4334_jpg.rf.315f829239e0865a357cac00e24ffe63.txt  \n",
            "  inflating: train/labels/syn_4334_jpg.rf.64026fd7cad367bce6e62810a941d3a4.txt  \n",
            "  inflating: train/labels/syn_4346_jpg.rf.2444ee63f9108f9e0a31b323a15a01af.txt  \n",
            "  inflating: train/labels/syn_4346_jpg.rf.5c9e51312217b44652af0abd0a09c5aa.txt  \n",
            "  inflating: train/labels/syn_4346_jpg.rf.b9d422a56aa1f5bffefda5ed9d7403c4.txt  \n",
            " extracting: train/labels/syn_4375_jpg.rf.7923b7f4431008101367ebd526abea3b.txt  \n",
            " extracting: train/labels/syn_4375_jpg.rf.7d197e8d26a30a503f9cbbdbd58bc88e.txt  \n",
            " extracting: train/labels/syn_4375_jpg.rf.a236ab6639d0140b96c79ea243c9e915.txt  \n",
            "  inflating: train/labels/syn_4381_jpg.rf.1c2256841c2bb2808f5f1b2e6fbc52b7.txt  \n",
            "  inflating: train/labels/syn_4381_jpg.rf.7c9f5f2f11bb72ad2ea5909697b099c7.txt  \n",
            "  inflating: train/labels/syn_4381_jpg.rf.ca5b5954a7f768ae6b66083768c72806.txt  \n",
            "  inflating: train/labels/syn_4409_jpg.rf.664d8c601ce6b52cafade010cf902440.txt  \n",
            "  inflating: train/labels/syn_4409_jpg.rf.e9474a2fb32a8c541572119f886f0d73.txt  \n",
            "  inflating: train/labels/syn_4409_jpg.rf.f42b00f3cf2e9979a0a6fc1057fa29c0.txt  \n",
            "  inflating: train/labels/syn_4416_jpg.rf.d93b85193a404459fc895a80ec52b0b9.txt  \n",
            "  inflating: train/labels/syn_4416_jpg.rf.db411982f8d73816f2916ff597eb5bb0.txt  \n",
            "  inflating: train/labels/syn_4416_jpg.rf.f6f4d448de2c61d5cf9ab67a27ed5e3d.txt  \n",
            "  inflating: train/labels/syn_4421_jpg.rf.34587bb6cb4525cb36b61b8554e46ccf.txt  \n",
            "  inflating: train/labels/syn_4421_jpg.rf.d6ae98ad8aa9a246b530e54dcf481bae.txt  \n",
            "  inflating: train/labels/syn_4421_jpg.rf.eea751c5242cc257cc86b9fbd2ba1a25.txt  \n",
            "  inflating: train/labels/syn_4424_jpg.rf.40c869d40e1e9008613fff5077771b71.txt  \n",
            "  inflating: train/labels/syn_4424_jpg.rf.96d896c20521f3fc424d5c6c41f6047f.txt  \n",
            "  inflating: train/labels/syn_4424_jpg.rf.9e56e4a014c2cbb823584e9bc5e7775d.txt  \n",
            " extracting: train/labels/syn_4435_jpg.rf.123b13f0d97bc70497673af5eb494998.txt  \n",
            " extracting: train/labels/syn_4435_jpg.rf.5e7f08361bdb649288d722d370c71351.txt  \n",
            " extracting: train/labels/syn_4435_jpg.rf.9fdc96ec2b0ceaa106e6f66d704bb339.txt  \n",
            "  inflating: train/labels/syn_4461_jpg.rf.43ea024028629e442857bb4d5dc80128.txt  \n",
            "  inflating: train/labels/syn_4461_jpg.rf.790acb30665dd3a02cb333ef8950a151.txt  \n",
            "  inflating: train/labels/syn_4461_jpg.rf.be804058cd3b215e1648cdfabb462073.txt  \n",
            "  inflating: train/labels/syn_4487_jpg.rf.10a4416fbf219db407e57aed0aa0985f.txt  \n",
            "  inflating: train/labels/syn_4487_jpg.rf.2faa2e48902d6d254a3df08284e116e8.txt  \n",
            "  inflating: train/labels/syn_4487_jpg.rf.fe976df7ef3586333bc4f0ce906132f6.txt  \n",
            "  inflating: train/labels/syn_4495_jpg.rf.35b1429c3edbe3753ba2279e876783a8.txt  \n",
            "  inflating: train/labels/syn_4495_jpg.rf.650770be288c9b27763f989e725fa745.txt  \n",
            "  inflating: train/labels/syn_4495_jpg.rf.8b2d49d60b691a0ae07ae20529707d35.txt  \n",
            "  inflating: train/labels/syn_4499_jpg.rf.935c290a4d8266bf380bd720e41167cf.txt  \n",
            "  inflating: train/labels/syn_4499_jpg.rf.9591c6937dc49730dc10e20392116f66.txt  \n",
            "  inflating: train/labels/syn_4499_jpg.rf.b8b1f3282acae0405d3bad6556b79db7.txt  \n",
            "  inflating: train/labels/syn_44_jpg.rf.0d5e99ba37b65b1bbfae6c4f00e59368.txt  \n",
            "  inflating: train/labels/syn_44_jpg.rf.86ac3c69a1d4027ff38001974a7ee7cc.txt  \n",
            "  inflating: train/labels/syn_44_jpg.rf.88c2bcddb0fe3e147e10731af3b4105a.txt  \n",
            "  inflating: train/labels/syn_4544_jpg.rf.9cb0fd31602b2ac78fa2dc8feb721cfc.txt  \n",
            "  inflating: train/labels/syn_4544_jpg.rf.ac78b76d9fe784012413722325cc7db6.txt  \n",
            "  inflating: train/labels/syn_4544_jpg.rf.c9c6aac2a1a0c63855902e9b2318e378.txt  \n",
            "  inflating: train/labels/syn_4563_jpg.rf.0e81a2fbb18b573fff8cd829e74850bc.txt  \n",
            "  inflating: train/labels/syn_4563_jpg.rf.6724a248614b7f0ac4d3c999bd658a40.txt  \n",
            "  inflating: train/labels/syn_4563_jpg.rf.f2c2da85e05fea59ecf3cc1a8ad87455.txt  \n",
            "  inflating: train/labels/syn_4593_jpg.rf.11a722b36635cca62dd4310e6201f935.txt  \n",
            "  inflating: train/labels/syn_4593_jpg.rf.54088f2844cf76b1fd9c07f9e10b2f1a.txt  \n",
            "  inflating: train/labels/syn_4593_jpg.rf.e3e4575003872147db965a8ea16ed3f4.txt  \n",
            "  inflating: train/labels/syn_4646_jpg.rf.06545c2de00abda0899d9a29e40181d9.txt  \n",
            "  inflating: train/labels/syn_4646_jpg.rf.7b6907236a3c5f28d3764eb805ada59a.txt  \n",
            "  inflating: train/labels/syn_4646_jpg.rf.a82532f49f853fc1550a46bc42edda18.txt  \n",
            "  inflating: train/labels/syn_4764_jpg.rf.0048c4c59259806fa207eed8d34c1fc8.txt  \n",
            "  inflating: train/labels/syn_4764_jpg.rf.448ebe1ecadda97a0da9290a97c61518.txt  \n",
            "  inflating: train/labels/syn_4764_jpg.rf.cf0d6d0a5a492e29e93c7795a8ea9dcc.txt  \n",
            "  inflating: train/labels/syn_4893_jpg.rf.82d674e2f9e28b2404ea090a56c85b4a.txt  \n",
            "  inflating: train/labels/syn_4893_jpg.rf.c08730702d35939340caf239556aac3b.txt  \n",
            "  inflating: train/labels/syn_4893_jpg.rf.ec98227f0417b00061a58f1ef6ec96f7.txt  \n",
            "  inflating: train/labels/syn_4910_jpg.rf.7b5cd21dfab4aa2f9fd7a268a8653db5.txt  \n",
            "  inflating: train/labels/syn_4910_jpg.rf.c4b6187e408b1c74941f779e4049fa1f.txt  \n",
            "  inflating: train/labels/syn_4910_jpg.rf.f75356cbae0d7be5e8415bc652222cc4.txt  \n",
            "  inflating: train/labels/syn_4935_jpg.rf.6850168e9f677f97b27c11006de78a4f.txt  \n",
            "  inflating: train/labels/syn_4935_jpg.rf.e4e12486714271cf98509ed191defcab.txt  \n",
            "  inflating: train/labels/syn_4935_jpg.rf.fde9ccec0590fa51367cc3e0df6052c9.txt  \n",
            "  inflating: train/labels/syn_521_jpg.rf.528c9b2f58c232bd789ec001d1265b1c.txt  \n",
            "  inflating: train/labels/syn_521_jpg.rf.70ae6a4c3e8e40d744dda8cb536bf50a.txt  \n",
            "  inflating: train/labels/syn_521_jpg.rf.c9692d408ce2ef1054fd81d048b18cba.txt  \n",
            "  inflating: train/labels/syn_59_jpg.rf.95f71bf0e52af8afb62ee3c85d0d4a46.txt  \n",
            "  inflating: train/labels/syn_59_jpg.rf.d55361effca9d2247810c03af6c15acd.txt  \n",
            "  inflating: train/labels/syn_59_jpg.rf.f6a8185b27ea23358ec2b1ddfcab3696.txt  \n",
            " extracting: train/labels/syn_739_jpg.rf.a4e88bed99400197bfdb9d57703d24f7.txt  \n",
            " extracting: train/labels/syn_739_jpg.rf.af2b37f6abeb5fb6f7b6552c70e72355.txt  \n",
            " extracting: train/labels/syn_739_jpg.rf.fa88fa62128d3c31e2f4f308753703d5.txt  \n",
            "  inflating: train/labels/syn_766_jpg.rf.42c3d4bd04cd0158e0bf872444b4de52.txt  \n",
            "  inflating: train/labels/syn_766_jpg.rf.ad8161bc9735119a4169cf01ae800f5c.txt  \n",
            "  inflating: train/labels/syn_766_jpg.rf.bf55c5666d334be4db87d3192c7ba4cb.txt  \n",
            "  inflating: train/labels/syn_768_jpg.rf.42eb378d45598404a45ce207e40efafc.txt  \n",
            "  inflating: train/labels/syn_768_jpg.rf.c02d411aea9643781c4a9f221844d6ef.txt  \n",
            "  inflating: train/labels/syn_768_jpg.rf.cd443672e395a772b0f2d00d4a2b24c8.txt  \n",
            "  inflating: train/labels/t-n-7037-number-digit-09-cards-_ver_1_jpg.rf.3eeb0a4fa81b5597f70111006b5fd4b8.txt  \n",
            "  inflating: train/labels/t-n-7037-number-digit-09-cards-_ver_1_jpg.rf.66aff2b036127843cf10d2934880ffd6.txt  \n",
            "  inflating: train/labels/t-n-7037-number-digit-09-cards-_ver_1_jpg.rf.c91daa7036facc8e723cdcd8687288e2.txt  \n",
            "   creating: valid/\n",
            "   creating: valid/images/\n",
            " extracting: valid/images/01025_plate_1_png.rf.3a37c79e045db80bc9085a4cdceb5969.jpg  \n",
            " extracting: valid/images/01052_plate_1_png.rf.86472786b5d1989dfb55a7b37969ba60.jpg  \n",
            " extracting: valid/images/01072_plate_1_png.rf.ae8847cc02fab9f9606927ac36317495.jpg  \n",
            " extracting: valid/images/01082_plate_1_png.rf.0f0d87c7dc50b03f27f179a0b6f33c8c.jpg  \n",
            " extracting: valid/images/0108_plate_1_png.rf.bc34162044e5e90a6e141f55f842f869.jpg  \n",
            " extracting: valid/images/01097_plate_1_png.rf.444d8b9a0615ffb96b0e5f270a55404c.jpg  \n",
            " extracting: valid/images/01104_plate_1_png.rf.33de3503d3861c4eed29e099da0e31bd.jpg  \n",
            " extracting: valid/images/01105_plate_1_png.rf.218ed18d5dd03c21436c2b7058ed6178.jpg  \n",
            " extracting: valid/images/01121_plate_1_png.rf.0c589d4b508d26002940bda0f63ec44f.jpg  \n",
            " extracting: valid/images/01144_plate_1_png.rf.2d2095a97c3bd285669666287a907f8c.jpg  \n",
            " extracting: valid/images/01146_plate_1_png.rf.16fde5e00399349b48109caf74ae534b.jpg  \n",
            " extracting: valid/images/01158_plate_1_png.rf.c5a4c96ba4a939cd05c275f33ba0c318.jpg  \n",
            " extracting: valid/images/01162_plate_1_png.rf.cc2ca5ebd2d7b5efd331d204b48e2daf.jpg  \n",
            " extracting: valid/images/01172_plate_1_png.rf.ae75b601aed016975b82e12d64f9ff87.jpg  \n",
            " extracting: valid/images/01193_plate_1_png.rf.6f0995a7d1e347950adbe0289c4041e2.jpg  \n",
            " extracting: valid/images/01199_plate_1_png.rf.a7c51bebda9398be16669afee67fd650.jpg  \n",
            " extracting: valid/images/0121_plate_1_png.rf.b208d4eb7d8e18963286fe0514277b8a.jpg  \n",
            " extracting: valid/images/012_plate_1_png.rf.804ec8f3752753c2847e2013f9089fc9.jpg  \n",
            " extracting: valid/images/0144_plate_1_png.rf.f029fe29d8d5a9d6ed7d1b1628de9052.jpg  \n",
            " extracting: valid/images/0151_plate_1_png.rf.ca21bc0c249007c8a4fd6c63853696b9.jpg  \n",
            " extracting: valid/images/0159_plate_1_png.rf.174181298e70fdcab926c8539671d1ca.jpg  \n",
            " extracting: valid/images/0163_plate_1_png.rf.223ee7ac95232824769bc035ef17f556.jpg  \n",
            " extracting: valid/images/0191_plate_1_png.rf.0822fc885353146edd7ecdc82c658bc2.jpg  \n",
            " extracting: valid/images/0199_plate_1_png.rf.c8e611c1b8e1fd9031e23e943f8ad92e.jpg  \n",
            " extracting: valid/images/0200_plate_1_png.rf.5d2654778d47e0d2d17e23172da127b9.jpg  \n",
            " extracting: valid/images/0201_plate_1_png.rf.183d407fa2be349d935128cc510f2571.jpg  \n",
            " extracting: valid/images/0209_plate_1_png.rf.dd36e438ec22731e797f128243cf9576.jpg  \n",
            " extracting: valid/images/020_plate_1_png.rf.ff3bd8fb318ad6bfade6a76dec308d1a.jpg  \n",
            " extracting: valid/images/0221_plate_1_png.rf.4df2ab7d0b17260489ed8cbd6339d768.jpg  \n",
            " extracting: valid/images/0225_plate_1_png.rf.4abaa73b3c200b885ec66821039c4759.jpg  \n",
            " extracting: valid/images/0244_plate_1_png.rf.4ce43d8cc4b8684a8d6436fc002afd72.jpg  \n",
            " extracting: valid/images/0252_plate_1_png.rf.77d1b423d8019e0acab4f3ad97f03d88.jpg  \n",
            " extracting: valid/images/0260_plate_1_png.rf.0eaf0e358255c3d268e6878ebc7817dc.jpg  \n",
            " extracting: valid/images/0266_plate_1_png.rf.ddfaaf0801ec367aef374143c01d5393.jpg  \n",
            " extracting: valid/images/0288_plate_1_png.rf.a6956380f321bc187da7a77757b982f0.jpg  \n",
            " extracting: valid/images/0290_plate_1_png.rf.404f9646e1baeb6c9d33ea4b12e33462.jpg  \n",
            " extracting: valid/images/0295_plate_1_png.rf.07797453c8146e41f1ed558791692a51.jpg  \n",
            " extracting: valid/images/0298_plate_1_png.rf.a0b4fd9cfcc02392963e6dc0d23c1be1.jpg  \n",
            " extracting: valid/images/0306_plate_1_png.rf.39186cc2f61325b2586765e2c3f156aa.jpg  \n",
            " extracting: valid/images/0313_plate_1_png.rf.4a8e7a0f086f01313831c84e063197b2.jpg  \n",
            " extracting: valid/images/0321_plate_1_png.rf.797961313d3124a9c8ea0c6ba46c0513.jpg  \n",
            " extracting: valid/images/0327_plate_1_png.rf.3301212f84bc9acececce974fcb5a357.jpg  \n",
            " extracting: valid/images/0333_plate_1_png.rf.99c0f768ba5dc19e5776f9b199903af7.jpg  \n",
            " extracting: valid/images/0334_plate_1_png.rf.1c3af5d4db472acabf8a3f255d1f01f1.jpg  \n",
            " extracting: valid/images/0344_plate_1_png.rf.fe29382803256a423ed61a3fb8735590.jpg  \n",
            " extracting: valid/images/0347_plate_1_png.rf.c3d6563c2f73ad54221122668efa61da.jpg  \n",
            " extracting: valid/images/0355_plate_1_png.rf.aab5d35cefd5f458fb066e614a14c10b.jpg  \n",
            " extracting: valid/images/0378_plate_1_png.rf.fd616e0e6028fd74766f3dd6207b89ea.jpg  \n",
            " extracting: valid/images/0379_plate_1_png.rf.e3d878f4cf2c4c3385978b01d61f4455.jpg  \n",
            " extracting: valid/images/0383_plate_1_png.rf.b04eb5cf6bbbf8a1a52b4258e7522186.jpg  \n",
            " extracting: valid/images/0430_plate_1_png.rf.066a519663dd9f8b775ee3c983d473c6.jpg  \n",
            " extracting: valid/images/0453_plate_1_png.rf.4323297969fd3e3c66be275bf9dd2564.jpg  \n",
            " extracting: valid/images/0468_plate_1_png.rf.d51acb57ffe726f91e6588a6cb07994d.jpg  \n",
            " extracting: valid/images/047_plate_1_png.rf.43e4e6e48fc89ac4cbde11dbdb3dbff4.jpg  \n",
            " extracting: valid/images/0489_plate_1_png.rf.046398416102e813963f6d18dbf3b435.jpg  \n",
            " extracting: valid/images/0503_plate_1_png.rf.9e5c60f86a5f0c48ed60e9d584255cb5.jpg  \n",
            " extracting: valid/images/0507_plate_1_png.rf.97a91298f0445e4f20863a87858c1d1f.jpg  \n",
            " extracting: valid/images/0511_plate_1_png.rf.6eaebd1f48b885a67d0b3e214a46b7ce.jpg  \n",
            " extracting: valid/images/0524_plate_1_png.rf.95b2705a17aa07096091125af88a0604.jpg  \n",
            " extracting: valid/images/052_plate_1_png.rf.98ab03a9e4b13c9fe8f27221f643afa0.jpg  \n",
            " extracting: valid/images/0546_plate_1_png.rf.12bce7c54eab554772becff3f0002114.jpg  \n",
            " extracting: valid/images/0554_plate_1_png.rf.08121c0cd441d8abc6b03ee46174e09e.jpg  \n",
            " extracting: valid/images/0558_plate_1_png.rf.8fd9ea61066f815f4ca6bbcc8d5961c1.jpg  \n",
            " extracting: valid/images/0560_plate_1_png.rf.1572a5aad10494970722f139dc518889.jpg  \n",
            " extracting: valid/images/0562_plate_1_png.rf.609c0820dc8535a62a9f42f5ffd2f262.jpg  \n",
            " extracting: valid/images/0573_plate_1_png.rf.8953875c03f6167ad031f934b6bd2ba7.jpg  \n",
            " extracting: valid/images/0576_plate_1_png.rf.57219005559ceb074efdeb65b140c4a7.jpg  \n",
            " extracting: valid/images/0590_plate_1_png.rf.067c659710a3ffaeafd3cf99022721ef.jpg  \n",
            " extracting: valid/images/0605_plate_1_png.rf.85279f13ef898fc38d9d44b8b67f8338.jpg  \n",
            " extracting: valid/images/0612_plate_1_png.rf.058c5729e29f31ca7a109dc68883d780.jpg  \n",
            " extracting: valid/images/061_plate_1_png.rf.f288450e67ec0c371cadd1b9f06653fe.jpg  \n",
            " extracting: valid/images/0626_plate_1_png.rf.147529bb21f249064eeb62f989279b41.jpg  \n",
            " extracting: valid/images/062_plate_1_png.rf.843781cec1030db55c22081fa044ad9f.jpg  \n",
            " extracting: valid/images/0651_plate_1_png.rf.bcd0f00c62a88a6036ef3f62a9c804a9.jpg  \n",
            " extracting: valid/images/0661_plate_1_png.rf.ab3e03b457698137b26dce77f9c49679.jpg  \n",
            " extracting: valid/images/0670_plate_1_png.rf.7161c3e78bc98c751618b0a325729ab0.jpg  \n",
            " extracting: valid/images/0686_plate_1_png.rf.0ce77b0cbaf1416d9bf4d43358b12aea.jpg  \n",
            " extracting: valid/images/0687_plate_1_png.rf.007e44bd55bdcded51b7d920fc3809c9.jpg  \n",
            " extracting: valid/images/0700_plate_1_png.rf.aec516bdab3e61fc07155a0c0b054579.jpg  \n",
            " extracting: valid/images/0709_plate_1_png.rf.6f75af7887adb90d918602e9db8a95e4.jpg  \n",
            " extracting: valid/images/0716_plate_1_png.rf.97bbf2aec5f9a99d6a309a67c0cb2898.jpg  \n",
            " extracting: valid/images/0723_plate_1_png.rf.b7da378d15b3a56f90dcdf5c87d0ac39.jpg  \n",
            " extracting: valid/images/0726_plate_1_png.rf.c770d75418284e5b5edba6e017edd947.jpg  \n",
            " extracting: valid/images/0729_plate_1_png.rf.f7d5bb5f39d8ab473360fd09cc6380c2.jpg  \n",
            " extracting: valid/images/0767_plate_1_png.rf.3990ab4693a3c8a778b77ddc9fbfa432.jpg  \n",
            " extracting: valid/images/0788_plate_1_png.rf.3e8e281727f44bebf27364ab872bce88.jpg  \n",
            " extracting: valid/images/0792_plate_1_png.rf.122270b276bc88346bf7e6e5ad18022b.jpg  \n",
            " extracting: valid/images/0798_plate_1_png.rf.f7b6474c555d2d2564fa28318f25cf83.jpg  \n",
            " extracting: valid/images/0800_plate_1_png.rf.a7b12793f2c157845d992418cd5565d7.jpg  \n",
            " extracting: valid/images/0813_plate_1_png.rf.0b35d0bd59ea39d4a806b31631d70b52.jpg  \n",
            " extracting: valid/images/0822_plate_1_png.rf.0a2bc5a5b739f7050bb25b2679a892ee.jpg  \n",
            " extracting: valid/images/0824_plate_1_png.rf.f906619527d3206708b7769a3fd063de.jpg  \n",
            " extracting: valid/images/083_plate_1_png.rf.d662919795b05d757d1ddebd5c1f361e.jpg  \n",
            " extracting: valid/images/0861_plate_1_png.rf.b3e16420e52471d5a6ae4f35b5b729cb.jpg  \n",
            " extracting: valid/images/0875_plate_1_png.rf.aecc8cccdd980acf5c51bfa93dca8660.jpg  \n",
            " extracting: valid/images/0876_plate_1_png.rf.0296c4ab5c73a3ec029b85551cfc08ee.jpg  \n",
            " extracting: valid/images/0886_plate_1_png.rf.231fd890c8f61dca16ee95ad7e3d8471.jpg  \n",
            " extracting: valid/images/088_plate_1_png.rf.a178b216e86864a4a1b9566ca7ba29f0.jpg  \n",
            " extracting: valid/images/0890_plate_1_png.rf.4d6447ff2d8ad13a8a11efc5fccbdfa6.jpg  \n",
            " extracting: valid/images/0894_plate_1_png.rf.dc118ada2bc789fa4c39fb51074ad309.jpg  \n",
            " extracting: valid/images/08_plate_1_png.rf.a65227081f28ff5cd4b147a6a81d2bcf.jpg  \n",
            " extracting: valid/images/092_plate_1_png.rf.7f4b109b189b9337e916929c963073a5.jpg  \n",
            " extracting: valid/images/0931_plate_1_png.rf.b96f09e92ae154854e21b390e8beeff6.jpg  \n",
            " extracting: valid/images/0935_plate_1_png.rf.6ed5526a75b97e2637c2bde0b8acb3b5.jpg  \n",
            " extracting: valid/images/0938_plate_1_png.rf.33077766b3c0e8a8bb54a51a474d5330.jpg  \n",
            " extracting: valid/images/0948_plate_1_png.rf.09675f0cea2a8220cb321a696aaf2acf.jpg  \n",
            " extracting: valid/images/097_plate_1_png.rf.72bd4fca7f41bd066dacfb3204c47c93.jpg  \n",
            " extracting: valid/images/0990_plate_1_png.rf.0bde7d26d5895b9541efbb5d1785b60a.jpg  \n",
            " extracting: valid/images/0994_plate_1_png.rf.d4466c0e0cb865b093fd35cb558c2d7b.jpg  \n",
            " extracting: valid/images/0f33ec50063c55eaf9e20e6cdb73a61da2caaea9f5f20f295413b535d1511ff5-jpg_plate_1_png.rf.bb851701b26b03ca4dc54b0b6cfebbd9.jpg  \n",
            " extracting: valid/images/10_png.rf.ec50e98bc9b1e2b63f6f200f2d95f310.jpg  \n",
            " extracting: valid/images/1349_plate_1_png.rf.8cc046152846f7bba23293e1d0b80b17.jpg  \n",
            " extracting: valid/images/1356_plate_1_png.rf.5f987928a4c6d609be3bc30ef5a29b07.jpg  \n",
            " extracting: valid/images/1399_plate_1_png.rf.2703ac8de4f31c90900eb8aa07e47cf0.jpg  \n",
            " extracting: valid/images/1420_plate_1_png.rf.105f57ec8c453b6b9e6a7d2e87bfa7d4.jpg  \n",
            " extracting: valid/images/1448_plate_1_png.rf.7bd8fcff158a4ea9991ebf1f0557d454.jpg  \n",
            " extracting: valid/images/14621db8f82185bd3f30f3727911be9357f7d9999f26db9d6500e89148a81725-jpg_plate_1_png.rf.d9f14c345247fb1cbfaa6c22a455896b.jpg  \n",
            " extracting: valid/images/1464_plate_1_png.rf.bd2f487c73155eefeeb9a9d9651643d4.jpg  \n",
            " extracting: valid/images/1470_plate_1_png.rf.a8e26531f97110361aa8bfa8372a1c53.jpg  \n",
            " extracting: valid/images/1471_plate_1_png.rf.96b4497e67be96d8747ac6943cb250f9.jpg  \n",
            " extracting: valid/images/1496b4327e6f33bf4954abb2ce9bb4c8780e69d4da0290ebb43f74d90acd4e52-jpg_plate_1_png.rf.d4fdc7b7f5cc28fd5bfb3f8b1993c8d1.jpg  \n",
            " extracting: valid/images/1554_plate_1_png.rf.1d444ca57686fa6d4855d00e50c8313d.jpg  \n",
            " extracting: valid/images/1565_plate_1_png.rf.20e941c6b5514888a0497fb588071ed6.jpg  \n",
            " extracting: valid/images/1571_plate_1_png.rf.e32e4906023a04aeed1abe52ce7ebdf9.jpg  \n",
            " extracting: valid/images/1592_plate_1_png.rf.2cbc27a954877be57287a172ce0e7ff5.jpg  \n",
            " extracting: valid/images/1620_plate_1_png.rf.73e3a215e1e9d8a6573de8c8a7422b0f.jpg  \n",
            " extracting: valid/images/1670_plate_1_png.rf.6db6b5055a1bf6fadd659390baf247dd.jpg  \n",
            " extracting: valid/images/1679_plate_1_png.rf.70ce05cc7fe99409b346965f38c97311.jpg  \n",
            " extracting: valid/images/1687_plate_1_png.rf.c1a01641f784757757487e95643ab222.jpg  \n",
            " extracting: valid/images/1690_plate_1_png.rf.a2963f3e15545521a0099d3aecd77141.jpg  \n",
            " extracting: valid/images/1720_plate_1_png.rf.d8bc715d549bd30d576482d63146c289.jpg  \n",
            " extracting: valid/images/1725_plate_1_png.rf.75f9fc5e8e4d6ee94cadebec652ab7c4.jpg  \n",
            " extracting: valid/images/1730_plate_1_png.rf.e96081242480de496ab10247a06cb225.jpg  \n",
            " extracting: valid/images/1739_plate_1_png.rf.53e93f6e10cd0dbc9556b54db71120d3.jpg  \n",
            " extracting: valid/images/1750_plate_1_png.rf.d7436eb29b2162cd7e58eb98f129c804.jpg  \n",
            " extracting: valid/images/1797_plate_1_png.rf.58e7fe6c5d5b82a226723131a905e8b9.jpg  \n",
            " extracting: valid/images/1803_plate_1_png.rf.28b5f201fd68e311e4e39cacbf0abb3a.jpg  \n",
            " extracting: valid/images/1805_plate_1_png.rf.3530b2e7da31c9b137a1364afc363173.jpg  \n",
            " extracting: valid/images/1811_plate_1_png.rf.5f46002ac5f2303967bf7a826eb8c4af.jpg  \n",
            " extracting: valid/images/1813_plate_1_png.rf.cfa72d357c4d6b45653c79f03c23840a.jpg  \n",
            " extracting: valid/images/1825_plate_1_png.rf.5a07a83328cc9d8413712837673812fa.jpg  \n",
            " extracting: valid/images/1832_plate_1_png.rf.c423912c135c0d658bdc6393fd0f34fb.jpg  \n",
            " extracting: valid/images/1834_plate_1_png.rf.01e4afa60d1ee6b7be7cd91c26edc842.jpg  \n",
            " extracting: valid/images/1854_plate_1_png.rf.e790558355b3cda860e7233c387d50de.jpg  \n",
            " extracting: valid/images/1860_plate_1_png.rf.b975edc3c7d41e93f0a5e3a052cd40d8.jpg  \n",
            " extracting: valid/images/1890_plate_1_png.rf.8d13c068f387cde99ef5c1b0c599ebc9.jpg  \n",
            " extracting: valid/images/1921_plate_1_png.rf.e5d240b2076314bd09a8a59884c7b2d9.jpg  \n",
            " extracting: valid/images/1927_plate_1_png.rf.d52fecce9741216b24bb099374d1e996.jpg  \n",
            " extracting: valid/images/1980_plate_1_png.rf.3bef3b1df1f04f8e01ec60aa2c986f6d.jpg  \n",
            " extracting: valid/images/1992_plate_1_png.rf.a152007a007d8bd7107179489d0445f2.jpg  \n",
            " extracting: valid/images/1c5d3dd87e977791053e18c6a8ababd8262aff98e66627e4d29984091302ac3f-jpg_plate_1_png.rf.223326a48e4f93e9f0441a71bfab110f.jpg  \n",
            " extracting: valid/images/2017_plate_1_png.rf.cd162690affa806b1a77425e3b0719aa.jpg  \n",
            " extracting: valid/images/2043_plate_1_png.rf.898f4fccc29a6250433c28c7722a9ced.jpg  \n",
            " extracting: valid/images/2044_plate_1_png.rf.1dc9db43e01a327de3b8ef0d1c6f1a5b.jpg  \n",
            " extracting: valid/images/2080_plate_1_png.rf.3c115a28ce952f90ed7461b0328317fc.jpg  \n",
            " extracting: valid/images/2116_plate_1_png.rf.e66537868b027995e11ff73f6aef3b38.jpg  \n",
            " extracting: valid/images/2140_plate_1_png.rf.ef4f88e00de0f14e8db921d5b2ed8729.jpg  \n",
            " extracting: valid/images/2193_plate_1_png.rf.1be759a0ba5a5facccff7d2dec7ca229.jpg  \n",
            " extracting: valid/images/2206_plate_1_png.rf.95b8f444dc2bc365d1c059020e0c6dc5.jpg  \n",
            " extracting: valid/images/2213_plate_1_png.rf.2b8569d97a50bd882a1dad8356051335.jpg  \n",
            " extracting: valid/images/2220_plate_1_png.rf.f7024c28f54e6ce00c0f2c67f9225ddf.jpg  \n",
            " extracting: valid/images/2355_plate_1_png.rf.08e4e0a5ba5a24f5ebdafbe8ab8ae614.jpg  \n",
            " extracting: valid/images/2399_plate_1_png.rf.1377fbde524a0b67c24ac183448d077f.jpg  \n",
            " extracting: valid/images/2407_plate_1_png.rf.ae5ba7d4ca2fb48b73f0fdf90ecd6381.jpg  \n",
            " extracting: valid/images/267a841eef99887f629861d4bd86df6a4619522cbe428f558a82a96b44089d09-jpg_plate_1_png.rf.9b33fcc796dacd08f88c7bdc25a7a2b7.jpg  \n",
            " extracting: valid/images/3102afdd000aa9d68d04509d4f7acf7a9952860c63c1f680a22b0b0379851a11-jpg_plate_1_png.rf.81c58052cd3690acc55ad5d8dfae5754.jpg  \n",
            " extracting: valid/images/345c45e8998186b0713f2b5568a57c3abe405819f58a107940d975a500ecf72d-jpg_plate_1_png.rf.e625a0438305081049ebf59b7c3cc2ee.jpg  \n",
            " extracting: valid/images/3541f58a89b02b9bb74c047cad4463df8c04a3eaadf33e1fb572e13bc524c87d-jpg_plate_1_png.rf.5cc0f9c08532b10f0b2c770daa052782.jpg  \n",
            " extracting: valid/images/3bd8bb1fbeaec3086f90dda8b78c06cf44677321d3cf5883ea5155a2f96e8868-jpg_plate_1_png.rf.f56f99986ba13c1bf0bdbd6197f18ed7.jpg  \n",
            " extracting: valid/images/3d4685a6a2ce5ed812c383bd2abf506973d10160df5f2f5c08f7c10551a66733-jpg_plate_1_png.rf.e03772e77611e4b739cc5923052d7be3.jpg  \n",
            " extracting: valid/images/46_png.rf.41d80e6bf42ad082582074c3c9d03418.jpg  \n",
            " extracting: valid/images/4c4553f5f928eb9d931b3ce97bfc6fafcae1eb6e98e5235fd11669f3bead920f-jpg_plate_1_png.rf.de6fb0af4365753413d20c4f51dd2a49.jpg  \n",
            " extracting: valid/images/5694da44bc5a1e13f0cb3fde2ed80d5bf3f7021144f796de70c3355a0b829048-jpg_plate_1_png.rf.2ae77ef3bf02e94e1f90e5e3309b56bb.jpg  \n",
            " extracting: valid/images/658fa432205c076a963991a61710765cfbde369a132bc41fdc9fbe0ec0b515a7-jpg_plate_1_png.rf.b66670e58e410bebcfc6b52ef9b68c9f.jpg  \n",
            " extracting: valid/images/65c082ad81d8b1d82e329193760dfa83b9cfa63116c188614d21f3fe9af10540-jpg_plate_1_png.rf.d8ea2f5e1b4f58f32e0c1a420e4b98c2.jpg  \n",
            " extracting: valid/images/69c733b04d05956257d89f69dd7503e3193b8506f92b59f46340620882bdf03c-jpg_plate_1_png.rf.ff30c7d24ee4494bfdb48b4790913611.jpg  \n",
            " extracting: valid/images/6fcca2c76ec29c4ac71827bbd1cb21bef8071e3a46877b97d49f722391079d1d-jpg_plate_1_png.rf.a2b0b2d6145cda417c5a01fa3b203fad.jpg  \n",
            " extracting: valid/images/7c6fcc66a2bb3ce8f0a6b7cdace1b169e0eba08d934a13f918d1ca603d4c0b95-jpg_plate_1_png.rf.bee4349665d18f48505aeb790cd7e3e9.jpg  \n",
            " extracting: valid/images/8008e598dc4a11b931eb73b61c3ac7215cc8cdfbd209a12601e08ef09802a465-jpg_plate_1_png.rf.cd4f1e00211fa542a519b43e2707a550.jpg  \n",
            " extracting: valid/images/83c60a9d57f15c4cc6a23c355505a58015deafd52cdd40d691e8752e81deedbd-jpg_plate_1_png.rf.516dc60c023890e53a8bdaed82aa6f40.jpg  \n",
            " extracting: valid/images/8560c5bb7f45fefcad744dfd6ce44d90ffe58b2db2dc6c4e290b0230e2889cd1-jpg_plate_1_png.rf.8f57d4885ec844bd6296cd2e6a61ca1a.jpg  \n",
            " extracting: valid/images/Capture5_PNG_jpg.rf.2cf905b953c1011f69a0d49bdb06a520.jpg  \n",
            " extracting: valid/images/FB_IMG_1671888735143_jpg.rf.4e6c3c22ea5cdde4f27bb9904c7ed664.jpg  \n",
            " extracting: valid/images/FB_IMG_1671888747255_jpg.rf.b636238cb4f18e7869160c38d172d4c9.jpg  \n",
            " extracting: valid/images/FB_IMG_1671888749928_jpg.rf.54ec6f71435949a9824a6e10e6e18033.jpg  \n",
            " extracting: valid/images/FB_IMG_1671888756426_jpg.rf.2f8c3e8d1774163d937ea66376cf5d02.jpg  \n",
            " extracting: valid/images/FB_IMG_1671888758634_jpg.rf.8c5864411656d7802628071052b95e01.jpg  \n",
            " extracting: valid/images/FB_IMG_1671888777233_jpg.rf.0d02623c6a4e7fc5432ec6274a98602e.jpg  \n",
            " extracting: valid/images/FB_IMG_1671888789141_jpg.rf.de6799739ba849ada99394ba19f98f92.jpg  \n",
            " extracting: valid/images/FB_IMG_1671888793228_jpg.rf.2c855213c203f75cc5316dd2064523d7.jpg  \n",
            " extracting: valid/images/FB_IMG_1671888806698_jpg.rf.78941f2020e2105080f03cd5c1ae4415.jpg  \n",
            " extracting: valid/images/FB_IMG_1671888822826_jpg.rf.aa9d0d37d096fc200f12de8172ab0884.jpg  \n",
            " extracting: valid/images/FB_IMG_1671888828608_jpg.rf.136330033be5f273b8ae190aa56dd1f8.jpg  \n",
            " extracting: valid/images/FB_IMG_1671888861447_jpg.rf.7e1f26a2f16a75b0f7be0ddaf138f361.jpg  \n",
            " extracting: valid/images/FB_IMG_1671890159455_jpg.rf.ff50568a61baa8be1931652a93da2102.jpg  \n",
            " extracting: valid/images/FB_IMG_1671890192329_jpg.rf.ecae7cfbfc6c8bd05b94bb02b0b3a62a.jpg  \n",
            " extracting: valid/images/FB_IMG_1671890195293_jpg.rf.d42b350fcc05abb192192ca7d9dcec9e.jpg  \n",
            " extracting: valid/images/FB_IMG_1671890197233_jpg.rf.054946a810df1a70fa04191627640ff2.jpg  \n",
            " extracting: valid/images/FB_IMG_1671890229498_jpg.rf.df9dc13a64b1277501c36d1e165b429d.jpg  \n",
            " extracting: valid/images/FB_IMG_1671890238676_jpg.rf.5659e7a353e44f10b665e241ce1d2a8f.jpg  \n",
            " extracting: valid/images/FB_IMG_1671890242032_jpg.rf.8c273fbe9d7c32c8039cd45e5a859cdb.jpg  \n",
            " extracting: valid/images/FB_IMG_1671890251948_jpg.rf.ff17483a07d98228a54dfae5f3182f13.jpg  \n",
            " extracting: valid/images/FB_IMG_1671890254058_jpg.rf.01eb05946f0c4f18b6f404f401d51d4d.jpg  \n",
            " extracting: valid/images/FB_IMG_1671890258078_jpg.rf.26a115a25d4e43a475f189706ff6b183.jpg  \n",
            " extracting: valid/images/FB_IMG_1671890259854_jpg.rf.a8c8c3f0d6dd0e2de30d1a056f1a6310.jpg  \n",
            " extracting: valid/images/FB_IMG_1671890261597_jpg.rf.fa8cebc12f8d0625801ed6e7d04ca1cc.jpg  \n",
            " extracting: valid/images/FB_IMG_1671890263439_jpg.rf.0ac949d834ec48df8b12b1ed52ef6753.jpg  \n",
            " extracting: valid/images/FB_IMG_1671890271996_jpg.rf.90f0a80d8315637cb048ea8add310940.jpg  \n",
            " extracting: valid/images/FB_IMG_1671890285537_jpg.rf.e5e0ce24cd365330135fb3b0af822ad5.jpg  \n",
            " extracting: valid/images/FB_IMG_1671890294655_jpg.rf.90fc40721ce501a560e2dd512566be3e.jpg  \n",
            " extracting: valid/images/FB_IMG_1671890297660_jpg.rf.8f5270e2b3f14d459876826c48d21357.jpg  \n",
            " extracting: valid/images/FB_IMG_1671890299737_jpg.rf.a3532640368cebf8578182b7a0dc56be.jpg  \n",
            " extracting: valid/images/FB_IMG_1671890341733_jpg.rf.b4ec01668412c7423efec8e92d4716d3.jpg  \n",
            " extracting: valid/images/FB_IMG_1671890365947_jpg.rf.695cf3ee8a2beeb81dbefde5b8719a81.jpg  \n",
            " extracting: valid/images/FB_IMG_1671890401342_jpg.rf.6ab6fb9aa9bc6c66fc8ece1eafda5bc3.jpg  \n",
            " extracting: valid/images/FB_IMG_1671890432098_jpg.rf.8e71b022f7de06af0a1d59615b4b84d2.jpg  \n",
            " extracting: valid/images/FB_IMG_1671890435021_jpg.rf.82a9b75ca8e8a68dfefbaac1d82d3be0.jpg  \n",
            " extracting: valid/images/FB_IMG_1671890448671_jpg.rf.e143ec6338ffd9aff56abff65c79dfa8.jpg  \n",
            " extracting: valid/images/FB_IMG_1671890456577_jpg.rf.84192b95cfeacdf3777882e5f95499eb.jpg  \n",
            " extracting: valid/images/FB_IMG_1671890492017_jpg.rf.a0150e329b1fd541a526a9858ea8ee2d.jpg  \n",
            " extracting: valid/images/FB_IMG_1671890502109_jpg.rf.b7303cf9ca1a1c327310575d0a738d42.jpg  \n",
            " extracting: valid/images/FB_IMG_1671890517393_jpg.rf.bc4af1fbbb3a77436a28ea7dab7fb964.jpg  \n",
            " extracting: valid/images/FB_IMG_1671890528159_jpg.rf.2763ee5adbfd4c78dcff07746e4f3bbb.jpg  \n",
            " extracting: valid/images/FB_IMG_1671890536467_jpg.rf.0003b4e1feef9b56f89062c68316c5a9.jpg  \n",
            " extracting: valid/images/FB_IMG_1671890602235_jpg.rf.6c37f1381f4dc1c1a40427851bc17e67.jpg  \n",
            " extracting: valid/images/FB_IMG_1671890615177_jpg.rf.2184e091320ffb92d8f900b9f44b59be.jpg  \n",
            " extracting: valid/images/FB_IMG_1671890648460_jpg.rf.8dfcdcc8efc2469161b6b85a060bb38c.jpg  \n",
            " extracting: valid/images/FB_IMG_1671890654073_jpg.rf.29276dc59bebe93388c92bdcff95e56c.jpg  \n",
            " extracting: valid/images/FB_IMG_1671890666381_jpg.rf.86adfdd358911d0057fa680647e38d80.jpg  \n",
            " extracting: valid/images/FB_IMG_1671890670998_jpg.rf.98132fe69971c32a7d828a91535c74e6.jpg  \n",
            " extracting: valid/images/FB_IMG_1671890682938_jpg.rf.1a2e3493212f09b98514f88e4e30b5d4.jpg  \n",
            " extracting: valid/images/FB_IMG_1671890701994_jpg.rf.507ccd2cbebccb3f56ec64f5b428c674.jpg  \n",
            " extracting: valid/images/FB_IMG_1671890705497_jpg.rf.9e700a179dea2978736d06b1e5ec50f9.jpg  \n",
            " extracting: valid/images/FB_IMG_1671890711412_jpg.rf.e83b753f6558b729baa38f8d0ded9893.jpg  \n",
            " extracting: valid/images/FB_IMG_1671890724483_jpg.rf.3c67eca269cd1c08da51a03a7e623f30.jpg  \n",
            " extracting: valid/images/FB_IMG_1671890807005_jpg.rf.d26c1d4b27d68c7b4d9fdda225f40111.jpg  \n",
            " extracting: valid/images/FB_IMG_1671890817501_jpg.rf.2756efc65f5fc105be53aa749609c95f.jpg  \n",
            " extracting: valid/images/FB_IMG_1671890849564_jpg.rf.746feba1f7bbd9756cb6498e33d41007.jpg  \n",
            " extracting: valid/images/FB_IMG_1671890861924_jpg.rf.2dc1a264e489e96be366e5f3d7925bef.jpg  \n",
            " extracting: valid/images/FB_IMG_1671890870710_jpg.rf.9b7923eae9022cbf840e32eb665ae713.jpg  \n",
            " extracting: valid/images/FB_IMG_1671890882985_jpg.rf.414e7ad53a611a0b7d5bdfed2b3b7bc7.jpg  \n",
            " extracting: valid/images/FB_IMG_1671890889166_jpg.rf.41da07ab2404ea5532d9f35ed5701b33.jpg  \n",
            " extracting: valid/images/FB_IMG_1671890891147_jpg.rf.47d23278845056099225f2bc43e627d3.jpg  \n",
            " extracting: valid/images/FB_IMG_1671890915202_jpg.rf.1fbf89bff04e8fead5778c712750d549.jpg  \n",
            " extracting: valid/images/FB_IMG_1671890976706_jpg.rf.b842a5cc11a16ec5b50a065bebed76bc.jpg  \n",
            " extracting: valid/images/FB_IMG_1671890994448_jpg.rf.c432ff3d35d4eda64548cab35da1a15e.jpg  \n",
            " extracting: valid/images/FB_IMG_1671891005446_jpg.rf.988d115d6a57d031ec08519577ac221b.jpg  \n",
            " extracting: valid/images/FB_IMG_1671891045514_jpg.rf.0ee80b8faa2275e0d73831e570be25c1.jpg  \n",
            " extracting: valid/images/FB_IMG_1671891078926_jpg.rf.c3a7f6114bfadfe208cd2fcdc9dd44eb.jpg  \n",
            " extracting: valid/images/FB_IMG_1671891095169_jpg.rf.cf0500bcc6ebef2e2494cda1e64ab30e.jpg  \n",
            " extracting: valid/images/FB_IMG_1671891097526_jpg.rf.0fbc7c4ee4e47a58ebe855bb2b2ff8ad.jpg  \n",
            " extracting: valid/images/FB_IMG_1671891107822_jpg.rf.9fec068265383d405f2063b9b24f7020.jpg  \n",
            " extracting: valid/images/FB_IMG_1671891122255_jpg.rf.89e795b1b99a4db8a42e9aacb33a7067.jpg  \n",
            " extracting: valid/images/FB_IMG_1671891131044_jpg.rf.c8b378b1834b6c6835e7a954ece06543.jpg  \n",
            " extracting: valid/images/FB_IMG_1671891133868_jpg.rf.e3e364faa72b63918f0bf3246fb1ce7d.jpg  \n",
            " extracting: valid/images/FB_IMG_1671891139215_jpg.rf.936a655bce7eb9425e875eba8aa7bb06.jpg  \n",
            " extracting: valid/images/FB_IMG_1671892442333_jpg.rf.3bb6cc25cf7df7303b8e3d4da4ad831e.jpg  \n",
            " extracting: valid/images/FB_IMG_1671892460688_jpg.rf.79fe1f43564182fb612d9aa863d9fc3b.jpg  \n",
            " extracting: valid/images/FB_IMG_1671892464515_jpg.rf.e52b6cb9473cd8e53af51f41b801dae8.jpg  \n",
            " extracting: valid/images/FB_IMG_1671892475572_jpg.rf.c3ba1c3f6c7aacb25a8575d86453a250.jpg  \n",
            " extracting: valid/images/FB_IMG_1671892478747_jpg.rf.42e0ba92eda27f6d64012d1b05e60612.jpg  \n",
            " extracting: valid/images/FB_IMG_1671892487890_jpg.rf.c10e2bf7c554783313b119376a774978.jpg  \n",
            " extracting: valid/images/FB_IMG_1671892490370_jpg.rf.8671b2ab64e6632bc23b4739a7a187e3.jpg  \n",
            " extracting: valid/images/FB_IMG_1671892492646_jpg.rf.96ecfac4c8693e48e207155728217a62.jpg  \n",
            " extracting: valid/images/FB_IMG_1671892494859_jpg.rf.93cb532f38a9209511009ea8fff15242.jpg  \n",
            " extracting: valid/images/FB_IMG_1671892497933_jpg.rf.a57dc514b9e17671d0e395555176ef82.jpg  \n",
            " extracting: valid/images/FB_IMG_1671892507420_jpg.rf.18558237d8f7403746ff7d03494a3999.jpg  \n",
            " extracting: valid/images/FB_IMG_1671892511526_jpg.rf.8497bf85d65d1468adb08276fc5ae508.jpg  \n",
            " extracting: valid/images/FB_IMG_1671892521964_jpg.rf.df43956cf59a2fc726b1b2616eb60fe3.jpg  \n",
            " extracting: valid/images/FB_IMG_1671892530706_jpg.rf.d2c88d674f6c05d8e9fb4133a18caeb4.jpg  \n",
            " extracting: valid/images/FB_IMG_1671892539099_jpg.rf.3d70d18a0d7de1f77317c774f66a01b2.jpg  \n",
            " extracting: valid/images/FB_IMG_1671892541258_jpg.rf.22762308eab31099315a7fe621d3f34c.jpg  \n",
            " extracting: valid/images/a406dcc4585b50a38088bf14af081d66190d91e97c61a8abc5bbe124a6a5127b-jpg_plate_1_png.rf.fda48ccc7578187d369edbc697dd88ed.jpg  \n",
            " extracting: valid/images/b845f364e4365c95865e5ab732430968a3dfd3da01cc654f29807de6d57005c2-jpg_plate_1_png.rf.9230c439d42fc219f1ec0c88d9159309.jpg  \n",
            " extracting: valid/images/bb44503b60afc2857a63aab57b94b51b4ff1a55e5783baedacd0909f27dac803-jpg_plate_1_png.rf.75b916e5803780562613ee11b99e9b9a.jpg  \n",
            " extracting: valid/images/be17df42781dbbcc4591ac2fb5f6ac786addfc4b6fb61286f391c96d78dc0e00-jpg_plate_1_png.rf.a8d7021fe4975c702c1af24d4250c678.jpg  \n",
            " extracting: valid/images/d4e3e2b58f8132bdc019f592e1aa1ba611efcd33b15656d59199c574ba9df87b-jpg_plate_1_png.rf.727320e542b7d84cad4ebfb6291218a7.jpg  \n",
            " extracting: valid/images/dcf60c7ea6dec100afdf27b1b1a8a4f55b494eb6fa982aa16337dfba325d4981-jpg_plate_1_png.rf.455088e76cf0989982fd4986cb751167.jpg  \n",
            " extracting: valid/images/e4b3755b8ed82427be01c723414fad00e381c87591130b6a478b8248490c9ddb-jpg_plate_1_png.rf.1c41ed39bbdddcc1e68de37d2fa609c4.jpg  \n",
            " extracting: valid/images/ee9be9178484f8e5f40378b5348f2abd1c645ea2e5c0647b712cc55df7f36275-jpg_plate_1_png.rf.bbdc0e72bcfd71ceddb8257df53d131f.jpg  \n",
            " extracting: valid/images/gen_228_jpg.rf.35c17c2d6cba2c22e57eced045d6c1cc.jpg  \n",
            " extracting: valid/images/gen_24_jpg.rf.a12cbe16339d18433df609e6f9e2efee.jpg  \n",
            " extracting: valid/images/gen_300_jpg.rf.47abcb139c524718deb0b1c5a8bbffb7.jpg  \n",
            " extracting: valid/images/gen_33_jpg.rf.3ee19159481105b968a4b37cd44b4d45.jpg  \n",
            " extracting: valid/images/gen_387_jpg.rf.b9e4c885397817c8a25f82bc217b6388.jpg  \n",
            " extracting: valid/images/image0001_jpg.rf.d2c851ecf0c71c171b8d1c07114924b1.jpg  \n",
            " extracting: valid/images/image0006_jpg.rf.714f34350c0f3d31dd4f452a69d4656d.jpg  \n",
            " extracting: valid/images/image0011_jpg.rf.9714729168afdb6fcc391407d35ddd13.jpg  \n",
            " extracting: valid/images/image0012_jpg.rf.01bd48756868f85d5732f1ebf171721f.jpg  \n",
            " extracting: valid/images/image0012_jpg.rf.46bf0c58bd9b5c9d5470f753aba52cd6.jpg  \n",
            " extracting: valid/images/image0016_jpg.rf.8beeed075ed26ddbc2640a34d7a29b81.jpg  \n",
            " extracting: valid/images/image0026_jpg.rf.a1aeb41f749da74fb21834a7541f1bbe.jpg  \n",
            " extracting: valid/images/image0028_jpg.rf.f29af703fcd465e735fa241f78082f75.jpg  \n",
            " extracting: valid/images/image0033_jpg.rf.c35597dce808b7b41d2ac57d9dea007f.jpg  \n",
            " extracting: valid/images/image0041_jpg.rf.0887240e28cf3caaede773cf51dbb048.jpg  \n",
            " extracting: valid/images/image0041_jpg.rf.7c3e9d1258c8df48b0c97519a666e585.jpg  \n",
            " extracting: valid/images/image0052_jpg.rf.4103dcdea160e80c4d3e4a46a761ddec.jpg  \n",
            " extracting: valid/images/image0055_jpg.rf.dd5f75557dfa48c9a3d3efa31dadfea3.jpg  \n",
            " extracting: valid/images/image0073_jpg.rf.61ad1c8f7e23ce2cd73898b47106122b.jpg  \n",
            " extracting: valid/images/image0077_jpg.rf.3df4c481d426b8c80fdaa940d12f575b.jpg  \n",
            " extracting: valid/images/image0081_jpg.rf.0a21e6c7f5921fc0ec3e4ff1f8e56169.jpg  \n",
            " extracting: valid/images/image0084_jpg.rf.1c8cffa6a4eb3cddbc5ead3ba73407ab.jpg  \n",
            " extracting: valid/images/image0085_jpg.rf.34e10af40f2ee37873db4accbe2aabc5.jpg  \n",
            " extracting: valid/images/image0089_jpg.rf.86cab2666141721562964c67b58dad81.jpg  \n",
            " extracting: valid/images/image0090_jpg.rf.45d1158f31cca373562afeaae940ee0a.jpg  \n",
            " extracting: valid/images/image0103_jpg.rf.35958e902b4a14e745e559da9a06e930.jpg  \n",
            " extracting: valid/images/image0105_jpg.rf.bfa12722e29834218ad2d8197d75c9dd.jpg  \n",
            " extracting: valid/images/image0109_jpg.rf.766c4cf40480c37e021c68920be72b6a.jpg  \n",
            " extracting: valid/images/image0110_jpg.rf.ade31512288fc008d20f868197f52f66.jpg  \n",
            " extracting: valid/images/image0111_jpg.rf.31190d652f443dcd5791381080ffeed5.jpg  \n",
            " extracting: valid/images/image0115_jpg.rf.3029f3248a06f5daf001c1cef76b39c6.jpg  \n",
            " extracting: valid/images/image0119_jpg.rf.53b983d9ed88f76e933ade03f546f5cf.jpg  \n",
            " extracting: valid/images/image0119_jpg.rf.dfce658123fabe1b9cd554eea28917ba.jpg  \n",
            " extracting: valid/images/image0121_jpg.rf.827fdf042e21d104ca6c6ea10ad3f65f.jpg  \n",
            " extracting: valid/images/image0123_jpg.rf.de3cf8617327bcf1cb951f869331c5e1.jpg  \n",
            " extracting: valid/images/image0124_jpg.rf.e16e4dd6fdbad44e29ae0ec6e3c9583f.jpg  \n",
            " extracting: valid/images/image0127_jpg.rf.c82c7c7c04fb9fed46b93e748ba285a3.jpg  \n",
            " extracting: valid/images/image0130_jpg.rf.b9a9d4b9d1570013d0d6e68e3ba3b111.jpg  \n",
            " extracting: valid/images/image0135_jpg.rf.4d715b6296f6ce0e40e5b42568936740.jpg  \n",
            " extracting: valid/images/image0139_jpg.rf.efe8c37712e390393244139ab8b4d3be.jpg  \n",
            " extracting: valid/images/image0144_jpg.rf.3253f7f5cad2a93b298a151c25f4031b.jpg  \n",
            " extracting: valid/images/image0153_jpg.rf.648a4b7488efeab4db78618cf2500a3f.jpg  \n",
            " extracting: valid/images/image0160_jpg.rf.839292561e8d77cadd7de5afa910cb63.jpg  \n",
            " extracting: valid/images/image0190_jpg.rf.84892195572331582dbf9232b2eb9f04.jpg  \n",
            " extracting: valid/images/image0205_jpg.rf.070244a3c0b180475c9ec1dad6c5b1f0.jpg  \n",
            " extracting: valid/images/image0209_jpg.rf.05a063d233dbbfa6ad1bf9f3a82e6619.jpg  \n",
            " extracting: valid/images/image0219_jpg.rf.3321cdb59cff125122ae1b418dcb905b.jpg  \n",
            " extracting: valid/images/image0224_jpg.rf.a639a4486bebbdcfc988c65db053e2d1.jpg  \n",
            " extracting: valid/images/image0237_jpg.rf.13e1dad99b47c78676a6f7bf683f26fc.jpg  \n",
            " extracting: valid/images/image0238_jpg.rf.4d128151eb26af13f03c83bc3990bd14.jpg  \n",
            " extracting: valid/images/image0258_jpg.rf.ef0afac6cd857106e85ab3a5c2d4166c.jpg  \n",
            " extracting: valid/images/image0306_jpg.rf.d67802e82f3d1ee96e84fbc45027550f.jpg  \n",
            " extracting: valid/images/image0332_jpg.rf.527b80dcd9760f87caf64dfc4de45c43.jpg  \n",
            " extracting: valid/images/image0355_jpg.rf.c7391a91677b9a281c211e434bec5888.jpg  \n",
            " extracting: valid/images/image0369_jpg.rf.59a01b59e551777aa3ed568071bf176f.jpg  \n",
            " extracting: valid/images/image0378_jpg.rf.5838799eb81d1df32d6e0a70fc7a6892.jpg  \n",
            " extracting: valid/images/image0387_jpg.rf.6cfab13ae1d626d0b0c0a0d7cc38b4cb.jpg  \n",
            " extracting: valid/images/image0392_jpg.rf.0c892892e44b7099bf3e83f62c128ba2.jpg  \n",
            " extracting: valid/images/image0398_jpg.rf.e2f82a562293c8f1f0b42c1c033e57d3.jpg  \n",
            " extracting: valid/images/image0409_jpg.rf.791c0c138de9f60068cbfbb3472b06f7.jpg  \n",
            " extracting: valid/images/image0438_jpg.rf.3ce05c326daa11f37d795061bb1eceef.jpg  \n",
            " extracting: valid/images/image0445_jpg.rf.160240e4adecc874bc72b2d359f3e29a.jpg  \n",
            " extracting: valid/images/image0452_jpg.rf.401a6c2e44e721a5d130dc4aa59268b9.jpg  \n",
            " extracting: valid/images/image0475_jpg.rf.aaa1b4518138f25b0b0b6aa234a2f5da.jpg  \n",
            " extracting: valid/images/image0481_jpg.rf.822f5990ef2e2a045ec48db26e73f5fc.jpg  \n",
            " extracting: valid/images/image0516_jpg.rf.744abde22768829d38ae565293291d11.jpg  \n",
            " extracting: valid/images/image0522_jpg.rf.c3477acce9f79006ffd5aeaa28702191.jpg  \n",
            " extracting: valid/images/image0547_jpg.rf.335612cbe2241fdcfe78ff70a56457cc.jpg  \n",
            " extracting: valid/images/image0560_jpg.rf.fa179266a255ee0214495f7b316671ac.jpg  \n",
            " extracting: valid/images/image0567_jpg.rf.6db035d07cc676e28778f4ae1bf074ec.jpg  \n",
            " extracting: valid/images/image0594_jpg.rf.d1b657d1fc16e4c97e5a8685e75f3c24.jpg  \n",
            " extracting: valid/images/image0622_jpg.rf.41f6d85a407ad7f3dd640ae2a6332314.jpg  \n",
            " extracting: valid/images/image0630_jpg.rf.d51fbdaabaf16322646eb042a399600f.jpg  \n",
            " extracting: valid/images/image0631_jpg.rf.6a4eb4230b347471916b85d601fcc0b7.jpg  \n",
            " extracting: valid/images/image0638_jpg.rf.6676c7bad28ff3841d9e333c596d8e5f.jpg  \n",
            " extracting: valid/images/image0660_jpg.rf.dc3eee13949d0086cfc0b70bd8c7b941.jpg  \n",
            " extracting: valid/images/image0680_jpg.rf.949b8434e4df43acce0ecd8de2b11aa4.jpg  \n",
            " extracting: valid/images/image0685_jpg.rf.b51cd42e440d651ab6686990b2ff150a.jpg  \n",
            " extracting: valid/images/image0701_jpg.rf.2ce0a38308d12b021be6d4a0409b84f5.jpg  \n",
            " extracting: valid/images/image0705_jpg.rf.8789a5f3d7c97db873c6b460c4a66401.jpg  \n",
            " extracting: valid/images/image0723_jpg.rf.1655bcc9a246743c861b0d62e1491a80.jpg  \n",
            " extracting: valid/images/image0729_jpg.rf.c44a606f365e8d40b09162e1a8baad8f.jpg  \n",
            " extracting: valid/images/image0753_jpg.rf.4487f2f01f6618e9722760b07c20ed84.jpg  \n",
            " extracting: valid/images/image0756_jpg.rf.d0d4e880d93810f57d7feda89eba68c2.jpg  \n",
            " extracting: valid/images/image0757_jpg.rf.dd657ffd30badc3c8280c7143fe7f2a0.jpg  \n",
            " extracting: valid/images/image0764_jpg.rf.d9a832b26672a2e06a77d85133bd3d78.jpg  \n",
            " extracting: valid/images/image0765_jpg.rf.62ffce8d4c3b633ea3994c5a3b5c668f.jpg  \n",
            " extracting: valid/images/image0774_jpg.rf.5b755c164c801d371599a8c82c522b97.jpg  \n",
            " extracting: valid/images/image0776_jpg.rf.7a2770c7f1b9762d09b2ce0cb6636629.jpg  \n",
            " extracting: valid/images/image0787_jpg.rf.65d31b9511adb13242c4e058bdb8936a.jpg  \n",
            " extracting: valid/images/image0788_jpg.rf.ccf9278eedcbbb763ffeeae5593e1b8f.jpg  \n",
            " extracting: valid/images/image0799_jpg.rf.daa6a65a10310db3f558112ac70069c4.jpg  \n",
            " extracting: valid/images/image0802_jpg.rf.c77cdec231e7136c07b67cd90c0f602b.jpg  \n",
            " extracting: valid/images/image0805_jpg.rf.492c0b069723c503fff38e3a54decfd0.jpg  \n",
            " extracting: valid/images/image0814_jpg.rf.b66efd32f1558beaf639ff8f25138c18.jpg  \n",
            " extracting: valid/images/image0818_jpg.rf.9a6fddf7687814a8d9304e4be0ef3031.jpg  \n",
            " extracting: valid/images/image0819_jpg.rf.e3a9f0202a6a2730dd0bc1091598bfe0.jpg  \n",
            " extracting: valid/images/image0830_jpg.rf.02862785c6fca10326519a758b1639ca.jpg  \n",
            " extracting: valid/images/image0841_jpg.rf.0787e2e0aa47862a59bf189219337016.jpg  \n",
            " extracting: valid/images/image0861_jpg.rf.ecbfe138891e0176305a059c95ef726d.jpg  \n",
            " extracting: valid/images/image0894_jpg.rf.7f74d3aecdea0c78bb195135b74aef67.jpg  \n",
            " extracting: valid/images/image0929_jpg.rf.5dc9273b5724438e925c0682ee8128cb.jpg  \n",
            " extracting: valid/images/image0940_jpg.rf.48ec153de1143946d73b1dd2be9cf454.jpg  \n",
            " extracting: valid/images/image0941_jpg.rf.e515c7c1145d5db5ed721a6c54c4665a.jpg  \n",
            " extracting: valid/images/image0947_jpg.rf.90fef8dee14a222db702566a0ed0ce50.jpg  \n",
            " extracting: valid/images/image0953_jpg.rf.6493106cea88e041eb6e098b8623b241.jpg  \n",
            " extracting: valid/images/image0954_jpg.rf.024588753b6355d497f75325c13d4482.jpg  \n",
            " extracting: valid/images/image0956_jpg.rf.6e820a5fc0ba1b5113639c35fc7df564.jpg  \n",
            " extracting: valid/images/image0972_jpg.rf.56d6598885e14d9be292cbdb46851c3b.jpg  \n",
            " extracting: valid/images/image0985_jpg.rf.eb2070cef4e8a3f4fc4a349b987dd4aa.jpg  \n",
            " extracting: valid/images/image0993_jpg.rf.ba2d506b8f55503ddbb10d1ef1a9a9ec.jpg  \n",
            " extracting: valid/images/image0996_jpg.rf.ffd98b22883e5f087b93e3d9bfcff9d6.jpg  \n",
            " extracting: valid/images/image1006_jpg.rf.214fa54d4fd23d9fc18d3575be1b8e3d.jpg  \n",
            " extracting: valid/images/image1029_jpg.rf.c2f6ade8cfdd59fcb6b14df4664e9580.jpg  \n",
            " extracting: valid/images/image1068_jpg.rf.5f9b87de91b44e70f885e9527b751938.jpg  \n",
            " extracting: valid/images/image1080_jpg.rf.41bef9b2c59bc83d49e8066786b29e83.jpg  \n",
            " extracting: valid/images/image1101_jpg.rf.e1032ff44e617e32d918238a914e3105.jpg  \n",
            " extracting: valid/images/image1117_jpg.rf.83b5a2c4e5f4f400b63d06f9984e39c5.jpg  \n",
            " extracting: valid/images/image1120_jpg.rf.817571f4d65cb6f782d894a3be4c99e9.jpg  \n",
            " extracting: valid/images/image1125_jpg.rf.682021c84ce253e14482e8fccdf92c80.jpg  \n",
            " extracting: valid/images/image1136_jpg.rf.b05f4933e8c99e1fee30d5fe5b39f0ea.jpg  \n",
            " extracting: valid/images/image1137_jpg.rf.b566424bf95ef4214c91d1e58fa106c9.jpg  \n",
            " extracting: valid/images/image1140_jpg.rf.a2b4b4120ee8a25af8cad73fd82feb17.jpg  \n",
            " extracting: valid/images/image1143_jpg.rf.de8fdf2bfe5e60c0e5acd4dbf4fa469d.jpg  \n",
            " extracting: valid/images/image1153_jpg.rf.cab2204daf1683219c0e833a95d62471.jpg  \n",
            " extracting: valid/images/image1154_jpg.rf.3cfcd94da99a96f35c9a02ec57751a93.jpg  \n",
            " extracting: valid/images/image1171_jpg.rf.7d68d95c5b8686e3a57d5164fa10038c.jpg  \n",
            " extracting: valid/images/image1177_jpg.rf.9e9dbaad6a407998e8a0d36554826b96.jpg  \n",
            " extracting: valid/images/image1188_jpg.rf.7580282fd901645ccb129dc48cc332f4.jpg  \n",
            " extracting: valid/images/image1210_jpg.rf.8b18dc4c3147ebdd577feffcfc9cff90.jpg  \n",
            " extracting: valid/images/image1224_jpg.rf.f3a737f831469d2c353a95897cfc4834.jpg  \n",
            " extracting: valid/images/image1240_jpg.rf.0c90b67c1d63f10448ab18b6db981f87.jpg  \n",
            " extracting: valid/images/image1267_jpg.rf.f9dda566f9624160bfc70a6a9bf95eed.jpg  \n",
            " extracting: valid/images/image1270_jpg.rf.4364fd06932a2696db592a67598b0c4e.jpg  \n",
            " extracting: valid/images/image1274_jpg.rf.f2aec2b4ebcaa16610592afd1063d426.jpg  \n",
            " extracting: valid/images/image1275_jpg.rf.95c354be802f2d6c2dd61f64a3206591.jpg  \n",
            " extracting: valid/images/image1278_jpg.rf.52c220aa41c8d495f88a24a29dbfffc4.jpg  \n",
            " extracting: valid/images/image1292_jpg.rf.04e176c07db314414596bc6da349c75a.jpg  \n",
            " extracting: valid/images/image1297_jpg.rf.6cceb6575c63cc409d8675d91c292ecc.jpg  \n",
            " extracting: valid/images/image1312_jpg.rf.8da33b097f2435d4d2e1ea7ffe5a2a11.jpg  \n",
            " extracting: valid/images/image1318_jpg.rf.e1c7c49751b8845d1d2f26c6b1615faa.jpg  \n",
            " extracting: valid/images/image1338_jpg.rf.4ee398983bea2b608f91375b505f7a0e.jpg  \n",
            " extracting: valid/images/image1341_jpg.rf.a94450f72eec273c832fa770e89f739b.jpg  \n",
            " extracting: valid/images/image1344_jpg.rf.ee464bb3f2ed9f670d138498046fa4f5.jpg  \n",
            " extracting: valid/images/image1345_jpg.rf.186e006f51f46845c3f72f5e8bbe8df2.jpg  \n",
            " extracting: valid/images/image1360_jpg.rf.869bdb79232ee704efb77778a713ebf0.jpg  \n",
            " extracting: valid/images/image1382_jpg.rf.d9d0197e400b26a3759f77002af70e0b.jpg  \n",
            " extracting: valid/images/image1385_jpg.rf.cfe7eeb71377834b500f41ef3d280846.jpg  \n",
            " extracting: valid/images/image1395_jpg.rf.da2e8cd972e0149cf2068f434a640efe.jpg  \n",
            " extracting: valid/images/image1409_jpg.rf.4704fc289af5ec253cf0fb6980640a7e.jpg  \n",
            " extracting: valid/images/image1414_jpg.rf.d03037157acb3d0e25ac4d4f0458f720.jpg  \n",
            " extracting: valid/images/image1441_jpg.rf.782a8718ef0890c1e600e95541afefa7.jpg  \n",
            " extracting: valid/images/image1449_jpg.rf.c27b6e8524057e422492bdc590afe024.jpg  \n",
            " extracting: valid/images/image1464_jpg.rf.91902ffa245de25f59d9cad13c608350.jpg  \n",
            " extracting: valid/images/image1477_jpg.rf.06dd18ed9c2c3df3ce7ccd559d0578fe.jpg  \n",
            " extracting: valid/images/image1489_jpg.rf.12ac54836e1de5f218d8b44c23eabe76.jpg  \n",
            " extracting: valid/images/image1500_jpg.rf.6b8f95769c8e727b8094ed4aee5e8928.jpg  \n",
            " extracting: valid/images/image1504_jpg.rf.c330dc6eece97884ae3aba80d3dae202.jpg  \n",
            " extracting: valid/images/image1521_jpg.rf.6fcb89b2043f934fc046831191ade9f4.jpg  \n",
            " extracting: valid/images/image1523_jpg.rf.b5ceaa77594cc96453bc42e66afe6e2d.jpg  \n",
            " extracting: valid/images/image1530_jpg.rf.60464cc9c4804473b45d88b28dc7460b.jpg  \n",
            " extracting: valid/images/image1532_jpg.rf.38a6cf084d18cdf8dc29a101d4de401c.jpg  \n",
            " extracting: valid/images/image1533_jpg.rf.74e78035c9fc8fc4447205f66bbbec0c.jpg  \n",
            " extracting: valid/images/image1540_jpg.rf.8049244e12c88fa788639176bf7d9f18.jpg  \n",
            " extracting: valid/images/image1552_jpg.rf.4969b62b4fbaa62a03bd8e9f0d385c98.jpg  \n",
            " extracting: valid/images/image1562_jpg.rf.b220acb044a5c6f66a8db34dcbb29ada.jpg  \n",
            " extracting: valid/images/image1581_jpg.rf.801a6bc3018cbf2f440900e19c3f2ce9.jpg  \n",
            " extracting: valid/images/image1584_jpg.rf.32fd2a9d07ba693288a169d0d0cc89cd.jpg  \n",
            " extracting: valid/images/image1595_jpg.rf.3482192f80efe5ed7aca314890e53c27.jpg  \n",
            " extracting: valid/images/image1639_jpg.rf.d5846dc32cea167011d062fcf89455c2.jpg  \n",
            " extracting: valid/images/image1650_jpg.rf.93177d22670bfb97ad842058155f652b.jpg  \n",
            " extracting: valid/images/image1651_jpg.rf.cb14e1ac9867b12610aa02f6290f9933.jpg  \n",
            " extracting: valid/images/image1652_jpg.rf.24284eacdb7315be5550d9d62dc118bd.jpg  \n",
            " extracting: valid/images/image1654_jpg.rf.9111d7ee55560e27555b6c719896bc6d.jpg  \n",
            " extracting: valid/images/image1678_jpg.rf.c1898a276ac4a69da80030ef2c2e444d.jpg  \n",
            " extracting: valid/images/image1689_jpg.rf.1d3d3127e8ef221402311dd65b2a968b.jpg  \n",
            " extracting: valid/images/image1691_jpg.rf.7399edaab073a600c118fce04cba512a.jpg  \n",
            " extracting: valid/images/image1694_jpg.rf.5fae55a6b242b215d922edee5170946b.jpg  \n",
            " extracting: valid/images/image1699_jpg.rf.e64e21b62c18b313041750140f8f6cef.jpg  \n",
            " extracting: valid/images/image1701_jpg.rf.19c65a26609efe03c3858681de379168.jpg  \n",
            " extracting: valid/images/image1706_jpg.rf.47e082d385a9c032ccbea4c15c5b7ca0.jpg  \n",
            " extracting: valid/images/image1707_jpg.rf.488677d21cf35f6f5bd8307fc68a6a5a.jpg  \n",
            " extracting: valid/images/image1714_jpg.rf.81e43b7299318bae62b8404fc7d5dbea.jpg  \n",
            " extracting: valid/images/image1739_jpg.rf.219c2c8137ee58f2dabb07cb23afa07c.jpg  \n",
            " extracting: valid/images/image1740_jpg.rf.0bf75309196be9bc41431c3218ded1c3.jpg  \n",
            " extracting: valid/images/image1744_jpg.rf.a7ecca83bd61cb09f300db6ed8a5a19c.jpg  \n",
            " extracting: valid/images/image1770_jpg.rf.878b4e4edf3c3d9901398d7edb628f9a.jpg  \n",
            " extracting: valid/images/image1776_jpg.rf.e9c36a5234d95e5040278d86b2f12ed0.jpg  \n",
            " extracting: valid/images/image1784_jpg.rf.d15be4802b78f257dd9e37e7db3ce02f.jpg  \n",
            " extracting: valid/images/image1800_jpg.rf.a3faf60b7ff27e45b66a6f22dda2b0cc.jpg  \n",
            " extracting: valid/images/image1811_jpg.rf.caa60399dec81ef5465a531e26985534.jpg  \n",
            " extracting: valid/images/image1844_jpg.rf.1e0b9679bc6c7e56187b032fa5b20906.jpg  \n",
            " extracting: valid/images/image1855_jpg.rf.f56c407da3eaa58843207927e05c9766.jpg  \n",
            " extracting: valid/images/image1868_jpg.rf.08a3804b417594a5a19038d8696b545d.jpg  \n",
            " extracting: valid/images/image1874_jpg.rf.4f6bd668f0acd148f10cd5ec1ade7be9.jpg  \n",
            " extracting: valid/images/image1878_jpg.rf.bd7e02e35f7fb6c41db89f777607b66a.jpg  \n",
            " extracting: valid/images/image1927_jpg.rf.e7a632b6f15d556e153446f316278013.jpg  \n",
            " extracting: valid/images/image1933_jpg.rf.778f5382b5ebd74291b61bad9cd960d4.jpg  \n",
            " extracting: valid/images/image1935_jpg.rf.664a678f81151a3e5d5060db64ba9974.jpg  \n",
            " extracting: valid/images/image1947_jpg.rf.a0edfd318176207dd89c3477ca36fce6.jpg  \n",
            " extracting: valid/images/image1954_jpg.rf.167d38baf633ccbf42da94b63cf28185.jpg  \n",
            " extracting: valid/images/image1969_jpg.rf.cd4644005049d7f444e480ffecf14418.jpg  \n",
            " extracting: valid/images/image1972_jpg.rf.5ff79743e79e479b751b0298a6819213.jpg  \n",
            " extracting: valid/images/image1982_jpg.rf.09a1d5d24f77fe2d9341eff852c39acb.jpg  \n",
            " extracting: valid/images/image1991_jpg.rf.b74618a1f4f097f0f47d6d805a63b0fe.jpg  \n",
            " extracting: valid/images/image1997_jpg.rf.ae10c90bb71deab0b281e1cb3ff236b1.jpg  \n",
            " extracting: valid/images/image2010_jpg.rf.43c08824fdf80e12f33654bbf15209de.jpg  \n",
            " extracting: valid/images/image2019_jpg.rf.16453365b60bef335f5a8f895cd70037.jpg  \n",
            " extracting: valid/images/image2041_jpg.rf.6a8f14ce0d50ef8b40181179b272e234.jpg  \n",
            " extracting: valid/images/image2042_jpg.rf.5aa16cdd85fd968a9efe19e9000e999b.jpg  \n",
            " extracting: valid/images/image2065_jpg.rf.c1569941b2a154cb78410c402c0bcaa8.jpg  \n",
            " extracting: valid/images/image2072_jpg.rf.dfb3097ff0c02a0169d95fa895124c4c.jpg  \n",
            " extracting: valid/images/image2092_jpg.rf.e119989c443fb3b72975cbdace25cfb9.jpg  \n",
            " extracting: valid/images/image2132_jpg.rf.b1416917d86ea911988953d5af22f8f1.jpg  \n",
            " extracting: valid/images/image2133_jpg.rf.e1ac9f80966b2772801b2f745d4786aa.jpg  \n",
            " extracting: valid/images/image2149_jpg.rf.b82d3002d43d57200e22de0298641113.jpg  \n",
            " extracting: valid/images/image2155_jpg.rf.74a89de9ad76dca573e6ba2a350e5a16.jpg  \n",
            " extracting: valid/images/image2157_jpg.rf.183159109486ef2931f52cd8b5a07436.jpg  \n",
            " extracting: valid/images/image2175_jpg.rf.2b4261b9bbd24f785835c3f32a31bc7d.jpg  \n",
            " extracting: valid/images/image2183_jpg.rf.e45de558e685879b27ad42de4138a5de.jpg  \n",
            " extracting: valid/images/image2198_jpg.rf.02f19a209e873ed4505247812b956316.jpg  \n",
            " extracting: valid/images/image2211_jpg.rf.9203874dfb4941daa684f4abd4761a82.jpg  \n",
            " extracting: valid/images/image2231_jpg.rf.adcec5375aef23eebc28ce8c38bf52b3.jpg  \n",
            " extracting: valid/images/image2241_jpg.rf.f76a5e5c922ffb2afa910485985c93e1.jpg  \n",
            " extracting: valid/images/image2245_jpg.rf.05a8a25fb8b50602782ffdd064df5a6c.jpg  \n",
            " extracting: valid/images/image2249_jpg.rf.92ed973fd82f9ce821028d814156ecf5.jpg  \n",
            " extracting: valid/images/image2271_jpg.rf.d557c0a8001b64c45cf6a6f84640d4a1.jpg  \n",
            " extracting: valid/images/image2289_jpg.rf.d8d13baae82248810901f0833c560a37.jpg  \n",
            " extracting: valid/images/image2301_jpg.rf.936dba9601c0ff8ef7582b34915e01fd.jpg  \n",
            " extracting: valid/images/image2316_jpg.rf.fa347316378c3db499f9043ca8862871.jpg  \n",
            " extracting: valid/images/image2317_jpg.rf.c21bce885634627ca4945a78b2b54182.jpg  \n",
            " extracting: valid/images/image2332_jpg.rf.e727bf9115a7a7d445c17a66333a5f5a.jpg  \n",
            " extracting: valid/images/image2339_jpg.rf.6eb46f431974bfc4b05ae6f7c30c65b0.jpg  \n",
            " extracting: valid/images/image2345_jpg.rf.aace7799fff13dd57817e4700612b40b.jpg  \n",
            " extracting: valid/images/image2350_jpg.rf.03f0e984d8ef056f76e0aad863b4fce4.jpg  \n",
            " extracting: valid/images/image2354_jpg.rf.c85bf7a1f57aa76cb47419f9c26ada17.jpg  \n",
            " extracting: valid/images/image2359_jpg.rf.151685471284af3ee49e4fae8831b3c5.jpg  \n",
            " extracting: valid/images/image2366_jpg.rf.f644c047e3aaff866048e930befbdb2c.jpg  \n",
            " extracting: valid/images/image2388_jpg.rf.ab0ef09be54b7b49cc606624f6b0eac8.jpg  \n",
            " extracting: valid/images/image2402_jpg.rf.13461ed7d6d0df0b7326e625a3cf9ee8.jpg  \n",
            " extracting: valid/images/image2403_jpg.rf.ddbabb5a8fad4353999834abb89f63b4.jpg  \n",
            " extracting: valid/images/image2417_jpg.rf.890f1d047dca055e6c22b14ccc43875d.jpg  \n",
            " extracting: valid/images/image2428_jpg.rf.118fa80a2ca34751d633b8493ce4b64a.jpg  \n",
            " extracting: valid/images/image2455_jpg.rf.18839f811a283c0039cb96fc23e8fdb8.jpg  \n",
            " extracting: valid/images/image2480_jpg.rf.f60b51368bec4212769fde828eb6383b.jpg  \n",
            " extracting: valid/images/image2484_jpg.rf.860fc38d74fe23a8fb29c4892346fd10.jpg  \n",
            " extracting: valid/images/image2499_jpg.rf.06214a89b328239dd2e482a0e4a9b6c8.jpg  \n",
            " extracting: valid/images/image2500_jpg.rf.ef2024ac8a062d416f61b94375f27dd4.jpg  \n",
            " extracting: valid/images/image2530_jpg.rf.fb5bc3c6a6b42c467f542f9ae3122097.jpg  \n",
            " extracting: valid/images/image2534_jpg.rf.f25beab0d9360bad005e6d15fe274a43.jpg  \n",
            " extracting: valid/images/image2544_jpg.rf.90aba01ea51aad2b993d39795bd72e7f.jpg  \n",
            " extracting: valid/images/image2578_jpg.rf.4820d9596be8e12706fc43af651c5c27.jpg  \n",
            " extracting: valid/images/syn_1026_jpg.rf.50d8703d48a27e6f2df196450351a39e.jpg  \n",
            " extracting: valid/images/syn_1097_jpg.rf.0e7ea998ebfcde30ab8d10cd8eb5fe8c.jpg  \n",
            " extracting: valid/images/syn_1121_jpg.rf.8237ffb02916be1f70a8116df09df133.jpg  \n",
            " extracting: valid/images/syn_1136_jpg.rf.58b533e6ae563cf95ba7fe029caa5afe.jpg  \n",
            " extracting: valid/images/syn_1169_jpg.rf.55e816d1ebdcbf998f6bd4ab61137ae5.jpg  \n",
            " extracting: valid/images/syn_1171_jpg.rf.dbe3cfa5b0b0faebb84011bc282d60ad.jpg  \n",
            " extracting: valid/images/syn_1198_jpg.rf.510e086e23f5100a6f38ae9f824394dd.jpg  \n",
            " extracting: valid/images/syn_1295_jpg.rf.66bf0c9d1c19c6b0a79e68b4f85b0352.jpg  \n",
            " extracting: valid/images/syn_1405_jpg.rf.4f6233ec9418ccf1f3f30633854e8590.jpg  \n",
            " extracting: valid/images/syn_1453_jpg.rf.0eda342f2f3a24adf8f61c40db8851e5.jpg  \n",
            " extracting: valid/images/syn_1556_jpg.rf.162bb6aa849a9de0abf37814a4ed53cd.jpg  \n",
            " extracting: valid/images/syn_1606_jpg.rf.a342041965d6ef86db98210ffb0c0174.jpg  \n",
            " extracting: valid/images/syn_1747_jpg.rf.331bd1a51f517a45acfbe5044d1cbfc8.jpg  \n",
            " extracting: valid/images/syn_1762_jpg.rf.204289efaff06a9f472df417acd70bfc.jpg  \n",
            " extracting: valid/images/syn_1767_jpg.rf.8c2cea7bddff22ef5b5aa197a4fe72d9.jpg  \n",
            " extracting: valid/images/syn_1782_jpg.rf.35678b9c3c1b4d41a8c6990c8a3a1c4a.jpg  \n",
            " extracting: valid/images/syn_1789_jpg.rf.d059b521b39ac171ee9e6341857b914b.jpg  \n",
            " extracting: valid/images/syn_1793_jpg.rf.f79ed6654430610b42c0d2ac25734f02.jpg  \n",
            " extracting: valid/images/syn_1817_jpg.rf.59c9e412b094f100155fdd56f09c221c.jpg  \n",
            " extracting: valid/images/syn_1855_jpg.rf.00cc6913e4799a6c83e01f6a3c978acd.jpg  \n",
            " extracting: valid/images/syn_197_jpg.rf.356048a114a21a92b7aebb9d8e75dc56.jpg  \n",
            " extracting: valid/images/syn_2167_jpg.rf.27094f58fb066c973e484d661c4a5a49.jpg  \n",
            " extracting: valid/images/syn_2199_jpg.rf.ccdf0d749e8e3d3d3c24d5eb9f7aca2e.jpg  \n",
            " extracting: valid/images/syn_2303_jpg.rf.a0561e2d4d6850c77307d0a4f01a4bd5.jpg  \n",
            " extracting: valid/images/syn_2423_jpg.rf.669eec7ad011ba9cfe6917bf80afecde.jpg  \n",
            " extracting: valid/images/syn_2480_jpg.rf.e0cb45a207626e1ac3dc29c20f91f84b.jpg  \n",
            " extracting: valid/images/syn_2568_jpg.rf.3dbc76e93df1ea0b5ad7cb76cfe11c32.jpg  \n",
            " extracting: valid/images/syn_2623_jpg.rf.ccc602ab9b743725e462bb1dd291c9f9.jpg  \n",
            " extracting: valid/images/syn_2654_jpg.rf.2d636c4bdefe4ad549e9b8a85b545e97.jpg  \n",
            " extracting: valid/images/syn_2658_jpg.rf.921d61d5e9a7aa084c57796e61c259ad.jpg  \n",
            " extracting: valid/images/syn_2724_jpg.rf.675d6836c16ac001f8ad312d96fd846d.jpg  \n",
            " extracting: valid/images/syn_2783_jpg.rf.77f6eb346e0432513435b9a8bf413b77.jpg  \n",
            " extracting: valid/images/syn_286_jpg.rf.a9ff942a08598299f2108c0a34ad5f45.jpg  \n",
            " extracting: valid/images/syn_2903_jpg.rf.7d23b8d71f0426b1241d0fd0ec93268e.jpg  \n",
            " extracting: valid/images/syn_290_jpg.rf.5afcbcd76a2fb9b0095ff094047e5324.jpg  \n",
            " extracting: valid/images/syn_2915_jpg.rf.ce87786670e2ec922149483c015b0840.jpg  \n",
            " extracting: valid/images/syn_3013_jpg.rf.ae9adb26e48835efefaff23e75405a12.jpg  \n",
            " extracting: valid/images/syn_3036_jpg.rf.44e9eafcf1b5e8b064a411028b03c29b.jpg  \n",
            " extracting: valid/images/syn_3046_jpg.rf.f7b066ff0749352f152715adb7fa073f.jpg  \n",
            " extracting: valid/images/syn_3058_jpg.rf.4f27c7586bfc34da2c0a177293a4b0d9.jpg  \n",
            " extracting: valid/images/syn_3074_jpg.rf.b54aadf3579a6bb4fae530ed22601bf4.jpg  \n",
            " extracting: valid/images/syn_3084_jpg.rf.a7cace2c5b693ab092dd0ecc0e5f889d.jpg  \n",
            " extracting: valid/images/syn_3098_jpg.rf.11a0b71295005bd3338b65d976e44f5f.jpg  \n",
            " extracting: valid/images/syn_3123_jpg.rf.20a18af4762ae4b00f728c70ea9a2795.jpg  \n",
            " extracting: valid/images/syn_3139_jpg.rf.436e3679eded9c15dc410b591c730569.jpg  \n",
            " extracting: valid/images/syn_3185_jpg.rf.a5a8dba0a3e1280881afdb7bb9d8f20f.jpg  \n",
            " extracting: valid/images/syn_3266_jpg.rf.65c9c6335bc0c1d92f1b86e230e98000.jpg  \n",
            " extracting: valid/images/syn_3324_jpg.rf.f5954b3cbcadf698359d30a299dd678e.jpg  \n",
            " extracting: valid/images/syn_3401_jpg.rf.f2f0a97b85f5ef0a373ed607ca4ca6c8.jpg  \n",
            " extracting: valid/images/syn_3436_jpg.rf.62657e93877c8875e81975ae14580e59.jpg  \n",
            " extracting: valid/images/syn_3478_jpg.rf.892f1ed999c2988da0dc8ee6f3564d23.jpg  \n",
            " extracting: valid/images/syn_3713_jpg.rf.0c9e210ef0a658704f83de97520b5840.jpg  \n",
            " extracting: valid/images/syn_3726_jpg.rf.42341d01133f3c99268c16f7a9a9e007.jpg  \n",
            " extracting: valid/images/syn_376_jpg.rf.9960307fe3c232f89779ddbfc976631e.jpg  \n",
            " extracting: valid/images/syn_3774_jpg.rf.7db75a536371fd1fbf361ad403ecec49.jpg  \n",
            " extracting: valid/images/syn_3783_jpg.rf.e921848d223b18255e389253103a21f5.jpg  \n",
            " extracting: valid/images/syn_383_jpg.rf.d1a6b1583f4c9d3a29a8a497c9441fc0.jpg  \n",
            " extracting: valid/images/syn_3874_jpg.rf.f4cdb39e293a5cdb9b7e351e267330b2.jpg  \n",
            " extracting: valid/images/syn_3973_jpg.rf.c6ecc33eea29f5b01f904b7edb6b59b3.jpg  \n",
            " extracting: valid/images/syn_400_jpg.rf.b6b70e55e08dd39baa40cb03821db83b.jpg  \n",
            " extracting: valid/images/syn_4038_jpg.rf.ca91647505fce26999068b207e7d4116.jpg  \n",
            " extracting: valid/images/syn_4056_jpg.rf.09e558283b8c4e12a47de7f8b4b9231c.jpg  \n",
            " extracting: valid/images/syn_4059_jpg.rf.f53fda76a8963e0c3d51fc2a520eb7e6.jpg  \n",
            " extracting: valid/images/syn_4089_jpg.rf.b08b55a84af622ac72bc09f098934fe3.jpg  \n",
            " extracting: valid/images/syn_4108_jpg.rf.302d1f7c9858695c977d648d3c523596.jpg  \n",
            " extracting: valid/images/syn_4139_jpg.rf.acf8acbf6cf1f60e3ef8e271a2db517a.jpg  \n",
            " extracting: valid/images/syn_4161_jpg.rf.d6e564a1eab107909c1e5f60aa853287.jpg  \n",
            " extracting: valid/images/syn_4175_jpg.rf.14087c3e48df9715da144043aa95648f.jpg  \n",
            " extracting: valid/images/syn_4204_jpg.rf.215abe2c4e80868c746e4206af88c92e.jpg  \n",
            " extracting: valid/images/syn_4218_jpg.rf.0b4b63645b6c7de85253767571a6575f.jpg  \n",
            " extracting: valid/images/syn_4316_jpg.rf.deeb895dc6fc5247bdd71d3c858f8fe6.jpg  \n",
            " extracting: valid/images/syn_4319_jpg.rf.b2a0655a350ff88b9f6a65f9870087d7.jpg  \n",
            " extracting: valid/images/syn_4433_jpg.rf.178717b9e1744f4a7c7db4dbfcdabd69.jpg  \n",
            " extracting: valid/images/syn_4528_jpg.rf.cf558f660cdea6ee52734aafe8e052bf.jpg  \n",
            " extracting: valid/images/syn_4931_jpg.rf.0e75070b67299389e69575aa52d5095e.jpg  \n",
            "   creating: valid/labels/\n",
            "  inflating: valid/labels/01025_plate_1_png.rf.3a37c79e045db80bc9085a4cdceb5969.txt  \n",
            "  inflating: valid/labels/01052_plate_1_png.rf.86472786b5d1989dfb55a7b37969ba60.txt  \n",
            "  inflating: valid/labels/01072_plate_1_png.rf.ae8847cc02fab9f9606927ac36317495.txt  \n",
            "  inflating: valid/labels/01082_plate_1_png.rf.0f0d87c7dc50b03f27f179a0b6f33c8c.txt  \n",
            "  inflating: valid/labels/0108_plate_1_png.rf.bc34162044e5e90a6e141f55f842f869.txt  \n",
            "  inflating: valid/labels/01097_plate_1_png.rf.444d8b9a0615ffb96b0e5f270a55404c.txt  \n",
            "  inflating: valid/labels/01104_plate_1_png.rf.33de3503d3861c4eed29e099da0e31bd.txt  \n",
            "  inflating: valid/labels/01105_plate_1_png.rf.218ed18d5dd03c21436c2b7058ed6178.txt  \n",
            "  inflating: valid/labels/01121_plate_1_png.rf.0c589d4b508d26002940bda0f63ec44f.txt  \n",
            "  inflating: valid/labels/01144_plate_1_png.rf.2d2095a97c3bd285669666287a907f8c.txt  \n",
            "  inflating: valid/labels/01146_plate_1_png.rf.16fde5e00399349b48109caf74ae534b.txt  \n",
            "  inflating: valid/labels/01158_plate_1_png.rf.c5a4c96ba4a939cd05c275f33ba0c318.txt  \n",
            "  inflating: valid/labels/01162_plate_1_png.rf.cc2ca5ebd2d7b5efd331d204b48e2daf.txt  \n",
            "  inflating: valid/labels/01172_plate_1_png.rf.ae75b601aed016975b82e12d64f9ff87.txt  \n",
            "  inflating: valid/labels/01193_plate_1_png.rf.6f0995a7d1e347950adbe0289c4041e2.txt  \n",
            "  inflating: valid/labels/01199_plate_1_png.rf.a7c51bebda9398be16669afee67fd650.txt  \n",
            "  inflating: valid/labels/0121_plate_1_png.rf.b208d4eb7d8e18963286fe0514277b8a.txt  \n",
            "  inflating: valid/labels/012_plate_1_png.rf.804ec8f3752753c2847e2013f9089fc9.txt  \n",
            "  inflating: valid/labels/0144_plate_1_png.rf.f029fe29d8d5a9d6ed7d1b1628de9052.txt  \n",
            "  inflating: valid/labels/0151_plate_1_png.rf.ca21bc0c249007c8a4fd6c63853696b9.txt  \n",
            "  inflating: valid/labels/0159_plate_1_png.rf.174181298e70fdcab926c8539671d1ca.txt  \n",
            "  inflating: valid/labels/0163_plate_1_png.rf.223ee7ac95232824769bc035ef17f556.txt  \n",
            "  inflating: valid/labels/0191_plate_1_png.rf.0822fc885353146edd7ecdc82c658bc2.txt  \n",
            "  inflating: valid/labels/0199_plate_1_png.rf.c8e611c1b8e1fd9031e23e943f8ad92e.txt  \n",
            "  inflating: valid/labels/0200_plate_1_png.rf.5d2654778d47e0d2d17e23172da127b9.txt  \n",
            "  inflating: valid/labels/0201_plate_1_png.rf.183d407fa2be349d935128cc510f2571.txt  \n",
            " extracting: valid/labels/0209_plate_1_png.rf.dd36e438ec22731e797f128243cf9576.txt  \n",
            "  inflating: valid/labels/020_plate_1_png.rf.ff3bd8fb318ad6bfade6a76dec308d1a.txt  \n",
            "  inflating: valid/labels/0221_plate_1_png.rf.4df2ab7d0b17260489ed8cbd6339d768.txt  \n",
            "  inflating: valid/labels/0225_plate_1_png.rf.4abaa73b3c200b885ec66821039c4759.txt  \n",
            "  inflating: valid/labels/0244_plate_1_png.rf.4ce43d8cc4b8684a8d6436fc002afd72.txt  \n",
            "  inflating: valid/labels/0252_plate_1_png.rf.77d1b423d8019e0acab4f3ad97f03d88.txt  \n",
            "  inflating: valid/labels/0260_plate_1_png.rf.0eaf0e358255c3d268e6878ebc7817dc.txt  \n",
            "  inflating: valid/labels/0266_plate_1_png.rf.ddfaaf0801ec367aef374143c01d5393.txt  \n",
            "  inflating: valid/labels/0288_plate_1_png.rf.a6956380f321bc187da7a77757b982f0.txt  \n",
            "  inflating: valid/labels/0290_plate_1_png.rf.404f9646e1baeb6c9d33ea4b12e33462.txt  \n",
            "  inflating: valid/labels/0295_plate_1_png.rf.07797453c8146e41f1ed558791692a51.txt  \n",
            "  inflating: valid/labels/0298_plate_1_png.rf.a0b4fd9cfcc02392963e6dc0d23c1be1.txt  \n",
            "  inflating: valid/labels/0306_plate_1_png.rf.39186cc2f61325b2586765e2c3f156aa.txt  \n",
            "  inflating: valid/labels/0313_plate_1_png.rf.4a8e7a0f086f01313831c84e063197b2.txt  \n",
            "  inflating: valid/labels/0321_plate_1_png.rf.797961313d3124a9c8ea0c6ba46c0513.txt  \n",
            "  inflating: valid/labels/0327_plate_1_png.rf.3301212f84bc9acececce974fcb5a357.txt  \n",
            "  inflating: valid/labels/0333_plate_1_png.rf.99c0f768ba5dc19e5776f9b199903af7.txt  \n",
            "  inflating: valid/labels/0334_plate_1_png.rf.1c3af5d4db472acabf8a3f255d1f01f1.txt  \n",
            "  inflating: valid/labels/0344_plate_1_png.rf.fe29382803256a423ed61a3fb8735590.txt  \n",
            "  inflating: valid/labels/0347_plate_1_png.rf.c3d6563c2f73ad54221122668efa61da.txt  \n",
            "  inflating: valid/labels/0355_plate_1_png.rf.aab5d35cefd5f458fb066e614a14c10b.txt  \n",
            "  inflating: valid/labels/0378_plate_1_png.rf.fd616e0e6028fd74766f3dd6207b89ea.txt  \n",
            "  inflating: valid/labels/0379_plate_1_png.rf.e3d878f4cf2c4c3385978b01d61f4455.txt  \n",
            "  inflating: valid/labels/0383_plate_1_png.rf.b04eb5cf6bbbf8a1a52b4258e7522186.txt  \n",
            "  inflating: valid/labels/0430_plate_1_png.rf.066a519663dd9f8b775ee3c983d473c6.txt  \n",
            "  inflating: valid/labels/0453_plate_1_png.rf.4323297969fd3e3c66be275bf9dd2564.txt  \n",
            "  inflating: valid/labels/0468_plate_1_png.rf.d51acb57ffe726f91e6588a6cb07994d.txt  \n",
            "  inflating: valid/labels/047_plate_1_png.rf.43e4e6e48fc89ac4cbde11dbdb3dbff4.txt  \n",
            "  inflating: valid/labels/0489_plate_1_png.rf.046398416102e813963f6d18dbf3b435.txt  \n",
            "  inflating: valid/labels/0503_plate_1_png.rf.9e5c60f86a5f0c48ed60e9d584255cb5.txt  \n",
            "  inflating: valid/labels/0507_plate_1_png.rf.97a91298f0445e4f20863a87858c1d1f.txt  \n",
            "  inflating: valid/labels/0511_plate_1_png.rf.6eaebd1f48b885a67d0b3e214a46b7ce.txt  \n",
            "  inflating: valid/labels/0524_plate_1_png.rf.95b2705a17aa07096091125af88a0604.txt  \n",
            "  inflating: valid/labels/052_plate_1_png.rf.98ab03a9e4b13c9fe8f27221f643afa0.txt  \n",
            "  inflating: valid/labels/0546_plate_1_png.rf.12bce7c54eab554772becff3f0002114.txt  \n",
            "  inflating: valid/labels/0554_plate_1_png.rf.08121c0cd441d8abc6b03ee46174e09e.txt  \n",
            "  inflating: valid/labels/0558_plate_1_png.rf.8fd9ea61066f815f4ca6bbcc8d5961c1.txt  \n",
            "  inflating: valid/labels/0560_plate_1_png.rf.1572a5aad10494970722f139dc518889.txt  \n",
            "  inflating: valid/labels/0562_plate_1_png.rf.609c0820dc8535a62a9f42f5ffd2f262.txt  \n",
            "  inflating: valid/labels/0573_plate_1_png.rf.8953875c03f6167ad031f934b6bd2ba7.txt  \n",
            "  inflating: valid/labels/0576_plate_1_png.rf.57219005559ceb074efdeb65b140c4a7.txt  \n",
            "  inflating: valid/labels/0590_plate_1_png.rf.067c659710a3ffaeafd3cf99022721ef.txt  \n",
            "  inflating: valid/labels/0605_plate_1_png.rf.85279f13ef898fc38d9d44b8b67f8338.txt  \n",
            "  inflating: valid/labels/0612_plate_1_png.rf.058c5729e29f31ca7a109dc68883d780.txt  \n",
            "  inflating: valid/labels/061_plate_1_png.rf.f288450e67ec0c371cadd1b9f06653fe.txt  \n",
            "  inflating: valid/labels/0626_plate_1_png.rf.147529bb21f249064eeb62f989279b41.txt  \n",
            "  inflating: valid/labels/062_plate_1_png.rf.843781cec1030db55c22081fa044ad9f.txt  \n",
            "  inflating: valid/labels/0651_plate_1_png.rf.bcd0f00c62a88a6036ef3f62a9c804a9.txt  \n",
            "  inflating: valid/labels/0661_plate_1_png.rf.ab3e03b457698137b26dce77f9c49679.txt  \n",
            "  inflating: valid/labels/0670_plate_1_png.rf.7161c3e78bc98c751618b0a325729ab0.txt  \n",
            "  inflating: valid/labels/0686_plate_1_png.rf.0ce77b0cbaf1416d9bf4d43358b12aea.txt  \n",
            "  inflating: valid/labels/0687_plate_1_png.rf.007e44bd55bdcded51b7d920fc3809c9.txt  \n",
            "  inflating: valid/labels/0700_plate_1_png.rf.aec516bdab3e61fc07155a0c0b054579.txt  \n",
            "  inflating: valid/labels/0709_plate_1_png.rf.6f75af7887adb90d918602e9db8a95e4.txt  \n",
            "  inflating: valid/labels/0716_plate_1_png.rf.97bbf2aec5f9a99d6a309a67c0cb2898.txt  \n",
            "  inflating: valid/labels/0723_plate_1_png.rf.b7da378d15b3a56f90dcdf5c87d0ac39.txt  \n",
            "  inflating: valid/labels/0726_plate_1_png.rf.c770d75418284e5b5edba6e017edd947.txt  \n",
            "  inflating: valid/labels/0729_plate_1_png.rf.f7d5bb5f39d8ab473360fd09cc6380c2.txt  \n",
            "  inflating: valid/labels/0767_plate_1_png.rf.3990ab4693a3c8a778b77ddc9fbfa432.txt  \n",
            "  inflating: valid/labels/0788_plate_1_png.rf.3e8e281727f44bebf27364ab872bce88.txt  \n",
            "  inflating: valid/labels/0792_plate_1_png.rf.122270b276bc88346bf7e6e5ad18022b.txt  \n",
            "  inflating: valid/labels/0798_plate_1_png.rf.f7b6474c555d2d2564fa28318f25cf83.txt  \n",
            "  inflating: valid/labels/0800_plate_1_png.rf.a7b12793f2c157845d992418cd5565d7.txt  \n",
            "  inflating: valid/labels/0813_plate_1_png.rf.0b35d0bd59ea39d4a806b31631d70b52.txt  \n",
            "  inflating: valid/labels/0822_plate_1_png.rf.0a2bc5a5b739f7050bb25b2679a892ee.txt  \n",
            "  inflating: valid/labels/0824_plate_1_png.rf.f906619527d3206708b7769a3fd063de.txt  \n",
            "  inflating: valid/labels/083_plate_1_png.rf.d662919795b05d757d1ddebd5c1f361e.txt  \n",
            "  inflating: valid/labels/0861_plate_1_png.rf.b3e16420e52471d5a6ae4f35b5b729cb.txt  \n",
            "  inflating: valid/labels/0875_plate_1_png.rf.aecc8cccdd980acf5c51bfa93dca8660.txt  \n",
            "  inflating: valid/labels/0876_plate_1_png.rf.0296c4ab5c73a3ec029b85551cfc08ee.txt  \n",
            "  inflating: valid/labels/0886_plate_1_png.rf.231fd890c8f61dca16ee95ad7e3d8471.txt  \n",
            "  inflating: valid/labels/088_plate_1_png.rf.a178b216e86864a4a1b9566ca7ba29f0.txt  \n",
            "  inflating: valid/labels/0890_plate_1_png.rf.4d6447ff2d8ad13a8a11efc5fccbdfa6.txt  \n",
            "  inflating: valid/labels/0894_plate_1_png.rf.dc118ada2bc789fa4c39fb51074ad309.txt  \n",
            "  inflating: valid/labels/08_plate_1_png.rf.a65227081f28ff5cd4b147a6a81d2bcf.txt  \n",
            "  inflating: valid/labels/092_plate_1_png.rf.7f4b109b189b9337e916929c963073a5.txt  \n",
            "  inflating: valid/labels/0931_plate_1_png.rf.b96f09e92ae154854e21b390e8beeff6.txt  \n",
            "  inflating: valid/labels/0935_plate_1_png.rf.6ed5526a75b97e2637c2bde0b8acb3b5.txt  \n",
            "  inflating: valid/labels/0938_plate_1_png.rf.33077766b3c0e8a8bb54a51a474d5330.txt  \n",
            "  inflating: valid/labels/0948_plate_1_png.rf.09675f0cea2a8220cb321a696aaf2acf.txt  \n",
            "  inflating: valid/labels/097_plate_1_png.rf.72bd4fca7f41bd066dacfb3204c47c93.txt  \n",
            "  inflating: valid/labels/0990_plate_1_png.rf.0bde7d26d5895b9541efbb5d1785b60a.txt  \n",
            "  inflating: valid/labels/0994_plate_1_png.rf.d4466c0e0cb865b093fd35cb558c2d7b.txt  \n",
            "  inflating: valid/labels/0f33ec50063c55eaf9e20e6cdb73a61da2caaea9f5f20f295413b535d1511ff5-jpg_plate_1_png.rf.bb851701b26b03ca4dc54b0b6cfebbd9.txt  \n",
            "  inflating: valid/labels/10_png.rf.ec50e98bc9b1e2b63f6f200f2d95f310.txt  \n",
            "  inflating: valid/labels/1349_plate_1_png.rf.8cc046152846f7bba23293e1d0b80b17.txt  \n",
            "  inflating: valid/labels/1356_plate_1_png.rf.5f987928a4c6d609be3bc30ef5a29b07.txt  \n",
            "  inflating: valid/labels/1399_plate_1_png.rf.2703ac8de4f31c90900eb8aa07e47cf0.txt  \n",
            "  inflating: valid/labels/1420_plate_1_png.rf.105f57ec8c453b6b9e6a7d2e87bfa7d4.txt  \n",
            "  inflating: valid/labels/1448_plate_1_png.rf.7bd8fcff158a4ea9991ebf1f0557d454.txt  \n",
            "  inflating: valid/labels/14621db8f82185bd3f30f3727911be9357f7d9999f26db9d6500e89148a81725-jpg_plate_1_png.rf.d9f14c345247fb1cbfaa6c22a455896b.txt  \n",
            "  inflating: valid/labels/1464_plate_1_png.rf.bd2f487c73155eefeeb9a9d9651643d4.txt  \n",
            "  inflating: valid/labels/1470_plate_1_png.rf.a8e26531f97110361aa8bfa8372a1c53.txt  \n",
            "  inflating: valid/labels/1471_plate_1_png.rf.96b4497e67be96d8747ac6943cb250f9.txt  \n",
            "  inflating: valid/labels/1496b4327e6f33bf4954abb2ce9bb4c8780e69d4da0290ebb43f74d90acd4e52-jpg_plate_1_png.rf.d4fdc7b7f5cc28fd5bfb3f8b1993c8d1.txt  \n",
            " extracting: valid/labels/1554_plate_1_png.rf.1d444ca57686fa6d4855d00e50c8313d.txt  \n",
            "  inflating: valid/labels/1565_plate_1_png.rf.20e941c6b5514888a0497fb588071ed6.txt  \n",
            "  inflating: valid/labels/1571_plate_1_png.rf.e32e4906023a04aeed1abe52ce7ebdf9.txt  \n",
            "  inflating: valid/labels/1592_plate_1_png.rf.2cbc27a954877be57287a172ce0e7ff5.txt  \n",
            "  inflating: valid/labels/1620_plate_1_png.rf.73e3a215e1e9d8a6573de8c8a7422b0f.txt  \n",
            "  inflating: valid/labels/1670_plate_1_png.rf.6db6b5055a1bf6fadd659390baf247dd.txt  \n",
            "  inflating: valid/labels/1679_plate_1_png.rf.70ce05cc7fe99409b346965f38c97311.txt  \n",
            "  inflating: valid/labels/1687_plate_1_png.rf.c1a01641f784757757487e95643ab222.txt  \n",
            "  inflating: valid/labels/1690_plate_1_png.rf.a2963f3e15545521a0099d3aecd77141.txt  \n",
            "  inflating: valid/labels/1720_plate_1_png.rf.d8bc715d549bd30d576482d63146c289.txt  \n",
            "  inflating: valid/labels/1725_plate_1_png.rf.75f9fc5e8e4d6ee94cadebec652ab7c4.txt  \n",
            "  inflating: valid/labels/1730_plate_1_png.rf.e96081242480de496ab10247a06cb225.txt  \n",
            "  inflating: valid/labels/1739_plate_1_png.rf.53e93f6e10cd0dbc9556b54db71120d3.txt  \n",
            " extracting: valid/labels/1750_plate_1_png.rf.d7436eb29b2162cd7e58eb98f129c804.txt  \n",
            "  inflating: valid/labels/1797_plate_1_png.rf.58e7fe6c5d5b82a226723131a905e8b9.txt  \n",
            "  inflating: valid/labels/1803_plate_1_png.rf.28b5f201fd68e311e4e39cacbf0abb3a.txt  \n",
            "  inflating: valid/labels/1805_plate_1_png.rf.3530b2e7da31c9b137a1364afc363173.txt  \n",
            "  inflating: valid/labels/1811_plate_1_png.rf.5f46002ac5f2303967bf7a826eb8c4af.txt  \n",
            "  inflating: valid/labels/1813_plate_1_png.rf.cfa72d357c4d6b45653c79f03c23840a.txt  \n",
            "  inflating: valid/labels/1825_plate_1_png.rf.5a07a83328cc9d8413712837673812fa.txt  \n",
            "  inflating: valid/labels/1832_plate_1_png.rf.c423912c135c0d658bdc6393fd0f34fb.txt  \n",
            "  inflating: valid/labels/1834_plate_1_png.rf.01e4afa60d1ee6b7be7cd91c26edc842.txt  \n",
            "  inflating: valid/labels/1854_plate_1_png.rf.e790558355b3cda860e7233c387d50de.txt  \n",
            "  inflating: valid/labels/1860_plate_1_png.rf.b975edc3c7d41e93f0a5e3a052cd40d8.txt  \n",
            "  inflating: valid/labels/1890_plate_1_png.rf.8d13c068f387cde99ef5c1b0c599ebc9.txt  \n",
            "  inflating: valid/labels/1921_plate_1_png.rf.e5d240b2076314bd09a8a59884c7b2d9.txt  \n",
            "  inflating: valid/labels/1927_plate_1_png.rf.d52fecce9741216b24bb099374d1e996.txt  \n",
            "  inflating: valid/labels/1980_plate_1_png.rf.3bef3b1df1f04f8e01ec60aa2c986f6d.txt  \n",
            "  inflating: valid/labels/1992_plate_1_png.rf.a152007a007d8bd7107179489d0445f2.txt  \n",
            "  inflating: valid/labels/1c5d3dd87e977791053e18c6a8ababd8262aff98e66627e4d29984091302ac3f-jpg_plate_1_png.rf.223326a48e4f93e9f0441a71bfab110f.txt  \n",
            "  inflating: valid/labels/2017_plate_1_png.rf.cd162690affa806b1a77425e3b0719aa.txt  \n",
            "  inflating: valid/labels/2043_plate_1_png.rf.898f4fccc29a6250433c28c7722a9ced.txt  \n",
            "  inflating: valid/labels/2044_plate_1_png.rf.1dc9db43e01a327de3b8ef0d1c6f1a5b.txt  \n",
            "  inflating: valid/labels/2080_plate_1_png.rf.3c115a28ce952f90ed7461b0328317fc.txt  \n",
            "  inflating: valid/labels/2116_plate_1_png.rf.e66537868b027995e11ff73f6aef3b38.txt  \n",
            "  inflating: valid/labels/2140_plate_1_png.rf.ef4f88e00de0f14e8db921d5b2ed8729.txt  \n",
            "  inflating: valid/labels/2193_plate_1_png.rf.1be759a0ba5a5facccff7d2dec7ca229.txt  \n",
            "  inflating: valid/labels/2206_plate_1_png.rf.95b8f444dc2bc365d1c059020e0c6dc5.txt  \n",
            "  inflating: valid/labels/2213_plate_1_png.rf.2b8569d97a50bd882a1dad8356051335.txt  \n",
            "  inflating: valid/labels/2220_plate_1_png.rf.f7024c28f54e6ce00c0f2c67f9225ddf.txt  \n",
            "  inflating: valid/labels/2355_plate_1_png.rf.08e4e0a5ba5a24f5ebdafbe8ab8ae614.txt  \n",
            "  inflating: valid/labels/2399_plate_1_png.rf.1377fbde524a0b67c24ac183448d077f.txt  \n",
            "  inflating: valid/labels/2407_plate_1_png.rf.ae5ba7d4ca2fb48b73f0fdf90ecd6381.txt  \n",
            "  inflating: valid/labels/267a841eef99887f629861d4bd86df6a4619522cbe428f558a82a96b44089d09-jpg_plate_1_png.rf.9b33fcc796dacd08f88c7bdc25a7a2b7.txt  \n",
            "  inflating: valid/labels/3102afdd000aa9d68d04509d4f7acf7a9952860c63c1f680a22b0b0379851a11-jpg_plate_1_png.rf.81c58052cd3690acc55ad5d8dfae5754.txt  \n",
            "  inflating: valid/labels/345c45e8998186b0713f2b5568a57c3abe405819f58a107940d975a500ecf72d-jpg_plate_1_png.rf.e625a0438305081049ebf59b7c3cc2ee.txt  \n",
            "  inflating: valid/labels/3541f58a89b02b9bb74c047cad4463df8c04a3eaadf33e1fb572e13bc524c87d-jpg_plate_1_png.rf.5cc0f9c08532b10f0b2c770daa052782.txt  \n",
            "  inflating: valid/labels/3bd8bb1fbeaec3086f90dda8b78c06cf44677321d3cf5883ea5155a2f96e8868-jpg_plate_1_png.rf.f56f99986ba13c1bf0bdbd6197f18ed7.txt  \n",
            "  inflating: valid/labels/3d4685a6a2ce5ed812c383bd2abf506973d10160df5f2f5c08f7c10551a66733-jpg_plate_1_png.rf.e03772e77611e4b739cc5923052d7be3.txt  \n",
            "  inflating: valid/labels/46_png.rf.41d80e6bf42ad082582074c3c9d03418.txt  \n",
            "  inflating: valid/labels/4c4553f5f928eb9d931b3ce97bfc6fafcae1eb6e98e5235fd11669f3bead920f-jpg_plate_1_png.rf.de6fb0af4365753413d20c4f51dd2a49.txt  \n",
            "  inflating: valid/labels/5694da44bc5a1e13f0cb3fde2ed80d5bf3f7021144f796de70c3355a0b829048-jpg_plate_1_png.rf.2ae77ef3bf02e94e1f90e5e3309b56bb.txt  \n",
            "  inflating: valid/labels/658fa432205c076a963991a61710765cfbde369a132bc41fdc9fbe0ec0b515a7-jpg_plate_1_png.rf.b66670e58e410bebcfc6b52ef9b68c9f.txt  \n",
            "  inflating: valid/labels/65c082ad81d8b1d82e329193760dfa83b9cfa63116c188614d21f3fe9af10540-jpg_plate_1_png.rf.d8ea2f5e1b4f58f32e0c1a420e4b98c2.txt  \n",
            "  inflating: valid/labels/69c733b04d05956257d89f69dd7503e3193b8506f92b59f46340620882bdf03c-jpg_plate_1_png.rf.ff30c7d24ee4494bfdb48b4790913611.txt  \n",
            "  inflating: valid/labels/6fcca2c76ec29c4ac71827bbd1cb21bef8071e3a46877b97d49f722391079d1d-jpg_plate_1_png.rf.a2b0b2d6145cda417c5a01fa3b203fad.txt  \n",
            "  inflating: valid/labels/7c6fcc66a2bb3ce8f0a6b7cdace1b169e0eba08d934a13f918d1ca603d4c0b95-jpg_plate_1_png.rf.bee4349665d18f48505aeb790cd7e3e9.txt  \n",
            "  inflating: valid/labels/8008e598dc4a11b931eb73b61c3ac7215cc8cdfbd209a12601e08ef09802a465-jpg_plate_1_png.rf.cd4f1e00211fa542a519b43e2707a550.txt  \n",
            "  inflating: valid/labels/83c60a9d57f15c4cc6a23c355505a58015deafd52cdd40d691e8752e81deedbd-jpg_plate_1_png.rf.516dc60c023890e53a8bdaed82aa6f40.txt  \n",
            "  inflating: valid/labels/8560c5bb7f45fefcad744dfd6ce44d90ffe58b2db2dc6c4e290b0230e2889cd1-jpg_plate_1_png.rf.8f57d4885ec844bd6296cd2e6a61ca1a.txt  \n",
            "  inflating: valid/labels/Capture5_PNG_jpg.rf.2cf905b953c1011f69a0d49bdb06a520.txt  \n",
            "  inflating: valid/labels/FB_IMG_1671888735143_jpg.rf.4e6c3c22ea5cdde4f27bb9904c7ed664.txt  \n",
            "  inflating: valid/labels/FB_IMG_1671888747255_jpg.rf.b636238cb4f18e7869160c38d172d4c9.txt  \n",
            "  inflating: valid/labels/FB_IMG_1671888749928_jpg.rf.54ec6f71435949a9824a6e10e6e18033.txt  \n",
            "  inflating: valid/labels/FB_IMG_1671888756426_jpg.rf.2f8c3e8d1774163d937ea66376cf5d02.txt  \n",
            "  inflating: valid/labels/FB_IMG_1671888758634_jpg.rf.8c5864411656d7802628071052b95e01.txt  \n",
            "  inflating: valid/labels/FB_IMG_1671888777233_jpg.rf.0d02623c6a4e7fc5432ec6274a98602e.txt  \n",
            "  inflating: valid/labels/FB_IMG_1671888789141_jpg.rf.de6799739ba849ada99394ba19f98f92.txt  \n",
            "  inflating: valid/labels/FB_IMG_1671888793228_jpg.rf.2c855213c203f75cc5316dd2064523d7.txt  \n",
            "  inflating: valid/labels/FB_IMG_1671888806698_jpg.rf.78941f2020e2105080f03cd5c1ae4415.txt  \n",
            "  inflating: valid/labels/FB_IMG_1671888822826_jpg.rf.aa9d0d37d096fc200f12de8172ab0884.txt  \n",
            "  inflating: valid/labels/FB_IMG_1671888828608_jpg.rf.136330033be5f273b8ae190aa56dd1f8.txt  \n",
            "  inflating: valid/labels/FB_IMG_1671888861447_jpg.rf.7e1f26a2f16a75b0f7be0ddaf138f361.txt  \n",
            "  inflating: valid/labels/FB_IMG_1671890159455_jpg.rf.ff50568a61baa8be1931652a93da2102.txt  \n",
            "  inflating: valid/labels/FB_IMG_1671890192329_jpg.rf.ecae7cfbfc6c8bd05b94bb02b0b3a62a.txt  \n",
            "  inflating: valid/labels/FB_IMG_1671890195293_jpg.rf.d42b350fcc05abb192192ca7d9dcec9e.txt  \n",
            "  inflating: valid/labels/FB_IMG_1671890197233_jpg.rf.054946a810df1a70fa04191627640ff2.txt  \n",
            "  inflating: valid/labels/FB_IMG_1671890229498_jpg.rf.df9dc13a64b1277501c36d1e165b429d.txt  \n",
            "  inflating: valid/labels/FB_IMG_1671890238676_jpg.rf.5659e7a353e44f10b665e241ce1d2a8f.txt  \n",
            "  inflating: valid/labels/FB_IMG_1671890242032_jpg.rf.8c273fbe9d7c32c8039cd45e5a859cdb.txt  \n",
            "  inflating: valid/labels/FB_IMG_1671890251948_jpg.rf.ff17483a07d98228a54dfae5f3182f13.txt  \n",
            "  inflating: valid/labels/FB_IMG_1671890254058_jpg.rf.01eb05946f0c4f18b6f404f401d51d4d.txt  \n",
            "  inflating: valid/labels/FB_IMG_1671890258078_jpg.rf.26a115a25d4e43a475f189706ff6b183.txt  \n",
            "  inflating: valid/labels/FB_IMG_1671890259854_jpg.rf.a8c8c3f0d6dd0e2de30d1a056f1a6310.txt  \n",
            "  inflating: valid/labels/FB_IMG_1671890261597_jpg.rf.fa8cebc12f8d0625801ed6e7d04ca1cc.txt  \n",
            "  inflating: valid/labels/FB_IMG_1671890263439_jpg.rf.0ac949d834ec48df8b12b1ed52ef6753.txt  \n",
            "  inflating: valid/labels/FB_IMG_1671890271996_jpg.rf.90f0a80d8315637cb048ea8add310940.txt  \n",
            "  inflating: valid/labels/FB_IMG_1671890285537_jpg.rf.e5e0ce24cd365330135fb3b0af822ad5.txt  \n",
            "  inflating: valid/labels/FB_IMG_1671890294655_jpg.rf.90fc40721ce501a560e2dd512566be3e.txt  \n",
            "  inflating: valid/labels/FB_IMG_1671890297660_jpg.rf.8f5270e2b3f14d459876826c48d21357.txt  \n",
            "  inflating: valid/labels/FB_IMG_1671890299737_jpg.rf.a3532640368cebf8578182b7a0dc56be.txt  \n",
            "  inflating: valid/labels/FB_IMG_1671890341733_jpg.rf.b4ec01668412c7423efec8e92d4716d3.txt  \n",
            "  inflating: valid/labels/FB_IMG_1671890365947_jpg.rf.695cf3ee8a2beeb81dbefde5b8719a81.txt  \n",
            "  inflating: valid/labels/FB_IMG_1671890401342_jpg.rf.6ab6fb9aa9bc6c66fc8ece1eafda5bc3.txt  \n",
            "  inflating: valid/labels/FB_IMG_1671890432098_jpg.rf.8e71b022f7de06af0a1d59615b4b84d2.txt  \n",
            "  inflating: valid/labels/FB_IMG_1671890435021_jpg.rf.82a9b75ca8e8a68dfefbaac1d82d3be0.txt  \n",
            "  inflating: valid/labels/FB_IMG_1671890448671_jpg.rf.e143ec6338ffd9aff56abff65c79dfa8.txt  \n",
            "  inflating: valid/labels/FB_IMG_1671890456577_jpg.rf.84192b95cfeacdf3777882e5f95499eb.txt  \n",
            "  inflating: valid/labels/FB_IMG_1671890492017_jpg.rf.a0150e329b1fd541a526a9858ea8ee2d.txt  \n",
            "  inflating: valid/labels/FB_IMG_1671890502109_jpg.rf.b7303cf9ca1a1c327310575d0a738d42.txt  \n",
            "  inflating: valid/labels/FB_IMG_1671890517393_jpg.rf.bc4af1fbbb3a77436a28ea7dab7fb964.txt  \n",
            "  inflating: valid/labels/FB_IMG_1671890528159_jpg.rf.2763ee5adbfd4c78dcff07746e4f3bbb.txt  \n",
            "  inflating: valid/labels/FB_IMG_1671890536467_jpg.rf.0003b4e1feef9b56f89062c68316c5a9.txt  \n",
            "  inflating: valid/labels/FB_IMG_1671890602235_jpg.rf.6c37f1381f4dc1c1a40427851bc17e67.txt  \n",
            "  inflating: valid/labels/FB_IMG_1671890615177_jpg.rf.2184e091320ffb92d8f900b9f44b59be.txt  \n",
            "  inflating: valid/labels/FB_IMG_1671890648460_jpg.rf.8dfcdcc8efc2469161b6b85a060bb38c.txt  \n",
            "  inflating: valid/labels/FB_IMG_1671890654073_jpg.rf.29276dc59bebe93388c92bdcff95e56c.txt  \n",
            "  inflating: valid/labels/FB_IMG_1671890666381_jpg.rf.86adfdd358911d0057fa680647e38d80.txt  \n",
            "  inflating: valid/labels/FB_IMG_1671890670998_jpg.rf.98132fe69971c32a7d828a91535c74e6.txt  \n",
            "  inflating: valid/labels/FB_IMG_1671890682938_jpg.rf.1a2e3493212f09b98514f88e4e30b5d4.txt  \n",
            "  inflating: valid/labels/FB_IMG_1671890701994_jpg.rf.507ccd2cbebccb3f56ec64f5b428c674.txt  \n",
            "  inflating: valid/labels/FB_IMG_1671890705497_jpg.rf.9e700a179dea2978736d06b1e5ec50f9.txt  \n",
            "  inflating: valid/labels/FB_IMG_1671890711412_jpg.rf.e83b753f6558b729baa38f8d0ded9893.txt  \n",
            "  inflating: valid/labels/FB_IMG_1671890724483_jpg.rf.3c67eca269cd1c08da51a03a7e623f30.txt  \n",
            "  inflating: valid/labels/FB_IMG_1671890807005_jpg.rf.d26c1d4b27d68c7b4d9fdda225f40111.txt  \n",
            "  inflating: valid/labels/FB_IMG_1671890817501_jpg.rf.2756efc65f5fc105be53aa749609c95f.txt  \n",
            "  inflating: valid/labels/FB_IMG_1671890849564_jpg.rf.746feba1f7bbd9756cb6498e33d41007.txt  \n",
            "  inflating: valid/labels/FB_IMG_1671890861924_jpg.rf.2dc1a264e489e96be366e5f3d7925bef.txt  \n",
            "  inflating: valid/labels/FB_IMG_1671890870710_jpg.rf.9b7923eae9022cbf840e32eb665ae713.txt  \n",
            "  inflating: valid/labels/FB_IMG_1671890882985_jpg.rf.414e7ad53a611a0b7d5bdfed2b3b7bc7.txt  \n",
            "  inflating: valid/labels/FB_IMG_1671890889166_jpg.rf.41da07ab2404ea5532d9f35ed5701b33.txt  \n",
            "  inflating: valid/labels/FB_IMG_1671890891147_jpg.rf.47d23278845056099225f2bc43e627d3.txt  \n",
            "  inflating: valid/labels/FB_IMG_1671890915202_jpg.rf.1fbf89bff04e8fead5778c712750d549.txt  \n",
            "  inflating: valid/labels/FB_IMG_1671890976706_jpg.rf.b842a5cc11a16ec5b50a065bebed76bc.txt  \n",
            "  inflating: valid/labels/FB_IMG_1671890994448_jpg.rf.c432ff3d35d4eda64548cab35da1a15e.txt  \n",
            "  inflating: valid/labels/FB_IMG_1671891005446_jpg.rf.988d115d6a57d031ec08519577ac221b.txt  \n",
            "  inflating: valid/labels/FB_IMG_1671891045514_jpg.rf.0ee80b8faa2275e0d73831e570be25c1.txt  \n",
            "  inflating: valid/labels/FB_IMG_1671891078926_jpg.rf.c3a7f6114bfadfe208cd2fcdc9dd44eb.txt  \n",
            "  inflating: valid/labels/FB_IMG_1671891095169_jpg.rf.cf0500bcc6ebef2e2494cda1e64ab30e.txt  \n",
            "  inflating: valid/labels/FB_IMG_1671891097526_jpg.rf.0fbc7c4ee4e47a58ebe855bb2b2ff8ad.txt  \n",
            "  inflating: valid/labels/FB_IMG_1671891107822_jpg.rf.9fec068265383d405f2063b9b24f7020.txt  \n",
            "  inflating: valid/labels/FB_IMG_1671891122255_jpg.rf.89e795b1b99a4db8a42e9aacb33a7067.txt  \n",
            "  inflating: valid/labels/FB_IMG_1671891131044_jpg.rf.c8b378b1834b6c6835e7a954ece06543.txt  \n",
            "  inflating: valid/labels/FB_IMG_1671891133868_jpg.rf.e3e364faa72b63918f0bf3246fb1ce7d.txt  \n",
            "  inflating: valid/labels/FB_IMG_1671891139215_jpg.rf.936a655bce7eb9425e875eba8aa7bb06.txt  \n",
            "  inflating: valid/labels/FB_IMG_1671892442333_jpg.rf.3bb6cc25cf7df7303b8e3d4da4ad831e.txt  \n",
            "  inflating: valid/labels/FB_IMG_1671892460688_jpg.rf.79fe1f43564182fb612d9aa863d9fc3b.txt  \n",
            "  inflating: valid/labels/FB_IMG_1671892464515_jpg.rf.e52b6cb9473cd8e53af51f41b801dae8.txt  \n",
            "  inflating: valid/labels/FB_IMG_1671892475572_jpg.rf.c3ba1c3f6c7aacb25a8575d86453a250.txt  \n",
            "  inflating: valid/labels/FB_IMG_1671892478747_jpg.rf.42e0ba92eda27f6d64012d1b05e60612.txt  \n",
            "  inflating: valid/labels/FB_IMG_1671892487890_jpg.rf.c10e2bf7c554783313b119376a774978.txt  \n",
            "  inflating: valid/labels/FB_IMG_1671892490370_jpg.rf.8671b2ab64e6632bc23b4739a7a187e3.txt  \n",
            "  inflating: valid/labels/FB_IMG_1671892492646_jpg.rf.96ecfac4c8693e48e207155728217a62.txt  \n",
            "  inflating: valid/labels/FB_IMG_1671892494859_jpg.rf.93cb532f38a9209511009ea8fff15242.txt  \n",
            "  inflating: valid/labels/FB_IMG_1671892497933_jpg.rf.a57dc514b9e17671d0e395555176ef82.txt  \n",
            "  inflating: valid/labels/FB_IMG_1671892507420_jpg.rf.18558237d8f7403746ff7d03494a3999.txt  \n",
            "  inflating: valid/labels/FB_IMG_1671892511526_jpg.rf.8497bf85d65d1468adb08276fc5ae508.txt  \n",
            "  inflating: valid/labels/FB_IMG_1671892521964_jpg.rf.df43956cf59a2fc726b1b2616eb60fe3.txt  \n",
            "  inflating: valid/labels/FB_IMG_1671892530706_jpg.rf.d2c88d674f6c05d8e9fb4133a18caeb4.txt  \n",
            "  inflating: valid/labels/FB_IMG_1671892539099_jpg.rf.3d70d18a0d7de1f77317c774f66a01b2.txt  \n",
            "  inflating: valid/labels/FB_IMG_1671892541258_jpg.rf.22762308eab31099315a7fe621d3f34c.txt  \n",
            "  inflating: valid/labels/a406dcc4585b50a38088bf14af081d66190d91e97c61a8abc5bbe124a6a5127b-jpg_plate_1_png.rf.fda48ccc7578187d369edbc697dd88ed.txt  \n",
            "  inflating: valid/labels/b845f364e4365c95865e5ab732430968a3dfd3da01cc654f29807de6d57005c2-jpg_plate_1_png.rf.9230c439d42fc219f1ec0c88d9159309.txt  \n",
            "  inflating: valid/labels/bb44503b60afc2857a63aab57b94b51b4ff1a55e5783baedacd0909f27dac803-jpg_plate_1_png.rf.75b916e5803780562613ee11b99e9b9a.txt  \n",
            "  inflating: valid/labels/be17df42781dbbcc4591ac2fb5f6ac786addfc4b6fb61286f391c96d78dc0e00-jpg_plate_1_png.rf.a8d7021fe4975c702c1af24d4250c678.txt  \n",
            "  inflating: valid/labels/d4e3e2b58f8132bdc019f592e1aa1ba611efcd33b15656d59199c574ba9df87b-jpg_plate_1_png.rf.727320e542b7d84cad4ebfb6291218a7.txt  \n",
            "  inflating: valid/labels/dcf60c7ea6dec100afdf27b1b1a8a4f55b494eb6fa982aa16337dfba325d4981-jpg_plate_1_png.rf.455088e76cf0989982fd4986cb751167.txt  \n",
            "  inflating: valid/labels/e4b3755b8ed82427be01c723414fad00e381c87591130b6a478b8248490c9ddb-jpg_plate_1_png.rf.1c41ed39bbdddcc1e68de37d2fa609c4.txt  \n",
            "  inflating: valid/labels/ee9be9178484f8e5f40378b5348f2abd1c645ea2e5c0647b712cc55df7f36275-jpg_plate_1_png.rf.bbdc0e72bcfd71ceddb8257df53d131f.txt  \n",
            "  inflating: valid/labels/gen_228_jpg.rf.35c17c2d6cba2c22e57eced045d6c1cc.txt  \n",
            "  inflating: valid/labels/gen_24_jpg.rf.a12cbe16339d18433df609e6f9e2efee.txt  \n",
            "  inflating: valid/labels/gen_300_jpg.rf.47abcb139c524718deb0b1c5a8bbffb7.txt  \n",
            "  inflating: valid/labels/gen_33_jpg.rf.3ee19159481105b968a4b37cd44b4d45.txt  \n",
            "  inflating: valid/labels/gen_387_jpg.rf.b9e4c885397817c8a25f82bc217b6388.txt  \n",
            "  inflating: valid/labels/image0001_jpg.rf.d2c851ecf0c71c171b8d1c07114924b1.txt  \n",
            "  inflating: valid/labels/image0006_jpg.rf.714f34350c0f3d31dd4f452a69d4656d.txt  \n",
            "  inflating: valid/labels/image0011_jpg.rf.9714729168afdb6fcc391407d35ddd13.txt  \n",
            "  inflating: valid/labels/image0012_jpg.rf.01bd48756868f85d5732f1ebf171721f.txt  \n",
            "  inflating: valid/labels/image0012_jpg.rf.46bf0c58bd9b5c9d5470f753aba52cd6.txt  \n",
            "  inflating: valid/labels/image0016_jpg.rf.8beeed075ed26ddbc2640a34d7a29b81.txt  \n",
            "  inflating: valid/labels/image0026_jpg.rf.a1aeb41f749da74fb21834a7541f1bbe.txt  \n",
            "  inflating: valid/labels/image0028_jpg.rf.f29af703fcd465e735fa241f78082f75.txt  \n",
            "  inflating: valid/labels/image0033_jpg.rf.c35597dce808b7b41d2ac57d9dea007f.txt  \n",
            "  inflating: valid/labels/image0041_jpg.rf.0887240e28cf3caaede773cf51dbb048.txt  \n",
            "  inflating: valid/labels/image0041_jpg.rf.7c3e9d1258c8df48b0c97519a666e585.txt  \n",
            "  inflating: valid/labels/image0052_jpg.rf.4103dcdea160e80c4d3e4a46a761ddec.txt  \n",
            "  inflating: valid/labels/image0055_jpg.rf.dd5f75557dfa48c9a3d3efa31dadfea3.txt  \n",
            "  inflating: valid/labels/image0073_jpg.rf.61ad1c8f7e23ce2cd73898b47106122b.txt  \n",
            "  inflating: valid/labels/image0077_jpg.rf.3df4c481d426b8c80fdaa940d12f575b.txt  \n",
            "  inflating: valid/labels/image0081_jpg.rf.0a21e6c7f5921fc0ec3e4ff1f8e56169.txt  \n",
            "  inflating: valid/labels/image0084_jpg.rf.1c8cffa6a4eb3cddbc5ead3ba73407ab.txt  \n",
            "  inflating: valid/labels/image0085_jpg.rf.34e10af40f2ee37873db4accbe2aabc5.txt  \n",
            "  inflating: valid/labels/image0089_jpg.rf.86cab2666141721562964c67b58dad81.txt  \n",
            "  inflating: valid/labels/image0090_jpg.rf.45d1158f31cca373562afeaae940ee0a.txt  \n",
            "  inflating: valid/labels/image0103_jpg.rf.35958e902b4a14e745e559da9a06e930.txt  \n",
            "  inflating: valid/labels/image0105_jpg.rf.bfa12722e29834218ad2d8197d75c9dd.txt  \n",
            "  inflating: valid/labels/image0109_jpg.rf.766c4cf40480c37e021c68920be72b6a.txt  \n",
            "  inflating: valid/labels/image0110_jpg.rf.ade31512288fc008d20f868197f52f66.txt  \n",
            "  inflating: valid/labels/image0111_jpg.rf.31190d652f443dcd5791381080ffeed5.txt  \n",
            "  inflating: valid/labels/image0115_jpg.rf.3029f3248a06f5daf001c1cef76b39c6.txt  \n",
            "  inflating: valid/labels/image0119_jpg.rf.53b983d9ed88f76e933ade03f546f5cf.txt  \n",
            "  inflating: valid/labels/image0119_jpg.rf.dfce658123fabe1b9cd554eea28917ba.txt  \n",
            "  inflating: valid/labels/image0121_jpg.rf.827fdf042e21d104ca6c6ea10ad3f65f.txt  \n",
            "  inflating: valid/labels/image0123_jpg.rf.de3cf8617327bcf1cb951f869331c5e1.txt  \n",
            "  inflating: valid/labels/image0124_jpg.rf.e16e4dd6fdbad44e29ae0ec6e3c9583f.txt  \n",
            "  inflating: valid/labels/image0127_jpg.rf.c82c7c7c04fb9fed46b93e748ba285a3.txt  \n",
            "  inflating: valid/labels/image0130_jpg.rf.b9a9d4b9d1570013d0d6e68e3ba3b111.txt  \n",
            "  inflating: valid/labels/image0135_jpg.rf.4d715b6296f6ce0e40e5b42568936740.txt  \n",
            "  inflating: valid/labels/image0139_jpg.rf.efe8c37712e390393244139ab8b4d3be.txt  \n",
            "  inflating: valid/labels/image0144_jpg.rf.3253f7f5cad2a93b298a151c25f4031b.txt  \n",
            "  inflating: valid/labels/image0153_jpg.rf.648a4b7488efeab4db78618cf2500a3f.txt  \n",
            "  inflating: valid/labels/image0160_jpg.rf.839292561e8d77cadd7de5afa910cb63.txt  \n",
            "  inflating: valid/labels/image0190_jpg.rf.84892195572331582dbf9232b2eb9f04.txt  \n",
            "  inflating: valid/labels/image0205_jpg.rf.070244a3c0b180475c9ec1dad6c5b1f0.txt  \n",
            "  inflating: valid/labels/image0209_jpg.rf.05a063d233dbbfa6ad1bf9f3a82e6619.txt  \n",
            "  inflating: valid/labels/image0219_jpg.rf.3321cdb59cff125122ae1b418dcb905b.txt  \n",
            "  inflating: valid/labels/image0224_jpg.rf.a639a4486bebbdcfc988c65db053e2d1.txt  \n",
            "  inflating: valid/labels/image0237_jpg.rf.13e1dad99b47c78676a6f7bf683f26fc.txt  \n",
            "  inflating: valid/labels/image0238_jpg.rf.4d128151eb26af13f03c83bc3990bd14.txt  \n",
            "  inflating: valid/labels/image0258_jpg.rf.ef0afac6cd857106e85ab3a5c2d4166c.txt  \n",
            "  inflating: valid/labels/image0306_jpg.rf.d67802e82f3d1ee96e84fbc45027550f.txt  \n",
            "  inflating: valid/labels/image0332_jpg.rf.527b80dcd9760f87caf64dfc4de45c43.txt  \n",
            "  inflating: valid/labels/image0355_jpg.rf.c7391a91677b9a281c211e434bec5888.txt  \n",
            "  inflating: valid/labels/image0369_jpg.rf.59a01b59e551777aa3ed568071bf176f.txt  \n",
            "  inflating: valid/labels/image0378_jpg.rf.5838799eb81d1df32d6e0a70fc7a6892.txt  \n",
            "  inflating: valid/labels/image0387_jpg.rf.6cfab13ae1d626d0b0c0a0d7cc38b4cb.txt  \n",
            "  inflating: valid/labels/image0392_jpg.rf.0c892892e44b7099bf3e83f62c128ba2.txt  \n",
            "  inflating: valid/labels/image0398_jpg.rf.e2f82a562293c8f1f0b42c1c033e57d3.txt  \n",
            "  inflating: valid/labels/image0409_jpg.rf.791c0c138de9f60068cbfbb3472b06f7.txt  \n",
            "  inflating: valid/labels/image0438_jpg.rf.3ce05c326daa11f37d795061bb1eceef.txt  \n",
            "  inflating: valid/labels/image0445_jpg.rf.160240e4adecc874bc72b2d359f3e29a.txt  \n",
            "  inflating: valid/labels/image0452_jpg.rf.401a6c2e44e721a5d130dc4aa59268b9.txt  \n",
            "  inflating: valid/labels/image0475_jpg.rf.aaa1b4518138f25b0b0b6aa234a2f5da.txt  \n",
            "  inflating: valid/labels/image0481_jpg.rf.822f5990ef2e2a045ec48db26e73f5fc.txt  \n",
            "  inflating: valid/labels/image0516_jpg.rf.744abde22768829d38ae565293291d11.txt  \n",
            "  inflating: valid/labels/image0522_jpg.rf.c3477acce9f79006ffd5aeaa28702191.txt  \n",
            "  inflating: valid/labels/image0547_jpg.rf.335612cbe2241fdcfe78ff70a56457cc.txt  \n",
            "  inflating: valid/labels/image0560_jpg.rf.fa179266a255ee0214495f7b316671ac.txt  \n",
            "  inflating: valid/labels/image0567_jpg.rf.6db035d07cc676e28778f4ae1bf074ec.txt  \n",
            "  inflating: valid/labels/image0594_jpg.rf.d1b657d1fc16e4c97e5a8685e75f3c24.txt  \n",
            " extracting: valid/labels/image0622_jpg.rf.41f6d85a407ad7f3dd640ae2a6332314.txt  \n",
            "  inflating: valid/labels/image0630_jpg.rf.d51fbdaabaf16322646eb042a399600f.txt  \n",
            "  inflating: valid/labels/image0631_jpg.rf.6a4eb4230b347471916b85d601fcc0b7.txt  \n",
            "  inflating: valid/labels/image0638_jpg.rf.6676c7bad28ff3841d9e333c596d8e5f.txt  \n",
            "  inflating: valid/labels/image0660_jpg.rf.dc3eee13949d0086cfc0b70bd8c7b941.txt  \n",
            "  inflating: valid/labels/image0680_jpg.rf.949b8434e4df43acce0ecd8de2b11aa4.txt  \n",
            "  inflating: valid/labels/image0685_jpg.rf.b51cd42e440d651ab6686990b2ff150a.txt  \n",
            "  inflating: valid/labels/image0701_jpg.rf.2ce0a38308d12b021be6d4a0409b84f5.txt  \n",
            "  inflating: valid/labels/image0705_jpg.rf.8789a5f3d7c97db873c6b460c4a66401.txt  \n",
            "  inflating: valid/labels/image0723_jpg.rf.1655bcc9a246743c861b0d62e1491a80.txt  \n",
            "  inflating: valid/labels/image0729_jpg.rf.c44a606f365e8d40b09162e1a8baad8f.txt  \n",
            "  inflating: valid/labels/image0753_jpg.rf.4487f2f01f6618e9722760b07c20ed84.txt  \n",
            "  inflating: valid/labels/image0756_jpg.rf.d0d4e880d93810f57d7feda89eba68c2.txt  \n",
            "  inflating: valid/labels/image0757_jpg.rf.dd657ffd30badc3c8280c7143fe7f2a0.txt  \n",
            "  inflating: valid/labels/image0764_jpg.rf.d9a832b26672a2e06a77d85133bd3d78.txt  \n",
            "  inflating: valid/labels/image0765_jpg.rf.62ffce8d4c3b633ea3994c5a3b5c668f.txt  \n",
            " extracting: valid/labels/image0774_jpg.rf.5b755c164c801d371599a8c82c522b97.txt  \n",
            "  inflating: valid/labels/image0776_jpg.rf.7a2770c7f1b9762d09b2ce0cb6636629.txt  \n",
            "  inflating: valid/labels/image0787_jpg.rf.65d31b9511adb13242c4e058bdb8936a.txt  \n",
            "  inflating: valid/labels/image0788_jpg.rf.ccf9278eedcbbb763ffeeae5593e1b8f.txt  \n",
            "  inflating: valid/labels/image0799_jpg.rf.daa6a65a10310db3f558112ac70069c4.txt  \n",
            "  inflating: valid/labels/image0802_jpg.rf.c77cdec231e7136c07b67cd90c0f602b.txt  \n",
            "  inflating: valid/labels/image0805_jpg.rf.492c0b069723c503fff38e3a54decfd0.txt  \n",
            "  inflating: valid/labels/image0814_jpg.rf.b66efd32f1558beaf639ff8f25138c18.txt  \n",
            "  inflating: valid/labels/image0818_jpg.rf.9a6fddf7687814a8d9304e4be0ef3031.txt  \n",
            "  inflating: valid/labels/image0819_jpg.rf.e3a9f0202a6a2730dd0bc1091598bfe0.txt  \n",
            "  inflating: valid/labels/image0830_jpg.rf.02862785c6fca10326519a758b1639ca.txt  \n",
            "  inflating: valid/labels/image0841_jpg.rf.0787e2e0aa47862a59bf189219337016.txt  \n",
            "  inflating: valid/labels/image0861_jpg.rf.ecbfe138891e0176305a059c95ef726d.txt  \n",
            "  inflating: valid/labels/image0894_jpg.rf.7f74d3aecdea0c78bb195135b74aef67.txt  \n",
            "  inflating: valid/labels/image0929_jpg.rf.5dc9273b5724438e925c0682ee8128cb.txt  \n",
            "  inflating: valid/labels/image0940_jpg.rf.48ec153de1143946d73b1dd2be9cf454.txt  \n",
            "  inflating: valid/labels/image0941_jpg.rf.e515c7c1145d5db5ed721a6c54c4665a.txt  \n",
            "  inflating: valid/labels/image0947_jpg.rf.90fef8dee14a222db702566a0ed0ce50.txt  \n",
            "  inflating: valid/labels/image0953_jpg.rf.6493106cea88e041eb6e098b8623b241.txt  \n",
            "  inflating: valid/labels/image0954_jpg.rf.024588753b6355d497f75325c13d4482.txt  \n",
            "  inflating: valid/labels/image0956_jpg.rf.6e820a5fc0ba1b5113639c35fc7df564.txt  \n",
            "  inflating: valid/labels/image0972_jpg.rf.56d6598885e14d9be292cbdb46851c3b.txt  \n",
            "  inflating: valid/labels/image0985_jpg.rf.eb2070cef4e8a3f4fc4a349b987dd4aa.txt  \n",
            "  inflating: valid/labels/image0993_jpg.rf.ba2d506b8f55503ddbb10d1ef1a9a9ec.txt  \n",
            "  inflating: valid/labels/image0996_jpg.rf.ffd98b22883e5f087b93e3d9bfcff9d6.txt  \n",
            "  inflating: valid/labels/image1006_jpg.rf.214fa54d4fd23d9fc18d3575be1b8e3d.txt  \n",
            "  inflating: valid/labels/image1029_jpg.rf.c2f6ade8cfdd59fcb6b14df4664e9580.txt  \n",
            "  inflating: valid/labels/image1068_jpg.rf.5f9b87de91b44e70f885e9527b751938.txt  \n",
            "  inflating: valid/labels/image1080_jpg.rf.41bef9b2c59bc83d49e8066786b29e83.txt  \n",
            "  inflating: valid/labels/image1101_jpg.rf.e1032ff44e617e32d918238a914e3105.txt  \n",
            "  inflating: valid/labels/image1117_jpg.rf.83b5a2c4e5f4f400b63d06f9984e39c5.txt  \n",
            "  inflating: valid/labels/image1120_jpg.rf.817571f4d65cb6f782d894a3be4c99e9.txt  \n",
            "  inflating: valid/labels/image1125_jpg.rf.682021c84ce253e14482e8fccdf92c80.txt  \n",
            "  inflating: valid/labels/image1136_jpg.rf.b05f4933e8c99e1fee30d5fe5b39f0ea.txt  \n",
            "  inflating: valid/labels/image1137_jpg.rf.b566424bf95ef4214c91d1e58fa106c9.txt  \n",
            "  inflating: valid/labels/image1140_jpg.rf.a2b4b4120ee8a25af8cad73fd82feb17.txt  \n",
            "  inflating: valid/labels/image1143_jpg.rf.de8fdf2bfe5e60c0e5acd4dbf4fa469d.txt  \n",
            "  inflating: valid/labels/image1153_jpg.rf.cab2204daf1683219c0e833a95d62471.txt  \n",
            "  inflating: valid/labels/image1154_jpg.rf.3cfcd94da99a96f35c9a02ec57751a93.txt  \n",
            "  inflating: valid/labels/image1171_jpg.rf.7d68d95c5b8686e3a57d5164fa10038c.txt  \n",
            "  inflating: valid/labels/image1177_jpg.rf.9e9dbaad6a407998e8a0d36554826b96.txt  \n",
            "  inflating: valid/labels/image1188_jpg.rf.7580282fd901645ccb129dc48cc332f4.txt  \n",
            "  inflating: valid/labels/image1210_jpg.rf.8b18dc4c3147ebdd577feffcfc9cff90.txt  \n",
            "  inflating: valid/labels/image1224_jpg.rf.f3a737f831469d2c353a95897cfc4834.txt  \n",
            "  inflating: valid/labels/image1240_jpg.rf.0c90b67c1d63f10448ab18b6db981f87.txt  \n",
            "  inflating: valid/labels/image1267_jpg.rf.f9dda566f9624160bfc70a6a9bf95eed.txt  \n",
            "  inflating: valid/labels/image1270_jpg.rf.4364fd06932a2696db592a67598b0c4e.txt  \n",
            "  inflating: valid/labels/image1274_jpg.rf.f2aec2b4ebcaa16610592afd1063d426.txt  \n",
            "  inflating: valid/labels/image1275_jpg.rf.95c354be802f2d6c2dd61f64a3206591.txt  \n",
            "  inflating: valid/labels/image1278_jpg.rf.52c220aa41c8d495f88a24a29dbfffc4.txt  \n",
            "  inflating: valid/labels/image1292_jpg.rf.04e176c07db314414596bc6da349c75a.txt  \n",
            " extracting: valid/labels/image1297_jpg.rf.6cceb6575c63cc409d8675d91c292ecc.txt  \n",
            "  inflating: valid/labels/image1312_jpg.rf.8da33b097f2435d4d2e1ea7ffe5a2a11.txt  \n",
            "  inflating: valid/labels/image1318_jpg.rf.e1c7c49751b8845d1d2f26c6b1615faa.txt  \n",
            "  inflating: valid/labels/image1338_jpg.rf.4ee398983bea2b608f91375b505f7a0e.txt  \n",
            "  inflating: valid/labels/image1341_jpg.rf.a94450f72eec273c832fa770e89f739b.txt  \n",
            "  inflating: valid/labels/image1344_jpg.rf.ee464bb3f2ed9f670d138498046fa4f5.txt  \n",
            "  inflating: valid/labels/image1345_jpg.rf.186e006f51f46845c3f72f5e8bbe8df2.txt  \n",
            "  inflating: valid/labels/image1360_jpg.rf.869bdb79232ee704efb77778a713ebf0.txt  \n",
            "  inflating: valid/labels/image1382_jpg.rf.d9d0197e400b26a3759f77002af70e0b.txt  \n",
            "  inflating: valid/labels/image1385_jpg.rf.cfe7eeb71377834b500f41ef3d280846.txt  \n",
            "  inflating: valid/labels/image1395_jpg.rf.da2e8cd972e0149cf2068f434a640efe.txt  \n",
            "  inflating: valid/labels/image1409_jpg.rf.4704fc289af5ec253cf0fb6980640a7e.txt  \n",
            "  inflating: valid/labels/image1414_jpg.rf.d03037157acb3d0e25ac4d4f0458f720.txt  \n",
            "  inflating: valid/labels/image1441_jpg.rf.782a8718ef0890c1e600e95541afefa7.txt  \n",
            "  inflating: valid/labels/image1449_jpg.rf.c27b6e8524057e422492bdc590afe024.txt  \n",
            "  inflating: valid/labels/image1464_jpg.rf.91902ffa245de25f59d9cad13c608350.txt  \n",
            "  inflating: valid/labels/image1477_jpg.rf.06dd18ed9c2c3df3ce7ccd559d0578fe.txt  \n",
            "  inflating: valid/labels/image1489_jpg.rf.12ac54836e1de5f218d8b44c23eabe76.txt  \n",
            "  inflating: valid/labels/image1500_jpg.rf.6b8f95769c8e727b8094ed4aee5e8928.txt  \n",
            "  inflating: valid/labels/image1504_jpg.rf.c330dc6eece97884ae3aba80d3dae202.txt  \n",
            "  inflating: valid/labels/image1521_jpg.rf.6fcb89b2043f934fc046831191ade9f4.txt  \n",
            "  inflating: valid/labels/image1523_jpg.rf.b5ceaa77594cc96453bc42e66afe6e2d.txt  \n",
            "  inflating: valid/labels/image1530_jpg.rf.60464cc9c4804473b45d88b28dc7460b.txt  \n",
            "  inflating: valid/labels/image1532_jpg.rf.38a6cf084d18cdf8dc29a101d4de401c.txt  \n",
            "  inflating: valid/labels/image1533_jpg.rf.74e78035c9fc8fc4447205f66bbbec0c.txt  \n",
            "  inflating: valid/labels/image1540_jpg.rf.8049244e12c88fa788639176bf7d9f18.txt  \n",
            "  inflating: valid/labels/image1552_jpg.rf.4969b62b4fbaa62a03bd8e9f0d385c98.txt  \n",
            "  inflating: valid/labels/image1562_jpg.rf.b220acb044a5c6f66a8db34dcbb29ada.txt  \n",
            "  inflating: valid/labels/image1581_jpg.rf.801a6bc3018cbf2f440900e19c3f2ce9.txt  \n",
            "  inflating: valid/labels/image1584_jpg.rf.32fd2a9d07ba693288a169d0d0cc89cd.txt  \n",
            "  inflating: valid/labels/image1595_jpg.rf.3482192f80efe5ed7aca314890e53c27.txt  \n",
            "  inflating: valid/labels/image1639_jpg.rf.d5846dc32cea167011d062fcf89455c2.txt  \n",
            "  inflating: valid/labels/image1650_jpg.rf.93177d22670bfb97ad842058155f652b.txt  \n",
            "  inflating: valid/labels/image1651_jpg.rf.cb14e1ac9867b12610aa02f6290f9933.txt  \n",
            "  inflating: valid/labels/image1652_jpg.rf.24284eacdb7315be5550d9d62dc118bd.txt  \n",
            "  inflating: valid/labels/image1654_jpg.rf.9111d7ee55560e27555b6c719896bc6d.txt  \n",
            "  inflating: valid/labels/image1678_jpg.rf.c1898a276ac4a69da80030ef2c2e444d.txt  \n",
            "  inflating: valid/labels/image1689_jpg.rf.1d3d3127e8ef221402311dd65b2a968b.txt  \n",
            "  inflating: valid/labels/image1691_jpg.rf.7399edaab073a600c118fce04cba512a.txt  \n",
            "  inflating: valid/labels/image1694_jpg.rf.5fae55a6b242b215d922edee5170946b.txt  \n",
            "  inflating: valid/labels/image1699_jpg.rf.e64e21b62c18b313041750140f8f6cef.txt  \n",
            "  inflating: valid/labels/image1701_jpg.rf.19c65a26609efe03c3858681de379168.txt  \n",
            "  inflating: valid/labels/image1706_jpg.rf.47e082d385a9c032ccbea4c15c5b7ca0.txt  \n",
            "  inflating: valid/labels/image1707_jpg.rf.488677d21cf35f6f5bd8307fc68a6a5a.txt  \n",
            "  inflating: valid/labels/image1714_jpg.rf.81e43b7299318bae62b8404fc7d5dbea.txt  \n",
            "  inflating: valid/labels/image1739_jpg.rf.219c2c8137ee58f2dabb07cb23afa07c.txt  \n",
            "  inflating: valid/labels/image1740_jpg.rf.0bf75309196be9bc41431c3218ded1c3.txt  \n",
            "  inflating: valid/labels/image1744_jpg.rf.a7ecca83bd61cb09f300db6ed8a5a19c.txt  \n",
            "  inflating: valid/labels/image1770_jpg.rf.878b4e4edf3c3d9901398d7edb628f9a.txt  \n",
            "  inflating: valid/labels/image1776_jpg.rf.e9c36a5234d95e5040278d86b2f12ed0.txt  \n",
            "  inflating: valid/labels/image1784_jpg.rf.d15be4802b78f257dd9e37e7db3ce02f.txt  \n",
            "  inflating: valid/labels/image1800_jpg.rf.a3faf60b7ff27e45b66a6f22dda2b0cc.txt  \n",
            "  inflating: valid/labels/image1811_jpg.rf.caa60399dec81ef5465a531e26985534.txt  \n",
            "  inflating: valid/labels/image1844_jpg.rf.1e0b9679bc6c7e56187b032fa5b20906.txt  \n",
            "  inflating: valid/labels/image1855_jpg.rf.f56c407da3eaa58843207927e05c9766.txt  \n",
            "  inflating: valid/labels/image1868_jpg.rf.08a3804b417594a5a19038d8696b545d.txt  \n",
            "  inflating: valid/labels/image1874_jpg.rf.4f6bd668f0acd148f10cd5ec1ade7be9.txt  \n",
            "  inflating: valid/labels/image1878_jpg.rf.bd7e02e35f7fb6c41db89f777607b66a.txt  \n",
            "  inflating: valid/labels/image1927_jpg.rf.e7a632b6f15d556e153446f316278013.txt  \n",
            "  inflating: valid/labels/image1933_jpg.rf.778f5382b5ebd74291b61bad9cd960d4.txt  \n",
            "  inflating: valid/labels/image1935_jpg.rf.664a678f81151a3e5d5060db64ba9974.txt  \n",
            "  inflating: valid/labels/image1947_jpg.rf.a0edfd318176207dd89c3477ca36fce6.txt  \n",
            "  inflating: valid/labels/image1954_jpg.rf.167d38baf633ccbf42da94b63cf28185.txt  \n",
            "  inflating: valid/labels/image1969_jpg.rf.cd4644005049d7f444e480ffecf14418.txt  \n",
            "  inflating: valid/labels/image1972_jpg.rf.5ff79743e79e479b751b0298a6819213.txt  \n",
            "  inflating: valid/labels/image1982_jpg.rf.09a1d5d24f77fe2d9341eff852c39acb.txt  \n",
            "  inflating: valid/labels/image1991_jpg.rf.b74618a1f4f097f0f47d6d805a63b0fe.txt  \n",
            "  inflating: valid/labels/image1997_jpg.rf.ae10c90bb71deab0b281e1cb3ff236b1.txt  \n",
            "  inflating: valid/labels/image2010_jpg.rf.43c08824fdf80e12f33654bbf15209de.txt  \n",
            "  inflating: valid/labels/image2019_jpg.rf.16453365b60bef335f5a8f895cd70037.txt  \n",
            "  inflating: valid/labels/image2041_jpg.rf.6a8f14ce0d50ef8b40181179b272e234.txt  \n",
            "  inflating: valid/labels/image2042_jpg.rf.5aa16cdd85fd968a9efe19e9000e999b.txt  \n",
            "  inflating: valid/labels/image2065_jpg.rf.c1569941b2a154cb78410c402c0bcaa8.txt  \n",
            "  inflating: valid/labels/image2072_jpg.rf.dfb3097ff0c02a0169d95fa895124c4c.txt  \n",
            "  inflating: valid/labels/image2092_jpg.rf.e119989c443fb3b72975cbdace25cfb9.txt  \n",
            "  inflating: valid/labels/image2132_jpg.rf.b1416917d86ea911988953d5af22f8f1.txt  \n",
            "  inflating: valid/labels/image2133_jpg.rf.e1ac9f80966b2772801b2f745d4786aa.txt  \n",
            " extracting: valid/labels/image2149_jpg.rf.b82d3002d43d57200e22de0298641113.txt  \n",
            " extracting: valid/labels/image2155_jpg.rf.74a89de9ad76dca573e6ba2a350e5a16.txt  \n",
            "  inflating: valid/labels/image2157_jpg.rf.183159109486ef2931f52cd8b5a07436.txt  \n",
            " extracting: valid/labels/image2175_jpg.rf.2b4261b9bbd24f785835c3f32a31bc7d.txt  \n",
            "  inflating: valid/labels/image2183_jpg.rf.e45de558e685879b27ad42de4138a5de.txt  \n",
            "  inflating: valid/labels/image2198_jpg.rf.02f19a209e873ed4505247812b956316.txt  \n",
            "  inflating: valid/labels/image2211_jpg.rf.9203874dfb4941daa684f4abd4761a82.txt  \n",
            "  inflating: valid/labels/image2231_jpg.rf.adcec5375aef23eebc28ce8c38bf52b3.txt  \n",
            "  inflating: valid/labels/image2241_jpg.rf.f76a5e5c922ffb2afa910485985c93e1.txt  \n",
            "  inflating: valid/labels/image2245_jpg.rf.05a8a25fb8b50602782ffdd064df5a6c.txt  \n",
            "  inflating: valid/labels/image2249_jpg.rf.92ed973fd82f9ce821028d814156ecf5.txt  \n",
            " extracting: valid/labels/image2271_jpg.rf.d557c0a8001b64c45cf6a6f84640d4a1.txt  \n",
            "  inflating: valid/labels/image2289_jpg.rf.d8d13baae82248810901f0833c560a37.txt  \n",
            "  inflating: valid/labels/image2301_jpg.rf.936dba9601c0ff8ef7582b34915e01fd.txt  \n",
            "  inflating: valid/labels/image2316_jpg.rf.fa347316378c3db499f9043ca8862871.txt  \n",
            "  inflating: valid/labels/image2317_jpg.rf.c21bce885634627ca4945a78b2b54182.txt  \n",
            "  inflating: valid/labels/image2332_jpg.rf.e727bf9115a7a7d445c17a66333a5f5a.txt  \n",
            "  inflating: valid/labels/image2339_jpg.rf.6eb46f431974bfc4b05ae6f7c30c65b0.txt  \n",
            "  inflating: valid/labels/image2345_jpg.rf.aace7799fff13dd57817e4700612b40b.txt  \n",
            " extracting: valid/labels/image2350_jpg.rf.03f0e984d8ef056f76e0aad863b4fce4.txt  \n",
            "  inflating: valid/labels/image2354_jpg.rf.c85bf7a1f57aa76cb47419f9c26ada17.txt  \n",
            "  inflating: valid/labels/image2359_jpg.rf.151685471284af3ee49e4fae8831b3c5.txt  \n",
            "  inflating: valid/labels/image2366_jpg.rf.f644c047e3aaff866048e930befbdb2c.txt  \n",
            "  inflating: valid/labels/image2388_jpg.rf.ab0ef09be54b7b49cc606624f6b0eac8.txt  \n",
            "  inflating: valid/labels/image2402_jpg.rf.13461ed7d6d0df0b7326e625a3cf9ee8.txt  \n",
            " extracting: valid/labels/image2403_jpg.rf.ddbabb5a8fad4353999834abb89f63b4.txt  \n",
            "  inflating: valid/labels/image2417_jpg.rf.890f1d047dca055e6c22b14ccc43875d.txt  \n",
            "  inflating: valid/labels/image2428_jpg.rf.118fa80a2ca34751d633b8493ce4b64a.txt  \n",
            "  inflating: valid/labels/image2455_jpg.rf.18839f811a283c0039cb96fc23e8fdb8.txt  \n",
            "  inflating: valid/labels/image2480_jpg.rf.f60b51368bec4212769fde828eb6383b.txt  \n",
            "  inflating: valid/labels/image2484_jpg.rf.860fc38d74fe23a8fb29c4892346fd10.txt  \n",
            "  inflating: valid/labels/image2499_jpg.rf.06214a89b328239dd2e482a0e4a9b6c8.txt  \n",
            "  inflating: valid/labels/image2500_jpg.rf.ef2024ac8a062d416f61b94375f27dd4.txt  \n",
            "  inflating: valid/labels/image2530_jpg.rf.fb5bc3c6a6b42c467f542f9ae3122097.txt  \n",
            "  inflating: valid/labels/image2534_jpg.rf.f25beab0d9360bad005e6d15fe274a43.txt  \n",
            "  inflating: valid/labels/image2544_jpg.rf.90aba01ea51aad2b993d39795bd72e7f.txt  \n",
            "  inflating: valid/labels/image2578_jpg.rf.4820d9596be8e12706fc43af651c5c27.txt  \n",
            "  inflating: valid/labels/syn_1026_jpg.rf.50d8703d48a27e6f2df196450351a39e.txt  \n",
            "  inflating: valid/labels/syn_1097_jpg.rf.0e7ea998ebfcde30ab8d10cd8eb5fe8c.txt  \n",
            "  inflating: valid/labels/syn_1121_jpg.rf.8237ffb02916be1f70a8116df09df133.txt  \n",
            "  inflating: valid/labels/syn_1136_jpg.rf.58b533e6ae563cf95ba7fe029caa5afe.txt  \n",
            "  inflating: valid/labels/syn_1169_jpg.rf.55e816d1ebdcbf998f6bd4ab61137ae5.txt  \n",
            "  inflating: valid/labels/syn_1171_jpg.rf.dbe3cfa5b0b0faebb84011bc282d60ad.txt  \n",
            "  inflating: valid/labels/syn_1198_jpg.rf.510e086e23f5100a6f38ae9f824394dd.txt  \n",
            "  inflating: valid/labels/syn_1295_jpg.rf.66bf0c9d1c19c6b0a79e68b4f85b0352.txt  \n",
            "  inflating: valid/labels/syn_1405_jpg.rf.4f6233ec9418ccf1f3f30633854e8590.txt  \n",
            "  inflating: valid/labels/syn_1453_jpg.rf.0eda342f2f3a24adf8f61c40db8851e5.txt  \n",
            "  inflating: valid/labels/syn_1556_jpg.rf.162bb6aa849a9de0abf37814a4ed53cd.txt  \n",
            "  inflating: valid/labels/syn_1606_jpg.rf.a342041965d6ef86db98210ffb0c0174.txt  \n",
            "  inflating: valid/labels/syn_1747_jpg.rf.331bd1a51f517a45acfbe5044d1cbfc8.txt  \n",
            "  inflating: valid/labels/syn_1762_jpg.rf.204289efaff06a9f472df417acd70bfc.txt  \n",
            "  inflating: valid/labels/syn_1767_jpg.rf.8c2cea7bddff22ef5b5aa197a4fe72d9.txt  \n",
            "  inflating: valid/labels/syn_1782_jpg.rf.35678b9c3c1b4d41a8c6990c8a3a1c4a.txt  \n",
            "  inflating: valid/labels/syn_1789_jpg.rf.d059b521b39ac171ee9e6341857b914b.txt  \n",
            "  inflating: valid/labels/syn_1793_jpg.rf.f79ed6654430610b42c0d2ac25734f02.txt  \n",
            "  inflating: valid/labels/syn_1817_jpg.rf.59c9e412b094f100155fdd56f09c221c.txt  \n",
            "  inflating: valid/labels/syn_1855_jpg.rf.00cc6913e4799a6c83e01f6a3c978acd.txt  \n",
            "  inflating: valid/labels/syn_197_jpg.rf.356048a114a21a92b7aebb9d8e75dc56.txt  \n",
            "  inflating: valid/labels/syn_2167_jpg.rf.27094f58fb066c973e484d661c4a5a49.txt  \n",
            "  inflating: valid/labels/syn_2199_jpg.rf.ccdf0d749e8e3d3d3c24d5eb9f7aca2e.txt  \n",
            "  inflating: valid/labels/syn_2303_jpg.rf.a0561e2d4d6850c77307d0a4f01a4bd5.txt  \n",
            "  inflating: valid/labels/syn_2423_jpg.rf.669eec7ad011ba9cfe6917bf80afecde.txt  \n",
            "  inflating: valid/labels/syn_2480_jpg.rf.e0cb45a207626e1ac3dc29c20f91f84b.txt  \n",
            " extracting: valid/labels/syn_2568_jpg.rf.3dbc76e93df1ea0b5ad7cb76cfe11c32.txt  \n",
            "  inflating: valid/labels/syn_2623_jpg.rf.ccc602ab9b743725e462bb1dd291c9f9.txt  \n",
            "  inflating: valid/labels/syn_2654_jpg.rf.2d636c4bdefe4ad549e9b8a85b545e97.txt  \n",
            "  inflating: valid/labels/syn_2658_jpg.rf.921d61d5e9a7aa084c57796e61c259ad.txt  \n",
            " extracting: valid/labels/syn_2724_jpg.rf.675d6836c16ac001f8ad312d96fd846d.txt  \n",
            "  inflating: valid/labels/syn_2783_jpg.rf.77f6eb346e0432513435b9a8bf413b77.txt  \n",
            "  inflating: valid/labels/syn_286_jpg.rf.a9ff942a08598299f2108c0a34ad5f45.txt  \n",
            "  inflating: valid/labels/syn_2903_jpg.rf.7d23b8d71f0426b1241d0fd0ec93268e.txt  \n",
            "  inflating: valid/labels/syn_290_jpg.rf.5afcbcd76a2fb9b0095ff094047e5324.txt  \n",
            "  inflating: valid/labels/syn_2915_jpg.rf.ce87786670e2ec922149483c015b0840.txt  \n",
            "  inflating: valid/labels/syn_3013_jpg.rf.ae9adb26e48835efefaff23e75405a12.txt  \n",
            "  inflating: valid/labels/syn_3036_jpg.rf.44e9eafcf1b5e8b064a411028b03c29b.txt  \n",
            "  inflating: valid/labels/syn_3046_jpg.rf.f7b066ff0749352f152715adb7fa073f.txt  \n",
            "  inflating: valid/labels/syn_3058_jpg.rf.4f27c7586bfc34da2c0a177293a4b0d9.txt  \n",
            "  inflating: valid/labels/syn_3074_jpg.rf.b54aadf3579a6bb4fae530ed22601bf4.txt  \n",
            "  inflating: valid/labels/syn_3084_jpg.rf.a7cace2c5b693ab092dd0ecc0e5f889d.txt  \n",
            "  inflating: valid/labels/syn_3098_jpg.rf.11a0b71295005bd3338b65d976e44f5f.txt  \n",
            "  inflating: valid/labels/syn_3123_jpg.rf.20a18af4762ae4b00f728c70ea9a2795.txt  \n",
            " extracting: valid/labels/syn_3139_jpg.rf.436e3679eded9c15dc410b591c730569.txt  \n",
            "  inflating: valid/labels/syn_3185_jpg.rf.a5a8dba0a3e1280881afdb7bb9d8f20f.txt  \n",
            "  inflating: valid/labels/syn_3266_jpg.rf.65c9c6335bc0c1d92f1b86e230e98000.txt  \n",
            "  inflating: valid/labels/syn_3324_jpg.rf.f5954b3cbcadf698359d30a299dd678e.txt  \n",
            "  inflating: valid/labels/syn_3401_jpg.rf.f2f0a97b85f5ef0a373ed607ca4ca6c8.txt  \n",
            "  inflating: valid/labels/syn_3436_jpg.rf.62657e93877c8875e81975ae14580e59.txt  \n",
            "  inflating: valid/labels/syn_3478_jpg.rf.892f1ed999c2988da0dc8ee6f3564d23.txt  \n",
            "  inflating: valid/labels/syn_3713_jpg.rf.0c9e210ef0a658704f83de97520b5840.txt  \n",
            " extracting: valid/labels/syn_3726_jpg.rf.42341d01133f3c99268c16f7a9a9e007.txt  \n",
            "  inflating: valid/labels/syn_376_jpg.rf.9960307fe3c232f89779ddbfc976631e.txt  \n",
            "  inflating: valid/labels/syn_3774_jpg.rf.7db75a536371fd1fbf361ad403ecec49.txt  \n",
            "  inflating: valid/labels/syn_3783_jpg.rf.e921848d223b18255e389253103a21f5.txt  \n",
            "  inflating: valid/labels/syn_383_jpg.rf.d1a6b1583f4c9d3a29a8a497c9441fc0.txt  \n",
            "  inflating: valid/labels/syn_3874_jpg.rf.f4cdb39e293a5cdb9b7e351e267330b2.txt  \n",
            "  inflating: valid/labels/syn_3973_jpg.rf.c6ecc33eea29f5b01f904b7edb6b59b3.txt  \n",
            "  inflating: valid/labels/syn_400_jpg.rf.b6b70e55e08dd39baa40cb03821db83b.txt  \n",
            "  inflating: valid/labels/syn_4038_jpg.rf.ca91647505fce26999068b207e7d4116.txt  \n",
            " extracting: valid/labels/syn_4056_jpg.rf.09e558283b8c4e12a47de7f8b4b9231c.txt  \n",
            "  inflating: valid/labels/syn_4059_jpg.rf.f53fda76a8963e0c3d51fc2a520eb7e6.txt  \n",
            "  inflating: valid/labels/syn_4089_jpg.rf.b08b55a84af622ac72bc09f098934fe3.txt  \n",
            "  inflating: valid/labels/syn_4108_jpg.rf.302d1f7c9858695c977d648d3c523596.txt  \n",
            " extracting: valid/labels/syn_4139_jpg.rf.acf8acbf6cf1f60e3ef8e271a2db517a.txt  \n",
            "  inflating: valid/labels/syn_4161_jpg.rf.d6e564a1eab107909c1e5f60aa853287.txt  \n",
            "  inflating: valid/labels/syn_4175_jpg.rf.14087c3e48df9715da144043aa95648f.txt  \n",
            "  inflating: valid/labels/syn_4204_jpg.rf.215abe2c4e80868c746e4206af88c92e.txt  \n",
            "  inflating: valid/labels/syn_4218_jpg.rf.0b4b63645b6c7de85253767571a6575f.txt  \n",
            "  inflating: valid/labels/syn_4316_jpg.rf.deeb895dc6fc5247bdd71d3c858f8fe6.txt  \n",
            "  inflating: valid/labels/syn_4319_jpg.rf.b2a0655a350ff88b9f6a65f9870087d7.txt  \n",
            " extracting: valid/labels/syn_4433_jpg.rf.178717b9e1744f4a7c7db4dbfcdabd69.txt  \n",
            "  inflating: valid/labels/syn_4528_jpg.rf.cf558f660cdea6ee52734aafe8e052bf.txt  \n",
            "  inflating: valid/labels/syn_4931_jpg.rf.0e75070b67299389e69575aa52d5095e.txt  \n"
          ]
        }
      ],
      "source": [
        "!pip install roboflow\n",
        "!sudo apt install unzip\n",
        "!curl -L \"https://app.roboflow.com/ds/rzvConBuZI?key=j55wFVmIhX\" -o dataset.zip\n",
        "!unzip dataset.zip; rm dataset.zip"
      ]
    },
    {
      "cell_type": "code",
      "execution_count": null,
      "metadata": {
        "colab": {
          "base_uri": "https://localhost:8080/"
        },
        "id": "BvBowpp2LQAZ",
        "outputId": "42fad841-047e-4949-c08c-1032ced8a224"
      },
      "outputs": [
        {
          "output_type": "execute_result",
          "data": {
            "text/plain": [
              "True"
            ]
          },
          "metadata": {},
          "execution_count": 3
        }
      ],
      "source": [
        "import torch\n",
        "torch.cuda.empty_cache()\n",
        "torch.cuda.is_available()\n",
        "\n"
      ]
    },
    {
      "cell_type": "code",
      "execution_count": null,
      "metadata": {
        "colab": {
          "base_uri": "https://localhost:8080/",
          "height": 1000
        },
        "id": "xtBSh12Rh61u",
        "outputId": "701384b5-369c-49a4-bfdb-8c80215e7f1e"
      },
      "outputs": [
        {
          "metadata": {
            "tags": null
          },
          "name": "stdout",
          "output_type": "stream",
          "text": [
            "Downloading https://github.com/ultralytics/assets/releases/download/v8.3.0/yolo12l.pt to 'yolo12l.pt'...\n"
          ]
        },
        {
          "metadata": {
            "tags": null
          },
          "name": "stderr",
          "output_type": "stream",
          "text": [
            "100%|██████████| 51.2M/51.2M [00:00<00:00, 212MB/s]\n"
          ]
        },
        {
          "metadata": {
            "tags": null
          },
          "name": "stdout",
          "output_type": "stream",
          "text": [
            "Transferred 1245/1245 items from pretrained weights\n",
            "Ultralytics 8.3.134 🚀 Python-3.11.12 torch-2.6.0+cu124 CUDA:0 (NVIDIA A100-SXM4-40GB, 40507MiB)\n",
            "\u001b[34m\u001b[1mengine/trainer: \u001b[0magnostic_nms=False, amp=True, augment=False, auto_augment=randaugment, batch=16, bgr=0.0, box=7.5, cache=False, cfg=None, classes=None, close_mosaic=10, cls=0.5, conf=None, copy_paste=0.0, copy_paste_mode=flip, cos_lr=False, cutmix=0.0, data=data.yaml, degrees=0.0, deterministic=True, device=0, dfl=1.5, dnn=False, dropout=0.0, dynamic=False, embed=None, epochs=100, erasing=0.4, exist_ok=False, fliplr=0.5, flipud=0.0, format=torchscript, fraction=1.0, freeze=None, half=False, hsv_h=0.015, hsv_s=0.7, hsv_v=0.4, imgsz=640, int8=False, iou=0.7, keras=False, kobj=1.0, line_width=None, lr0=0.01, lrf=0.01, mask_ratio=4, max_det=300, mixup=0.0, mode=train, model=yolo12l.pt, momentum=0.937, mosaic=1.0, multi_scale=False, name=train, nbs=64, nms=False, opset=None, optimize=False, optimizer=auto, overlap_mask=True, patience=100, perspective=0.0, plots=True, pose=12.0, pretrained=True, profile=False, project=None, rect=False, resume=False, retina_masks=False, save=True, save_conf=False, save_crop=False, save_dir=runs/detect/train, save_frames=False, save_json=False, save_period=-1, save_txt=False, scale=0.5, seed=0, shear=0.0, show=False, show_boxes=True, show_conf=True, show_labels=True, simplify=True, single_cls=False, source=None, split=val, stream_buffer=False, task=detect, time=None, tracker=botsort.yaml, translate=0.1, val=True, verbose=True, vid_stride=1, visualize=False, warmup_bias_lr=0.1, warmup_epochs=3.0, warmup_momentum=0.8, weight_decay=0.0005, workers=8, workspace=None\n",
            "Downloading https://ultralytics.com/assets/Arial.ttf to '/root/.config/Ultralytics/Arial.ttf'...\n"
          ]
        },
        {
          "metadata": {
            "tags": null
          },
          "name": "stderr",
          "output_type": "stream",
          "text": [
            "100%|██████████| 755k/755k [00:00<00:00, 14.5MB/s]"
          ]
        },
        {
          "metadata": {
            "tags": null
          },
          "name": "stdout",
          "output_type": "stream",
          "text": [
            "Overriding model.yaml nc=80 with nc=10\n",
            "\n",
            "                   from  n    params  module                                       arguments                     \n",
            "  0                  -1  1      1856  ultralytics.nn.modules.conv.Conv             [3, 64, 3, 2]                 \n",
            "  1                  -1  1     73984  ultralytics.nn.modules.conv.Conv             [64, 128, 3, 2]               \n",
            "  2                  -1  2    173824  ultralytics.nn.modules.block.C3k2            [128, 256, 2, True, 0.25]     \n",
            "  3                  -1  1    590336  ultralytics.nn.modules.conv.Conv             [256, 256, 3, 2]              \n",
            "  4                  -1  2    691712  ultralytics.nn.modules.block.C3k2            [256, 512, 2, True, 0.25]     \n",
            "  5                  -1  1   2360320  ultralytics.nn.modules.conv.Conv             [512, 512, 3, 2]              \n",
            "  6                  -1  4   4272944  ultralytics.nn.modules.block.A2C2f           [512, 512, 4, True, 4, True, 1.2]\n"
          ]
        },
        {
          "metadata": {
            "tags": null
          },
          "name": "stderr",
          "output_type": "stream",
          "text": [
            "\n"
          ]
        },
        {
          "metadata": {
            "tags": null
          },
          "name": "stdout",
          "output_type": "stream",
          "text": [
            "  7                  -1  1   2360320  ultralytics.nn.modules.conv.Conv             [512, 512, 3, 2]              \n",
            "  8                  -1  4   4272944  ultralytics.nn.modules.block.A2C2f           [512, 512, 4, True, 1, True, 1.2]\n",
            "  9                  -1  1         0  torch.nn.modules.upsampling.Upsample         [None, 2, 'nearest']          \n",
            " 10             [-1, 6]  1         0  ultralytics.nn.modules.conv.Concat           [1]                           \n",
            " 11                  -1  2   2102784  ultralytics.nn.modules.block.A2C2f           [1024, 512, 2, False, -1, True, 1.2]\n",
            " 12                  -1  1         0  torch.nn.modules.upsampling.Upsample         [None, 2, 'nearest']          \n",
            " 13             [-1, 4]  1         0  ultralytics.nn.modules.conv.Concat           [1]                           \n",
            " 14                  -1  2    592640  ultralytics.nn.modules.block.A2C2f           [1024, 256, 2, False, -1, True, 1.2]\n",
            " 15                  -1  1    590336  ultralytics.nn.modules.conv.Conv             [256, 256, 3, 2]              \n",
            " 16            [-1, 11]  1         0  ultralytics.nn.modules.conv.Concat           [1]                           \n",
            " 17                  -1  2   2037248  ultralytics.nn.modules.block.A2C2f           [768, 512, 2, False, -1, True, 1.2]\n",
            " 18                  -1  1   2360320  ultralytics.nn.modules.conv.Conv             [512, 512, 3, 2]              \n",
            " 19             [-1, 8]  1         0  ultralytics.nn.modules.conv.Concat           [1]                           \n",
            " 20                  -1  2   2496512  ultralytics.nn.modules.block.C3k2            [1024, 512, 2, True]          \n",
            " 21        [14, 17, 20]  1   1418734  ultralytics.nn.modules.head.Detect           [10, [256, 512, 512]]         \n",
            "YOLOv12l summary: 488 layers, 26,396,814 parameters, 26,396,798 gradients, 89.4 GFLOPs\n",
            "\n",
            "Transferred 1239/1245 items from pretrained weights\n",
            "Freezing layer 'model.21.dfl.conv.weight'\n",
            "\u001b[34m\u001b[1mAMP: \u001b[0mrunning Automatic Mixed Precision (AMP) checks...\n",
            "Downloading https://github.com/ultralytics/assets/releases/download/v8.3.0/yolo11n.pt to 'yolo11n.pt'...\n"
          ]
        },
        {
          "metadata": {
            "tags": null
          },
          "name": "stderr",
          "output_type": "stream",
          "text": [
            "100%|██████████| 5.35M/5.35M [00:00<00:00, 65.2MB/s]\n"
          ]
        },
        {
          "metadata": {
            "tags": null
          },
          "name": "stdout",
          "output_type": "stream",
          "text": [
            "\u001b[34m\u001b[1mAMP: \u001b[0mchecks passed ✅\n",
            "\u001b[34m\u001b[1mtrain: \u001b[0mFast image access ✅ (ping: 0.0±0.0 ms, read: 1255.1±794.2 MB/s, size: 53.4 KB)\n"
          ]
        },
        {
          "metadata": {
            "tags": null
          },
          "name": "stderr",
          "output_type": "stream",
          "text": [
            "\u001b[34m\u001b[1mtrain: \u001b[0mScanning /content/train/labels... 6633 images, 202 backgrounds, 0 corrupt: 100%|██████████| 6633/6633 [00:04<00:00, 1465.07it/s]\n"
          ]
        },
        {
          "metadata": {
            "tags": null
          },
          "name": "stdout",
          "output_type": "stream",
          "text": [
            "\u001b[34m\u001b[1mtrain: \u001b[0mNew cache created: /content/train/labels.cache\n",
            "WARNING ⚠️ Box and segment counts should be equal, but got len(segments) = 2377, len(boxes) = 29729. To resolve this only boxes will be used and all segments will be removed. To avoid this please supply either a detect or segment dataset, not a detect-segment mixed dataset.\n",
            "\u001b[34m\u001b[1malbumentations: \u001b[0mBlur(p=0.01, blur_limit=(3, 7)), MedianBlur(p=0.01, blur_limit=(3, 7)), ToGray(p=0.01, method='weighted_average', num_output_channels=3), CLAHE(p=0.01, clip_limit=(1.0, 4.0), tile_grid_size=(8, 8))\n",
            "\u001b[34m\u001b[1mval: \u001b[0mFast image access ✅ (ping: 0.0±0.0 ms, read: 581.7±338.2 MB/s, size: 35.3 KB)\n"
          ]
        },
        {
          "metadata": {
            "tags": null
          },
          "name": "stderr",
          "output_type": "stream",
          "text": [
            "\u001b[34m\u001b[1mval: \u001b[0mScanning /content/valid/labels... 607 images, 18 backgrounds, 0 corrupt: 100%|██████████| 607/607 [00:00<00:00, 1143.44it/s]"
          ]
        },
        {
          "metadata": {
            "tags": null
          },
          "name": "stdout",
          "output_type": "stream",
          "text": [
            "\u001b[34m\u001b[1mval: \u001b[0mNew cache created: /content/valid/labels.cache\n",
            "WARNING ⚠️ Box and segment counts should be equal, but got len(segments) = 224, len(boxes) = 2587. To resolve this only boxes will be used and all segments will be removed. To avoid this please supply either a detect or segment dataset, not a detect-segment mixed dataset.\n"
          ]
        },
        {
          "metadata": {
            "tags": null
          },
          "name": "stderr",
          "output_type": "stream",
          "text": [
            "\n"
          ]
        },
        {
          "metadata": {
            "tags": null
          },
          "name": "stdout",
          "output_type": "stream",
          "text": [
            "Plotting labels to runs/detect/train/labels.jpg... \n",
            "\u001b[34m\u001b[1moptimizer:\u001b[0m 'optimizer=auto' found, ignoring 'lr0=0.01' and 'momentum=0.937' and determining best 'optimizer', 'lr0' and 'momentum' automatically... \n",
            "\u001b[34m\u001b[1moptimizer:\u001b[0m SGD(lr=0.01, momentum=0.9) with parameter groups 205 weight(decay=0.0), 214 weight(decay=0.0005), 211 bias(decay=0.0)\n",
            "Image sizes 640 train, 640 val\n",
            "Using 8 dataloader workers\n",
            "Logging results to \u001b[1mruns/detect/train\u001b[0m\n",
            "Starting training for 100 epochs...\n",
            "\n",
            "      Epoch    GPU_mem   box_loss   cls_loss   dfl_loss  Instances       Size\n"
          ]
        },
        {
          "metadata": {
            "tags": null
          },
          "name": "stderr",
          "output_type": "stream",
          "text": [
            "      1/100      16.4G      1.586      2.446      1.635         32        640: 100%|██████████| 415/415 [02:13<00:00,  3.12it/s]\n",
            "                 Class     Images  Instances      Box(P          R      mAP50  mAP50-95): 100%|██████████| 19/19 [00:05<00:00,  3.24it/s]"
          ]
        },
        {
          "metadata": {
            "tags": null
          },
          "name": "stdout",
          "output_type": "stream",
          "text": [
            "                   all        607       2587      0.683      0.739      0.714      0.436\n"
          ]
        },
        {
          "metadata": {
            "tags": null
          },
          "name": "stderr",
          "output_type": "stream",
          "text": [
            "\n"
          ]
        },
        {
          "metadata": {
            "tags": null
          },
          "name": "stdout",
          "output_type": "stream",
          "text": [
            "\n",
            "      Epoch    GPU_mem   box_loss   cls_loss   dfl_loss  Instances       Size\n"
          ]
        },
        {
          "metadata": {
            "tags": null
          },
          "name": "stderr",
          "output_type": "stream",
          "text": [
            "      2/100      18.6G      1.482      1.692      1.525         74        640: 100%|██████████| 415/415 [02:04<00:00,  3.33it/s]\n",
            "                 Class     Images  Instances      Box(P          R      mAP50  mAP50-95): 100%|██████████| 19/19 [00:04<00:00,  3.87it/s]"
          ]
        },
        {
          "metadata": {
            "tags": null
          },
          "name": "stdout",
          "output_type": "stream",
          "text": [
            "                   all        607       2587      0.703      0.756       0.74      0.453\n"
          ]
        },
        {
          "metadata": {
            "tags": null
          },
          "name": "stderr",
          "output_type": "stream",
          "text": [
            "\n"
          ]
        },
        {
          "metadata": {
            "tags": null
          },
          "name": "stdout",
          "output_type": "stream",
          "text": [
            "\n",
            "      Epoch    GPU_mem   box_loss   cls_loss   dfl_loss  Instances       Size\n"
          ]
        },
        {
          "metadata": {
            "tags": null
          },
          "name": "stderr",
          "output_type": "stream",
          "text": [
            "      3/100      18.6G      1.535      1.684      1.566         42        640: 100%|██████████| 415/415 [02:00<00:00,  3.44it/s]\n",
            "                 Class     Images  Instances      Box(P          R      mAP50  mAP50-95): 100%|██████████| 19/19 [00:04<00:00,  3.92it/s]"
          ]
        },
        {
          "metadata": {
            "tags": null
          },
          "name": "stdout",
          "output_type": "stream",
          "text": [
            "                   all        607       2587      0.487      0.215      0.213      0.106\n"
          ]
        },
        {
          "metadata": {
            "tags": null
          },
          "name": "stderr",
          "output_type": "stream",
          "text": [
            "\n"
          ]
        },
        {
          "metadata": {
            "tags": null
          },
          "name": "stdout",
          "output_type": "stream",
          "text": [
            "\n",
            "      Epoch    GPU_mem   box_loss   cls_loss   dfl_loss  Instances       Size\n"
          ]
        },
        {
          "metadata": {
            "tags": null
          },
          "name": "stderr",
          "output_type": "stream",
          "text": [
            "      4/100      18.7G      1.551      1.695      1.585         77        640: 100%|██████████| 415/415 [02:00<00:00,  3.44it/s]\n",
            "                 Class     Images  Instances      Box(P          R      mAP50  mAP50-95): 100%|██████████| 19/19 [00:04<00:00,  3.94it/s]"
          ]
        },
        {
          "metadata": {
            "tags": null
          },
          "name": "stdout",
          "output_type": "stream",
          "text": [
            "                   all        607       2587      0.714      0.807      0.773      0.462\n"
          ]
        },
        {
          "metadata": {
            "tags": null
          },
          "name": "stderr",
          "output_type": "stream",
          "text": [
            "\n"
          ]
        },
        {
          "metadata": {
            "tags": null
          },
          "name": "stdout",
          "output_type": "stream",
          "text": [
            "\n",
            "      Epoch    GPU_mem   box_loss   cls_loss   dfl_loss  Instances       Size\n"
          ]
        },
        {
          "metadata": {
            "tags": null
          },
          "name": "stderr",
          "output_type": "stream",
          "text": [
            "      5/100      18.8G      1.512      1.591      1.559         84        640: 100%|██████████| 415/415 [02:00<00:00,  3.44it/s]\n",
            "                 Class     Images  Instances      Box(P          R      mAP50  mAP50-95): 100%|██████████| 19/19 [00:04<00:00,  3.84it/s]"
          ]
        },
        {
          "metadata": {
            "tags": null
          },
          "name": "stdout",
          "output_type": "stream",
          "text": [
            "                   all        607       2587      0.776      0.845      0.814      0.497\n"
          ]
        },
        {
          "metadata": {
            "tags": null
          },
          "name": "stderr",
          "output_type": "stream",
          "text": [
            "\n"
          ]
        },
        {
          "metadata": {
            "tags": null
          },
          "name": "stdout",
          "output_type": "stream",
          "text": [
            "\n",
            "      Epoch    GPU_mem   box_loss   cls_loss   dfl_loss  Instances       Size\n"
          ]
        },
        {
          "metadata": {
            "tags": null
          },
          "name": "stderr",
          "output_type": "stream",
          "text": [
            "      6/100      18.8G      1.474      1.496      1.536         60        640: 100%|██████████| 415/415 [02:00<00:00,  3.45it/s]\n",
            "                 Class     Images  Instances      Box(P          R      mAP50  mAP50-95): 100%|██████████| 19/19 [00:04<00:00,  3.90it/s]"
          ]
        },
        {
          "metadata": {
            "tags": null
          },
          "name": "stdout",
          "output_type": "stream",
          "text": [
            "                   all        607       2587      0.781      0.846      0.836      0.525\n"
          ]
        },
        {
          "metadata": {
            "tags": null
          },
          "name": "stderr",
          "output_type": "stream",
          "text": [
            "\n"
          ]
        },
        {
          "metadata": {
            "tags": null
          },
          "name": "stdout",
          "output_type": "stream",
          "text": [
            "\n",
            "      Epoch    GPU_mem   box_loss   cls_loss   dfl_loss  Instances       Size\n"
          ]
        },
        {
          "metadata": {
            "tags": null
          },
          "name": "stderr",
          "output_type": "stream",
          "text": [
            "      7/100      18.9G       1.45      1.439      1.512         64        640: 100%|██████████| 415/415 [02:01<00:00,  3.42it/s]\n",
            "                 Class     Images  Instances      Box(P          R      mAP50  mAP50-95): 100%|██████████| 19/19 [00:04<00:00,  3.88it/s]"
          ]
        },
        {
          "metadata": {
            "tags": null
          },
          "name": "stdout",
          "output_type": "stream",
          "text": [
            "                   all        607       2587      0.791       0.87      0.848      0.529\n"
          ]
        },
        {
          "metadata": {
            "tags": null
          },
          "name": "stderr",
          "output_type": "stream",
          "text": [
            "\n"
          ]
        },
        {
          "metadata": {
            "tags": null
          },
          "name": "stdout",
          "output_type": "stream",
          "text": [
            "\n",
            "      Epoch    GPU_mem   box_loss   cls_loss   dfl_loss  Instances       Size\n"
          ]
        },
        {
          "metadata": {
            "tags": null
          },
          "name": "stderr",
          "output_type": "stream",
          "text": [
            "      8/100      18.9G      1.424      1.392      1.501         65        640: 100%|██████████| 415/415 [02:00<00:00,  3.43it/s]\n",
            "                 Class     Images  Instances      Box(P          R      mAP50  mAP50-95): 100%|██████████| 19/19 [00:04<00:00,  3.97it/s]"
          ]
        },
        {
          "metadata": {
            "tags": null
          },
          "name": "stdout",
          "output_type": "stream",
          "text": [
            "                   all        607       2587      0.792      0.852      0.845      0.525\n"
          ]
        },
        {
          "metadata": {
            "tags": null
          },
          "name": "stderr",
          "output_type": "stream",
          "text": [
            "\n"
          ]
        },
        {
          "metadata": {
            "tags": null
          },
          "name": "stdout",
          "output_type": "stream",
          "text": [
            "\n",
            "      Epoch    GPU_mem   box_loss   cls_loss   dfl_loss  Instances       Size\n"
          ]
        },
        {
          "metadata": {
            "tags": null
          },
          "name": "stderr",
          "output_type": "stream",
          "text": [
            "      9/100        19G      1.408      1.347      1.492         51        640: 100%|██████████| 415/415 [02:01<00:00,  3.41it/s]\n",
            "                 Class     Images  Instances      Box(P          R      mAP50  mAP50-95): 100%|██████████| 19/19 [00:04<00:00,  3.90it/s]"
          ]
        },
        {
          "metadata": {
            "tags": null
          },
          "name": "stdout",
          "output_type": "stream",
          "text": [
            "                   all        607       2587      0.803      0.881      0.868      0.551\n"
          ]
        },
        {
          "metadata": {
            "tags": null
          },
          "name": "stderr",
          "output_type": "stream",
          "text": [
            "\n"
          ]
        },
        {
          "metadata": {
            "tags": null
          },
          "name": "stdout",
          "output_type": "stream",
          "text": [
            "\n",
            "      Epoch    GPU_mem   box_loss   cls_loss   dfl_loss  Instances       Size\n"
          ]
        },
        {
          "metadata": {
            "tags": null
          },
          "name": "stderr",
          "output_type": "stream",
          "text": [
            "     10/100      19.1G        1.4      1.322      1.483         77        640: 100%|██████████| 415/415 [02:01<00:00,  3.42it/s]\n",
            "                 Class     Images  Instances      Box(P          R      mAP50  mAP50-95): 100%|██████████| 19/19 [00:04<00:00,  3.89it/s]"
          ]
        },
        {
          "metadata": {
            "tags": null
          },
          "name": "stdout",
          "output_type": "stream",
          "text": [
            "                   all        607       2587      0.801      0.846      0.852      0.544\n"
          ]
        },
        {
          "metadata": {
            "tags": null
          },
          "name": "stderr",
          "output_type": "stream",
          "text": [
            "\n"
          ]
        },
        {
          "metadata": {
            "tags": null
          },
          "name": "stdout",
          "output_type": "stream",
          "text": [
            "\n",
            "      Epoch    GPU_mem   box_loss   cls_loss   dfl_loss  Instances       Size\n"
          ]
        },
        {
          "metadata": {
            "tags": null
          },
          "name": "stderr",
          "output_type": "stream",
          "text": [
            "     11/100      19.1G      1.379      1.283      1.465         76        640: 100%|██████████| 415/415 [02:01<00:00,  3.42it/s]\n",
            "                 Class     Images  Instances      Box(P          R      mAP50  mAP50-95): 100%|██████████| 19/19 [00:04<00:00,  3.85it/s]"
          ]
        },
        {
          "metadata": {
            "tags": null
          },
          "name": "stdout",
          "output_type": "stream",
          "text": [
            "                   all        607       2587      0.803      0.895      0.876      0.569\n"
          ]
        },
        {
          "metadata": {
            "tags": null
          },
          "name": "stderr",
          "output_type": "stream",
          "text": [
            "\n"
          ]
        },
        {
          "metadata": {
            "tags": null
          },
          "name": "stdout",
          "output_type": "stream",
          "text": [
            "\n",
            "      Epoch    GPU_mem   box_loss   cls_loss   dfl_loss  Instances       Size\n"
          ]
        },
        {
          "metadata": {
            "tags": null
          },
          "name": "stderr",
          "output_type": "stream",
          "text": [
            "     12/100      19.2G      1.381      1.278      1.459         53        640: 100%|██████████| 415/415 [02:02<00:00,  3.39it/s]\n",
            "                 Class     Images  Instances      Box(P          R      mAP50  mAP50-95): 100%|██████████| 19/19 [00:04<00:00,  4.00it/s]"
          ]
        },
        {
          "metadata": {
            "tags": null
          },
          "name": "stdout",
          "output_type": "stream",
          "text": [
            "                   all        607       2587      0.812      0.915       0.89       0.58\n"
          ]
        },
        {
          "metadata": {
            "tags": null
          },
          "name": "stderr",
          "output_type": "stream",
          "text": [
            "\n"
          ]
        },
        {
          "metadata": {
            "tags": null
          },
          "name": "stdout",
          "output_type": "stream",
          "text": [
            "\n",
            "      Epoch    GPU_mem   box_loss   cls_loss   dfl_loss  Instances       Size\n"
          ]
        },
        {
          "metadata": {
            "tags": null
          },
          "name": "stderr",
          "output_type": "stream",
          "text": [
            "     13/100      19.3G      1.357      1.252      1.446         67        640: 100%|██████████| 415/415 [02:01<00:00,  3.42it/s]\n",
            "                 Class     Images  Instances      Box(P          R      mAP50  mAP50-95): 100%|██████████| 19/19 [00:04<00:00,  3.96it/s]"
          ]
        },
        {
          "metadata": {
            "tags": null
          },
          "name": "stdout",
          "output_type": "stream",
          "text": [
            "                   all        607       2587      0.794      0.905      0.877      0.575\n"
          ]
        },
        {
          "metadata": {
            "tags": null
          },
          "name": "stderr",
          "output_type": "stream",
          "text": [
            "\n"
          ]
        },
        {
          "metadata": {
            "tags": null
          },
          "name": "stdout",
          "output_type": "stream",
          "text": [
            "\n",
            "      Epoch    GPU_mem   box_loss   cls_loss   dfl_loss  Instances       Size\n"
          ]
        },
        {
          "metadata": {
            "tags": null
          },
          "name": "stderr",
          "output_type": "stream",
          "text": [
            "     14/100      19.3G       1.35      1.232      1.442         70        640: 100%|██████████| 415/415 [02:03<00:00,  3.37it/s]\n",
            "                 Class     Images  Instances      Box(P          R      mAP50  mAP50-95): 100%|██████████| 19/19 [00:04<00:00,  3.87it/s]"
          ]
        },
        {
          "metadata": {
            "tags": null
          },
          "name": "stdout",
          "output_type": "stream",
          "text": [
            "                   all        607       2587      0.824      0.915      0.889      0.585\n"
          ]
        },
        {
          "metadata": {
            "tags": null
          },
          "name": "stderr",
          "output_type": "stream",
          "text": [
            "\n"
          ]
        },
        {
          "metadata": {
            "tags": null
          },
          "name": "stdout",
          "output_type": "stream",
          "text": [
            "\n",
            "      Epoch    GPU_mem   box_loss   cls_loss   dfl_loss  Instances       Size\n"
          ]
        },
        {
          "metadata": {
            "tags": null
          },
          "name": "stderr",
          "output_type": "stream",
          "text": [
            "     15/100      19.4G      1.339      1.214      1.432         85        640: 100%|██████████| 415/415 [02:02<00:00,  3.39it/s]\n",
            "                 Class     Images  Instances      Box(P          R      mAP50  mAP50-95): 100%|██████████| 19/19 [00:04<00:00,  3.91it/s]"
          ]
        },
        {
          "metadata": {
            "tags": null
          },
          "name": "stdout",
          "output_type": "stream",
          "text": [
            "                   all        607       2587      0.817      0.912       0.89       0.58\n"
          ]
        },
        {
          "metadata": {
            "tags": null
          },
          "name": "stderr",
          "output_type": "stream",
          "text": [
            "\n"
          ]
        },
        {
          "metadata": {
            "tags": null
          },
          "name": "stdout",
          "output_type": "stream",
          "text": [
            "\n",
            "      Epoch    GPU_mem   box_loss   cls_loss   dfl_loss  Instances       Size\n"
          ]
        },
        {
          "metadata": {
            "tags": null
          },
          "name": "stderr",
          "output_type": "stream",
          "text": [
            "     16/100      19.5G       1.34      1.199      1.442         54        640: 100%|██████████| 415/415 [02:02<00:00,  3.39it/s]\n",
            "                 Class     Images  Instances      Box(P          R      mAP50  mAP50-95): 100%|██████████| 19/19 [00:04<00:00,  3.84it/s]"
          ]
        },
        {
          "metadata": {
            "tags": null
          },
          "name": "stdout",
          "output_type": "stream",
          "text": [
            "                   all        607       2587      0.816      0.919      0.895      0.582\n"
          ]
        },
        {
          "metadata": {
            "tags": null
          },
          "name": "stderr",
          "output_type": "stream",
          "text": [
            "\n"
          ]
        },
        {
          "metadata": {
            "tags": null
          },
          "name": "stdout",
          "output_type": "stream",
          "text": [
            "\n",
            "      Epoch    GPU_mem   box_loss   cls_loss   dfl_loss  Instances       Size\n"
          ]
        },
        {
          "metadata": {
            "tags": null
          },
          "name": "stderr",
          "output_type": "stream",
          "text": [
            "     17/100      19.5G      1.323       1.18      1.426         60        640: 100%|██████████| 415/415 [02:02<00:00,  3.38it/s]\n",
            "                 Class     Images  Instances      Box(P          R      mAP50  mAP50-95): 100%|██████████| 19/19 [00:04<00:00,  3.88it/s]"
          ]
        },
        {
          "metadata": {
            "tags": null
          },
          "name": "stdout",
          "output_type": "stream",
          "text": [
            "                   all        607       2587       0.81      0.922      0.898      0.592\n"
          ]
        },
        {
          "metadata": {
            "tags": null
          },
          "name": "stderr",
          "output_type": "stream",
          "text": [
            "\n"
          ]
        },
        {
          "metadata": {
            "tags": null
          },
          "name": "stdout",
          "output_type": "stream",
          "text": [
            "\n",
            "      Epoch    GPU_mem   box_loss   cls_loss   dfl_loss  Instances       Size\n"
          ]
        },
        {
          "metadata": {
            "tags": null
          },
          "name": "stderr",
          "output_type": "stream",
          "text": [
            "     18/100      19.6G      1.315      1.158       1.42         63        640: 100%|██████████| 415/415 [02:01<00:00,  3.42it/s]\n",
            "                 Class     Images  Instances      Box(P          R      mAP50  mAP50-95): 100%|██████████| 19/19 [00:04<00:00,  3.83it/s]"
          ]
        },
        {
          "metadata": {
            "tags": null
          },
          "name": "stdout",
          "output_type": "stream",
          "text": [
            "                   all        607       2587      0.814      0.928        0.9      0.589\n"
          ]
        },
        {
          "metadata": {
            "tags": null
          },
          "name": "stderr",
          "output_type": "stream",
          "text": [
            "\n"
          ]
        },
        {
          "metadata": {
            "tags": null
          },
          "name": "stdout",
          "output_type": "stream",
          "text": [
            "\n",
            "      Epoch    GPU_mem   box_loss   cls_loss   dfl_loss  Instances       Size\n"
          ]
        },
        {
          "metadata": {
            "tags": null
          },
          "name": "stderr",
          "output_type": "stream",
          "text": [
            "     19/100      19.6G      1.302      1.147       1.41         49        640: 100%|██████████| 415/415 [02:02<00:00,  3.38it/s]\n",
            "                 Class     Images  Instances      Box(P          R      mAP50  mAP50-95): 100%|██████████| 19/19 [00:04<00:00,  3.87it/s]"
          ]
        },
        {
          "metadata": {
            "tags": null
          },
          "name": "stdout",
          "output_type": "stream",
          "text": [
            "                   all        607       2587      0.834      0.921      0.901      0.595\n"
          ]
        },
        {
          "metadata": {
            "tags": null
          },
          "name": "stderr",
          "output_type": "stream",
          "text": [
            "\n"
          ]
        },
        {
          "metadata": {
            "tags": null
          },
          "name": "stdout",
          "output_type": "stream",
          "text": [
            "\n",
            "      Epoch    GPU_mem   box_loss   cls_loss   dfl_loss  Instances       Size\n"
          ]
        },
        {
          "metadata": {
            "tags": null
          },
          "name": "stderr",
          "output_type": "stream",
          "text": [
            "     20/100      19.7G      1.305      1.137      1.409         59        640: 100%|██████████| 415/415 [02:01<00:00,  3.43it/s]\n",
            "                 Class     Images  Instances      Box(P          R      mAP50  mAP50-95): 100%|██████████| 19/19 [00:04<00:00,  3.89it/s]"
          ]
        },
        {
          "metadata": {
            "tags": null
          },
          "name": "stdout",
          "output_type": "stream",
          "text": [
            "                   all        607       2587      0.823       0.92      0.897      0.594\n"
          ]
        },
        {
          "metadata": {
            "tags": null
          },
          "name": "stderr",
          "output_type": "stream",
          "text": [
            "\n"
          ]
        },
        {
          "metadata": {
            "tags": null
          },
          "name": "stdout",
          "output_type": "stream",
          "text": [
            "\n",
            "      Epoch    GPU_mem   box_loss   cls_loss   dfl_loss  Instances       Size\n"
          ]
        },
        {
          "metadata": {
            "tags": null
          },
          "name": "stderr",
          "output_type": "stream",
          "text": [
            "     21/100      19.8G      1.296      1.125      1.406         84        640: 100%|██████████| 415/415 [02:02<00:00,  3.40it/s]\n",
            "                 Class     Images  Instances      Box(P          R      mAP50  mAP50-95): 100%|██████████| 19/19 [00:04<00:00,  3.81it/s]"
          ]
        },
        {
          "metadata": {
            "tags": null
          },
          "name": "stdout",
          "output_type": "stream",
          "text": [
            "                   all        607       2587      0.821      0.932      0.906      0.604\n"
          ]
        },
        {
          "metadata": {
            "tags": null
          },
          "name": "stderr",
          "output_type": "stream",
          "text": [
            "\n"
          ]
        },
        {
          "metadata": {
            "tags": null
          },
          "name": "stdout",
          "output_type": "stream",
          "text": [
            "\n",
            "      Epoch    GPU_mem   box_loss   cls_loss   dfl_loss  Instances       Size\n"
          ]
        },
        {
          "metadata": {
            "tags": null
          },
          "name": "stderr",
          "output_type": "stream",
          "text": [
            "     22/100      16.7G      1.293      1.117      1.402         72        640: 100%|██████████| 415/415 [02:04<00:00,  3.34it/s]\n",
            "                 Class     Images  Instances      Box(P          R      mAP50  mAP50-95): 100%|██████████| 19/19 [00:04<00:00,  3.93it/s]"
          ]
        },
        {
          "metadata": {
            "tags": null
          },
          "name": "stdout",
          "output_type": "stream",
          "text": [
            "                   all        607       2587      0.835      0.931      0.909      0.603\n"
          ]
        },
        {
          "metadata": {
            "tags": null
          },
          "name": "stderr",
          "output_type": "stream",
          "text": [
            "\n"
          ]
        },
        {
          "metadata": {
            "tags": null
          },
          "name": "stdout",
          "output_type": "stream",
          "text": [
            "\n",
            "      Epoch    GPU_mem   box_loss   cls_loss   dfl_loss  Instances       Size\n"
          ]
        },
        {
          "metadata": {
            "tags": null
          },
          "name": "stderr",
          "output_type": "stream",
          "text": [
            "     23/100      18.8G      1.274      1.098      1.391        105        640: 100%|██████████| 415/415 [02:01<00:00,  3.42it/s]\n",
            "                 Class     Images  Instances      Box(P          R      mAP50  mAP50-95): 100%|██████████| 19/19 [00:04<00:00,  3.93it/s]"
          ]
        },
        {
          "metadata": {
            "tags": null
          },
          "name": "stdout",
          "output_type": "stream",
          "text": [
            "                   all        607       2587      0.816      0.935      0.902      0.601\n"
          ]
        },
        {
          "metadata": {
            "tags": null
          },
          "name": "stderr",
          "output_type": "stream",
          "text": [
            "\n"
          ]
        },
        {
          "metadata": {
            "tags": null
          },
          "name": "stdout",
          "output_type": "stream",
          "text": [
            "\n",
            "      Epoch    GPU_mem   box_loss   cls_loss   dfl_loss  Instances       Size\n"
          ]
        },
        {
          "metadata": {
            "tags": null
          },
          "name": "stderr",
          "output_type": "stream",
          "text": [
            "     24/100      18.8G      1.276      1.089       1.39         92        640: 100%|██████████| 415/415 [02:03<00:00,  3.36it/s]\n",
            "                 Class     Images  Instances      Box(P          R      mAP50  mAP50-95): 100%|██████████| 19/19 [00:04<00:00,  3.94it/s]"
          ]
        },
        {
          "metadata": {
            "tags": null
          },
          "name": "stdout",
          "output_type": "stream",
          "text": [
            "                   all        607       2587       0.83      0.925      0.906        0.6\n"
          ]
        },
        {
          "metadata": {
            "tags": null
          },
          "name": "stderr",
          "output_type": "stream",
          "text": [
            "\n"
          ]
        },
        {
          "metadata": {
            "tags": null
          },
          "name": "stdout",
          "output_type": "stream",
          "text": [
            "\n",
            "      Epoch    GPU_mem   box_loss   cls_loss   dfl_loss  Instances       Size\n"
          ]
        },
        {
          "metadata": {
            "tags": null
          },
          "name": "stderr",
          "output_type": "stream",
          "text": [
            "     25/100      18.8G      1.273      1.079      1.384         75        640: 100%|██████████| 415/415 [02:02<00:00,  3.39it/s]\n",
            "                 Class     Images  Instances      Box(P          R      mAP50  mAP50-95): 100%|██████████| 19/19 [00:04<00:00,  3.88it/s]"
          ]
        },
        {
          "metadata": {
            "tags": null
          },
          "name": "stdout",
          "output_type": "stream",
          "text": [
            "                   all        607       2587       0.83      0.934      0.907      0.597\n"
          ]
        },
        {
          "metadata": {
            "tags": null
          },
          "name": "stderr",
          "output_type": "stream",
          "text": [
            "\n"
          ]
        },
        {
          "metadata": {
            "tags": null
          },
          "name": "stdout",
          "output_type": "stream",
          "text": [
            "\n",
            "      Epoch    GPU_mem   box_loss   cls_loss   dfl_loss  Instances       Size\n"
          ]
        },
        {
          "metadata": {
            "tags": null
          },
          "name": "stderr",
          "output_type": "stream",
          "text": [
            "     26/100      18.8G      1.268      1.065      1.388         91        640: 100%|██████████| 415/415 [02:01<00:00,  3.41it/s]\n",
            "                 Class     Images  Instances      Box(P          R      mAP50  mAP50-95): 100%|██████████| 19/19 [00:04<00:00,  3.87it/s]"
          ]
        },
        {
          "metadata": {
            "tags": null
          },
          "name": "stdout",
          "output_type": "stream",
          "text": [
            "                   all        607       2587       0.82      0.945      0.913      0.613\n"
          ]
        },
        {
          "metadata": {
            "tags": null
          },
          "name": "stderr",
          "output_type": "stream",
          "text": [
            "\n"
          ]
        },
        {
          "metadata": {
            "tags": null
          },
          "name": "stdout",
          "output_type": "stream",
          "text": [
            "\n",
            "      Epoch    GPU_mem   box_loss   cls_loss   dfl_loss  Instances       Size\n"
          ]
        },
        {
          "metadata": {
            "tags": null
          },
          "name": "stderr",
          "output_type": "stream",
          "text": [
            "     27/100      18.8G      1.263      1.067      1.377         74        640: 100%|██████████| 415/415 [02:03<00:00,  3.37it/s]\n",
            "                 Class     Images  Instances      Box(P          R      mAP50  mAP50-95): 100%|██████████| 19/19 [00:04<00:00,  3.92it/s]"
          ]
        },
        {
          "metadata": {
            "tags": null
          },
          "name": "stdout",
          "output_type": "stream",
          "text": [
            "                   all        607       2587      0.823      0.939      0.914      0.614\n"
          ]
        },
        {
          "metadata": {
            "tags": null
          },
          "name": "stderr",
          "output_type": "stream",
          "text": [
            "\n"
          ]
        },
        {
          "metadata": {
            "tags": null
          },
          "name": "stdout",
          "output_type": "stream",
          "text": [
            "\n",
            "      Epoch    GPU_mem   box_loss   cls_loss   dfl_loss  Instances       Size\n"
          ]
        },
        {
          "metadata": {
            "tags": null
          },
          "name": "stderr",
          "output_type": "stream",
          "text": [
            "     28/100      18.8G      1.255      1.044      1.372         82        640: 100%|██████████| 415/415 [02:02<00:00,  3.40it/s]\n",
            "                 Class     Images  Instances      Box(P          R      mAP50  mAP50-95): 100%|██████████| 19/19 [00:04<00:00,  3.93it/s]"
          ]
        },
        {
          "metadata": {
            "tags": null
          },
          "name": "stdout",
          "output_type": "stream",
          "text": [
            "                   all        607       2587      0.832      0.949      0.914      0.613\n"
          ]
        },
        {
          "metadata": {
            "tags": null
          },
          "name": "stderr",
          "output_type": "stream",
          "text": [
            "\n"
          ]
        },
        {
          "metadata": {
            "tags": null
          },
          "name": "stdout",
          "output_type": "stream",
          "text": [
            "\n",
            "      Epoch    GPU_mem   box_loss   cls_loss   dfl_loss  Instances       Size\n"
          ]
        },
        {
          "output_type": "stream",
          "name": "stderr",
          "text": [
            "     29/100      18.8G      1.254      1.044      1.376         49        640: 100%|██████████| 415/415 [02:03<00:00,  3.37it/s]\n",
            "                 Class     Images  Instances      Box(P          R      mAP50  mAP50-95): 100%|██████████| 19/19 [00:04<00:00,  3.86it/s]"
          ]
        },
        {
          "output_type": "stream",
          "name": "stdout",
          "text": [
            "                   all        607       2587      0.826      0.933      0.908      0.607\n"
          ]
        },
        {
          "output_type": "stream",
          "name": "stderr",
          "text": [
            "\n"
          ]
        },
        {
          "output_type": "stream",
          "name": "stdout",
          "text": [
            "\n",
            "      Epoch    GPU_mem   box_loss   cls_loss   dfl_loss  Instances       Size\n"
          ]
        },
        {
          "output_type": "stream",
          "name": "stderr",
          "text": [
            "     30/100      18.8G      1.235      1.027      1.363         38        640: 100%|██████████| 415/415 [02:02<00:00,  3.38it/s]\n",
            "                 Class     Images  Instances      Box(P          R      mAP50  mAP50-95): 100%|██████████| 19/19 [00:05<00:00,  3.75it/s]"
          ]
        },
        {
          "output_type": "stream",
          "name": "stdout",
          "text": [
            "                   all        607       2587      0.827      0.947      0.911       0.61\n"
          ]
        },
        {
          "output_type": "stream",
          "name": "stderr",
          "text": [
            "\n"
          ]
        },
        {
          "output_type": "stream",
          "name": "stdout",
          "text": [
            "\n",
            "      Epoch    GPU_mem   box_loss   cls_loss   dfl_loss  Instances       Size\n"
          ]
        },
        {
          "output_type": "stream",
          "name": "stderr",
          "text": [
            "     31/100      18.8G      1.237      1.026      1.361         62        640: 100%|██████████| 415/415 [02:02<00:00,  3.38it/s]\n",
            "                 Class     Images  Instances      Box(P          R      mAP50  mAP50-95): 100%|██████████| 19/19 [00:04<00:00,  3.91it/s]"
          ]
        },
        {
          "output_type": "stream",
          "name": "stdout",
          "text": [
            "                   all        607       2587      0.835      0.937      0.916      0.619\n"
          ]
        },
        {
          "output_type": "stream",
          "name": "stderr",
          "text": [
            "\n"
          ]
        },
        {
          "output_type": "stream",
          "name": "stdout",
          "text": [
            "\n",
            "      Epoch    GPU_mem   box_loss   cls_loss   dfl_loss  Instances       Size\n"
          ]
        },
        {
          "output_type": "stream",
          "name": "stderr",
          "text": [
            "     32/100      18.9G      1.229      1.018      1.362         71        640: 100%|██████████| 415/415 [02:02<00:00,  3.39it/s]\n",
            "                 Class     Images  Instances      Box(P          R      mAP50  mAP50-95): 100%|██████████| 19/19 [00:04<00:00,  3.85it/s]"
          ]
        },
        {
          "output_type": "stream",
          "name": "stdout",
          "text": [
            "                   all        607       2587       0.83      0.935      0.913      0.612\n"
          ]
        },
        {
          "output_type": "stream",
          "name": "stderr",
          "text": [
            "\n"
          ]
        },
        {
          "output_type": "stream",
          "name": "stdout",
          "text": [
            "\n",
            "      Epoch    GPU_mem   box_loss   cls_loss   dfl_loss  Instances       Size\n"
          ]
        },
        {
          "output_type": "stream",
          "name": "stderr",
          "text": [
            "     33/100      18.9G      1.231      1.014      1.363         58        640: 100%|██████████| 415/415 [02:02<00:00,  3.40it/s]\n",
            "                 Class     Images  Instances      Box(P          R      mAP50  mAP50-95): 100%|██████████| 19/19 [00:04<00:00,  3.86it/s]"
          ]
        },
        {
          "output_type": "stream",
          "name": "stdout",
          "text": [
            "                   all        607       2587       0.83      0.949      0.917      0.618\n"
          ]
        },
        {
          "output_type": "stream",
          "name": "stderr",
          "text": [
            "\n"
          ]
        },
        {
          "output_type": "stream",
          "name": "stdout",
          "text": [
            "\n",
            "      Epoch    GPU_mem   box_loss   cls_loss   dfl_loss  Instances       Size\n"
          ]
        },
        {
          "output_type": "stream",
          "name": "stderr",
          "text": [
            "     34/100        19G      1.215      1.003      1.358         41        640: 100%|██████████| 415/415 [02:02<00:00,  3.38it/s]\n",
            "                 Class     Images  Instances      Box(P          R      mAP50  mAP50-95): 100%|██████████| 19/19 [00:04<00:00,  3.87it/s]"
          ]
        },
        {
          "output_type": "stream",
          "name": "stdout",
          "text": [
            "                   all        607       2587      0.834      0.944      0.919      0.621\n"
          ]
        },
        {
          "output_type": "stream",
          "name": "stderr",
          "text": [
            "\n"
          ]
        },
        {
          "output_type": "stream",
          "name": "stdout",
          "text": [
            "\n",
            "      Epoch    GPU_mem   box_loss   cls_loss   dfl_loss  Instances       Size\n"
          ]
        },
        {
          "output_type": "stream",
          "name": "stderr",
          "text": [
            "     35/100      19.1G      1.221     0.9996      1.355         89        640: 100%|██████████| 415/415 [02:02<00:00,  3.39it/s]\n",
            "                 Class     Images  Instances      Box(P          R      mAP50  mAP50-95): 100%|██████████| 19/19 [00:04<00:00,  3.88it/s]"
          ]
        },
        {
          "output_type": "stream",
          "name": "stdout",
          "text": [
            "                   all        607       2587      0.838      0.936      0.915      0.612\n"
          ]
        },
        {
          "output_type": "stream",
          "name": "stderr",
          "text": [
            "\n"
          ]
        },
        {
          "output_type": "stream",
          "name": "stdout",
          "text": [
            "\n",
            "      Epoch    GPU_mem   box_loss   cls_loss   dfl_loss  Instances       Size\n"
          ]
        },
        {
          "output_type": "stream",
          "name": "stderr",
          "text": [
            "     36/100      19.1G      1.224     0.9959      1.357         86        640: 100%|██████████| 415/415 [02:03<00:00,  3.37it/s]\n",
            "                 Class     Images  Instances      Box(P          R      mAP50  mAP50-95): 100%|██████████| 19/19 [00:04<00:00,  3.93it/s]"
          ]
        },
        {
          "output_type": "stream",
          "name": "stdout",
          "text": [
            "                   all        607       2587      0.832      0.938      0.917      0.621\n"
          ]
        },
        {
          "output_type": "stream",
          "name": "stderr",
          "text": [
            "\n"
          ]
        },
        {
          "output_type": "stream",
          "name": "stdout",
          "text": [
            "\n",
            "      Epoch    GPU_mem   box_loss   cls_loss   dfl_loss  Instances       Size\n"
          ]
        },
        {
          "output_type": "stream",
          "name": "stderr",
          "text": [
            "     37/100      19.2G      1.205     0.9867      1.353        106        640: 100%|██████████| 415/415 [02:01<00:00,  3.40it/s]\n",
            "                 Class     Images  Instances      Box(P          R      mAP50  mAP50-95): 100%|██████████| 19/19 [00:04<00:00,  3.86it/s]"
          ]
        },
        {
          "output_type": "stream",
          "name": "stdout",
          "text": [
            "                   all        607       2587      0.836      0.944      0.918      0.618\n"
          ]
        },
        {
          "output_type": "stream",
          "name": "stderr",
          "text": [
            "\n"
          ]
        },
        {
          "output_type": "stream",
          "name": "stdout",
          "text": [
            "\n",
            "      Epoch    GPU_mem   box_loss   cls_loss   dfl_loss  Instances       Size\n"
          ]
        },
        {
          "output_type": "stream",
          "name": "stderr",
          "text": [
            "     38/100      19.3G      1.211      0.977      1.343        137        640: 100%|██████████| 415/415 [02:02<00:00,  3.38it/s]\n",
            "                 Class     Images  Instances      Box(P          R      mAP50  mAP50-95): 100%|██████████| 19/19 [00:05<00:00,  3.79it/s]"
          ]
        },
        {
          "output_type": "stream",
          "name": "stdout",
          "text": [
            "                   all        607       2587      0.836      0.939      0.912      0.614\n"
          ]
        },
        {
          "output_type": "stream",
          "name": "stderr",
          "text": [
            "\n"
          ]
        },
        {
          "output_type": "stream",
          "name": "stdout",
          "text": [
            "\n",
            "      Epoch    GPU_mem   box_loss   cls_loss   dfl_loss  Instances       Size\n"
          ]
        },
        {
          "output_type": "stream",
          "name": "stderr",
          "text": [
            "     39/100      19.3G      1.201     0.9762      1.337         64        640: 100%|██████████| 415/415 [02:02<00:00,  3.40it/s]\n",
            "                 Class     Images  Instances      Box(P          R      mAP50  mAP50-95): 100%|██████████| 19/19 [00:04<00:00,  3.99it/s]"
          ]
        },
        {
          "output_type": "stream",
          "name": "stdout",
          "text": [
            "                   all        607       2587      0.837      0.942      0.916      0.618\n"
          ]
        },
        {
          "output_type": "stream",
          "name": "stderr",
          "text": [
            "\n"
          ]
        },
        {
          "output_type": "stream",
          "name": "stdout",
          "text": [
            "\n",
            "      Epoch    GPU_mem   box_loss   cls_loss   dfl_loss  Instances       Size\n"
          ]
        },
        {
          "output_type": "stream",
          "name": "stderr",
          "text": [
            "     40/100      19.4G      1.189     0.9656      1.337         56        640: 100%|██████████| 415/415 [02:01<00:00,  3.41it/s]\n",
            "                 Class     Images  Instances      Box(P          R      mAP50  mAP50-95): 100%|██████████| 19/19 [00:04<00:00,  3.98it/s]"
          ]
        },
        {
          "output_type": "stream",
          "name": "stdout",
          "text": [
            "                   all        607       2587      0.832       0.95       0.92      0.626\n"
          ]
        },
        {
          "output_type": "stream",
          "name": "stderr",
          "text": [
            "\n"
          ]
        },
        {
          "output_type": "stream",
          "name": "stdout",
          "text": [
            "\n",
            "      Epoch    GPU_mem   box_loss   cls_loss   dfl_loss  Instances       Size\n"
          ]
        },
        {
          "output_type": "stream",
          "name": "stderr",
          "text": [
            "     41/100      19.5G      1.189     0.9573      1.335         51        640: 100%|██████████| 415/415 [02:02<00:00,  3.38it/s]\n",
            "                 Class     Images  Instances      Box(P          R      mAP50  mAP50-95): 100%|██████████| 19/19 [00:04<00:00,  3.84it/s]"
          ]
        },
        {
          "output_type": "stream",
          "name": "stdout",
          "text": [
            "                   all        607       2587      0.834      0.943      0.918      0.619\n"
          ]
        },
        {
          "output_type": "stream",
          "name": "stderr",
          "text": [
            "\n"
          ]
        },
        {
          "output_type": "stream",
          "name": "stdout",
          "text": [
            "\n",
            "      Epoch    GPU_mem   box_loss   cls_loss   dfl_loss  Instances       Size\n"
          ]
        },
        {
          "output_type": "stream",
          "name": "stderr",
          "text": [
            "     42/100      19.5G      1.176     0.9499      1.328         73        640: 100%|██████████| 415/415 [02:02<00:00,  3.39it/s]\n",
            "                 Class     Images  Instances      Box(P          R      mAP50  mAP50-95): 100%|██████████| 19/19 [00:04<00:00,  3.81it/s]"
          ]
        },
        {
          "output_type": "stream",
          "name": "stdout",
          "text": [
            "                   all        607       2587      0.841      0.947      0.924      0.627\n"
          ]
        },
        {
          "output_type": "stream",
          "name": "stderr",
          "text": [
            "\n"
          ]
        },
        {
          "output_type": "stream",
          "name": "stdout",
          "text": [
            "\n",
            "      Epoch    GPU_mem   box_loss   cls_loss   dfl_loss  Instances       Size\n"
          ]
        },
        {
          "output_type": "stream",
          "name": "stderr",
          "text": [
            "     43/100      19.6G      1.186     0.9501      1.328         74        640: 100%|██████████| 415/415 [02:02<00:00,  3.40it/s]\n",
            "                 Class     Images  Instances      Box(P          R      mAP50  mAP50-95): 100%|██████████| 19/19 [00:05<00:00,  3.74it/s]"
          ]
        },
        {
          "output_type": "stream",
          "name": "stdout",
          "text": [
            "                   all        607       2587      0.841       0.94      0.918      0.622\n"
          ]
        },
        {
          "output_type": "stream",
          "name": "stderr",
          "text": [
            "\n"
          ]
        },
        {
          "output_type": "stream",
          "name": "stdout",
          "text": [
            "\n",
            "      Epoch    GPU_mem   box_loss   cls_loss   dfl_loss  Instances       Size\n"
          ]
        },
        {
          "output_type": "stream",
          "name": "stderr",
          "text": [
            "     44/100      19.6G      1.177     0.9401      1.322         58        640: 100%|██████████| 415/415 [02:02<00:00,  3.40it/s]\n",
            "                 Class     Images  Instances      Box(P          R      mAP50  mAP50-95): 100%|██████████| 19/19 [00:04<00:00,  3.87it/s]"
          ]
        },
        {
          "output_type": "stream",
          "name": "stdout",
          "text": [
            "                   all        607       2587      0.843      0.948      0.922      0.627\n"
          ]
        },
        {
          "output_type": "stream",
          "name": "stderr",
          "text": [
            "\n"
          ]
        },
        {
          "output_type": "stream",
          "name": "stdout",
          "text": [
            "\n",
            "      Epoch    GPU_mem   box_loss   cls_loss   dfl_loss  Instances       Size\n"
          ]
        },
        {
          "output_type": "stream",
          "name": "stderr",
          "text": [
            "     45/100      19.7G      1.174     0.9393      1.323         80        640: 100%|██████████| 415/415 [02:01<00:00,  3.41it/s]\n",
            "                 Class     Images  Instances      Box(P          R      mAP50  mAP50-95): 100%|██████████| 19/19 [00:04<00:00,  3.86it/s]"
          ]
        },
        {
          "output_type": "stream",
          "name": "stdout",
          "text": [
            "                   all        607       2587      0.838      0.947      0.916      0.621\n"
          ]
        },
        {
          "output_type": "stream",
          "name": "stderr",
          "text": [
            "\n"
          ]
        },
        {
          "output_type": "stream",
          "name": "stdout",
          "text": [
            "\n",
            "      Epoch    GPU_mem   box_loss   cls_loss   dfl_loss  Instances       Size\n"
          ]
        },
        {
          "output_type": "stream",
          "name": "stderr",
          "text": [
            "     46/100      19.8G      1.173     0.9294      1.318         68        640: 100%|██████████| 415/415 [02:02<00:00,  3.38it/s]\n",
            "                 Class     Images  Instances      Box(P          R      mAP50  mAP50-95): 100%|██████████| 19/19 [00:04<00:00,  3.91it/s]"
          ]
        },
        {
          "output_type": "stream",
          "name": "stdout",
          "text": [
            "                   all        607       2587      0.837      0.948      0.918       0.62\n"
          ]
        },
        {
          "output_type": "stream",
          "name": "stderr",
          "text": [
            "\n"
          ]
        },
        {
          "output_type": "stream",
          "name": "stdout",
          "text": [
            "\n",
            "      Epoch    GPU_mem   box_loss   cls_loss   dfl_loss  Instances       Size\n"
          ]
        },
        {
          "output_type": "stream",
          "name": "stderr",
          "text": [
            "     47/100      17.3G       1.17     0.9225      1.317         50        640: 100%|██████████| 415/415 [02:03<00:00,  3.35it/s]\n",
            "                 Class     Images  Instances      Box(P          R      mAP50  mAP50-95): 100%|██████████| 19/19 [00:04<00:00,  3.88it/s]"
          ]
        },
        {
          "output_type": "stream",
          "name": "stdout",
          "text": [
            "                   all        607       2587      0.843       0.94      0.916      0.622\n"
          ]
        },
        {
          "output_type": "stream",
          "name": "stderr",
          "text": [
            "\n"
          ]
        },
        {
          "output_type": "stream",
          "name": "stdout",
          "text": [
            "\n",
            "      Epoch    GPU_mem   box_loss   cls_loss   dfl_loss  Instances       Size\n"
          ]
        },
        {
          "output_type": "stream",
          "name": "stderr",
          "text": [
            "     48/100      19.3G      1.152     0.9168      1.316         58        640: 100%|██████████| 415/415 [02:02<00:00,  3.40it/s]\n",
            "                 Class     Images  Instances      Box(P          R      mAP50  mAP50-95): 100%|██████████| 19/19 [00:05<00:00,  3.79it/s]"
          ]
        },
        {
          "output_type": "stream",
          "name": "stdout",
          "text": [
            "                   all        607       2587       0.84      0.942      0.919      0.621\n"
          ]
        },
        {
          "output_type": "stream",
          "name": "stderr",
          "text": [
            "\n"
          ]
        },
        {
          "output_type": "stream",
          "name": "stdout",
          "text": [
            "\n",
            "      Epoch    GPU_mem   box_loss   cls_loss   dfl_loss  Instances       Size\n"
          ]
        },
        {
          "output_type": "stream",
          "name": "stderr",
          "text": [
            "     49/100      19.3G      1.152     0.9021      1.308         58        640: 100%|██████████| 415/415 [02:02<00:00,  3.39it/s]\n",
            "                 Class     Images  Instances      Box(P          R      mAP50  mAP50-95): 100%|██████████| 19/19 [00:04<00:00,  3.91it/s]"
          ]
        },
        {
          "output_type": "stream",
          "name": "stdout",
          "text": [
            "                   all        607       2587       0.84      0.946      0.919      0.623\n"
          ]
        },
        {
          "output_type": "stream",
          "name": "stderr",
          "text": [
            "\n"
          ]
        },
        {
          "output_type": "stream",
          "name": "stdout",
          "text": [
            "\n",
            "      Epoch    GPU_mem   box_loss   cls_loss   dfl_loss  Instances       Size\n"
          ]
        },
        {
          "output_type": "stream",
          "name": "stderr",
          "text": [
            "     50/100      19.3G      1.152     0.9046      1.314         75        640: 100%|██████████| 415/415 [02:02<00:00,  3.38it/s]\n",
            "                 Class     Images  Instances      Box(P          R      mAP50  mAP50-95): 100%|██████████| 19/19 [00:04<00:00,  3.90it/s]"
          ]
        },
        {
          "output_type": "stream",
          "name": "stdout",
          "text": [
            "                   all        607       2587      0.837      0.948      0.921      0.627\n"
          ]
        },
        {
          "output_type": "stream",
          "name": "stderr",
          "text": [
            "\n"
          ]
        },
        {
          "output_type": "stream",
          "name": "stdout",
          "text": [
            "\n",
            "      Epoch    GPU_mem   box_loss   cls_loss   dfl_loss  Instances       Size\n"
          ]
        },
        {
          "output_type": "stream",
          "name": "stderr",
          "text": [
            "     51/100      19.3G      1.146     0.8991      1.301         51        640: 100%|██████████| 415/415 [02:03<00:00,  3.36it/s]\n",
            "                 Class     Images  Instances      Box(P          R      mAP50  mAP50-95): 100%|██████████| 19/19 [00:04<00:00,  3.94it/s]"
          ]
        },
        {
          "output_type": "stream",
          "name": "stdout",
          "text": [
            "                   all        607       2587      0.839      0.947      0.921      0.629\n"
          ]
        },
        {
          "output_type": "stream",
          "name": "stderr",
          "text": [
            "\n"
          ]
        },
        {
          "output_type": "stream",
          "name": "stdout",
          "text": [
            "\n",
            "      Epoch    GPU_mem   box_loss   cls_loss   dfl_loss  Instances       Size\n"
          ]
        },
        {
          "output_type": "stream",
          "name": "stderr",
          "text": [
            "     52/100      19.3G      1.145     0.8865      1.303         89        640: 100%|██████████| 415/415 [02:02<00:00,  3.40it/s]\n",
            "                 Class     Images  Instances      Box(P          R      mAP50  mAP50-95): 100%|██████████| 19/19 [00:04<00:00,  3.99it/s]"
          ]
        },
        {
          "output_type": "stream",
          "name": "stdout",
          "text": [
            "                   all        607       2587      0.841      0.949      0.925      0.629\n"
          ]
        },
        {
          "output_type": "stream",
          "name": "stderr",
          "text": [
            "\n"
          ]
        },
        {
          "output_type": "stream",
          "name": "stdout",
          "text": [
            "\n",
            "      Epoch    GPU_mem   box_loss   cls_loss   dfl_loss  Instances       Size\n"
          ]
        },
        {
          "output_type": "stream",
          "name": "stderr",
          "text": [
            "     53/100      19.3G      1.137     0.8705      1.298        108        640: 100%|██████████| 415/415 [02:01<00:00,  3.41it/s]\n",
            "                 Class     Images  Instances      Box(P          R      mAP50  mAP50-95): 100%|██████████| 19/19 [00:04<00:00,  3.95it/s]"
          ]
        },
        {
          "output_type": "stream",
          "name": "stdout",
          "text": [
            "                   all        607       2587      0.842      0.945      0.923      0.629\n"
          ]
        },
        {
          "output_type": "stream",
          "name": "stderr",
          "text": [
            "\n"
          ]
        },
        {
          "output_type": "stream",
          "name": "stdout",
          "text": [
            "\n",
            "      Epoch    GPU_mem   box_loss   cls_loss   dfl_loss  Instances       Size\n"
          ]
        },
        {
          "output_type": "stream",
          "name": "stderr",
          "text": [
            "     54/100      19.3G      1.129     0.8761        1.3         44        640: 100%|██████████| 415/415 [02:01<00:00,  3.42it/s]\n",
            "                 Class     Images  Instances      Box(P          R      mAP50  mAP50-95): 100%|██████████| 19/19 [00:04<00:00,  3.92it/s]"
          ]
        },
        {
          "output_type": "stream",
          "name": "stdout",
          "text": [
            "                   all        607       2587      0.836      0.949      0.922      0.629\n"
          ]
        },
        {
          "output_type": "stream",
          "name": "stderr",
          "text": [
            "\n"
          ]
        },
        {
          "output_type": "stream",
          "name": "stdout",
          "text": [
            "\n",
            "      Epoch    GPU_mem   box_loss   cls_loss   dfl_loss  Instances       Size\n"
          ]
        },
        {
          "output_type": "stream",
          "name": "stderr",
          "text": [
            "     55/100      19.3G      1.135     0.8645      1.298         40        640: 100%|██████████| 415/415 [02:01<00:00,  3.41it/s]\n",
            "                 Class     Images  Instances      Box(P          R      mAP50  mAP50-95): 100%|██████████| 19/19 [00:04<00:00,  3.98it/s]"
          ]
        },
        {
          "output_type": "stream",
          "name": "stdout",
          "text": [
            "                   all        607       2587      0.838      0.947      0.927      0.632\n"
          ]
        },
        {
          "output_type": "stream",
          "name": "stderr",
          "text": [
            "\n"
          ]
        },
        {
          "output_type": "stream",
          "name": "stdout",
          "text": [
            "\n",
            "      Epoch    GPU_mem   box_loss   cls_loss   dfl_loss  Instances       Size\n"
          ]
        },
        {
          "output_type": "stream",
          "name": "stderr",
          "text": [
            "     56/100      19.3G      1.125     0.8665      1.292         86        640: 100%|██████████| 415/415 [02:01<00:00,  3.42it/s]\n",
            "                 Class     Images  Instances      Box(P          R      mAP50  mAP50-95): 100%|██████████| 19/19 [00:04<00:00,  4.04it/s]"
          ]
        },
        {
          "output_type": "stream",
          "name": "stdout",
          "text": [
            "                   all        607       2587      0.842      0.951      0.924      0.632\n"
          ]
        },
        {
          "output_type": "stream",
          "name": "stderr",
          "text": [
            "\n"
          ]
        },
        {
          "output_type": "stream",
          "name": "stdout",
          "text": [
            "\n",
            "      Epoch    GPU_mem   box_loss   cls_loss   dfl_loss  Instances       Size\n"
          ]
        },
        {
          "output_type": "stream",
          "name": "stderr",
          "text": [
            "     57/100      19.3G       1.12     0.8571      1.292         59        640: 100%|██████████| 415/415 [02:00<00:00,  3.44it/s]\n",
            "                 Class     Images  Instances      Box(P          R      mAP50  mAP50-95): 100%|██████████| 19/19 [00:04<00:00,  4.05it/s]"
          ]
        },
        {
          "output_type": "stream",
          "name": "stdout",
          "text": [
            "                   all        607       2587      0.841      0.947      0.927      0.632\n"
          ]
        },
        {
          "output_type": "stream",
          "name": "stderr",
          "text": [
            "\n"
          ]
        },
        {
          "output_type": "stream",
          "name": "stdout",
          "text": [
            "\n",
            "      Epoch    GPU_mem   box_loss   cls_loss   dfl_loss  Instances       Size\n"
          ]
        },
        {
          "output_type": "stream",
          "name": "stderr",
          "text": [
            "     58/100      19.4G      1.119     0.8487      1.287         63        640: 100%|██████████| 415/415 [02:01<00:00,  3.41it/s]\n",
            "                 Class     Images  Instances      Box(P          R      mAP50  mAP50-95): 100%|██████████| 19/19 [00:04<00:00,  3.92it/s]"
          ]
        },
        {
          "output_type": "stream",
          "name": "stdout",
          "text": [
            "                   all        607       2587      0.844      0.944      0.926      0.634\n"
          ]
        },
        {
          "output_type": "stream",
          "name": "stderr",
          "text": [
            "\n"
          ]
        },
        {
          "output_type": "stream",
          "name": "stdout",
          "text": [
            "\n",
            "      Epoch    GPU_mem   box_loss   cls_loss   dfl_loss  Instances       Size\n"
          ]
        },
        {
          "output_type": "stream",
          "name": "stderr",
          "text": [
            "     59/100      19.4G      1.102     0.8357       1.28         58        640: 100%|██████████| 415/415 [02:02<00:00,  3.40it/s]\n",
            "                 Class     Images  Instances      Box(P          R      mAP50  mAP50-95): 100%|██████████| 19/19 [00:04<00:00,  3.93it/s]"
          ]
        },
        {
          "output_type": "stream",
          "name": "stdout",
          "text": [
            "                   all        607       2587      0.852      0.941      0.925      0.632\n"
          ]
        },
        {
          "output_type": "stream",
          "name": "stderr",
          "text": [
            "\n"
          ]
        },
        {
          "output_type": "stream",
          "name": "stdout",
          "text": [
            "\n",
            "      Epoch    GPU_mem   box_loss   cls_loss   dfl_loss  Instances       Size\n"
          ]
        },
        {
          "output_type": "stream",
          "name": "stderr",
          "text": [
            "     60/100      19.5G      1.105     0.8398      1.282         76        640: 100%|██████████| 415/415 [02:01<00:00,  3.40it/s]\n",
            "                 Class     Images  Instances      Box(P          R      mAP50  mAP50-95): 100%|██████████| 19/19 [00:04<00:00,  4.03it/s]"
          ]
        },
        {
          "output_type": "stream",
          "name": "stdout",
          "text": [
            "                   all        607       2587      0.837      0.938       0.92       0.63\n"
          ]
        },
        {
          "output_type": "stream",
          "name": "stderr",
          "text": [
            "\n"
          ]
        },
        {
          "output_type": "stream",
          "name": "stdout",
          "text": [
            "\n",
            "      Epoch    GPU_mem   box_loss   cls_loss   dfl_loss  Instances       Size\n"
          ]
        },
        {
          "output_type": "stream",
          "name": "stderr",
          "text": [
            "     61/100      19.6G      1.102     0.8256      1.277         63        640: 100%|██████████| 415/415 [01:58<00:00,  3.50it/s]\n",
            "                 Class     Images  Instances      Box(P          R      mAP50  mAP50-95): 100%|██████████| 19/19 [00:04<00:00,  4.00it/s]"
          ]
        },
        {
          "output_type": "stream",
          "name": "stdout",
          "text": [
            "                   all        607       2587      0.841      0.941      0.924      0.634\n"
          ]
        },
        {
          "output_type": "stream",
          "name": "stderr",
          "text": [
            "\n"
          ]
        },
        {
          "output_type": "stream",
          "name": "stdout",
          "text": [
            "\n",
            "      Epoch    GPU_mem   box_loss   cls_loss   dfl_loss  Instances       Size\n"
          ]
        },
        {
          "output_type": "stream",
          "name": "stderr",
          "text": [
            "     62/100      19.7G      1.095     0.8308      1.268         84        640: 100%|██████████| 415/415 [01:58<00:00,  3.49it/s]\n",
            "                 Class     Images  Instances      Box(P          R      mAP50  mAP50-95): 100%|██████████| 19/19 [00:04<00:00,  4.05it/s]"
          ]
        },
        {
          "output_type": "stream",
          "name": "stdout",
          "text": [
            "                   all        607       2587      0.837      0.952      0.926      0.635\n"
          ]
        },
        {
          "output_type": "stream",
          "name": "stderr",
          "text": [
            "\n"
          ]
        },
        {
          "output_type": "stream",
          "name": "stdout",
          "text": [
            "\n",
            "      Epoch    GPU_mem   box_loss   cls_loss   dfl_loss  Instances       Size\n"
          ]
        },
        {
          "output_type": "stream",
          "name": "stderr",
          "text": [
            "     63/100      19.7G      1.085     0.8192      1.267         48        640: 100%|██████████| 415/415 [01:58<00:00,  3.49it/s]\n",
            "                 Class     Images  Instances      Box(P          R      mAP50  mAP50-95): 100%|██████████| 19/19 [00:04<00:00,  3.95it/s]"
          ]
        },
        {
          "output_type": "stream",
          "name": "stdout",
          "text": [
            "                   all        607       2587      0.838      0.946      0.923      0.633\n"
          ]
        },
        {
          "output_type": "stream",
          "name": "stderr",
          "text": [
            "\n"
          ]
        },
        {
          "output_type": "stream",
          "name": "stdout",
          "text": [
            "\n",
            "      Epoch    GPU_mem   box_loss   cls_loss   dfl_loss  Instances       Size\n"
          ]
        },
        {
          "output_type": "stream",
          "name": "stderr",
          "text": [
            "     64/100      19.8G      1.085     0.8133      1.264         77        640: 100%|██████████| 415/415 [01:58<00:00,  3.50it/s]\n",
            "                 Class     Images  Instances      Box(P          R      mAP50  mAP50-95): 100%|██████████| 19/19 [00:04<00:00,  4.04it/s]"
          ]
        },
        {
          "output_type": "stream",
          "name": "stdout",
          "text": [
            "                   all        607       2587      0.842      0.946      0.925      0.634\n"
          ]
        },
        {
          "output_type": "stream",
          "name": "stderr",
          "text": [
            "\n"
          ]
        },
        {
          "output_type": "stream",
          "name": "stdout",
          "text": [
            "\n",
            "      Epoch    GPU_mem   box_loss   cls_loss   dfl_loss  Instances       Size\n"
          ]
        },
        {
          "output_type": "stream",
          "name": "stderr",
          "text": [
            "     65/100      19.8G      1.067     0.7919      1.257         61        640: 100%|██████████| 415/415 [01:58<00:00,  3.50it/s]\n",
            "                 Class     Images  Instances      Box(P          R      mAP50  mAP50-95): 100%|██████████| 19/19 [00:04<00:00,  3.99it/s]"
          ]
        },
        {
          "output_type": "stream",
          "name": "stdout",
          "text": [
            "                   all        607       2587      0.837      0.948      0.922      0.633\n"
          ]
        },
        {
          "output_type": "stream",
          "name": "stderr",
          "text": [
            "\n"
          ]
        },
        {
          "output_type": "stream",
          "name": "stdout",
          "text": [
            "\n",
            "      Epoch    GPU_mem   box_loss   cls_loss   dfl_loss  Instances       Size\n"
          ]
        },
        {
          "output_type": "stream",
          "name": "stderr",
          "text": [
            "     66/100      16.8G      1.067     0.7953      1.259         74        640: 100%|██████████| 415/415 [01:58<00:00,  3.49it/s]\n",
            "                 Class     Images  Instances      Box(P          R      mAP50  mAP50-95): 100%|██████████| 19/19 [00:04<00:00,  4.01it/s]"
          ]
        },
        {
          "output_type": "stream",
          "name": "stdout",
          "text": [
            "                   all        607       2587      0.835      0.945       0.92       0.63\n"
          ]
        },
        {
          "output_type": "stream",
          "name": "stderr",
          "text": [
            "\n"
          ]
        },
        {
          "output_type": "stream",
          "name": "stdout",
          "text": [
            "\n",
            "      Epoch    GPU_mem   box_loss   cls_loss   dfl_loss  Instances       Size\n"
          ]
        },
        {
          "output_type": "stream",
          "name": "stderr",
          "text": [
            "     67/100      18.8G       1.07     0.7939      1.249         62        640: 100%|██████████| 415/415 [01:58<00:00,  3.51it/s]\n",
            "                 Class     Images  Instances      Box(P          R      mAP50  mAP50-95): 100%|██████████| 19/19 [00:04<00:00,  4.03it/s]"
          ]
        },
        {
          "output_type": "stream",
          "name": "stdout",
          "text": [
            "                   all        607       2587      0.839      0.938      0.921       0.63\n"
          ]
        },
        {
          "output_type": "stream",
          "name": "stderr",
          "text": [
            "\n"
          ]
        },
        {
          "output_type": "stream",
          "name": "stdout",
          "text": [
            "\n",
            "      Epoch    GPU_mem   box_loss   cls_loss   dfl_loss  Instances       Size\n"
          ]
        },
        {
          "output_type": "stream",
          "name": "stderr",
          "text": [
            "     68/100      18.8G       1.06     0.7991      1.253         79        640: 100%|██████████| 415/415 [01:58<00:00,  3.51it/s]\n",
            "                 Class     Images  Instances      Box(P          R      mAP50  mAP50-95): 100%|██████████| 19/19 [00:04<00:00,  4.01it/s]"
          ]
        },
        {
          "output_type": "stream",
          "name": "stdout",
          "text": [
            "                   all        607       2587      0.844      0.938       0.92       0.63\n"
          ]
        },
        {
          "output_type": "stream",
          "name": "stderr",
          "text": [
            "\n"
          ]
        },
        {
          "output_type": "stream",
          "name": "stdout",
          "text": [
            "\n",
            "      Epoch    GPU_mem   box_loss   cls_loss   dfl_loss  Instances       Size\n"
          ]
        },
        {
          "output_type": "stream",
          "name": "stderr",
          "text": [
            "     69/100      18.8G      1.058     0.7807      1.252         74        640: 100%|██████████| 415/415 [01:58<00:00,  3.51it/s]\n",
            "                 Class     Images  Instances      Box(P          R      mAP50  mAP50-95): 100%|██████████| 19/19 [00:04<00:00,  3.98it/s]"
          ]
        },
        {
          "output_type": "stream",
          "name": "stdout",
          "text": [
            "                   all        607       2587      0.836       0.93      0.916      0.626\n"
          ]
        },
        {
          "output_type": "stream",
          "name": "stderr",
          "text": [
            "\n"
          ]
        },
        {
          "output_type": "stream",
          "name": "stdout",
          "text": [
            "\n",
            "      Epoch    GPU_mem   box_loss   cls_loss   dfl_loss  Instances       Size\n"
          ]
        },
        {
          "output_type": "stream",
          "name": "stderr",
          "text": [
            "     70/100      18.8G      1.057     0.7796      1.248         53        640: 100%|██████████| 415/415 [01:58<00:00,  3.51it/s]\n",
            "                 Class     Images  Instances      Box(P          R      mAP50  mAP50-95): 100%|██████████| 19/19 [00:04<00:00,  4.05it/s]"
          ]
        },
        {
          "output_type": "stream",
          "name": "stdout",
          "text": [
            "                   all        607       2587       0.84      0.934      0.921       0.63\n"
          ]
        },
        {
          "output_type": "stream",
          "name": "stderr",
          "text": [
            "\n"
          ]
        },
        {
          "output_type": "stream",
          "name": "stdout",
          "text": [
            "\n",
            "      Epoch    GPU_mem   box_loss   cls_loss   dfl_loss  Instances       Size\n"
          ]
        },
        {
          "output_type": "stream",
          "name": "stderr",
          "text": [
            "     71/100      18.8G      1.043     0.7666      1.243         89        640: 100%|██████████| 415/415 [01:58<00:00,  3.50it/s]\n",
            "                 Class     Images  Instances      Box(P          R      mAP50  mAP50-95): 100%|██████████| 19/19 [00:04<00:00,  4.01it/s]"
          ]
        },
        {
          "output_type": "stream",
          "name": "stdout",
          "text": [
            "                   all        607       2587      0.844      0.938      0.922      0.632\n"
          ]
        },
        {
          "output_type": "stream",
          "name": "stderr",
          "text": [
            "\n"
          ]
        },
        {
          "output_type": "stream",
          "name": "stdout",
          "text": [
            "\n",
            "      Epoch    GPU_mem   box_loss   cls_loss   dfl_loss  Instances       Size\n"
          ]
        },
        {
          "output_type": "stream",
          "name": "stderr",
          "text": [
            "     72/100      18.8G      1.044     0.7724      1.244         60        640: 100%|██████████| 415/415 [01:58<00:00,  3.51it/s]\n",
            "                 Class     Images  Instances      Box(P          R      mAP50  mAP50-95): 100%|██████████| 19/19 [00:04<00:00,  4.00it/s]"
          ]
        },
        {
          "output_type": "stream",
          "name": "stdout",
          "text": [
            "                   all        607       2587      0.841      0.931      0.913      0.625\n"
          ]
        },
        {
          "output_type": "stream",
          "name": "stderr",
          "text": [
            "\n"
          ]
        },
        {
          "output_type": "stream",
          "name": "stdout",
          "text": [
            "\n",
            "      Epoch    GPU_mem   box_loss   cls_loss   dfl_loss  Instances       Size\n"
          ]
        },
        {
          "output_type": "stream",
          "name": "stderr",
          "text": [
            "     73/100      18.8G       1.03     0.7639      1.237         62        640: 100%|██████████| 415/415 [01:58<00:00,  3.51it/s]\n",
            "                 Class     Images  Instances      Box(P          R      mAP50  mAP50-95): 100%|██████████| 19/19 [00:04<00:00,  3.94it/s]"
          ]
        },
        {
          "output_type": "stream",
          "name": "stdout",
          "text": [
            "                   all        607       2587      0.839       0.93      0.912      0.624\n"
          ]
        },
        {
          "output_type": "stream",
          "name": "stderr",
          "text": [
            "\n"
          ]
        },
        {
          "output_type": "stream",
          "name": "stdout",
          "text": [
            "\n",
            "      Epoch    GPU_mem   box_loss   cls_loss   dfl_loss  Instances       Size\n"
          ]
        },
        {
          "output_type": "stream",
          "name": "stderr",
          "text": [
            "     74/100      18.8G      1.028     0.7562      1.237         38        640: 100%|██████████| 415/415 [01:59<00:00,  3.49it/s]\n",
            "                 Class     Images  Instances      Box(P          R      mAP50  mAP50-95): 100%|██████████| 19/19 [00:04<00:00,  3.96it/s]"
          ]
        },
        {
          "output_type": "stream",
          "name": "stdout",
          "text": [
            "                   all        607       2587       0.84      0.932      0.915      0.625\n"
          ]
        },
        {
          "output_type": "stream",
          "name": "stderr",
          "text": [
            "\n"
          ]
        },
        {
          "output_type": "stream",
          "name": "stdout",
          "text": [
            "\n",
            "      Epoch    GPU_mem   box_loss   cls_loss   dfl_loss  Instances       Size\n"
          ]
        },
        {
          "output_type": "stream",
          "name": "stderr",
          "text": [
            "     75/100      18.9G      1.036     0.7575      1.233         82        640: 100%|██████████| 415/415 [01:58<00:00,  3.49it/s]\n",
            "                 Class     Images  Instances      Box(P          R      mAP50  mAP50-95): 100%|██████████| 19/19 [00:04<00:00,  4.05it/s]"
          ]
        },
        {
          "output_type": "stream",
          "name": "stdout",
          "text": [
            "                   all        607       2587      0.833      0.944      0.913      0.622\n"
          ]
        },
        {
          "output_type": "stream",
          "name": "stderr",
          "text": [
            "\n"
          ]
        },
        {
          "output_type": "stream",
          "name": "stdout",
          "text": [
            "\n",
            "      Epoch    GPU_mem   box_loss   cls_loss   dfl_loss  Instances       Size\n"
          ]
        },
        {
          "output_type": "stream",
          "name": "stderr",
          "text": [
            "     76/100      18.9G      1.027     0.7501      1.234        108        640: 100%|██████████| 415/415 [01:58<00:00,  3.49it/s]\n",
            "                 Class     Images  Instances      Box(P          R      mAP50  mAP50-95): 100%|██████████| 19/19 [00:04<00:00,  4.01it/s]"
          ]
        },
        {
          "output_type": "stream",
          "name": "stdout",
          "text": [
            "                   all        607       2587      0.831       0.94      0.918      0.626\n"
          ]
        },
        {
          "output_type": "stream",
          "name": "stderr",
          "text": [
            "\n"
          ]
        },
        {
          "output_type": "stream",
          "name": "stdout",
          "text": [
            "\n",
            "      Epoch    GPU_mem   box_loss   cls_loss   dfl_loss  Instances       Size\n"
          ]
        },
        {
          "output_type": "stream",
          "name": "stderr",
          "text": [
            "     77/100        19G      1.015     0.7424      1.228         64        640: 100%|██████████| 415/415 [01:58<00:00,  3.51it/s]\n",
            "                 Class     Images  Instances      Box(P          R      mAP50  mAP50-95): 100%|██████████| 19/19 [00:04<00:00,  4.02it/s]"
          ]
        },
        {
          "output_type": "stream",
          "name": "stdout",
          "text": [
            "                   all        607       2587       0.83      0.941      0.917      0.626\n"
          ]
        },
        {
          "output_type": "stream",
          "name": "stderr",
          "text": [
            "\n"
          ]
        },
        {
          "output_type": "stream",
          "name": "stdout",
          "text": [
            "\n",
            "      Epoch    GPU_mem   box_loss   cls_loss   dfl_loss  Instances       Size\n"
          ]
        },
        {
          "output_type": "stream",
          "name": "stderr",
          "text": [
            "     78/100      19.1G      1.013     0.7379      1.218         78        640: 100%|██████████| 415/415 [01:58<00:00,  3.50it/s]\n",
            "                 Class     Images  Instances      Box(P          R      mAP50  mAP50-95): 100%|██████████| 19/19 [00:04<00:00,  4.01it/s]"
          ]
        },
        {
          "output_type": "stream",
          "name": "stdout",
          "text": [
            "                   all        607       2587      0.831      0.944      0.917      0.628\n"
          ]
        },
        {
          "output_type": "stream",
          "name": "stderr",
          "text": [
            "\n"
          ]
        },
        {
          "output_type": "stream",
          "name": "stdout",
          "text": [
            "\n",
            "      Epoch    GPU_mem   box_loss   cls_loss   dfl_loss  Instances       Size\n"
          ]
        },
        {
          "output_type": "stream",
          "name": "stderr",
          "text": [
            "     79/100      19.1G      1.002     0.7223      1.215         92        640: 100%|██████████| 415/415 [01:58<00:00,  3.49it/s]\n",
            "                 Class     Images  Instances      Box(P          R      mAP50  mAP50-95): 100%|██████████| 19/19 [00:04<00:00,  4.05it/s]"
          ]
        },
        {
          "output_type": "stream",
          "name": "stdout",
          "text": [
            "                   all        607       2587       0.85       0.92      0.917      0.629\n"
          ]
        },
        {
          "output_type": "stream",
          "name": "stderr",
          "text": [
            "\n"
          ]
        },
        {
          "output_type": "stream",
          "name": "stdout",
          "text": [
            "\n",
            "      Epoch    GPU_mem   box_loss   cls_loss   dfl_loss  Instances       Size\n"
          ]
        },
        {
          "output_type": "stream",
          "name": "stderr",
          "text": [
            "     80/100      19.2G      1.008     0.7331       1.22         37        640: 100%|██████████| 415/415 [01:58<00:00,  3.50it/s]\n",
            "                 Class     Images  Instances      Box(P          R      mAP50  mAP50-95): 100%|██████████| 19/19 [00:04<00:00,  4.05it/s]"
          ]
        },
        {
          "output_type": "stream",
          "name": "stdout",
          "text": [
            "                   all        607       2587      0.831      0.947      0.914      0.624\n"
          ]
        },
        {
          "output_type": "stream",
          "name": "stderr",
          "text": [
            "\n"
          ]
        },
        {
          "output_type": "stream",
          "name": "stdout",
          "text": [
            "\n",
            "      Epoch    GPU_mem   box_loss   cls_loss   dfl_loss  Instances       Size\n"
          ]
        },
        {
          "output_type": "stream",
          "name": "stderr",
          "text": [
            "     81/100      19.3G     0.9921     0.7174      1.212         61        640: 100%|██████████| 415/415 [01:58<00:00,  3.49it/s]\n",
            "                 Class     Images  Instances      Box(P          R      mAP50  mAP50-95): 100%|██████████| 19/19 [00:04<00:00,  4.04it/s]"
          ]
        },
        {
          "output_type": "stream",
          "name": "stdout",
          "text": [
            "                   all        607       2587      0.841      0.934      0.913      0.623\n"
          ]
        },
        {
          "output_type": "stream",
          "name": "stderr",
          "text": [
            "\n"
          ]
        },
        {
          "output_type": "stream",
          "name": "stdout",
          "text": [
            "\n",
            "      Epoch    GPU_mem   box_loss   cls_loss   dfl_loss  Instances       Size\n"
          ]
        },
        {
          "output_type": "stream",
          "name": "stderr",
          "text": [
            "     82/100      19.3G     0.9896     0.7213      1.209         57        640: 100%|██████████| 415/415 [01:58<00:00,  3.50it/s]\n",
            "                 Class     Images  Instances      Box(P          R      mAP50  mAP50-95): 100%|██████████| 19/19 [00:04<00:00,  4.00it/s]"
          ]
        },
        {
          "output_type": "stream",
          "name": "stdout",
          "text": [
            "                   all        607       2587      0.838      0.936      0.912      0.622\n"
          ]
        },
        {
          "output_type": "stream",
          "name": "stderr",
          "text": [
            "\n"
          ]
        },
        {
          "output_type": "stream",
          "name": "stdout",
          "text": [
            "\n",
            "      Epoch    GPU_mem   box_loss   cls_loss   dfl_loss  Instances       Size\n"
          ]
        },
        {
          "output_type": "stream",
          "name": "stderr",
          "text": [
            "     83/100      19.4G     0.9873     0.7139      1.212         89        640: 100%|██████████| 415/415 [01:58<00:00,  3.50it/s]\n",
            "                 Class     Images  Instances      Box(P          R      mAP50  mAP50-95): 100%|██████████| 19/19 [00:04<00:00,  4.02it/s]"
          ]
        },
        {
          "output_type": "stream",
          "name": "stdout",
          "text": [
            "                   all        607       2587      0.838      0.933      0.913      0.623\n"
          ]
        },
        {
          "output_type": "stream",
          "name": "stderr",
          "text": [
            "\n"
          ]
        },
        {
          "output_type": "stream",
          "name": "stdout",
          "text": [
            "\n",
            "      Epoch    GPU_mem   box_loss   cls_loss   dfl_loss  Instances       Size\n"
          ]
        },
        {
          "output_type": "stream",
          "name": "stderr",
          "text": [
            "     84/100      19.4G     0.9822     0.7148      1.207         75        640: 100%|██████████| 415/415 [01:58<00:00,  3.49it/s]\n",
            "                 Class     Images  Instances      Box(P          R      mAP50  mAP50-95): 100%|██████████| 19/19 [00:04<00:00,  4.02it/s]"
          ]
        },
        {
          "output_type": "stream",
          "name": "stdout",
          "text": [
            "                   all        607       2587      0.845      0.932      0.913      0.624\n"
          ]
        },
        {
          "output_type": "stream",
          "name": "stderr",
          "text": [
            "\n"
          ]
        },
        {
          "output_type": "stream",
          "name": "stdout",
          "text": [
            "\n",
            "      Epoch    GPU_mem   box_loss   cls_loss   dfl_loss  Instances       Size\n"
          ]
        },
        {
          "output_type": "stream",
          "name": "stderr",
          "text": [
            "     85/100      19.5G     0.9734     0.7069      1.197         54        640: 100%|██████████| 415/415 [01:58<00:00,  3.50it/s]\n",
            "                 Class     Images  Instances      Box(P          R      mAP50  mAP50-95): 100%|██████████| 19/19 [00:04<00:00,  4.05it/s]"
          ]
        },
        {
          "output_type": "stream",
          "name": "stdout",
          "text": [
            "                   all        607       2587      0.846      0.937      0.915      0.624\n"
          ]
        },
        {
          "output_type": "stream",
          "name": "stderr",
          "text": [
            "\n"
          ]
        },
        {
          "output_type": "stream",
          "name": "stdout",
          "text": [
            "\n",
            "      Epoch    GPU_mem   box_loss   cls_loss   dfl_loss  Instances       Size\n"
          ]
        },
        {
          "output_type": "stream",
          "name": "stderr",
          "text": [
            "     86/100      19.6G     0.9737     0.6963        1.2         68        640: 100%|██████████| 415/415 [01:58<00:00,  3.50it/s]\n",
            "                 Class     Images  Instances      Box(P          R      mAP50  mAP50-95): 100%|██████████| 19/19 [00:04<00:00,  4.00it/s]"
          ]
        },
        {
          "output_type": "stream",
          "name": "stdout",
          "text": [
            "                   all        607       2587      0.848      0.935      0.915      0.626\n"
          ]
        },
        {
          "output_type": "stream",
          "name": "stderr",
          "text": [
            "\n"
          ]
        },
        {
          "output_type": "stream",
          "name": "stdout",
          "text": [
            "\n",
            "      Epoch    GPU_mem   box_loss   cls_loss   dfl_loss  Instances       Size\n"
          ]
        },
        {
          "output_type": "stream",
          "name": "stderr",
          "text": [
            "     87/100      19.6G      0.959      0.693      1.197         38        640: 100%|██████████| 415/415 [01:58<00:00,  3.50it/s]\n",
            "                 Class     Images  Instances      Box(P          R      mAP50  mAP50-95): 100%|██████████| 19/19 [00:04<00:00,  4.00it/s]"
          ]
        },
        {
          "output_type": "stream",
          "name": "stdout",
          "text": [
            "                   all        607       2587      0.843      0.934      0.912      0.621\n"
          ]
        },
        {
          "output_type": "stream",
          "name": "stderr",
          "text": [
            "\n"
          ]
        },
        {
          "output_type": "stream",
          "name": "stdout",
          "text": [
            "\n",
            "      Epoch    GPU_mem   box_loss   cls_loss   dfl_loss  Instances       Size\n"
          ]
        },
        {
          "output_type": "stream",
          "name": "stderr",
          "text": [
            "     88/100      19.7G     0.9663     0.6949      1.196         63        640: 100%|██████████| 415/415 [01:59<00:00,  3.48it/s]\n",
            "                 Class     Images  Instances      Box(P          R      mAP50  mAP50-95): 100%|██████████| 19/19 [00:04<00:00,  3.95it/s]"
          ]
        },
        {
          "output_type": "stream",
          "name": "stdout",
          "text": [
            "                   all        607       2587      0.837      0.936      0.911      0.623\n"
          ]
        },
        {
          "output_type": "stream",
          "name": "stderr",
          "text": [
            "\n"
          ]
        },
        {
          "output_type": "stream",
          "name": "stdout",
          "text": [
            "\n",
            "      Epoch    GPU_mem   box_loss   cls_loss   dfl_loss  Instances       Size\n"
          ]
        },
        {
          "output_type": "stream",
          "name": "stderr",
          "text": [
            "     89/100      19.8G     0.9606     0.6866      1.192         71        640: 100%|██████████| 415/415 [01:58<00:00,  3.49it/s]\n",
            "                 Class     Images  Instances      Box(P          R      mAP50  mAP50-95): 100%|██████████| 19/19 [00:04<00:00,  4.03it/s]"
          ]
        },
        {
          "output_type": "stream",
          "name": "stdout",
          "text": [
            "                   all        607       2587      0.827      0.952      0.911      0.624\n"
          ]
        },
        {
          "output_type": "stream",
          "name": "stderr",
          "text": [
            "\n"
          ]
        },
        {
          "output_type": "stream",
          "name": "stdout",
          "text": [
            "\n",
            "      Epoch    GPU_mem   box_loss   cls_loss   dfl_loss  Instances       Size\n"
          ]
        },
        {
          "output_type": "stream",
          "name": "stderr",
          "text": [
            "     90/100      16.8G     0.9486     0.6755      1.182         61        640: 100%|██████████| 415/415 [01:58<00:00,  3.50it/s]\n",
            "                 Class     Images  Instances      Box(P          R      mAP50  mAP50-95): 100%|██████████| 19/19 [00:04<00:00,  4.02it/s]"
          ]
        },
        {
          "output_type": "stream",
          "name": "stdout",
          "text": [
            "                   all        607       2587      0.846      0.924      0.911      0.623\n"
          ]
        },
        {
          "output_type": "stream",
          "name": "stderr",
          "text": [
            "\n"
          ]
        },
        {
          "output_type": "stream",
          "name": "stdout",
          "text": [
            "Closing dataloader mosaic\n",
            "\u001b[34m\u001b[1malbumentations: \u001b[0mBlur(p=0.01, blur_limit=(3, 7)), MedianBlur(p=0.01, blur_limit=(3, 7)), ToGray(p=0.01, method='weighted_average', num_output_channels=3), CLAHE(p=0.01, clip_limit=(1.0, 4.0), tile_grid_size=(8, 8))\n",
            "\n",
            "      Epoch    GPU_mem   box_loss   cls_loss   dfl_loss  Instances       Size\n"
          ]
        },
        {
          "output_type": "stream",
          "name": "stderr",
          "text": [
            "     91/100      18.9G     0.9156     0.4802      1.224         30        640: 100%|██████████| 415/415 [01:59<00:00,  3.48it/s]\n",
            "                 Class     Images  Instances      Box(P          R      mAP50  mAP50-95): 100%|██████████| 19/19 [00:04<00:00,  4.00it/s]"
          ]
        },
        {
          "output_type": "stream",
          "name": "stdout",
          "text": [
            "                   all        607       2587      0.829       0.94       0.91      0.621\n"
          ]
        },
        {
          "output_type": "stream",
          "name": "stderr",
          "text": [
            "\n"
          ]
        },
        {
          "output_type": "stream",
          "name": "stdout",
          "text": [
            "\n",
            "      Epoch    GPU_mem   box_loss   cls_loss   dfl_loss  Instances       Size\n"
          ]
        },
        {
          "output_type": "stream",
          "name": "stderr",
          "text": [
            "     92/100      18.9G     0.8958     0.4634      1.204         42        640: 100%|██████████| 415/415 [01:58<00:00,  3.51it/s]\n",
            "                 Class     Images  Instances      Box(P          R      mAP50  mAP50-95): 100%|██████████| 19/19 [00:04<00:00,  4.01it/s]"
          ]
        },
        {
          "output_type": "stream",
          "name": "stdout",
          "text": [
            "                   all        607       2587      0.835      0.934       0.91       0.62\n"
          ]
        },
        {
          "output_type": "stream",
          "name": "stderr",
          "text": [
            "\n"
          ]
        },
        {
          "output_type": "stream",
          "name": "stdout",
          "text": [
            "\n",
            "      Epoch    GPU_mem   box_loss   cls_loss   dfl_loss  Instances       Size\n"
          ]
        },
        {
          "output_type": "stream",
          "name": "stderr",
          "text": [
            "     93/100      18.9G     0.8888     0.4594      1.205         48        640: 100%|██████████| 415/415 [01:58<00:00,  3.50it/s]\n",
            "                 Class     Images  Instances      Box(P          R      mAP50  mAP50-95): 100%|██████████| 19/19 [00:04<00:00,  3.92it/s]"
          ]
        },
        {
          "output_type": "stream",
          "name": "stdout",
          "text": [
            "                   all        607       2587      0.828       0.94      0.907      0.618\n"
          ]
        },
        {
          "output_type": "stream",
          "name": "stderr",
          "text": [
            "\n"
          ]
        },
        {
          "output_type": "stream",
          "name": "stdout",
          "text": [
            "\n",
            "      Epoch    GPU_mem   box_loss   cls_loss   dfl_loss  Instances       Size\n"
          ]
        },
        {
          "output_type": "stream",
          "name": "stderr",
          "text": [
            "     94/100      18.9G      0.884      0.461      1.196         32        640: 100%|██████████| 415/415 [01:58<00:00,  3.50it/s]\n",
            "                 Class     Images  Instances      Box(P          R      mAP50  mAP50-95): 100%|██████████| 19/19 [00:04<00:00,  3.98it/s]"
          ]
        },
        {
          "output_type": "stream",
          "name": "stdout",
          "text": [
            "                   all        607       2587      0.831      0.933      0.905      0.616\n"
          ]
        },
        {
          "output_type": "stream",
          "name": "stderr",
          "text": [
            "\n"
          ]
        },
        {
          "output_type": "stream",
          "name": "stdout",
          "text": [
            "\n",
            "      Epoch    GPU_mem   box_loss   cls_loss   dfl_loss  Instances       Size\n"
          ]
        },
        {
          "output_type": "stream",
          "name": "stderr",
          "text": [
            "     95/100      18.9G     0.8747     0.4504      1.193         44        640: 100%|██████████| 415/415 [01:58<00:00,  3.49it/s]\n",
            "                 Class     Images  Instances      Box(P          R      mAP50  mAP50-95): 100%|██████████| 19/19 [00:04<00:00,  4.02it/s]"
          ]
        },
        {
          "output_type": "stream",
          "name": "stdout",
          "text": [
            "                   all        607       2587      0.833      0.932      0.904      0.614\n"
          ]
        },
        {
          "output_type": "stream",
          "name": "stderr",
          "text": [
            "\n"
          ]
        },
        {
          "output_type": "stream",
          "name": "stdout",
          "text": [
            "\n",
            "      Epoch    GPU_mem   box_loss   cls_loss   dfl_loss  Instances       Size\n"
          ]
        },
        {
          "output_type": "stream",
          "name": "stderr",
          "text": [
            "     96/100      18.9G     0.8665     0.4487      1.183         31        640: 100%|██████████| 415/415 [01:58<00:00,  3.50it/s]\n",
            "                 Class     Images  Instances      Box(P          R      mAP50  mAP50-95): 100%|██████████| 19/19 [00:04<00:00,  4.04it/s]"
          ]
        },
        {
          "output_type": "stream",
          "name": "stdout",
          "text": [
            "                   all        607       2587      0.836       0.93      0.905      0.617\n"
          ]
        },
        {
          "output_type": "stream",
          "name": "stderr",
          "text": [
            "\n"
          ]
        },
        {
          "output_type": "stream",
          "name": "stdout",
          "text": [
            "\n",
            "      Epoch    GPU_mem   box_loss   cls_loss   dfl_loss  Instances       Size\n"
          ]
        },
        {
          "output_type": "stream",
          "name": "stderr",
          "text": [
            "     97/100      18.9G     0.8586     0.4381      1.182         54        640: 100%|██████████| 415/415 [01:58<00:00,  3.51it/s]\n",
            "                 Class     Images  Instances      Box(P          R      mAP50  mAP50-95): 100%|██████████| 19/19 [00:04<00:00,  4.03it/s]"
          ]
        },
        {
          "output_type": "stream",
          "name": "stdout",
          "text": [
            "                   all        607       2587      0.835      0.929      0.904      0.616\n"
          ]
        },
        {
          "output_type": "stream",
          "name": "stderr",
          "text": [
            "\n"
          ]
        },
        {
          "output_type": "stream",
          "name": "stdout",
          "text": [
            "\n",
            "      Epoch    GPU_mem   box_loss   cls_loss   dfl_loss  Instances       Size\n"
          ]
        },
        {
          "output_type": "stream",
          "name": "stderr",
          "text": [
            "     98/100      18.9G     0.8552     0.4387       1.17         34        640: 100%|██████████| 415/415 [01:58<00:00,  3.50it/s]\n",
            "                 Class     Images  Instances      Box(P          R      mAP50  mAP50-95): 100%|██████████| 19/19 [00:04<00:00,  4.00it/s]"
          ]
        },
        {
          "output_type": "stream",
          "name": "stdout",
          "text": [
            "                   all        607       2587      0.839      0.922      0.902      0.615\n"
          ]
        },
        {
          "output_type": "stream",
          "name": "stderr",
          "text": [
            "\n"
          ]
        },
        {
          "output_type": "stream",
          "name": "stdout",
          "text": [
            "\n",
            "      Epoch    GPU_mem   box_loss   cls_loss   dfl_loss  Instances       Size\n"
          ]
        },
        {
          "output_type": "stream",
          "name": "stderr",
          "text": [
            "     99/100      18.9G     0.8448     0.4302      1.169         40        640: 100%|██████████| 415/415 [01:58<00:00,  3.50it/s]\n",
            "                 Class     Images  Instances      Box(P          R      mAP50  mAP50-95): 100%|██████████| 19/19 [00:04<00:00,  4.07it/s]"
          ]
        },
        {
          "output_type": "stream",
          "name": "stdout",
          "text": [
            "                   all        607       2587      0.832       0.93      0.902      0.614\n"
          ]
        },
        {
          "output_type": "stream",
          "name": "stderr",
          "text": [
            "\n"
          ]
        },
        {
          "output_type": "stream",
          "name": "stdout",
          "text": [
            "\n",
            "      Epoch    GPU_mem   box_loss   cls_loss   dfl_loss  Instances       Size\n"
          ]
        },
        {
          "output_type": "stream",
          "name": "stderr",
          "text": [
            "    100/100      18.9G     0.8471     0.4305      1.171         31        640: 100%|██████████| 415/415 [01:58<00:00,  3.50it/s]\n",
            "                 Class     Images  Instances      Box(P          R      mAP50  mAP50-95): 100%|██████████| 19/19 [00:04<00:00,  3.98it/s]"
          ]
        },
        {
          "output_type": "stream",
          "name": "stdout",
          "text": [
            "                   all        607       2587       0.83      0.933      0.902      0.613\n"
          ]
        },
        {
          "output_type": "stream",
          "name": "stderr",
          "text": [
            "\n"
          ]
        },
        {
          "output_type": "stream",
          "name": "stdout",
          "text": [
            "\n",
            "100 epochs completed in 3.517 hours.\n",
            "Optimizer stripped from runs/detect/train/weights/last.pt, 53.5MB\n",
            "Optimizer stripped from runs/detect/train/weights/best.pt, 53.5MB\n",
            "\n",
            "Validating runs/detect/train/weights/best.pt...\n",
            "Ultralytics 8.3.134 🚀 Python-3.11.12 torch-2.6.0+cu124 CUDA:0 (NVIDIA A100-SXM4-40GB, 40507MiB)\n",
            "YOLOv12l summary (fused): 283 layers, 26,346,782 parameters, 0 gradients, 88.6 GFLOPs\n"
          ]
        },
        {
          "output_type": "stream",
          "name": "stderr",
          "text": [
            "                 Class     Images  Instances      Box(P          R      mAP50  mAP50-95): 100%|██████████| 19/19 [00:05<00:00,  3.29it/s]\n"
          ]
        },
        {
          "output_type": "stream",
          "name": "stdout",
          "text": [
            "                   all        607       2587      0.837      0.952      0.926      0.634\n",
            "                     0        133        176      0.782      0.918      0.878      0.644\n",
            "                     1        282        424      0.868      0.922      0.931       0.58\n",
            "                     2        113        196      0.789       0.98      0.917       0.59\n",
            "                     3        120        160       0.78      0.938      0.864      0.566\n",
            "                     4        221        307      0.751       0.98       0.95      0.654\n",
            "                     5        221        283      0.922      0.951       0.97      0.693\n",
            "                     6        213        261      0.869      0.969      0.939      0.667\n",
            "                     7        219        304      0.827      0.964      0.934       0.64\n",
            "                     8        179        229      0.886      0.965      0.939      0.655\n",
            "                     9        192        247      0.897      0.931      0.941      0.655\n",
            "Speed: 0.1ms preprocess, 4.2ms inference, 0.0ms loss, 1.2ms postprocess per image\n",
            "Results saved to \u001b[1mruns/detect/train\u001b[0m\n",
            "Ultralytics 8.3.134 🚀 Python-3.11.12 torch-2.6.0+cu124 CPU (Intel Xeon 2.20GHz)\n",
            "💡 ProTip: Export to OpenVINO format for best performance on Intel CPUs. Learn more at https://docs.ultralytics.com/integrations/openvino/\n",
            "YOLOv12l summary (fused): 283 layers, 26,346,782 parameters, 0 gradients, 88.6 GFLOPs\n",
            "\n",
            "\u001b[34m\u001b[1mPyTorch:\u001b[0m starting from 'runs/detect/train/weights/best.pt' with input shape (1, 3, 640, 640) BCHW and output shape(s) (1, 14, 8400) (51.1 MB)\n",
            "\u001b[31m\u001b[1mrequirements:\u001b[0m Ultralytics requirements ['onnx>=1.12.0,<1.18.0', 'onnxslim>=0.1.46', 'onnxruntime-gpu'] not found, attempting AutoUpdate...\n",
            "Collecting onnx<1.18.0,>=1.12.0\n",
            "  Downloading onnx-1.17.0-cp311-cp311-manylinux_2_17_x86_64.manylinux2014_x86_64.whl.metadata (16 kB)\n",
            "Collecting onnxslim>=0.1.46\n",
            "  Downloading onnxslim-0.1.53-py3-none-any.whl.metadata (5.0 kB)\n",
            "Collecting onnxruntime-gpu\n",
            "  Downloading onnxruntime_gpu-1.22.0-cp311-cp311-manylinux_2_27_x86_64.manylinux_2_28_x86_64.whl.metadata (4.9 kB)\n",
            "Requirement already satisfied: numpy>=1.20 in /usr/local/lib/python3.11/dist-packages (from onnx<1.18.0,>=1.12.0) (2.0.2)\n",
            "Requirement already satisfied: protobuf>=3.20.2 in /usr/local/lib/python3.11/dist-packages (from onnx<1.18.0,>=1.12.0) (5.29.4)\n",
            "Requirement already satisfied: sympy in /usr/local/lib/python3.11/dist-packages (from onnxslim>=0.1.46) (1.13.1)\n",
            "Requirement already satisfied: packaging in /usr/local/lib/python3.11/dist-packages (from onnxslim>=0.1.46) (24.2)\n",
            "Collecting coloredlogs (from onnxruntime-gpu)\n",
            "  Downloading coloredlogs-15.0.1-py2.py3-none-any.whl.metadata (12 kB)\n",
            "Requirement already satisfied: flatbuffers in /usr/local/lib/python3.11/dist-packages (from onnxruntime-gpu) (25.2.10)\n",
            "Collecting humanfriendly>=9.1 (from coloredlogs->onnxruntime-gpu)\n",
            "  Downloading humanfriendly-10.0-py2.py3-none-any.whl.metadata (9.2 kB)\n",
            "Requirement already satisfied: mpmath<1.4,>=1.1.0 in /usr/local/lib/python3.11/dist-packages (from sympy->onnxslim>=0.1.46) (1.3.0)\n",
            "Downloading onnx-1.17.0-cp311-cp311-manylinux_2_17_x86_64.manylinux2014_x86_64.whl (16.0 MB)\n",
            "   ━━━━━━━━━━━━━━━━━━━━━━━━━━━━━━━━━━━━━━━━ 16.0/16.0 MB 254.8 MB/s eta 0:00:00\n",
            "Downloading onnxslim-0.1.53-py3-none-any.whl (146 kB)\n",
            "   ━━━━━━━━━━━━━━━━━━━━━━━━━━━━━━━━━━━━━━━ 146.2/146.2 kB 330.4 MB/s eta 0:00:00\n",
            "Downloading onnxruntime_gpu-1.22.0-cp311-cp311-manylinux_2_27_x86_64.manylinux_2_28_x86_64.whl (283.2 MB)\n",
            "   ━━━━━━━━━━━━━━━━━━━━━━━━━━━━━━━━━━━━━━━ 283.2/283.2 MB 307.6 MB/s eta 0:00:00\n",
            "Downloading coloredlogs-15.0.1-py2.py3-none-any.whl (46 kB)\n",
            "   ━━━━━━━━━━━━━━━━━━━━━━━━━━━━━━━━━━━━━━━━ 46.0/46.0 kB 246.2 MB/s eta 0:00:00\n",
            "Downloading humanfriendly-10.0-py2.py3-none-any.whl (86 kB)\n",
            "   ━━━━━━━━━━━━━━━━━━━━━━━━━━━━━━━━━━━━━━━━ 86.8/86.8 kB 292.0 MB/s eta 0:00:00\n",
            "Installing collected packages: onnx, humanfriendly, onnxslim, coloredlogs, onnxruntime-gpu\n",
            "Successfully installed coloredlogs-15.0.1 humanfriendly-10.0 onnx-1.17.0 onnxruntime-gpu-1.22.0 onnxslim-0.1.53\n",
            "\n",
            "\u001b[31m\u001b[1mrequirements:\u001b[0m AutoUpdate success ✅ 12.2s, installed 3 packages: ['onnx>=1.12.0,<1.18.0', 'onnxslim>=0.1.46', 'onnxruntime-gpu']\n",
            "WARNING ⚠️ \u001b[31m\u001b[1mrequirements:\u001b[0m \u001b[1mRestart runtime or rerun command for updates to take effect\u001b[0m\n",
            "\n",
            "\n",
            "\u001b[34m\u001b[1mONNX:\u001b[0m starting export with onnx 1.17.0 opset 19...\n",
            "\u001b[34m\u001b[1mONNX:\u001b[0m slimming with onnxslim 0.1.53...\n",
            "\u001b[34m\u001b[1mONNX:\u001b[0m export success ✅ 18.4s, saved as 'runs/detect/train/weights/best.onnx' (100.9 MB)\n",
            "\n",
            "Export complete (21.6s)\n",
            "Results saved to \u001b[1m/content/runs/detect/train/weights\u001b[0m\n",
            "Predict:         yolo predict task=detect model=runs/detect/train/weights/best.onnx imgsz=640  \n",
            "Validate:        yolo val task=detect model=runs/detect/train/weights/best.onnx imgsz=640 data=data.yaml  \n",
            "Visualize:       https://netron.app\n",
            "Ultralytics 8.3.134 🚀 Python-3.11.12 torch-2.6.0+cu124 CPU (Intel Xeon 2.20GHz)\n",
            "YOLOv12l summary (fused): 283 layers, 26,346,782 parameters, 0 gradients, 88.6 GFLOPs\n",
            "\n",
            "\u001b[34m\u001b[1mPyTorch:\u001b[0m starting from 'runs/detect/train/weights/best.pt' with input shape (1, 3, 640, 640) BCHW and output shape(s) (1, 14, 8400) (51.1 MB)\n",
            "\n",
            "\u001b[34m\u001b[1mTorchScript:\u001b[0m starting export with torch 2.6.0+cu124...\n",
            "\u001b[34m\u001b[1mTorchScript:\u001b[0m export success ✅ 7.3s, saved as 'runs/detect/train/weights/best.torchscript' (101.7 MB)\n",
            "\n",
            "Export complete (8.9s)\n",
            "Results saved to \u001b[1m/content/runs/detect/train/weights\u001b[0m\n",
            "Predict:         yolo predict task=detect model=runs/detect/train/weights/best.torchscript imgsz=640  \n",
            "Validate:        yolo val task=detect model=runs/detect/train/weights/best.torchscript imgsz=640 data=data.yaml  \n",
            "Visualize:       https://netron.app\n"
          ]
        },
        {
          "output_type": "execute_result",
          "data": {
            "text/plain": [
              "'runs/detect/train/weights/best.torchscript'"
            ],
            "application/vnd.google.colaboratory.intrinsic+json": {
              "type": "string"
            }
          },
          "metadata": {},
          "execution_count": 4
        }
      ],
      "source": [
        "wfrom ultralytics import YOLO\n",
        "\n",
        "#from google.colab import files\n",
        "#uploaded = files.upload()\n",
        "\n",
        "# Load a model\n",
        "model = YOLO(\"yolo12l.yaml\")  # build a new model from YAML\n",
        "model = YOLO(\"yolo12l.yaml\").load(\"yolo12l.pt\")\n",
        "model = YOLO(\"yolo12l.pt\")  # load a pretrained model (recommended for training)\n",
        "\n",
        "\n",
        "# Train the mode\n",
        "results = model.train(data=\"data.yaml\", epochs=100, imgsz=640, device=\"cuda\")\n",
        "\n",
        "# Export the model\n",
        "model.export(format=\"onnx\")\n",
        "\n",
        "model.export()"
      ]
    },
    {
      "cell_type": "code",
      "execution_count": null,
      "metadata": {
        "colab": {
          "base_uri": "https://localhost:8080/"
        },
        "id": "Xu3t8RPaaeso",
        "outputId": "5dfdfbe2-1215-4112-ff1e-e48b71cfbfe8"
      },
      "outputs": [
        {
          "output_type": "stream",
          "name": "stdout",
          "text": [
            "  adding: runs/ (stored 0%)\n",
            "  adding: runs/detect/ (stored 0%)\n",
            "  adding: runs/detect/train/ (stored 0%)\n",
            "  adding: runs/detect/train/confusion_matrix_normalized.png (deflated 21%)\n",
            "  adding: runs/detect/train/train_batch0.jpg (deflated 4%)\n",
            "  adding: runs/detect/train/val_batch2_pred.jpg (deflated 11%)\n",
            "  adding: runs/detect/train/labels.jpg (deflated 25%)\n",
            "  adding: runs/detect/train/args.yaml (deflated 52%)\n",
            "  adding: runs/detect/train/val_batch2_labels.jpg (deflated 11%)\n",
            "  adding: runs/detect/train/P_curve.png (deflated 8%)\n",
            "  adding: runs/detect/train/F1_curve.png (deflated 6%)\n",
            "  adding: runs/detect/train/train_batch1.jpg (deflated 4%)\n",
            "  adding: runs/detect/train/val_batch1_labels.jpg (deflated 10%)\n",
            "  adding: runs/detect/train/train_batch37352.jpg (deflated 7%)\n",
            "  adding: runs/detect/train/val_batch1_pred.jpg (deflated 9%)\n",
            "  adding: runs/detect/train/PR_curve.png (deflated 11%)\n",
            "  adding: runs/detect/train/weights/ (stored 0%)\n",
            "  adding: runs/detect/train/weights/best.pt (deflated 8%)\n",
            "  adding: runs/detect/train/weights/best.onnx (deflated 15%)\n",
            "  adding: runs/detect/train/weights/last.pt (deflated 8%)\n",
            "  adding: runs/detect/train/weights/best.torchscript (deflated 15%)\n",
            "  adding: runs/detect/train/val_batch0_labels.jpg (deflated 16%)\n",
            "  adding: runs/detect/train/R_curve.png (deflated 7%)\n",
            "  adding: runs/detect/train/val_batch0_pred.jpg (deflated 16%)\n",
            "  adding: runs/detect/train/results.csv (deflated 61%)\n",
            "  adding: runs/detect/train/labels_correlogram.jpg (deflated 31%)\n",
            "  adding: runs/detect/train/train_batch37350.jpg (deflated 12%)\n",
            "  adding: runs/detect/train/results.png (deflated 9%)\n",
            "  adding: runs/detect/train/train_batch37351.jpg (deflated 9%)\n",
            "  adding: runs/detect/train/confusion_matrix.png (deflated 24%)\n",
            "  adding: runs/detect/train/train_batch2.jpg (deflated 2%)\n"
          ]
        }
      ],
      "source": [
        "!zip -r NumbersLarge.zip runs/"
      ]
    },
    {
      "cell_type": "markdown",
      "metadata": {
        "id": "RnXWtTtwjAsw"
      },
      "source": [
        "# New Section"
      ]
    }
  ],
  "metadata": {
    "accelerator": "GPU",
    "colab": {
      "gpuType": "A100",
      "provenance": [],
      "machine_shape": "hm"
    },
    "kernelspec": {
      "display_name": "Python 3",
      "name": "python3"
    },
    "language_info": {
      "name": "python"
    }
  },
  "nbformat": 4,
  "nbformat_minor": 0
}